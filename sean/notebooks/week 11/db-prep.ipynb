{
 "cells": [
  {
   "cell_type": "code",
   "execution_count": 1,
   "id": "54e35895",
   "metadata": {},
   "outputs": [],
   "source": [
    "from f1_etl import (\n",
    "    DataConfig,\n",
    "    SessionConfig,\n",
    "    create_safety_car_dataset,\n",
    ")\n",
    "from f1_etl.train import (\n",
    "    ModelEvaluationSuite,\n",
    "    create_metadata_from_f1_dataset,\n",
    "    prepare_data_with_validation,\n",
    "    create_model_metadata,\n",
    "    train_and_validate_model,\n",
    "    evaluate_on_external_dataset,\n",
    "    compare_performance_across_datasets,\n",
    ")"
   ]
  },
  {
   "cell_type": "code",
   "execution_count": 45,
   "id": "5f2fb4b2",
   "metadata": {},
   "outputs": [
    {
     "name": "stderr",
     "output_type": "stream",
     "text": [
      "2025-07-20 19:20:55,630 - f1_etl - INFO - Preprocessing configuration:\n",
      "2025-07-20 19:20:55,637 - f1_etl - INFO -   Missing values: enabled (forward_fill)\n",
      "2025-07-20 19:20:55,640 - f1_etl - INFO -   Normalization: enabled (standard)\n",
      "2025-07-20 19:20:55,641 - f1_etl - INFO -   Feature transform: none\n",
      "2025-07-20 19:20:55,641 - f1_etl - INFO -   Resampling: disabled\n",
      "2025-07-20 19:20:55,642 - f1_etl - INFO - Driver configuration:\n",
      "2025-07-20 19:20:55,642 - f1_etl - INFO -   Global drivers: None\n",
      "2025-07-20 19:20:55,643 - f1_etl - INFO -   Qatar Grand Prix: None\n",
      "2025-07-20 19:20:55,643 - f1_etl - INFO -   Chinese Grand Prix: None\n",
      "2025-07-20 19:20:55,643 - f1_etl - INFO -   Mexico City Grand Prix: None\n",
      "2025-07-20 19:20:55,644 - f1_etl - INFO -   São Paulo Grand Prix: None\n",
      "2025-07-20 19:20:55,644 - f1_etl - INFO -   Miami Grand Prix: None\n",
      "2025-07-20 19:20:55,644 - f1_etl - INFO -   United States Grand Prix: None\n",
      "2025-07-20 19:20:55,644 - f1_etl - INFO -   Monaco Grand Prix: None\n"
     ]
    },
    {
     "name": "stdout",
     "output_type": "stream",
     "text": [
      "Loading session: 2024 Qatar Grand Prix R\n"
     ]
    },
    {
     "name": "stderr",
     "output_type": "stream",
     "text": [
      "events      WARNING \tCorrecting user input 'Qatar Grand Prix' to 'Qatar Grand Prix'\n",
      "core           INFO \tLoading data for Qatar Grand Prix - Race [v3.5.3]\n",
      "req            INFO \tUsing cached data for session_info\n",
      "req            INFO \tUsing cached data for driver_info\n",
      "req            INFO \tUsing cached data for session_status_data\n",
      "req            INFO \tUsing cached data for lap_count\n",
      "req            INFO \tUsing cached data for track_status_data\n",
      "req            INFO \tUsing cached data for _extended_timing_data\n",
      "req            INFO \tUsing cached data for timing_app_data\n",
      "core           INFO \tProcessing timing data...\n",
      "req            INFO \tUsing cached data for car_data\n",
      "req            INFO \tUsing cached data for position_data\n",
      "req            INFO \tUsing cached data for weather_data\n",
      "req            INFO \tUsing cached data for race_control_messages\n",
      "core           INFO \tFinished loading data for 20 drivers: ['1', '16', '81', '63', '10', '55', '14', '24', '20', '4', '77', '44', '22', '30', '23', '27', '11', '18', '43', '31']\n",
      "core           INFO \tLoading data for Chinese Grand Prix - Race [v3.5.3]\n",
      "req            INFO \tUsing cached data for session_info\n",
      "req            INFO \tUsing cached data for driver_info\n",
      "req            INFO \tUsing cached data for session_status_data\n",
      "req            INFO \tUsing cached data for lap_count\n",
      "req            INFO \tUsing cached data for track_status_data\n",
      "req            INFO \tUsing cached data for _extended_timing_data\n",
      "req            INFO \tUsing cached data for timing_app_data\n",
      "core           INFO \tProcessing timing data...\n"
     ]
    },
    {
     "name": "stdout",
     "output_type": "stream",
     "text": [
      "Loading session: 2024 Chinese Grand Prix R\n"
     ]
    },
    {
     "name": "stderr",
     "output_type": "stream",
     "text": [
      "req            INFO \tUsing cached data for car_data\n",
      "req            INFO \tUsing cached data for position_data\n",
      "req            INFO \tUsing cached data for weather_data\n",
      "req            INFO \tUsing cached data for race_control_messages\n",
      "core        WARNING \tDriver 1 completed the race distance 00:08.313000 before the recorded end of the session.\n",
      "core           INFO \tFinished loading data for 20 drivers: ['1', '4', '11', '16', '55', '63', '14', '81', '44', '27', '31', '23', '10', '24', '18', '20', '2', '3', '22', '77']\n",
      "core           INFO \tLoading data for Mexico City Grand Prix - Race [v3.5.3]\n",
      "req            INFO \tUsing cached data for session_info\n",
      "req            INFO \tUsing cached data for driver_info\n",
      "req            INFO \tUsing cached data for session_status_data\n",
      "req            INFO \tUsing cached data for lap_count\n",
      "req            INFO \tUsing cached data for track_status_data\n",
      "req            INFO \tUsing cached data for _extended_timing_data\n",
      "req            INFO \tUsing cached data for timing_app_data\n",
      "core           INFO \tProcessing timing data...\n"
     ]
    },
    {
     "name": "stdout",
     "output_type": "stream",
     "text": [
      "Loading session: 2024 Mexico City Grand Prix R\n"
     ]
    },
    {
     "name": "stderr",
     "output_type": "stream",
     "text": [
      "req            INFO \tUsing cached data for car_data\n",
      "req            INFO \tUsing cached data for position_data\n",
      "req            INFO \tUsing cached data for weather_data\n",
      "req            INFO \tUsing cached data for race_control_messages\n",
      "core           INFO \tFinished loading data for 20 drivers: ['55', '4', '16', '44', '63', '1', '20', '81', '27', '10', '18', '43', '31', '77', '24', '30', '11', '14', '23', '22']\n",
      "core           INFO \tLoading data for São Paulo Grand Prix - Race [v3.5.3]\n",
      "req            INFO \tUsing cached data for session_info\n",
      "req            INFO \tUsing cached data for driver_info\n",
      "req            INFO \tUsing cached data for session_status_data\n",
      "req            INFO \tUsing cached data for lap_count\n",
      "req            INFO \tUsing cached data for track_status_data\n",
      "req            INFO \tUsing cached data for _extended_timing_data\n",
      "req            INFO \tUsing cached data for timing_app_data\n",
      "core           INFO \tProcessing timing data...\n"
     ]
    },
    {
     "name": "stdout",
     "output_type": "stream",
     "text": [
      "Loading session: 2024 São Paulo Grand Prix R\n"
     ]
    },
    {
     "name": "stderr",
     "output_type": "stream",
     "text": [
      "core        WARNING \tNo lap data for driver 23\n",
      "core        WARNING \tFailed to perform lap accuracy check - all laps marked as inaccurate (driver 23)\n",
      "req            INFO \tUsing cached data for car_data\n",
      "req            INFO \tUsing cached data for position_data\n",
      "req            INFO \tUsing cached data for weather_data\n",
      "req            INFO \tUsing cached data for race_control_messages\n",
      "core           INFO \tFinished loading data for 20 drivers: ['1', '31', '10', '63', '16', '4', '22', '81', '30', '44', '11', '50', '77', '14', '24', '55', '43', '23', '18', '27']\n",
      "core           INFO \tLoading data for Miami Grand Prix - Race [v3.5.3]\n",
      "req            INFO \tUsing cached data for session_info\n",
      "req            INFO \tUsing cached data for driver_info\n",
      "req            INFO \tUsing cached data for session_status_data\n",
      "req            INFO \tUsing cached data for lap_count\n",
      "req            INFO \tUsing cached data for track_status_data\n",
      "req            INFO \tUsing cached data for _extended_timing_data\n",
      "req            INFO \tUsing cached data for timing_app_data\n",
      "core           INFO \tProcessing timing data...\n"
     ]
    },
    {
     "name": "stdout",
     "output_type": "stream",
     "text": [
      "Loading session: 2024 Miami Grand Prix R\n"
     ]
    },
    {
     "name": "stderr",
     "output_type": "stream",
     "text": [
      "req            INFO \tUsing cached data for car_data\n",
      "req            INFO \tUsing cached data for position_data\n",
      "req            INFO \tUsing cached data for weather_data\n",
      "req            INFO \tUsing cached data for race_control_messages\n",
      "core           INFO \tFinished loading data for 20 drivers: ['4', '1', '16', '11', '55', '44', '22', '63', '14', '31', '27', '10', '81', '24', '3', '77', '18', '23', '20', '2']\n",
      "events      WARNING \tCorrecting user input 'United States Grand Prix' to 'United States Grand Prix'\n",
      "core           INFO \tLoading data for United States Grand Prix - Race [v3.5.3]\n",
      "req            INFO \tUsing cached data for session_info\n",
      "req            INFO \tUsing cached data for driver_info\n",
      "req            INFO \tUsing cached data for session_status_data\n",
      "req            INFO \tUsing cached data for lap_count\n",
      "req            INFO \tUsing cached data for track_status_data\n",
      "req            INFO \tUsing cached data for _extended_timing_data\n",
      "req            INFO \tUsing cached data for timing_app_data\n",
      "core           INFO \tProcessing timing data...\n"
     ]
    },
    {
     "name": "stdout",
     "output_type": "stream",
     "text": [
      "Loading session: 2024 United States Grand Prix R\n"
     ]
    },
    {
     "name": "stderr",
     "output_type": "stream",
     "text": [
      "req            INFO \tUsing cached data for car_data\n",
      "req            INFO \tUsing cached data for position_data\n",
      "req            INFO \tUsing cached data for weather_data\n",
      "req            INFO \tUsing cached data for race_control_messages\n",
      "core           INFO \tFinished loading data for 20 drivers: ['16', '55', '1', '4', '81', '63', '11', '27', '30', '43', '20', '10', '14', '22', '18', '23', '77', '31', '24', '44']\n",
      "core           INFO \tLoading data for Monaco Grand Prix - Race [v3.5.3]\n",
      "req            INFO \tUsing cached data for session_info\n",
      "req            INFO \tUsing cached data for driver_info\n",
      "req            INFO \tUsing cached data for session_status_data\n",
      "req            INFO \tUsing cached data for lap_count\n",
      "req            INFO \tUsing cached data for track_status_data\n",
      "req            INFO \tUsing cached data for _extended_timing_data\n",
      "req            INFO \tUsing cached data for timing_app_data\n",
      "core           INFO \tProcessing timing data...\n"
     ]
    },
    {
     "name": "stdout",
     "output_type": "stream",
     "text": [
      "Loading session: 2024 Monaco Grand Prix R\n"
     ]
    },
    {
     "name": "stderr",
     "output_type": "stream",
     "text": [
      "req            INFO \tUsing cached data for car_data\n",
      "req            INFO \tUsing cached data for position_data\n",
      "req            INFO \tUsing cached data for weather_data\n",
      "req            INFO \tUsing cached data for race_control_messages\n",
      "core           INFO \tFinished loading data for 20 drivers: ['16', '81', '55', '4', '63', '1', '44', '22', '23', '10', '14', '3', '77', '18', '2', '24', '31', '11', '27', '20']\n",
      "2025-07-20 19:26:38,176 - f1_etl - INFO - Creating new fixed vocabulary encoder\n"
     ]
    },
    {
     "name": "stdout",
     "output_type": "stream",
     "text": [
      "\n",
      "📊 Track Status Analysis (training_data):\n",
      "   green       : 9047744 samples ( 84.0%)\n",
      "   red         : 505840 samples (  4.7%)\n",
      "   safety_car  : 730680 samples (  6.8%)\n",
      "   vsc         : 60540 samples (  0.6%)\n",
      "   vsc_ending  :  3700 samples (  0.0%)\n",
      "   yellow      : 422620 samples (  3.9%)\n",
      "   Missing classes: [np.str_('unknown')]\n",
      "✅ FixedVocabTrackStatusEncoder fitted\n",
      "   Classes seen: ['green', 'red', 'safety_car', 'vsc', 'vsc_ending', 'yellow']\n",
      "   Total classes: 7\n",
      "   Output mode: integer labels\n"
     ]
    },
    {
     "name": "stderr",
     "output_type": "stream",
     "text": [
      "2025-07-20 19:26:41,109 - f1_etl - INFO - Processing 10771124 total telemetry rows\n",
      "2025-07-20 19:26:41,110 - f1_etl - INFO - Grouping by: ['SessionId', 'Driver']\n",
      "2025-07-20 19:27:33,244 - f1_etl - INFO - Total sequences generated: 215200\n",
      "2025-07-20 19:27:34,622 - f1_etl - INFO - Generated 215200 sequences with shape (215200, 100, 9)\n",
      "2025-07-20 19:27:35,125 - f1_etl - INFO - Applying missing value imputation with strategy: forward_fill\n",
      "2025-07-20 19:27:35,190 - f1_etl - INFO - Handling missing values with strategy: forward_fill\n",
      "2025-07-20 19:27:38,450 - f1_etl - INFO - Applying normalization with method: standard\n",
      "2025-07-20 19:27:44,243 - f1_etl - INFO - Final dataset summary:\n",
      "2025-07-20 19:27:44,251 - f1_etl - INFO -   Sequences: 215200\n",
      "2025-07-20 19:27:44,253 - f1_etl - INFO -   Features: 9\n",
      "2025-07-20 19:27:44,253 - f1_etl - INFO -   Classes: 7 (integer)\n",
      "2025-07-20 19:27:44,254 - f1_etl - INFO -   Label shape: (215200,)\n",
      "2025-07-20 19:27:44,254 - f1_etl - INFO -     green       : 180838 samples ( 84.0%)\n",
      "2025-07-20 19:27:44,255 - f1_etl - INFO -     red         : 10120 samples (  4.7%)\n",
      "2025-07-20 19:27:44,255 - f1_etl - INFO -     safety_car  : 14602 samples (  6.8%)\n",
      "2025-07-20 19:27:44,255 - f1_etl - INFO -     vsc         :  1240 samples (  0.6%)\n",
      "2025-07-20 19:27:44,255 - f1_etl - INFO -     vsc_ending  :    60 samples (  0.0%)\n",
      "2025-07-20 19:27:44,255 - f1_etl - INFO -     yellow      :  8340 samples (  3.9%)\n"
     ]
    }
   ],
   "source": [
    "window_size = 100\n",
    "prediction_horizon = 10\n",
    "drivers=[1]\n",
    "\n",
    "data_config = DataConfig(\n",
    "    sessions=[\n",
    "        SessionConfig(2024, \"Qatar Grand Prix\", \"R\"),\n",
    "        SessionConfig(2024, \"Chinese Grand Prix\", \"R\"),\n",
    "        SessionConfig(2024, \"Mexico City Grand Prix\", \"R\"),\n",
    "        SessionConfig(2024, \"São Paulo Grand Prix\", \"R\"),\n",
    "        SessionConfig(2024, \"Miami Grand Prix\", \"R\"),\n",
    "        SessionConfig(2024, \"United States Grand Prix\", \"R\"),\n",
    "        SessionConfig(2024, \"Monaco Grand Prix\", \"R\"),\n",
    "    ],\n",
    "    # drivers=drivers,\n",
    "    include_weather=False,\n",
    ")\n",
    "\n",
    "dataset = create_safety_car_dataset(\n",
    "    config=data_config,\n",
    "    window_size=window_size,\n",
    "    prediction_horizon=prediction_horizon,\n",
    "    normalize=True,\n",
    "    target_column=\"TrackStatus\",\n",
    "    # resampling_strategy=\"adasyn\",\n",
    "    # feature_transform=\"pca\",  # Enable PCA            <---- NEW FEATURE\n",
    "    # pca_variance_threshold=0.95,  # Keep 95% variance <---- NEW FEATURE\n",
    "    # pca_components=6                                  <---- NEW FEATURE\n",
    ")"
   ]
  },
  {
   "cell_type": "code",
   "execution_count": 4,
   "id": "52521f92",
   "metadata": {},
   "outputs": [
    {
     "data": {
      "text/plain": [
       "dict_keys(['X', 'y', 'y_raw', 'metadata', 'label_encoder', 'feature_engineer', 'raw_telemetry', 'class_distribution', 'all_classes', 'n_classes', 'config', 'pca_transformer', 'pca_scaler', 'original_features'])"
      ]
     },
     "execution_count": 4,
     "metadata": {},
     "output_type": "execute_result"
    }
   ],
   "source": [
    "dataset.keys()"
   ]
  },
  {
   "cell_type": "code",
   "execution_count": 46,
   "id": "2f9d4f61",
   "metadata": {},
   "outputs": [],
   "source": [
    "X, y, metadata = dataset['X'], dataset['y'], dataset['metadata']"
   ]
  },
  {
   "cell_type": "code",
   "execution_count": 47,
   "id": "08f2e15a",
   "metadata": {},
   "outputs": [
    {
     "data": {
      "text/plain": [
       "(215200, 100, 9)"
      ]
     },
     "execution_count": 47,
     "metadata": {},
     "output_type": "execute_result"
    }
   ],
   "source": [
    "X.shape"
   ]
  },
  {
   "cell_type": "code",
   "execution_count": 48,
   "id": "5cef8cdd",
   "metadata": {},
   "outputs": [],
   "source": [
    "# Convert to Aeon format: (n_samples, n_features, n_timesteps)\n",
    "X_aeon = X.transpose(0, 2, 1)"
   ]
  },
  {
   "cell_type": "code",
   "execution_count": 10,
   "id": "b261f117",
   "metadata": {},
   "outputs": [
    {
     "name": "stdout",
     "output_type": "stream",
     "text": [
      "(215200, 9, 100)\n",
      "(215200,)\n",
      "215200\n"
     ]
    }
   ],
   "source": [
    "print(X_aeon.shape)\n",
    "print(y.shape)\n",
    "print(len(metadata))"
   ]
  },
  {
   "cell_type": "code",
   "execution_count": 49,
   "id": "a9c3f120",
   "metadata": {},
   "outputs": [
    {
     "data": {
      "text/plain": [
       "{'start_time': Timestamp('2024-04-21 06:08:20.009000'),\n",
       " 'end_time': Timestamp('2024-04-21 06:08:32.969000'),\n",
       " 'prediction_time': Timestamp('2024-04-21 06:08:34.249000'),\n",
       " 'sequence_length': 100,\n",
       " 'prediction_horizon': 10,\n",
       " 'features_used': ['Speed',\n",
       "  'RPM',\n",
       "  'nGear',\n",
       "  'Throttle',\n",
       "  'Brake',\n",
       "  'X',\n",
       "  'Y',\n",
       "  'Distance',\n",
       "  'DifferentialDistance'],\n",
       " 'target_column': 'TrackStatus',\n",
       " 'SessionId': '2024_Chinese Grand Prix_R',\n",
       " 'Driver': '1'}"
      ]
     },
     "execution_count": 49,
     "metadata": {},
     "output_type": "execute_result"
    }
   ],
   "source": [
    "metadata[0]"
   ]
  },
  {
   "cell_type": "code",
   "execution_count": 15,
   "id": "c0603199",
   "metadata": {},
   "outputs": [
    {
     "name": "stdout",
     "output_type": "stream",
     "text": [
      "<class 'fastf1.core.Telemetry'>\n",
      "(10771124, 24)\n",
      "Index(['Date', 'Status_x', 'X', 'Y', 'Z', 'Source', 'Time', 'SessionTime',\n",
      "       'RPM', 'Speed', 'nGear', 'Throttle', 'Brake', 'DRS', 'Distance',\n",
      "       'DifferentialDistance', 'Driver', 'SessionYear', 'SessionRace',\n",
      "       'SessionType', 'SessionId', 'TrackStatus', 'TrackStatusMessage',\n",
      "       'TrackStatusEncoded'],\n",
      "      dtype='object')\n"
     ]
    }
   ],
   "source": [
    "raw_telemetry = dataset['raw_telemetry']\n",
    "print(type(raw_telemetry))\n",
    "print(raw_telemetry.shape)\n",
    "print(raw_telemetry.columns)"
   ]
  },
  {
   "cell_type": "code",
   "execution_count": 50,
   "id": "b27c6476",
   "metadata": {},
   "outputs": [
    {
     "data": {
      "text/plain": [
       "SessionId\n",
       "2024_Monaco Grand Prix_R           1833280\n",
       "2024_São Paulo Grand Prix_R        1827660\n",
       "2024_Chinese Grand Prix_R          1481060\n",
       "2024_Mexico City Grand Prix_R      1451500\n",
       "2024_United States Grand Prix_R    1428340\n",
       "2024_Qatar Grand Prix_R            1384044\n",
       "2024_Miami Grand Prix_R            1365240\n",
       "Name: count, dtype: int64"
      ]
     },
     "execution_count": 50,
     "metadata": {},
     "output_type": "execute_result"
    }
   ],
   "source": [
    "raw_telemetry['SessionId'].value_counts()"
   ]
  },
  {
   "cell_type": "code",
   "execution_count": 51,
   "id": "5543346b",
   "metadata": {},
   "outputs": [
    {
     "data": {
      "text/html": [
       "<div>\n",
       "<style scoped>\n",
       "    .dataframe tbody tr th:only-of-type {\n",
       "        vertical-align: middle;\n",
       "    }\n",
       "\n",
       "    .dataframe tbody tr th {\n",
       "        vertical-align: top;\n",
       "    }\n",
       "\n",
       "    .dataframe thead th {\n",
       "        text-align: right;\n",
       "    }\n",
       "</style>\n",
       "<table border=\"1\" class=\"dataframe\">\n",
       "  <thead>\n",
       "    <tr style=\"text-align: right;\">\n",
       "      <th></th>\n",
       "      <th>Date</th>\n",
       "      <th>Status_x</th>\n",
       "      <th>X</th>\n",
       "      <th>Y</th>\n",
       "      <th>Z</th>\n",
       "      <th>Source</th>\n",
       "      <th>Time</th>\n",
       "      <th>SessionTime</th>\n",
       "      <th>RPM</th>\n",
       "      <th>Speed</th>\n",
       "      <th>...</th>\n",
       "      <th>Distance</th>\n",
       "      <th>DifferentialDistance</th>\n",
       "      <th>Driver</th>\n",
       "      <th>SessionYear</th>\n",
       "      <th>SessionRace</th>\n",
       "      <th>SessionType</th>\n",
       "      <th>SessionId</th>\n",
       "      <th>TrackStatus</th>\n",
       "      <th>TrackStatusMessage</th>\n",
       "      <th>TrackStatusEncoded</th>\n",
       "    </tr>\n",
       "  </thead>\n",
       "  <tbody>\n",
       "    <tr>\n",
       "      <th>0</th>\n",
       "      <td>2024-12-01 15:08:45.467</td>\n",
       "      <td>OnTrack</td>\n",
       "      <td>0.0</td>\n",
       "      <td>0.0</td>\n",
       "      <td>0.0</td>\n",
       "      <td>pos</td>\n",
       "      <td>0 days</td>\n",
       "      <td>0 days 00:00:02.279000</td>\n",
       "      <td>0.0</td>\n",
       "      <td>0.0</td>\n",
       "      <td>...</td>\n",
       "      <td>0.0</td>\n",
       "      <td>0.0</td>\n",
       "      <td>1</td>\n",
       "      <td>2024</td>\n",
       "      <td>Qatar Grand Prix</td>\n",
       "      <td>R</td>\n",
       "      <td>2024_Qatar Grand Prix_R</td>\n",
       "      <td>1</td>\n",
       "      <td>AllClear</td>\n",
       "      <td>0</td>\n",
       "    </tr>\n",
       "    <tr>\n",
       "      <th>1</th>\n",
       "      <td>2024-12-01 15:08:45.467</td>\n",
       "      <td>OffTrack</td>\n",
       "      <td>0.0</td>\n",
       "      <td>0.0</td>\n",
       "      <td>0.0</td>\n",
       "      <td>nan</td>\n",
       "      <td>0 days</td>\n",
       "      <td>0 days 00:00:02.279000</td>\n",
       "      <td>0.0</td>\n",
       "      <td>0.0</td>\n",
       "      <td>...</td>\n",
       "      <td>0.0</td>\n",
       "      <td>0.0</td>\n",
       "      <td>81</td>\n",
       "      <td>2024</td>\n",
       "      <td>Qatar Grand Prix</td>\n",
       "      <td>R</td>\n",
       "      <td>2024_Qatar Grand Prix_R</td>\n",
       "      <td>1</td>\n",
       "      <td>AllClear</td>\n",
       "      <td>0</td>\n",
       "    </tr>\n",
       "    <tr>\n",
       "      <th>2</th>\n",
       "      <td>2024-12-01 15:08:45.467</td>\n",
       "      <td>OffTrack</td>\n",
       "      <td>0.0</td>\n",
       "      <td>0.0</td>\n",
       "      <td>0.0</td>\n",
       "      <td>nan</td>\n",
       "      <td>0 days</td>\n",
       "      <td>0 days 00:00:02.279000</td>\n",
       "      <td>0.0</td>\n",
       "      <td>0.0</td>\n",
       "      <td>...</td>\n",
       "      <td>0.0</td>\n",
       "      <td>0.0</td>\n",
       "      <td>63</td>\n",
       "      <td>2024</td>\n",
       "      <td>Qatar Grand Prix</td>\n",
       "      <td>R</td>\n",
       "      <td>2024_Qatar Grand Prix_R</td>\n",
       "      <td>1</td>\n",
       "      <td>AllClear</td>\n",
       "      <td>0</td>\n",
       "    </tr>\n",
       "    <tr>\n",
       "      <th>3</th>\n",
       "      <td>2024-12-01 15:08:45.467</td>\n",
       "      <td>OnTrack</td>\n",
       "      <td>0.0</td>\n",
       "      <td>0.0</td>\n",
       "      <td>0.0</td>\n",
       "      <td>pos</td>\n",
       "      <td>0 days</td>\n",
       "      <td>0 days 00:00:02.279000</td>\n",
       "      <td>0.0</td>\n",
       "      <td>0.0</td>\n",
       "      <td>...</td>\n",
       "      <td>0.0</td>\n",
       "      <td>0.0</td>\n",
       "      <td>10</td>\n",
       "      <td>2024</td>\n",
       "      <td>Qatar Grand Prix</td>\n",
       "      <td>R</td>\n",
       "      <td>2024_Qatar Grand Prix_R</td>\n",
       "      <td>1</td>\n",
       "      <td>AllClear</td>\n",
       "      <td>0</td>\n",
       "    </tr>\n",
       "    <tr>\n",
       "      <th>4</th>\n",
       "      <td>2024-12-01 15:08:45.467</td>\n",
       "      <td>OffTrack</td>\n",
       "      <td>0.0</td>\n",
       "      <td>0.0</td>\n",
       "      <td>0.0</td>\n",
       "      <td>nan</td>\n",
       "      <td>0 days</td>\n",
       "      <td>0 days 00:00:02.279000</td>\n",
       "      <td>3977.0</td>\n",
       "      <td>0.0</td>\n",
       "      <td>...</td>\n",
       "      <td>0.0</td>\n",
       "      <td>0.0</td>\n",
       "      <td>55</td>\n",
       "      <td>2024</td>\n",
       "      <td>Qatar Grand Prix</td>\n",
       "      <td>R</td>\n",
       "      <td>2024_Qatar Grand Prix_R</td>\n",
       "      <td>1</td>\n",
       "      <td>AllClear</td>\n",
       "      <td>0</td>\n",
       "    </tr>\n",
       "    <tr>\n",
       "      <th>5</th>\n",
       "      <td>2024-12-01 15:08:45.467</td>\n",
       "      <td>OnTrack</td>\n",
       "      <td>0.0</td>\n",
       "      <td>0.0</td>\n",
       "      <td>0.0</td>\n",
       "      <td>pos</td>\n",
       "      <td>0 days</td>\n",
       "      <td>0 days 00:00:02.279000</td>\n",
       "      <td>0.0</td>\n",
       "      <td>0.0</td>\n",
       "      <td>...</td>\n",
       "      <td>0.0</td>\n",
       "      <td>0.0</td>\n",
       "      <td>14</td>\n",
       "      <td>2024</td>\n",
       "      <td>Qatar Grand Prix</td>\n",
       "      <td>R</td>\n",
       "      <td>2024_Qatar Grand Prix_R</td>\n",
       "      <td>1</td>\n",
       "      <td>AllClear</td>\n",
       "      <td>0</td>\n",
       "    </tr>\n",
       "    <tr>\n",
       "      <th>6</th>\n",
       "      <td>2024-12-01 15:08:45.467</td>\n",
       "      <td>OnTrack</td>\n",
       "      <td>0.0</td>\n",
       "      <td>0.0</td>\n",
       "      <td>0.0</td>\n",
       "      <td>pos</td>\n",
       "      <td>0 days</td>\n",
       "      <td>0 days 00:00:02.279000</td>\n",
       "      <td>0.0</td>\n",
       "      <td>0.0</td>\n",
       "      <td>...</td>\n",
       "      <td>0.0</td>\n",
       "      <td>0.0</td>\n",
       "      <td>24</td>\n",
       "      <td>2024</td>\n",
       "      <td>Qatar Grand Prix</td>\n",
       "      <td>R</td>\n",
       "      <td>2024_Qatar Grand Prix_R</td>\n",
       "      <td>1</td>\n",
       "      <td>AllClear</td>\n",
       "      <td>0</td>\n",
       "    </tr>\n",
       "    <tr>\n",
       "      <th>7</th>\n",
       "      <td>2024-12-01 15:08:45.467</td>\n",
       "      <td>OnTrack</td>\n",
       "      <td>0.0</td>\n",
       "      <td>0.0</td>\n",
       "      <td>0.0</td>\n",
       "      <td>pos</td>\n",
       "      <td>0 days</td>\n",
       "      <td>0 days 00:00:02.279000</td>\n",
       "      <td>0.0</td>\n",
       "      <td>0.0</td>\n",
       "      <td>...</td>\n",
       "      <td>0.0</td>\n",
       "      <td>0.0</td>\n",
       "      <td>20</td>\n",
       "      <td>2024</td>\n",
       "      <td>Qatar Grand Prix</td>\n",
       "      <td>R</td>\n",
       "      <td>2024_Qatar Grand Prix_R</td>\n",
       "      <td>1</td>\n",
       "      <td>AllClear</td>\n",
       "      <td>0</td>\n",
       "    </tr>\n",
       "    <tr>\n",
       "      <th>8</th>\n",
       "      <td>2024-12-01 15:08:45.467</td>\n",
       "      <td>OnTrack</td>\n",
       "      <td>0.0</td>\n",
       "      <td>0.0</td>\n",
       "      <td>0.0</td>\n",
       "      <td>pos</td>\n",
       "      <td>0 days</td>\n",
       "      <td>0 days 00:00:02.279000</td>\n",
       "      <td>0.0</td>\n",
       "      <td>0.0</td>\n",
       "      <td>...</td>\n",
       "      <td>0.0</td>\n",
       "      <td>0.0</td>\n",
       "      <td>4</td>\n",
       "      <td>2024</td>\n",
       "      <td>Qatar Grand Prix</td>\n",
       "      <td>R</td>\n",
       "      <td>2024_Qatar Grand Prix_R</td>\n",
       "      <td>1</td>\n",
       "      <td>AllClear</td>\n",
       "      <td>0</td>\n",
       "    </tr>\n",
       "    <tr>\n",
       "      <th>9</th>\n",
       "      <td>2024-12-01 15:08:45.467</td>\n",
       "      <td>OffTrack</td>\n",
       "      <td>0.0</td>\n",
       "      <td>0.0</td>\n",
       "      <td>0.0</td>\n",
       "      <td>nan</td>\n",
       "      <td>0 days</td>\n",
       "      <td>0 days 00:00:02.279000</td>\n",
       "      <td>0.0</td>\n",
       "      <td>0.0</td>\n",
       "      <td>...</td>\n",
       "      <td>0.0</td>\n",
       "      <td>0.0</td>\n",
       "      <td>77</td>\n",
       "      <td>2024</td>\n",
       "      <td>Qatar Grand Prix</td>\n",
       "      <td>R</td>\n",
       "      <td>2024_Qatar Grand Prix_R</td>\n",
       "      <td>1</td>\n",
       "      <td>AllClear</td>\n",
       "      <td>0</td>\n",
       "    </tr>\n",
       "  </tbody>\n",
       "</table>\n",
       "<p>10 rows × 24 columns</p>\n",
       "</div>"
      ],
      "text/plain": [
       "                     Date  Status_x    X    Y    Z Source   Time  \\\n",
       "0 2024-12-01 15:08:45.467   OnTrack  0.0  0.0  0.0    pos 0 days   \n",
       "1 2024-12-01 15:08:45.467  OffTrack  0.0  0.0  0.0    nan 0 days   \n",
       "2 2024-12-01 15:08:45.467  OffTrack  0.0  0.0  0.0    nan 0 days   \n",
       "3 2024-12-01 15:08:45.467   OnTrack  0.0  0.0  0.0    pos 0 days   \n",
       "4 2024-12-01 15:08:45.467  OffTrack  0.0  0.0  0.0    nan 0 days   \n",
       "5 2024-12-01 15:08:45.467   OnTrack  0.0  0.0  0.0    pos 0 days   \n",
       "6 2024-12-01 15:08:45.467   OnTrack  0.0  0.0  0.0    pos 0 days   \n",
       "7 2024-12-01 15:08:45.467   OnTrack  0.0  0.0  0.0    pos 0 days   \n",
       "8 2024-12-01 15:08:45.467   OnTrack  0.0  0.0  0.0    pos 0 days   \n",
       "9 2024-12-01 15:08:45.467  OffTrack  0.0  0.0  0.0    nan 0 days   \n",
       "\n",
       "             SessionTime     RPM  Speed  ...  Distance  DifferentialDistance  \\\n",
       "0 0 days 00:00:02.279000     0.0    0.0  ...       0.0                   0.0   \n",
       "1 0 days 00:00:02.279000     0.0    0.0  ...       0.0                   0.0   \n",
       "2 0 days 00:00:02.279000     0.0    0.0  ...       0.0                   0.0   \n",
       "3 0 days 00:00:02.279000     0.0    0.0  ...       0.0                   0.0   \n",
       "4 0 days 00:00:02.279000  3977.0    0.0  ...       0.0                   0.0   \n",
       "5 0 days 00:00:02.279000     0.0    0.0  ...       0.0                   0.0   \n",
       "6 0 days 00:00:02.279000     0.0    0.0  ...       0.0                   0.0   \n",
       "7 0 days 00:00:02.279000     0.0    0.0  ...       0.0                   0.0   \n",
       "8 0 days 00:00:02.279000     0.0    0.0  ...       0.0                   0.0   \n",
       "9 0 days 00:00:02.279000     0.0    0.0  ...       0.0                   0.0   \n",
       "\n",
       "   Driver  SessionYear       SessionRace  SessionType  \\\n",
       "0       1         2024  Qatar Grand Prix            R   \n",
       "1      81         2024  Qatar Grand Prix            R   \n",
       "2      63         2024  Qatar Grand Prix            R   \n",
       "3      10         2024  Qatar Grand Prix            R   \n",
       "4      55         2024  Qatar Grand Prix            R   \n",
       "5      14         2024  Qatar Grand Prix            R   \n",
       "6      24         2024  Qatar Grand Prix            R   \n",
       "7      20         2024  Qatar Grand Prix            R   \n",
       "8       4         2024  Qatar Grand Prix            R   \n",
       "9      77         2024  Qatar Grand Prix            R   \n",
       "\n",
       "                 SessionId  TrackStatus TrackStatusMessage TrackStatusEncoded  \n",
       "0  2024_Qatar Grand Prix_R            1           AllClear                  0  \n",
       "1  2024_Qatar Grand Prix_R            1           AllClear                  0  \n",
       "2  2024_Qatar Grand Prix_R            1           AllClear                  0  \n",
       "3  2024_Qatar Grand Prix_R            1           AllClear                  0  \n",
       "4  2024_Qatar Grand Prix_R            1           AllClear                  0  \n",
       "5  2024_Qatar Grand Prix_R            1           AllClear                  0  \n",
       "6  2024_Qatar Grand Prix_R            1           AllClear                  0  \n",
       "7  2024_Qatar Grand Prix_R            1           AllClear                  0  \n",
       "8  2024_Qatar Grand Prix_R            1           AllClear                  0  \n",
       "9  2024_Qatar Grand Prix_R            1           AllClear                  0  \n",
       "\n",
       "[10 rows x 24 columns]"
      ]
     },
     "execution_count": 51,
     "metadata": {},
     "output_type": "execute_result"
    }
   ],
   "source": [
    "raw_telemetry.head(10)"
   ]
  },
  {
   "cell_type": "code",
   "execution_count": 52,
   "id": "33b691be",
   "metadata": {},
   "outputs": [],
   "source": [
    "original_features = dataset['original_features']"
   ]
  },
  {
   "cell_type": "code",
   "execution_count": 30,
   "id": "8aca502c",
   "metadata": {},
   "outputs": [
    {
     "data": {
      "text/plain": [
       "(215200, 100, 9)"
      ]
     },
     "execution_count": 30,
     "metadata": {},
     "output_type": "execute_result"
    }
   ],
   "source": [
    "X.shape"
   ]
  },
  {
   "cell_type": "code",
   "execution_count": 53,
   "id": "9e144124",
   "metadata": {},
   "outputs": [
    {
     "name": "stdout",
     "output_type": "stream",
     "text": [
      "First 20 samples at timestep 0:\n",
      "        feature_0  feature_1  feature_2  feature_3  feature_4  feature_5  \\\n",
      "sample                                                                     \n",
      "0         -0.9695    -1.1977    -1.0213    -0.9385    -0.5938    -0.0215   \n",
      "1         -0.9695    -1.1977    -1.0213    -0.9385    -0.5938    -0.0215   \n",
      "2         -0.9695    -1.1977    -1.0213    -0.9385    -0.5938    -0.0215   \n",
      "3         -0.9695    -1.1977    -1.0213    -0.9385    -0.5938    -0.0215   \n",
      "4         -0.9695    -1.1977    -1.0213    -0.9385    -0.5938    -0.0215   \n",
      "5         -0.9695    -1.1977    -1.0213    -0.9385    -0.5938    -0.0215   \n",
      "6         -0.9695    -1.1977    -1.0213    -0.9385    -0.5938    -0.0215   \n",
      "7         -0.9695    -1.1977    -1.0213    -0.9385    -0.5938    -0.0215   \n",
      "8         -0.9695    -1.1977    -1.0213    -0.9385    -0.5938    -0.0215   \n",
      "9         -0.9695    -1.1977    -1.0213    -0.9385    -0.5938    -0.0215   \n",
      "10        -0.9695    -1.1977    -1.0213    -0.9385    -0.5938    -0.0215   \n",
      "11        -0.9695    -1.1977    -1.0213    -0.9385    -0.5938    -0.0215   \n",
      "12        -0.9695    -1.1977    -1.0213    -0.9385    -0.5938    -0.0215   \n",
      "13        -0.9695    -1.1977    -1.0213    -0.9385    -0.5938    -0.0215   \n",
      "14        -0.9695    -1.1977    -1.0213    -0.9385    -0.5938    -0.0215   \n",
      "15        -0.9695    -1.1977    -1.0213    -0.9385    -0.5938    -0.0215   \n",
      "16        -0.9695    -1.1977    -1.0213    -0.9385    -0.5938    -0.0215   \n",
      "17        -0.9695    -1.1977    -1.0213    -0.9385    -0.5938    -0.0215   \n",
      "18        -0.9695    -1.1977    -1.0213    -0.9385    -0.5938    -0.0215   \n",
      "19        -0.9695    -1.1977    -1.0213    -0.9385    -0.5938    -0.0215   \n",
      "\n",
      "        feature_6  feature_7  feature_8  \n",
      "sample                                   \n",
      "0          0.3457    -0.9987     -0.716  \n",
      "1          0.3457    -0.9987     -0.716  \n",
      "2          0.3457    -0.9987     -0.716  \n",
      "3          0.3457    -0.9987     -0.716  \n",
      "4          0.3457    -0.9987     -0.716  \n",
      "5          0.3457    -0.9987     -0.716  \n",
      "6          0.3457    -0.9987     -0.716  \n",
      "7          0.3457    -0.9987     -0.716  \n",
      "8          0.3457    -0.9987     -0.716  \n",
      "9          0.3457    -0.9987     -0.716  \n",
      "10         0.3457    -0.9987     -0.716  \n",
      "11         0.3457    -0.9987     -0.716  \n",
      "12         0.3457    -0.9987     -0.716  \n",
      "13         0.3457    -0.9987     -0.716  \n",
      "14         0.3457    -0.9987     -0.716  \n",
      "15         0.3457    -0.9987     -0.716  \n",
      "16         0.3457    -0.9987     -0.716  \n",
      "17         0.3457    -0.9987     -0.716  \n",
      "18         0.3457    -0.9987     -0.716  \n",
      "19         0.3457    -0.9987     -0.716  \n",
      "\n",
      "Shape: (215200, 9)\n",
      "\n",
      "Summary statistics:\n",
      "          feature_0     feature_1     feature_2     feature_3     feature_4  \\\n",
      "count  215200.00000  215200.00000  215200.00000  215200.00000  215200.00000   \n",
      "mean       -0.00048      -0.00031      -0.00062       0.00026      -0.00179   \n",
      "std         0.99984       1.00024       1.00022       1.00005       0.99902   \n",
      "min        -0.96950      -1.19773      -1.02128      -0.93846      -0.59378   \n",
      "25%        -0.96950      -1.19773      -1.02128      -0.93846      -0.59378   \n",
      "50%        -0.16246       0.27477      -0.27794      -0.53897      -0.59378   \n",
      "75%         0.82719       1.01376       0.83708       1.24596       1.68412   \n",
      "max         2.45888       1.55228      22.39401       1.33333       1.68412   \n",
      "\n",
      "          feature_5     feature_6     feature_7     feature_8  \n",
      "count  215200.00000  215200.00000  215200.00000  215200.00000  \n",
      "mean       -0.00004       0.00014      -0.00183       0.00198  \n",
      "std         0.99974       0.99985       0.99896       1.01581  \n",
      "min        -1.64409      -2.17995      -0.99869      -0.71602  \n",
      "25%        -0.63893      -0.63943      -0.83841      -0.71602  \n",
      "50%        -0.07811       0.13869      -0.44250      -0.46969  \n",
      "75%         0.39841       0.53935       0.75078       0.42621  \n",
      "max         3.27082       2.93865       2.39899      19.17199  \n"
     ]
    }
   ],
   "source": [
    "import pandas as pd\n",
    "import numpy as np\n",
    "\n",
    "# Extract first timestep (t=0) for all samples\n",
    "first_timestep = X[:, 0, :]  # Shape: (215200, 9)\n",
    "\n",
    "# Create DataFrame for better visualization\n",
    "df = pd.DataFrame(\n",
    "    first_timestep,\n",
    "    columns=[f'feature_{i}' for i in range(9)],\n",
    "    index=pd.RangeIndex(start=0, stop=len(first_timestep), name='sample')\n",
    ")\n",
    "\n",
    "# Display first 20 samples\n",
    "print(\"First 20 samples at timestep 0:\")\n",
    "print(df.head(20).round(4))\n",
    "\n",
    "# Show summary stats\n",
    "print(f\"\\nShape: {df.shape}\")\n",
    "print(f\"\\nSummary statistics:\")\n",
    "print(df.describe().round(5))"
   ]
  },
  {
   "cell_type": "code",
   "execution_count": 38,
   "id": "1b7fd0bf",
   "metadata": {},
   "outputs": [
    {
     "data": {
      "text/plain": [
       "np.int64(6)"
      ]
     },
     "execution_count": 38,
     "metadata": {},
     "output_type": "execute_result"
    }
   ],
   "source": [
    "y[9]"
   ]
  },
  {
   "cell_type": "code",
   "execution_count": 36,
   "id": "71d1c1ca",
   "metadata": {},
   "outputs": [
    {
     "name": "stdout",
     "output_type": "stream",
     "text": [
      "2024_Chinese Grand Prix_R\n",
      "2024_Chinese Grand Prix_R\n"
     ]
    }
   ],
   "source": [
    "print(metadata[0]['SessionId'])\n",
    "print(metadata[99]['SessionId'])"
   ]
  }
 ],
 "metadata": {
  "kernelspec": {
   "display_name": "notebooks (3.12.7)",
   "language": "python",
   "name": "python3"
  },
  "language_info": {
   "codemirror_mode": {
    "name": "ipython",
    "version": 3
   },
   "file_extension": ".py",
   "mimetype": "text/x-python",
   "name": "python",
   "nbconvert_exporter": "python",
   "pygments_lexer": "ipython3",
   "version": "3.12.7"
  }
 },
 "nbformat": 4,
 "nbformat_minor": 5
}
