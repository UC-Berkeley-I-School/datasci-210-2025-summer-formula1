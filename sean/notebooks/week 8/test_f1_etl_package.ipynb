{
 "cells": [
  {
   "cell_type": "code",
   "execution_count": 2,
   "id": "eb3c6d0e",
   "metadata": {},
   "outputs": [
    {
     "name": "stdout",
     "output_type": "stream",
     "text": [
      "Loading session: 2024 Monaco Grand Prix R\n",
      "Loading from cache: f1_cache/2024_Monaco_Grand_Prix_R.pkl\n"
     ]
    },
    {
     "name": "stderr",
     "output_type": "stream",
     "text": [
      "2025-06-24 17:55:42,382 - f1_etl - INFO - Processing 1833280 total telemetry rows\n",
      "2025-06-24 17:55:42,384 - f1_etl - INFO - Grouping by: ['SessionId', 'Driver']\n",
      "2025-06-24 17:55:50,642 - f1_etl - INFO - Total sequences generated: 36640\n",
      "2025-06-24 17:55:50,780 - f1_etl - INFO - Generated 36640 sequences with shape (36640, 100, 9)\n",
      "2025-06-24 17:55:50,810 - f1_etl - INFO - No missing values detected, skipping imputation\n"
     ]
    },
    {
     "name": "stdout",
     "output_type": "stream",
     "text": [
      "Generated 36640 sequences\n",
      "Features: ['Speed', 'RPM', 'nGear', 'Throttle', 'Brake', 'X', 'Y', 'Distance', 'DifferentialDistance']\n",
      "Class distribution: {'green': np.int64(29900), 'red': np.int64(5780), 'safety_car': np.int64(320), 'yellow': np.int64(640)}\n"
     ]
    }
   ],
   "source": [
    "### Basic Usage - Single Race\n",
    "\n",
    "from f1_etl import SessionConfig, DataConfig, create_safety_car_dataset\n",
    "\n",
    "# Define a single race session\n",
    "session = SessionConfig(\n",
    "    year=2024,\n",
    "    race=\"Monaco Grand Prix\",\n",
    "    session_type=\"R\"  # Race\n",
    ")\n",
    "\n",
    "# Configure the dataset\n",
    "config = DataConfig(\n",
    "    sessions=[session],\n",
    "    cache_dir=\"./f1_cache\"\n",
    ")\n",
    "\n",
    "# Generate the dataset\n",
    "dataset = create_safety_car_dataset(\n",
    "    config=config,\n",
    "    window_size=100,\n",
    "    prediction_horizon=10\n",
    ")\n",
    "\n",
    "print(f\"Generated {dataset['config']['n_sequences']} sequences\")\n",
    "print(f\"Features: {dataset['config']['feature_names']}\")\n",
    "print(f\"Class distribution: {dataset['class_distribution']}\")"
   ]
  }
 ],
 "metadata": {
  "kernelspec": {
   "display_name": ".venv",
   "language": "python",
   "name": "python3"
  },
  "language_info": {
   "codemirror_mode": {
    "name": "ipython",
    "version": 3
   },
   "file_extension": ".py",
   "mimetype": "text/x-python",
   "name": "python",
   "nbconvert_exporter": "python",
   "pygments_lexer": "ipython3",
   "version": "3.11.11"
  }
 },
 "nbformat": 4,
 "nbformat_minor": 5
}
