{
 "cells": [
  {
   "cell_type": "code",
   "execution_count": 2,
   "id": "eb3c6d0e",
   "metadata": {},
   "outputs": [
    {
     "name": "stdout",
     "output_type": "stream",
     "text": [
      "Loading session: 2024 Monaco Grand Prix R\n",
      "Loading from cache: f1_cache/2024_Monaco_Grand_Prix_R.pkl\n"
     ]
    },
    {
     "name": "stderr",
     "output_type": "stream",
     "text": [
      "2025-06-24 17:55:42,382 - f1_etl - INFO - Processing 1833280 total telemetry rows\n",
      "2025-06-24 17:55:42,384 - f1_etl - INFO - Grouping by: ['SessionId', 'Driver']\n",
      "2025-06-24 17:55:50,642 - f1_etl - INFO - Total sequences generated: 36640\n",
      "2025-06-24 17:55:50,780 - f1_etl - INFO - Generated 36640 sequences with shape (36640, 100, 9)\n",
      "2025-06-24 17:55:50,810 - f1_etl - INFO - No missing values detected, skipping imputation\n"
     ]
    },
    {
     "name": "stdout",
     "output_type": "stream",
     "text": [
      "Generated 36640 sequences\n",
      "Features: ['Speed', 'RPM', 'nGear', 'Throttle', 'Brake', 'X', 'Y', 'Distance', 'DifferentialDistance']\n",
      "Class distribution: {'green': np.int64(29900), 'red': np.int64(5780), 'safety_car': np.int64(320), 'yellow': np.int64(640)}\n"
     ]
    }
   ],
   "source": [
    "### Basic Usage - Single Race\n",
    "\n",
    "from f1_etl import SessionConfig, DataConfig, create_safety_car_dataset\n",
    "\n",
    "# Define a single race session\n",
    "session = SessionConfig(\n",
    "    year=2024,\n",
    "    race=\"Monaco Grand Prix\",\n",
    "    session_type=\"R\"  # Race\n",
    ")\n",
    "\n",
    "# Configure the dataset\n",
    "config = DataConfig(\n",
    "    sessions=[session],\n",
    "    cache_dir=\"./f1_cache\"\n",
    ")\n",
    "\n",
    "# Generate the dataset\n",
    "dataset = create_safety_car_dataset(\n",
    "    config=config,\n",
    "    window_size=100,\n",
    "    prediction_horizon=10\n",
    ")\n",
    "\n",
    "print(f\"Generated {dataset['config']['n_sequences']} sequences\")\n",
    "print(f\"Features: {dataset['config']['feature_names']}\")\n",
    "print(f\"Class distribution: {dataset['class_distribution']}\")"
   ]
  },
  {
   "cell_type": "code",
   "execution_count": 5,
   "id": "9a610721",
   "metadata": {},
   "outputs": [
    {
     "data": {
      "text/plain": [
       "dict_keys(['X', 'y', 'y_raw', 'metadata', 'label_encoder', 'feature_engineer', 'raw_telemetry', 'class_distribution', 'config'])"
      ]
     },
     "execution_count": 5,
     "metadata": {},
     "output_type": "execute_result"
    }
   ],
   "source": [
    "dataset.keys()"
   ]
  },
  {
   "cell_type": "code",
   "execution_count": 6,
   "id": "1650a339",
   "metadata": {},
   "outputs": [],
   "source": [
    "X = dataset['X']\n",
    "y = dataset['y']\n",
    "metadata = dataset['metadata']"
   ]
  },
  {
   "cell_type": "code",
   "execution_count": 7,
   "id": "c32da2c5",
   "metadata": {},
   "outputs": [
    {
     "data": {
      "text/plain": [
       "(36640, 100, 9)"
      ]
     },
     "execution_count": 7,
     "metadata": {},
     "output_type": "execute_result"
    }
   ],
   "source": [
    "X.shape"
   ]
  },
  {
   "cell_type": "code",
   "execution_count": 8,
   "id": "5da021fc",
   "metadata": {},
   "outputs": [
    {
     "data": {
      "text/plain": [
       "{'start_time': Timestamp('2024-05-26 12:08:08.143000'),\n",
       " 'end_time': Timestamp('2024-05-26 12:08:20.906000'),\n",
       " 'prediction_time': Timestamp('2024-05-26 12:08:21.985000'),\n",
       " 'sequence_length': 100,\n",
       " 'prediction_horizon': 10,\n",
       " 'features_used': ['Speed',\n",
       "  'RPM',\n",
       "  'nGear',\n",
       "  'Throttle',\n",
       "  'Brake',\n",
       "  'X',\n",
       "  'Y',\n",
       "  'Distance',\n",
       "  'DifferentialDistance'],\n",
       " 'target_column': 'TrackStatus',\n",
       " 'SessionId': '2024_Monaco Grand Prix_R',\n",
       " 'Driver': '1'}"
      ]
     },
     "execution_count": 8,
     "metadata": {},
     "output_type": "execute_result"
    }
   ],
   "source": [
    "metadata[0]"
   ]
  },
  {
   "cell_type": "code",
   "execution_count": 13,
   "id": "0b9ec96f",
   "metadata": {},
   "outputs": [
    {
     "data": {
      "text/plain": [
       "Timedelta('0 days 00:00:12.763000')"
      ]
     },
     "metadata": {},
     "output_type": "display_data"
    },
    {
     "data": {
      "text/plain": [
       "Timedelta('0 days 00:00:00.127630')"
      ]
     },
     "metadata": {},
     "output_type": "display_data"
    }
   ],
   "source": [
    "start_time = metadata[0]['start_time']\n",
    "end_time = metadata[0]['end_time']\n",
    "elapsed = end_time - start_time\n",
    "display(elapsed)\n",
    "display(elapsed/100)"
   ]
  },
  {
   "cell_type": "code",
   "execution_count": 11,
   "id": "936d1403",
   "metadata": {},
   "outputs": [
    {
     "data": {
      "text/plain": [
       "array([0, 0, 0, 0, 0, 0, 0, 0, 0, 0, 0, 0, 0, 0, 0, 0, 0, 0, 0, 0, 0, 3,\n",
       "       0, 0, 0, 0, 0, 0, 0, 0, 0, 3, 0, 0, 0, 0, 0, 0, 0, 0, 0, 0, 0, 0,\n",
       "       0, 0, 0, 0, 0, 0, 0, 3, 1, 1, 1, 1, 1, 1, 1, 1, 1, 1, 1, 1, 1, 1,\n",
       "       1, 1, 1, 1, 1, 1, 1, 1, 1, 1, 1, 1, 1, 1, 1, 3, 0, 3, 0, 0, 0, 0,\n",
       "       2, 2, 0, 0, 0, 0, 0, 0, 0, 0, 0, 0])"
      ]
     },
     "execution_count": 11,
     "metadata": {},
     "output_type": "execute_result"
    }
   ],
   "source": [
    "y[0:1000:10]"
   ]
  }
 ],
 "metadata": {
  "kernelspec": {
   "display_name": ".venv",
   "language": "python",
   "name": "python3"
  },
  "language_info": {
   "codemirror_mode": {
    "name": "ipython",
    "version": 3
   },
   "file_extension": ".py",
   "mimetype": "text/x-python",
   "name": "python",
   "nbconvert_exporter": "python",
   "pygments_lexer": "ipython3",
   "version": "3.11.11"
  }
 },
 "nbformat": 4,
 "nbformat_minor": 5
}
