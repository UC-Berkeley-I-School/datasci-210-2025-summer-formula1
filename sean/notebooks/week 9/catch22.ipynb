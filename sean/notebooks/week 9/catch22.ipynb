{
 "cells": [
  {
   "cell_type": "markdown",
   "id": "ff801b82",
   "metadata": {},
   "source": [
    "# Setup"
   ]
  },
  {
   "cell_type": "code",
   "execution_count": 20,
   "id": "0667cecf",
   "metadata": {},
   "outputs": [],
   "source": [
    "import numpy as np\n",
    "import pandas as pd\n",
    "import matplotlib.pyplot as plt\n",
    "import seaborn as sns\n",
    "\n",
    "from typing import Dict, Any\n",
    "\n",
    "from sklearn.model_selection import train_test_split\n",
    "from sklearn.ensemble import RandomForestClassifier\n",
    "from sklearn.metrics import classification_report, accuracy_score, f1_score, confusion_matrix\n",
    "\n",
    "from aeon.classification.feature_based import Catch22Classifier\n",
    "from aeon.classification.dummy import DummyClassifier\n",
    "\n",
    "from f1_etl import SessionConfig, DataConfig, create_safety_car_dataset\n",
    "from f1_etl.config import create_season_configs, create_multi_session_configs"
   ]
  },
  {
   "cell_type": "code",
   "execution_count": 12,
   "id": "902ec097",
   "metadata": {},
   "outputs": [],
   "source": [
    "def detect_window_contamination_by_features(X, metadata, feature_names):\n",
    "    \"\"\"\n",
    "    Detect cross-session contamination by analyzing feature discontinuities\n",
    "    that would indicate session boundaries within individual windows.\n",
    "    \n",
    "    This examines the actual telemetry values rather than just timestamps.\n",
    "    \"\"\"\n",
    "    print(\"=== WINDOW CONTAMINATION ANALYSIS BY FEATURES ===\\n\")\n",
    "    \n",
    "    contamination_found = False\n",
    "    suspicious_sequences = []\n",
    "    \n",
    "    # Find features that are good indicators of session boundaries\n",
    "    # Speed and Distance are excellent indicators because they reset between sessions\n",
    "    speed_idx = None\n",
    "    distance_idx = None\n",
    "    \n",
    "    if 'Speed' in feature_names:\n",
    "        speed_idx = feature_names.index('Speed')\n",
    "    if 'Distance' in feature_names:\n",
    "        distance_idx = feature_names.index('Distance')\n",
    "    \n",
    "    print(f\"Analyzing {len(X)} sequences...\")\n",
    "    print(f\"Feature indices - Speed: {speed_idx}, Distance: {distance_idx}\")\n",
    "    print()\n",
    "    \n",
    "    for i in range(min(1000, len(X))):  # Sample first 1000 sequences for performance\n",
    "        sequence = X[i]\n",
    "        meta = metadata[i]\n",
    "        session_id = meta['SessionId']\n",
    "        \n",
    "        # Analyze feature discontinuities that suggest session boundaries\n",
    "        discontinuities = []\n",
    "        \n",
    "        # Check Speed feature for impossible jumps\n",
    "        if speed_idx is not None:\n",
    "            speed_values = sequence[:, speed_idx]\n",
    "            speed_diffs = np.abs(np.diff(speed_values))\n",
    "            \n",
    "            # F1 cars can't change speed by more than ~100 km/h in one time step\n",
    "            impossible_speed_changes = speed_diffs > 100\n",
    "            if np.any(impossible_speed_changes):\n",
    "                jump_indices = np.where(impossible_speed_changes)[0]\n",
    "                for jump_idx in jump_indices:\n",
    "                    discontinuities.append({\n",
    "                        'feature': 'Speed',\n",
    "                        'position': jump_idx,\n",
    "                        'from_value': speed_values[jump_idx],\n",
    "                        'to_value': speed_values[jump_idx + 1],\n",
    "                        'change': speed_diffs[jump_idx]\n",
    "                    })\n",
    "        \n",
    "        # Check Distance feature for resets (distance going backwards significantly)\n",
    "        if distance_idx is not None:\n",
    "            distance_values = sequence[:, distance_idx]\n",
    "            distance_diffs = np.diff(distance_values)\n",
    "            \n",
    "            # Distance should generally increase during a session\n",
    "            # Large negative jumps suggest a session boundary\n",
    "            large_backwards_jumps = distance_diffs < -1000  # More than 1km backwards\n",
    "            if np.any(large_backwards_jumps):\n",
    "                jump_indices = np.where(large_backwards_jumps)[0]\n",
    "                for jump_idx in jump_indices:\n",
    "                    discontinuities.append({\n",
    "                        'feature': 'Distance',\n",
    "                        'position': jump_idx,\n",
    "                        'from_value': distance_values[jump_idx],\n",
    "                        'to_value': distance_values[jump_idx + 1],\n",
    "                        'change': distance_diffs[jump_idx]\n",
    "                    })\n",
    "        \n",
    "        # Report sequences with suspicious discontinuities\n",
    "        if discontinuities:\n",
    "            contamination_found = True\n",
    "            suspicious_sequences.append({\n",
    "                'sequence_id': i,\n",
    "                'session_id': session_id,\n",
    "                'start_time': meta['start_time'],\n",
    "                'end_time': meta['end_time'],\n",
    "                'discontinuities': discontinuities\n",
    "            })\n",
    "    \n",
    "    # Report findings\n",
    "    if contamination_found:\n",
    "        print(f\"🚨 CONTAMINATION DETECTED in {len(suspicious_sequences)} sequences!\")\n",
    "        print()\n",
    "        \n",
    "        for seq_info in suspicious_sequences[:10]:  # Show first 10\n",
    "            print(f\"Sequence {seq_info['sequence_id']} ({seq_info['session_id']}):\")\n",
    "            print(f\"  Time: {seq_info['start_time']} to {seq_info['end_time']}\")\n",
    "            for disc in seq_info['discontinuities']:\n",
    "                print(f\"  ⚠️  {disc['feature']} jump at position {disc['position']}: \"\n",
    "                      f\"{disc['from_value']:.1f} → {disc['to_value']:.1f} \"\n",
    "                      f\"(change: {disc['change']:.1f})\")\n",
    "            print()\n",
    "        \n",
    "        if len(suspicious_sequences) > 10:\n",
    "            print(f\"... and {len(suspicious_sequences) - 10} more suspicious sequences\")\n",
    "        \n",
    "        return False\n",
    "    else:\n",
    "        print(\"✅ No obvious window contamination detected\")\n",
    "        print(\"All sequences show realistic feature continuity\")\n",
    "        return True\n",
    "\n",
    "\n",
    "def detect_session_boundary_crossings(metadata):\n",
    "    \"\"\"\n",
    "    Simple check: look for sequences where consecutive samples in the \n",
    "    final dataset come from different sessions, which would indicate\n",
    "    that the windowing process created sequences spanning sessions.\n",
    "    \"\"\"\n",
    "    print(\"=== SESSION BOUNDARY CROSSING ANALYSIS ===\\n\")\n",
    "    \n",
    "    # Create a mapping of sequence index to session\n",
    "    sequence_sessions = [(i, meta['SessionId']) for i, meta in enumerate(metadata)]\n",
    "    \n",
    "    # Sort by the actual order sequences appear in the final dataset\n",
    "    # (this should match the order they were created)\n",
    "    \n",
    "    # Look for patterns that suggest session mixing\n",
    "    session_transitions = []\n",
    "    current_session = sequence_sessions[0][1]\n",
    "    \n",
    "    for i, (seq_idx, session_id) in enumerate(sequence_sessions):\n",
    "        if session_id != current_session:\n",
    "            session_transitions.append({\n",
    "                'position': i,\n",
    "                'from_session': current_session,\n",
    "                'to_session': session_id,\n",
    "                'sequence_idx': seq_idx\n",
    "            })\n",
    "            current_session = session_id\n",
    "    \n",
    "    print(f\"Total sequences: {len(sequence_sessions)}\")\n",
    "    print(f\"Session transitions in sequence order: {len(session_transitions)}\")\n",
    "    \n",
    "    if session_transitions:\n",
    "        print(\"\\nSession transitions detected:\")\n",
    "        for trans in session_transitions:\n",
    "            print(f\"  Position {trans['position']}: {trans['from_session']} → {trans['to_session']}\")\n",
    "        \n",
    "        # This alone doesn't prove contamination, but helps understand the data structure\n",
    "        print(f\"\\nNote: {len(session_transitions)} transitions found.\")\n",
    "        print(\"This shows how sequences from different sessions are distributed.\")\n",
    "        print(\"Cross-session contamination would show as sequences with mixed session data.\")\n",
    "    else:\n",
    "        print(\"All sequences come from the same session - unexpected for multi-session data!\")\n",
    "    \n",
    "    return session_transitions\n",
    "\n",
    "\n",
    "def comprehensive_contamination_check(X, metadata):\n",
    "    \"\"\"\n",
    "    Comprehensive check combining multiple approaches to definitively\n",
    "    determine if cross-session contamination exists.\n",
    "    \"\"\"\n",
    "    print(\"=== COMPREHENSIVE CONTAMINATION CHECK ===\\n\")\n",
    "    \n",
    "    # Extract feature names from metadata\n",
    "    feature_names = metadata[0]['features_used'] if metadata else []\n",
    "    print(f\"Feature names: {feature_names}\\n\")\n",
    "    \n",
    "    # Run all checks\n",
    "    print(\"1. Checking session boundary crossings...\")\n",
    "    session_transitions = detect_session_boundary_crossings(metadata)\n",
    "    print()\n",
    "    \n",
    "    print(\"2. Checking for feature discontinuities...\")\n",
    "    no_feature_contamination = detect_window_contamination_by_features(X, metadata, feature_names)\n",
    "    print()\n",
    "    \n",
    "    # Summary\n",
    "    print(\"=== SUMMARY ===\")\n",
    "    if session_transitions and not no_feature_contamination:\n",
    "        print(\"🚨 CROSS-SESSION CONTAMINATION CONFIRMED\")\n",
    "        print(\"Both session mixing and feature discontinuities detected\")\n",
    "    elif not no_feature_contamination:\n",
    "        print(\"⚠️  POSSIBLE CONTAMINATION\")\n",
    "        print(\"Feature discontinuities detected (may be data artifacts)\")\n",
    "    elif session_transitions:\n",
    "        print(\"✅ NO CONTAMINATION DETECTED\")\n",
    "        print(\"Session mixing in sequence order is normal for multi-session datasets\")\n",
    "    else:\n",
    "        print(\"✅ NO CONTAMINATION DETECTED\")\n",
    "        print(\"Clean session boundaries and feature continuity\")\n",
    "    \n",
    "    return no_feature_contamination and len(session_transitions) > 0"
   ]
  },
  {
   "cell_type": "code",
   "execution_count": 19,
   "id": "18ccb83b",
   "metadata": {},
   "outputs": [],
   "source": [
    "def comprehensive_evaluation(y_true, y_pred, class_names, title=\"Model Evaluation\"):\n",
    "    \"\"\"Comprehensive evaluation focusing on F1-score and handling class imbalance\"\"\"\n",
    "    \n",
    "    # Get unique classes present in the data\n",
    "    unique_classes = np.unique(np.concatenate([y_true, y_pred]))\n",
    "    present_class_names = [class_names[i] for i in unique_classes if i < len(class_names)]\n",
    "    \n",
    "    print(f\"\\n=== {title} ===\")\n",
    "    \n",
    "    # Confusion Matrix\n",
    "    cm = confusion_matrix(y_true, y_pred, labels=unique_classes)\n",
    "    \n",
    "    plt.figure(figsize=(8, 6))\n",
    "    sns.heatmap(cm, annot=True, fmt='d', cmap='Blues', \n",
    "                xticklabels=present_class_names, \n",
    "                yticklabels=present_class_names)\n",
    "    plt.title(f\"Confusion Matrix - {title}\")\n",
    "    plt.ylabel('True Label')\n",
    "    plt.xlabel('Predicted Label')\n",
    "    plt.show()\n",
    "    \n",
    "    # Detailed metrics\n",
    "    print(f\"Accuracy: {accuracy_score(y_true, y_pred):.4f}\")\n",
    "    \n",
    "    # F1 scores\n",
    "    f1_macro = f1_score(y_true, y_pred, average='macro', zero_division=0)\n",
    "    f1_micro = f1_score(y_true, y_pred, average='micro', zero_division=0)\n",
    "    f1_weighted = f1_score(y_true, y_pred, average='weighted', zero_division=0)\n",
    "    \n",
    "    print(f\"F1-Score (Macro): {f1_macro:.4f}\")\n",
    "    print(f\"F1-Score (Micro): {f1_micro:.4f}\")\n",
    "    print(f\"F1-Score (Weighted): {f1_weighted:.4f}\")\n",
    "    \n",
    "    # Per-class F1 scores\n",
    "    f1_per_class = f1_score(y_true, y_pred, average=None, zero_division=0, labels=unique_classes)\n",
    "    print(f\"\\nPer-class F1-scores:\")\n",
    "    for i, f1 in enumerate(f1_per_class):\n",
    "        class_idx = unique_classes[i]\n",
    "        class_name = present_class_names[i] if i < len(present_class_names) else f\"Class_{class_idx}\"\n",
    "        print(f\"  {class_name}: {f1:.4f}\")\n",
    "    \n",
    "    # Class distribution\n",
    "    print(f\"\\nClass distribution:\")\n",
    "    unique_true, counts_true = np.unique(y_true, return_counts=True)\n",
    "    for class_idx, count in zip(unique_true, counts_true):\n",
    "        class_name = class_names[class_idx] if class_idx < len(class_names) else f\"Class_{class_idx}\"\n",
    "        print(f\"  {class_name}: {count} ({count/len(y_true)*100:.1f}%)\")\n",
    "    \n",
    "    return {\n",
    "        'accuracy': accuracy_score(y_true, y_pred),\n",
    "        'f1_macro': f1_macro,\n",
    "        'f1_weighted': f1_weighted,\n",
    "        'confusion_matrix': cm,\n",
    "        'unique_classes': unique_classes\n",
    "    }"
   ]
  },
  {
   "cell_type": "markdown",
   "id": "c0eef26d",
   "metadata": {},
   "source": [
    "# Single Race"
   ]
  },
  {
   "cell_type": "code",
   "execution_count": 34,
   "id": "9730c7e1",
   "metadata": {},
   "outputs": [
    {
     "name": "stdout",
     "output_type": "stream",
     "text": [
      "Loading session: 2024 Monaco Grand Prix R\n",
      "Loading from cache: f1_cache/2024_Monaco_Grand_Prix_R.pkl\n"
     ]
    },
    {
     "name": "stderr",
     "output_type": "stream",
     "text": [
      "2025-06-28 14:57:27,124 - f1_etl - INFO - Processing 1833280 total telemetry rows\n",
      "2025-06-28 14:57:27,126 - f1_etl - INFO - Grouping by: ['SessionId', 'Driver']\n",
      "2025-06-28 14:57:35,755 - f1_etl - INFO - Total sequences generated: 36640\n",
      "2025-06-28 14:57:35,915 - f1_etl - INFO - Generated 36640 sequences with shape (36640, 100, 9)\n",
      "2025-06-28 14:57:35,943 - f1_etl - INFO - No missing values detected, skipping imputation\n"
     ]
    },
    {
     "name": "stdout",
     "output_type": "stream",
     "text": [
      "Generated 36640 sequences\n",
      "Features: ['Speed', 'RPM', 'nGear', 'Throttle', 'Brake', 'X', 'Y', 'Distance', 'DifferentialDistance']\n",
      "Class distribution: {'green': np.int64(29900), 'red': np.int64(5780), 'safety_car': np.int64(320), 'yellow': np.int64(640)}\n"
     ]
    }
   ],
   "source": [
    "### Basic Usage - Single Race\n",
    "\n",
    "# Define a single race session\n",
    "session = SessionConfig(\n",
    "    year=2024,\n",
    "    race=\"Monaco Grand Prix\",\n",
    "    session_type=\"R\"  # Race\n",
    ")\n",
    "\n",
    "# Configure the dataset\n",
    "config = DataConfig(\n",
    "    sessions=[session],\n",
    "    cache_dir=\"./f1_cache\"\n",
    ")\n",
    "\n",
    "# Generate the dataset\n",
    "dataset = create_safety_car_dataset(\n",
    "    config=config,\n",
    "    window_size=100,\n",
    "    prediction_horizon=10\n",
    ")\n",
    "\n",
    "print(f\"Generated {dataset['config']['n_sequences']} sequences\")\n",
    "print(f\"Features: {dataset['config']['feature_names']}\")\n",
    "print(f\"Class distribution: {dataset['class_distribution']}\")"
   ]
  },
  {
   "cell_type": "code",
   "execution_count": 36,
   "id": "998e69d4",
   "metadata": {},
   "outputs": [
    {
     "name": "stdout",
     "output_type": "stream",
     "text": [
      "=== COMPREHENSIVE CONTAMINATION CHECK ===\n",
      "\n",
      "Feature names: ['Speed', 'RPM', 'nGear', 'Throttle', 'Brake', 'X', 'Y', 'Distance', 'DifferentialDistance']\n",
      "\n",
      "1. Checking session boundary crossings...\n",
      "=== SESSION BOUNDARY CROSSING ANALYSIS ===\n",
      "\n",
      "Total sequences: 36640\n",
      "Session transitions in sequence order: 0\n",
      "All sequences come from the same session - unexpected for multi-session data!\n",
      "\n",
      "2. Checking for feature discontinuities...\n",
      "=== WINDOW CONTAMINATION ANALYSIS BY FEATURES ===\n",
      "\n",
      "Analyzing 36640 sequences...\n",
      "Feature indices - Speed: 0, Distance: 7\n",
      "\n",
      "✅ No obvious window contamination detected\n",
      "All sequences show realistic feature continuity\n",
      "\n",
      "=== SUMMARY ===\n",
      "✅ NO CONTAMINATION DETECTED\n",
      "Clean session boundaries and feature continuity\n"
     ]
    },
    {
     "data": {
      "text/plain": [
       "False"
      ]
     },
     "execution_count": 36,
     "metadata": {},
     "output_type": "execute_result"
    }
   ],
   "source": [
    "X = dataset['X']\n",
    "y = dataset['y']\n",
    "metadata = dataset['metadata']\n",
    "\n",
    "comprehensive_contamination_check(X, metadata)"
   ]
  },
  {
   "cell_type": "code",
   "execution_count": 37,
   "id": "70d9d7be",
   "metadata": {},
   "outputs": [],
   "source": [
    "# Split data for training with stratification\n",
    "X_train, X_test, y_train, y_test = train_test_split(\n",
    "    X, y, test_size=0.2, random_state=42, stratify=y\n",
    ")"
   ]
  },
  {
   "cell_type": "code",
   "execution_count": 38,
   "id": "c3e0997c",
   "metadata": {},
   "outputs": [],
   "source": [
    "from aeon.classification.feature_based import Catch22Classifier\n",
    "from sklearn.ensemble import RandomForestClassifier\n",
    "from sklearn.metrics import classification_report, accuracy_score\n",
    "\n",
    "# Use Speed (index 0) - likely most predictive for safety car events\n",
    "X_train_speed = X_train[:, :, 0:1]  # Keep as 3D with single channel\n",
    "X_test_speed = X_test[:, :, 0:1]"
   ]
  },
  {
   "cell_type": "code",
   "execution_count": 28,
   "id": "803f8fe2",
   "metadata": {},
   "outputs": [
    {
     "ename": "ZeroDivisionError",
     "evalue": "division by zero",
     "output_type": "error",
     "traceback": [
      "\u001b[31m---------------------------------------------------------------------------\u001b[39m",
      "\u001b[31mZeroDivisionError\u001b[39m                         Traceback (most recent call last)",
      "\u001b[36mCell\u001b[39m\u001b[36m \u001b[39m\u001b[32mIn[28]\u001b[39m\u001b[32m, line 7\u001b[39m\n\u001b[32m      1\u001b[39m clf = Catch22Classifier(\n\u001b[32m      2\u001b[39m     estimator=RandomForestClassifier(n_estimators=\u001b[32m100\u001b[39m, random_state=\u001b[32m42\u001b[39m),\n\u001b[32m      3\u001b[39m     outlier_norm=\u001b[38;5;28;01mTrue\u001b[39;00m,\n\u001b[32m      4\u001b[39m     random_state=\u001b[32m42\u001b[39m,\n\u001b[32m      5\u001b[39m )\n\u001b[32m----> \u001b[39m\u001b[32m7\u001b[39m \u001b[43mclf\u001b[49m\u001b[43m.\u001b[49m\u001b[43mfit\u001b[49m\u001b[43m(\u001b[49m\u001b[43mX_train_speed\u001b[49m\u001b[43m,\u001b[49m\u001b[43m \u001b[49m\u001b[43my_train\u001b[49m\u001b[43m)\u001b[49m\n\u001b[32m      8\u001b[39m y_pred = clf.predict(X_test_speed)\n\u001b[32m     10\u001b[39m \u001b[38;5;28mprint\u001b[39m(\u001b[33mf\u001b[39m\u001b[33m\"\u001b[39m\u001b[33mAccuracy: \u001b[39m\u001b[38;5;132;01m{\u001b[39;00maccuracy_score(y_test,\u001b[38;5;250m \u001b[39my_pred)\u001b[38;5;132;01m:\u001b[39;00m\u001b[33m.4f\u001b[39m\u001b[38;5;132;01m}\u001b[39;00m\u001b[33m\"\u001b[39m)\n",
      "\u001b[36mFile \u001b[39m\u001b[32m~/Documents/Development/mids/capstone/datasci-210-2025-summer-formula1/sean/notebooks/.venv/lib/python3.11/site-packages/aeon/classification/base.py:114\u001b[39m, in \u001b[36mBaseClassifier.fit\u001b[39m\u001b[34m(self, X, y)\u001b[39m\n\u001b[32m    111\u001b[39m X, y, single_class = \u001b[38;5;28mself\u001b[39m._fit_setup(X, y)\n\u001b[32m    113\u001b[39m \u001b[38;5;28;01mif\u001b[39;00m \u001b[38;5;129;01mnot\u001b[39;00m single_class:\n\u001b[32m--> \u001b[39m\u001b[32m114\u001b[39m     \u001b[38;5;28;43mself\u001b[39;49m\u001b[43m.\u001b[49m\u001b[43m_fit\u001b[49m\u001b[43m(\u001b[49m\u001b[43mX\u001b[49m\u001b[43m,\u001b[49m\u001b[43m \u001b[49m\u001b[43my\u001b[49m\u001b[43m)\u001b[49m\n\u001b[32m    116\u001b[39m \u001b[38;5;66;03m# this should happen last\u001b[39;00m\n\u001b[32m    117\u001b[39m \u001b[38;5;28mself\u001b[39m.is_fitted = \u001b[38;5;28;01mTrue\u001b[39;00m\n",
      "\u001b[36mFile \u001b[39m\u001b[32m~/Documents/Development/mids/capstone/datasci-210-2025-summer-formula1/sean/notebooks/.venv/lib/python3.11/site-packages/aeon/classification/feature_based/_catch22.py:205\u001b[39m, in \u001b[36mCatch22Classifier._fit\u001b[39m\u001b[34m(self, X, y)\u001b[39m\n\u001b[32m    202\u001b[39m \u001b[38;5;28;01mif\u001b[39;00m m \u001b[38;5;129;01mis\u001b[39;00m \u001b[38;5;129;01mnot\u001b[39;00m \u001b[38;5;28;01mNone\u001b[39;00m:\n\u001b[32m    203\u001b[39m     \u001b[38;5;28mself\u001b[39m.estimator_.n_jobs = \u001b[38;5;28mself\u001b[39m._n_jobs\n\u001b[32m--> \u001b[39m\u001b[32m205\u001b[39m X_t = \u001b[38;5;28;43mself\u001b[39;49m\u001b[43m.\u001b[49m\u001b[43m_transformer\u001b[49m\u001b[43m.\u001b[49m\u001b[43mfit_transform\u001b[49m\u001b[43m(\u001b[49m\u001b[43mX\u001b[49m\u001b[43m,\u001b[49m\u001b[43m \u001b[49m\u001b[43my\u001b[49m\u001b[43m)\u001b[49m\n\u001b[32m    206\u001b[39m \u001b[38;5;28mself\u001b[39m.estimator_.fit(X_t, y)\n\u001b[32m    208\u001b[39m \u001b[38;5;28;01mreturn\u001b[39;00m \u001b[38;5;28mself\u001b[39m\n",
      "\u001b[36mFile \u001b[39m\u001b[32m~/Documents/Development/mids/capstone/datasci-210-2025-summer-formula1/sean/notebooks/.venv/lib/python3.11/site-packages/aeon/transformations/collection/base.py:199\u001b[39m, in \u001b[36mBaseCollectionTransformer.fit_transform\u001b[39m\u001b[34m(self, X, y)\u001b[39m\n\u001b[32m    197\u001b[39m X_inner = \u001b[38;5;28mself\u001b[39m._preprocess_collection(X)\n\u001b[32m    198\u001b[39m y_inner = y\n\u001b[32m--> \u001b[39m\u001b[32m199\u001b[39m Xt = \u001b[38;5;28;43mself\u001b[39;49m\u001b[43m.\u001b[49m\u001b[43m_fit_transform\u001b[49m\u001b[43m(\u001b[49m\u001b[43mX\u001b[49m\u001b[43m=\u001b[49m\u001b[43mX_inner\u001b[49m\u001b[43m,\u001b[49m\u001b[43m \u001b[49m\u001b[43my\u001b[49m\u001b[43m=\u001b[49m\u001b[43my_inner\u001b[49m\u001b[43m)\u001b[49m\n\u001b[32m    201\u001b[39m \u001b[38;5;28mself\u001b[39m.is_fitted = \u001b[38;5;28;01mTrue\u001b[39;00m\n\u001b[32m    203\u001b[39m \u001b[38;5;28;01mreturn\u001b[39;00m Xt\n",
      "\u001b[36mFile \u001b[39m\u001b[32m~/Documents/Development/mids/capstone/datasci-210-2025-summer-formula1/sean/notebooks/.venv/lib/python3.11/site-packages/aeon/transformations/collection/base.py:322\u001b[39m, in \u001b[36mBaseCollectionTransformer._fit_transform\u001b[39m\u001b[34m(self, X, y)\u001b[39m\n\u001b[32m    319\u001b[39m \u001b[38;5;66;03m# Non-optimized default implementation; override when a better\u001b[39;00m\n\u001b[32m    320\u001b[39m \u001b[38;5;66;03m# method is possible for a given algorithm.\u001b[39;00m\n\u001b[32m    321\u001b[39m \u001b[38;5;28mself\u001b[39m._fit(X, y)\n\u001b[32m--> \u001b[39m\u001b[32m322\u001b[39m \u001b[38;5;28;01mreturn\u001b[39;00m \u001b[38;5;28;43mself\u001b[39;49m\u001b[43m.\u001b[49m\u001b[43m_transform\u001b[49m\u001b[43m(\u001b[49m\u001b[43mX\u001b[49m\u001b[43m,\u001b[49m\u001b[43m \u001b[49m\u001b[43my\u001b[49m\u001b[43m)\u001b[49m\n",
      "\u001b[36mFile \u001b[39m\u001b[32m~/Documents/Development/mids/capstone/datasci-210-2025-summer-formula1/sean/notebooks/.venv/lib/python3.11/site-packages/aeon/transformations/collection/feature_based/_catch22.py:291\u001b[39m, in \u001b[36mCatch22._transform\u001b[39m\u001b[34m(self, X, y)\u001b[39m\n\u001b[32m    284\u001b[39m     \u001b[38;5;28;01melse\u001b[39;00m:\n\u001b[32m    285\u001b[39m         warnings.warn(\n\u001b[32m    286\u001b[39m             \u001b[33m\"\u001b[39m\u001b[33mpycatch22 not installed, but \u001b[39m\u001b[33m'\u001b[39m\u001b[33mself.use_pycatch22\u001b[39m\u001b[33m'\u001b[39m\u001b[33m is set to True.\u001b[39m\u001b[33m\"\u001b[39m\n\u001b[32m    287\u001b[39m             \u001b[33m\"\u001b[39m\u001b[33mPlease install pycatch22. Aeon catch22 will be used.\u001b[39m\u001b[33m\"\u001b[39m,\n\u001b[32m    288\u001b[39m             stacklevel=\u001b[32m2\u001b[39m,\n\u001b[32m    289\u001b[39m         )\n\u001b[32m--> \u001b[39m\u001b[32m291\u001b[39m c22_list = \u001b[43mParallel\u001b[49m\u001b[43m(\u001b[49m\n\u001b[32m    292\u001b[39m \u001b[43m    \u001b[49m\u001b[43mn_jobs\u001b[49m\u001b[43m=\u001b[49m\u001b[43mthreads_to_use\u001b[49m\u001b[43m,\u001b[49m\u001b[43m \u001b[49m\u001b[43mbackend\u001b[49m\u001b[43m=\u001b[49m\u001b[38;5;28;43mself\u001b[39;49m\u001b[43m.\u001b[49m\u001b[43mparallel_backend\u001b[49m\u001b[43m,\u001b[49m\u001b[43m \u001b[49m\u001b[43mprefer\u001b[49m\u001b[43m=\u001b[49m\u001b[33;43m\"\u001b[39;49m\u001b[33;43mthreads\u001b[39;49m\u001b[33;43m\"\u001b[39;49m\n\u001b[32m    293\u001b[39m \u001b[43m\u001b[49m\u001b[43m)\u001b[49m\u001b[43m(\u001b[49m\n\u001b[32m    294\u001b[39m \u001b[43m    \u001b[49m\u001b[43mdelayed\u001b[49m\u001b[43m(\u001b[49m\n\u001b[32m    295\u001b[39m \u001b[43m        \u001b[49m\u001b[38;5;28;43mself\u001b[39;49m\u001b[43m.\u001b[49m\u001b[43m_transform_case_pycatch22\u001b[49m\n\u001b[32m    296\u001b[39m \u001b[43m        \u001b[49m\u001b[38;5;28;43;01mif\u001b[39;49;00m\u001b[43m \u001b[49m\u001b[43muse_pycatch22_transform\u001b[49m\n\u001b[32m    297\u001b[39m \u001b[43m        \u001b[49m\u001b[38;5;28;43;01melse\u001b[39;49;00m\u001b[43m \u001b[49m\u001b[38;5;28;43mself\u001b[39;49m\u001b[43m.\u001b[49m\u001b[43m_transform_case\u001b[49m\n\u001b[32m    298\u001b[39m \u001b[43m    \u001b[49m\u001b[43m)\u001b[49m\u001b[43m(\u001b[49m\n\u001b[32m    299\u001b[39m \u001b[43m        \u001b[49m\u001b[43mX\u001b[49m\u001b[43m[\u001b[49m\u001b[43mi\u001b[49m\u001b[43m]\u001b[49m\u001b[43m,\u001b[49m\n\u001b[32m    300\u001b[39m \u001b[43m        \u001b[49m\u001b[43mf_idx\u001b[49m\u001b[43m,\u001b[49m\n\u001b[32m    301\u001b[39m \u001b[43m        \u001b[49m\u001b[43mfeatures\u001b[49m\u001b[43m,\u001b[49m\n\u001b[32m    302\u001b[39m \u001b[43m    \u001b[49m\u001b[43m)\u001b[49m\n\u001b[32m    303\u001b[39m \u001b[43m    \u001b[49m\u001b[38;5;28;43;01mfor\u001b[39;49;00m\u001b[43m \u001b[49m\u001b[43mi\u001b[49m\u001b[43m \u001b[49m\u001b[38;5;129;43;01min\u001b[39;49;00m\u001b[43m \u001b[49m\u001b[38;5;28;43mrange\u001b[39;49m\u001b[43m(\u001b[49m\u001b[43mn_cases\u001b[49m\u001b[43m)\u001b[49m\n\u001b[32m    304\u001b[39m \u001b[43m\u001b[49m\u001b[43m)\u001b[49m\n\u001b[32m    306\u001b[39m c22_array = np.array(c22_list)\n\u001b[32m    307\u001b[39m \u001b[38;5;28;01mif\u001b[39;00m \u001b[38;5;28mself\u001b[39m.replace_nans:\n",
      "\u001b[36mFile \u001b[39m\u001b[32m~/Documents/Development/mids/capstone/datasci-210-2025-summer-formula1/sean/notebooks/.venv/lib/python3.11/site-packages/joblib/parallel.py:1986\u001b[39m, in \u001b[36mParallel.__call__\u001b[39m\u001b[34m(self, iterable)\u001b[39m\n\u001b[32m   1984\u001b[39m     output = \u001b[38;5;28mself\u001b[39m._get_sequential_output(iterable)\n\u001b[32m   1985\u001b[39m     \u001b[38;5;28mnext\u001b[39m(output)\n\u001b[32m-> \u001b[39m\u001b[32m1986\u001b[39m     \u001b[38;5;28;01mreturn\u001b[39;00m output \u001b[38;5;28;01mif\u001b[39;00m \u001b[38;5;28mself\u001b[39m.return_generator \u001b[38;5;28;01melse\u001b[39;00m \u001b[38;5;28;43mlist\u001b[39;49m\u001b[43m(\u001b[49m\u001b[43moutput\u001b[49m\u001b[43m)\u001b[49m\n\u001b[32m   1988\u001b[39m \u001b[38;5;66;03m# Let's create an ID that uniquely identifies the current call. If the\u001b[39;00m\n\u001b[32m   1989\u001b[39m \u001b[38;5;66;03m# call is interrupted early and that the same instance is immediately\u001b[39;00m\n\u001b[32m   1990\u001b[39m \u001b[38;5;66;03m# reused, this id will be used to prevent workers that were\u001b[39;00m\n\u001b[32m   1991\u001b[39m \u001b[38;5;66;03m# concurrently finalizing a task from the previous call to run the\u001b[39;00m\n\u001b[32m   1992\u001b[39m \u001b[38;5;66;03m# callback.\u001b[39;00m\n\u001b[32m   1993\u001b[39m \u001b[38;5;28;01mwith\u001b[39;00m \u001b[38;5;28mself\u001b[39m._lock:\n",
      "\u001b[36mFile \u001b[39m\u001b[32m~/Documents/Development/mids/capstone/datasci-210-2025-summer-formula1/sean/notebooks/.venv/lib/python3.11/site-packages/joblib/parallel.py:1914\u001b[39m, in \u001b[36mParallel._get_sequential_output\u001b[39m\u001b[34m(self, iterable)\u001b[39m\n\u001b[32m   1912\u001b[39m \u001b[38;5;28mself\u001b[39m.n_dispatched_batches += \u001b[32m1\u001b[39m\n\u001b[32m   1913\u001b[39m \u001b[38;5;28mself\u001b[39m.n_dispatched_tasks += \u001b[32m1\u001b[39m\n\u001b[32m-> \u001b[39m\u001b[32m1914\u001b[39m res = \u001b[43mfunc\u001b[49m\u001b[43m(\u001b[49m\u001b[43m*\u001b[49m\u001b[43margs\u001b[49m\u001b[43m,\u001b[49m\u001b[43m \u001b[49m\u001b[43m*\u001b[49m\u001b[43m*\u001b[49m\u001b[43mkwargs\u001b[49m\u001b[43m)\u001b[49m\n\u001b[32m   1915\u001b[39m \u001b[38;5;28mself\u001b[39m.n_completed_tasks += \u001b[32m1\u001b[39m\n\u001b[32m   1916\u001b[39m \u001b[38;5;28mself\u001b[39m.print_progress()\n",
      "\u001b[36mFile \u001b[39m\u001b[32m~/Documents/Development/mids/capstone/datasci-210-2025-summer-formula1/sean/notebooks/.venv/lib/python3.11/site-packages/aeon/transformations/collection/feature_based/_catch22.py:383\u001b[39m, in \u001b[36mCatch22._transform_case\u001b[39m\u001b[34m(self, X, f_idx, features)\u001b[39m\n\u001b[32m    381\u001b[39m             c22[dim + n] = np.std(series)\n\u001b[32m    382\u001b[39m         \u001b[38;5;28;01melse\u001b[39;00m:\n\u001b[32m--> \u001b[39m\u001b[32m383\u001b[39m             c22[dim + n] = \u001b[43mfeatures\u001b[49m\u001b[43m[\u001b[49m\u001b[43mfeature\u001b[49m\u001b[43m]\u001b[49m\u001b[43m(\u001b[49m\u001b[43m*\u001b[49m\u001b[43margs\u001b[49m\u001b[43m)\u001b[49m\n\u001b[32m    385\u001b[39m \u001b[38;5;28;01mreturn\u001b[39;00m c22\n",
      "\u001b[31mZeroDivisionError\u001b[39m: division by zero"
     ]
    }
   ],
   "source": [
    "clf = Catch22Classifier(\n",
    "    estimator=RandomForestClassifier(n_estimators=100, random_state=42),\n",
    "    outlier_norm=True,\n",
    "    random_state=42,\n",
    ")\n",
    "\n",
    "clf.fit(X_train_speed, y_train)\n",
    "y_pred = clf.predict(X_test_speed)\n",
    "\n",
    "print(f\"Accuracy: {accuracy_score(y_test, y_pred):.4f}\")\n",
    "print(\"\\nClassification Report:\")\n",
    "print(classification_report(y_test, y_pred))"
   ]
  },
  {
   "cell_type": "code",
   "execution_count": 39,
   "id": "b1bb430b",
   "metadata": {},
   "outputs": [
    {
     "name": "stdout",
     "output_type": "stream",
     "text": [
      "Mean: -0.0009362646183320195\n"
     ]
    },
    {
     "name": "stdout",
     "output_type": "stream",
     "text": [
      "Std: 0.999898969611483\n",
      "Min: -0.783916366570298\n",
      "Max: 2.739011115758356\n",
      "Median: -0.783916366570298\n",
      "Variance: 0.9997979494301054\n"
     ]
    }
   ],
   "source": [
    "import pandas as pd\n",
    "\n",
    "print(\"Mean:\", np.mean(X_train_speed))\n",
    "print(\"Std:\", np.std(X_train_speed))\n",
    "print(\"Min:\", np.min(X_train_speed))\n",
    "print(\"Max:\", np.max(X_train_speed))\n",
    "print(\"Median:\", np.median(X_train_speed))\n",
    "print(\"Variance:\", np.var(X_train_speed))"
   ]
  },
  {
   "cell_type": "code",
   "execution_count": 40,
   "id": "af51b590",
   "metadata": {},
   "outputs": [
    {
     "name": "stdout",
     "output_type": "stream",
     "text": [
      "=== SPEED DATA DIAGNOSTICS ===\n",
      "Shape: (36640, 100)\n",
      "Overall min/max: -0.783916 / 2.739011\n",
      "Constant sequences: 18937\n",
      "Near-constant sequences (std < 1e-6): 4\n",
      "\n",
      "First constant sequence (index 0):\n",
      "[-0.78391637 -0.78391637 -0.78391637 -0.78391637 -0.78391637 -0.78391637\n",
      " -0.78391637 -0.78391637 -0.78391637 -0.78391637]\n",
      "\n",
      "Valid sequences: 17699 out of 36640\n"
     ]
    }
   ],
   "source": [
    "# Check for problematic sequences\n",
    "X_speed = X[:, :, 0]  # Speed feature only\n",
    "\n",
    "print(\"=== SPEED DATA DIAGNOSTICS ===\")\n",
    "print(f\"Shape: {X_speed.shape}\")\n",
    "print(f\"Overall min/max: {X_speed.min():.6f} / {X_speed.max():.6f}\")\n",
    "\n",
    "# Check for constant sequences\n",
    "constant_sequences = []\n",
    "near_constant_sequences = []\n",
    "\n",
    "for i in range(X_speed.shape[0]):\n",
    "    seq = X_speed[i, :]\n",
    "    seq_std = np.std(seq)\n",
    "    seq_range = np.max(seq) - np.min(seq)\n",
    "    \n",
    "    if seq_std == 0:\n",
    "        constant_sequences.append(i)\n",
    "    elif seq_std < 1e-6:\n",
    "        near_constant_sequences.append(i)\n",
    "\n",
    "print(f\"Constant sequences: {len(constant_sequences)}\")\n",
    "print(f\"Near-constant sequences (std < 1e-6): {len(near_constant_sequences)}\")\n",
    "\n",
    "# Check a few examples\n",
    "if len(constant_sequences) > 0:\n",
    "    print(f\"\\nFirst constant sequence (index {constant_sequences[0]}):\")\n",
    "    print(X_speed[constant_sequences[0], :10])  # First 10 values\n",
    "\n",
    "# Filter out problematic sequences\n",
    "valid_indices = [i for i in range(X_speed.shape[0]) \n",
    "                if i not in constant_sequences and i not in near_constant_sequences]\n",
    "\n",
    "print(f\"\\nValid sequences: {len(valid_indices)} out of {X_speed.shape[0]}\")"
   ]
  },
  {
   "cell_type": "code",
   "execution_count": 41,
   "id": "245c0152",
   "metadata": {},
   "outputs": [
    {
     "name": "stdout",
     "output_type": "stream",
     "text": [
      "Raw Speed stats:\n",
      "  Min: 0.000\n",
      "  Max: 295.000\n",
      "  Mean: 65.626\n",
      "  Std: 83.719\n",
      "\n",
      "Zero speeds in raw data: 973410 (53.10%)\n",
      "\n",
      "Expected normalized value for 0 speed: -0.783888\n",
      "Actual constant value in sequences: -0.783916\n",
      "Match: False\n"
     ]
    }
   ],
   "source": [
    "raw_telemetry = dataset['raw_telemetry']\n",
    "speed_raw = raw_telemetry['Speed'].values\n",
    "\n",
    "print(f\"Raw Speed stats:\")\n",
    "print(f\"  Min: {speed_raw.min():.3f}\")\n",
    "print(f\"  Max: {speed_raw.max():.3f}\")\n",
    "print(f\"  Mean: {speed_raw.mean():.3f}\")\n",
    "print(f\"  Std: {speed_raw.std():.3f}\")\n",
    "\n",
    "# Check for zero/constant speeds in raw data\n",
    "zero_speeds = np.sum(speed_raw == 0)\n",
    "print(f\"\\nZero speeds in raw data: {zero_speeds} ({zero_speeds/len(speed_raw)*100:.2f}%)\")\n",
    "\n",
    "# Check if constant value maps to zero speed\n",
    "global_mean = speed_raw.mean()\n",
    "global_std = speed_raw.std()\n",
    "expected_normalized_zero = (0 - global_mean) / global_std\n",
    "print(f\"\\nExpected normalized value for 0 speed: {expected_normalized_zero:.6f}\")\n",
    "print(f\"Actual constant value in sequences: {-0.783916:.6f}\")\n",
    "print(f\"Match: {abs(expected_normalized_zero - (-0.783916)) < 1e-5}\")\n"
   ]
  },
  {
   "cell_type": "markdown",
   "id": "7601eeb8",
   "metadata": {},
   "source": [
    "The **division by zero error** occurs because Catch22 computes statistical features that involve dividing by standard deviation or other measures of variability. When a time series is constant (all values identical), these calculations fail:\n",
    "\n",
    "## Specific Catch22 Features That Fail:\n",
    "\n",
    "1. **Standard deviation-based features**: `std = 0` → division by zero\n",
    "2. **Coefficient of variation**: `mean/std` → `value/0` \n",
    "3. **Z-score calculations**: `(x - mean)/std` → `(x - value)/0`\n",
    "4. **Autocorrelation features**: Require variance for normalization\n",
    "5. **Distribution shape features**: Need variation to compute skewness/kurtosis\n",
    "\n",
    "## Example of What's Happening:\n",
    "```python\n",
    "# This is essentially what's in your constant sequences\n",
    "constant_sequence = np.full(100, -0.783916)  # All values identical\n",
    "\n",
    "# Catch22 tries to compute features like:\n",
    "std = np.std(constant_sequence)  # = 0.0\n",
    "coeff_var = np.mean(constant_sequence) / std  # = -0.783916 / 0.0 → ZeroDivisionError\n",
    "\n",
    "# Or autocorrelation normalization:\n",
    "normalized = (constant_sequence - np.mean(constant_sequence)) / std  # → division by 0\n",
    "```\n",
    "\n",
    "## Why This Matters for F1 Data:\n",
    "- **18,937 out of 36,640 sequences** are constant (cars not moving)\n",
    "- These represent valid F1 states (pit stops, grid formation, etc.)\n",
    "- But they're **mathematically degenerate** for time series feature extraction\n",
    "\n",
    "## Solutions:\n",
    "1. **Filter them out** (lose stationary periods but gain usable features)\n",
    "2. **Use different features** (RPM/Throttle might have variation even when speed = 0)\n",
    "3. **Switch algorithms** (use classifiers that handle constant sequences, like ROCKET)\n",
    "\n",
    "The fundamental issue: **Catch22 assumes time series have temporal variation**. Constant sequences violate this assumption and break the mathematical operations inside the feature extraction."
   ]
  },
  {
   "cell_type": "markdown",
   "id": "fc23779c",
   "metadata": {},
   "source": [
    "# Take 2\n",
    "\n",
    "Released `f1-etl@v0.2.1` to enable modular composition of ETL steps."
   ]
  },
  {
   "cell_type": "code",
   "execution_count": 4,
   "id": "3c36a4da",
   "metadata": {},
   "outputs": [],
   "source": [
    "def create_catch22_dataset(config: DataConfig) -> Dict[str, Any]:\n",
    "   \"\"\"\n",
    "   Create dataset optimized for Catch22 classifier\n",
    "   - Disables missing value handling (Catch22 can handle internally)\n",
    "   - Uses per-sequence normalization to preserve variation\n",
    "   \"\"\"\n",
    "   return create_safety_car_dataset(\n",
    "       config=config,\n",
    "       window_size=100,\n",
    "       prediction_horizon=10,\n",
    "       handle_non_numeric=\"encode\",\n",
    "       handle_missing=False,  # Catch22 handles missing values internally\n",
    "       missing_strategy=\"forward_fill\",\n",
    "       normalize=True,\n",
    "       normalization_method=\"per_sequence\",\n",
    "       target_column=\"TrackStatus\",\n",
    "       enable_debug=False,\n",
    "   )"
   ]
  },
  {
   "cell_type": "code",
   "execution_count": 4,
   "id": "0b118a67",
   "metadata": {},
   "outputs": [
    {
     "name": "stdout",
     "output_type": "stream",
     "text": [
      "\u001b[2mUsing Python 3.11.11 environment at: /Users/seansica/Documents/Development/mids/capstone/datasci-210-2025-summer-formula1/sean/notebooks/.venv\u001b[0m\n",
      "f1-etl                  0.2.2\n",
      "fastf1                  3.5.3\n"
     ]
    }
   ],
   "source": [
    "!uv pip list | grep f1"
   ]
  },
  {
   "cell_type": "code",
   "execution_count": 9,
   "id": "ed9c3ed5",
   "metadata": {},
   "outputs": [
    {
     "name": "stderr",
     "output_type": "stream",
     "text": [
      "2025-06-28 16:00:34,332 - f1_etl - INFO - Preprocessing configuration:\n",
      "2025-06-28 16:00:34,334 - f1_etl - INFO -   Missing values: disabled (forward_fill)\n",
      "2025-06-28 16:00:34,334 - f1_etl - INFO -   Normalization: enabled (per_sequence)\n"
     ]
    },
    {
     "name": "stdout",
     "output_type": "stream",
     "text": [
      "Loading session: 2024 Monaco Grand Prix R\n",
      "Loading from cache: f1_cache/2024_Monaco_Grand_Prix_R.pkl\n"
     ]
    },
    {
     "name": "stderr",
     "output_type": "stream",
     "text": [
      "2025-06-28 16:00:39,673 - f1_etl - INFO - Processing 1833280 total telemetry rows\n",
      "2025-06-28 16:00:39,676 - f1_etl - INFO - Grouping by: ['SessionId', 'Driver']\n",
      "2025-06-28 16:00:47,730 - f1_etl - INFO - Total sequences generated: 36640\n",
      "2025-06-28 16:00:47,878 - f1_etl - INFO - Generated 36640 sequences with shape (36640, 100, 9)\n",
      "2025-06-28 16:00:47,878 - f1_etl - INFO - Missing value handling disabled\n",
      "2025-06-28 16:00:47,910 - f1_etl - INFO - Applying normalization with method: per_sequence\n"
     ]
    },
    {
     "name": "stdout",
     "output_type": "stream",
     "text": [
      "Generated 36640 sequences\n",
      "Features: ['Speed', 'RPM', 'nGear', 'Throttle', 'Brake', 'X', 'Y', 'Distance', 'DifferentialDistance']\n",
      "Class distribution: {'green': np.int64(29900), 'red': np.int64(5780), 'safety_car': np.int64(320), 'yellow': np.int64(640)}\n"
     ]
    }
   ],
   "source": [
    "### Basic Usage - Single Race\n",
    "\n",
    "# Define a single race session\n",
    "session = SessionConfig(\n",
    "    year=2024,\n",
    "    race=\"Monaco Grand Prix\",\n",
    "    session_type=\"R\"  # Race\n",
    ")\n",
    "\n",
    "# Configure the dataset\n",
    "config = DataConfig(\n",
    "    sessions=[session],\n",
    "    cache_dir=\"./f1_cache\"\n",
    ")\n",
    "\n",
    "# Generate the dataset\n",
    "# dataset = create_safety_car_dataset(\n",
    "#     config=config,\n",
    "#     window_size=100,\n",
    "#     prediction_horizon=10\n",
    "# )\n",
    "dataset = create_catch22_dataset(config=config)\n",
    "\n",
    "print(f\"Generated {dataset['config']['n_sequences']} sequences\")\n",
    "print(f\"Features: {dataset['config']['feature_names']}\")\n",
    "print(f\"Class distribution: {dataset['class_distribution']}\")"
   ]
  },
  {
   "cell_type": "code",
   "execution_count": 20,
   "id": "0f0a291f",
   "metadata": {},
   "outputs": [
    {
     "name": "stdout",
     "output_type": "stream",
     "text": [
      "=== COMPREHENSIVE CONTAMINATION CHECK ===\n",
      "\n",
      "Feature names: ['Speed', 'RPM', 'nGear', 'Throttle', 'Brake', 'X', 'Y', 'Distance', 'DifferentialDistance']\n",
      "\n",
      "1. Checking session boundary crossings...\n",
      "=== SESSION BOUNDARY CROSSING ANALYSIS ===\n",
      "\n",
      "Total sequences: 36640\n",
      "Session transitions in sequence order: 0\n",
      "All sequences come from the same session - unexpected for multi-session data!\n",
      "\n",
      "2. Checking for feature discontinuities...\n",
      "=== WINDOW CONTAMINATION ANALYSIS BY FEATURES ===\n",
      "\n",
      "Analyzing 36640 sequences...\n",
      "Feature indices - Speed: 0, Distance: 7\n",
      "\n",
      "✅ No obvious window contamination detected\n",
      "All sequences show realistic feature continuity\n",
      "\n",
      "=== SUMMARY ===\n",
      "✅ NO CONTAMINATION DETECTED\n",
      "Clean session boundaries and feature continuity\n"
     ]
    },
    {
     "data": {
      "text/plain": [
       "False"
      ]
     },
     "execution_count": 20,
     "metadata": {},
     "output_type": "execute_result"
    }
   ],
   "source": [
    "X = dataset['X']\n",
    "X_aeon = X.transpose(0, 2, 1)\n",
    "y = dataset['y']\n",
    "metadata = dataset['metadata']\n",
    "\n",
    "comprehensive_contamination_check(X_aeon, metadata)"
   ]
  },
  {
   "cell_type": "code",
   "execution_count": 26,
   "id": "2f0ec8d1",
   "metadata": {},
   "outputs": [
    {
     "data": {
      "text/plain": [
       "(36640, 9, 100)"
      ]
     },
     "execution_count": 26,
     "metadata": {},
     "output_type": "execute_result"
    }
   ],
   "source": [
    "X_aeon.shape"
   ]
  },
  {
   "cell_type": "code",
   "execution_count": null,
   "id": "2e611698",
   "metadata": {},
   "outputs": [],
   "source": [
    "# Split data for training with stratification\n",
    "X_train, X_test, y_train, y_test = train_test_split(\n",
    "    X_aeon, y, test_size=0.2, random_state=42, stratify=y\n",
    ")"
   ]
  },
  {
   "cell_type": "code",
   "execution_count": null,
   "id": "973067fa",
   "metadata": {},
   "outputs": [],
   "source": [
    "# Use Speed (index 0) - likely most predictive for safety car events\n",
    "X_train_speed = X_train[:, 0:1, :]  # Keep as 3D with single channel\n",
    "X_test_speed = X_test[:, 0:1, :]"
   ]
  },
  {
   "cell_type": "code",
   "execution_count": 28,
   "id": "5b8713f0",
   "metadata": {},
   "outputs": [
    {
     "name": "stdout",
     "output_type": "stream",
     "text": [
      "Accuracy: 0.8163\n",
      "\n",
      "Classification Report:\n",
      "              precision    recall  f1-score   support\n",
      "\n",
      "           0       0.82      1.00      0.90      5980\n",
      "           1       1.00      0.00      0.00      1156\n",
      "           2       0.00      0.00      0.00        64\n",
      "           3       0.00      0.00      0.00       128\n",
      "\n",
      "    accuracy                           0.82      7328\n",
      "   macro avg       0.45      0.25      0.23      7328\n",
      "weighted avg       0.82      0.82      0.73      7328\n",
      "\n"
     ]
    },
    {
     "name": "stderr",
     "output_type": "stream",
     "text": [
      "/Users/seansica/Documents/Development/mids/capstone/datasci-210-2025-summer-formula1/sean/notebooks/.venv/lib/python3.11/site-packages/sklearn/metrics/_classification.py:1706: UndefinedMetricWarning: Precision is ill-defined and being set to 0.0 in labels with no predicted samples. Use `zero_division` parameter to control this behavior.\n",
      "  _warn_prf(average, modifier, f\"{metric.capitalize()} is\", result.shape[0])\n",
      "/Users/seansica/Documents/Development/mids/capstone/datasci-210-2025-summer-formula1/sean/notebooks/.venv/lib/python3.11/site-packages/sklearn/metrics/_classification.py:1706: UndefinedMetricWarning: Precision is ill-defined and being set to 0.0 in labels with no predicted samples. Use `zero_division` parameter to control this behavior.\n",
      "  _warn_prf(average, modifier, f\"{metric.capitalize()} is\", result.shape[0])\n",
      "/Users/seansica/Documents/Development/mids/capstone/datasci-210-2025-summer-formula1/sean/notebooks/.venv/lib/python3.11/site-packages/sklearn/metrics/_classification.py:1706: UndefinedMetricWarning: Precision is ill-defined and being set to 0.0 in labels with no predicted samples. Use `zero_division` parameter to control this behavior.\n",
      "  _warn_prf(average, modifier, f\"{metric.capitalize()} is\", result.shape[0])\n"
     ]
    }
   ],
   "source": [
    "clf = Catch22Classifier(\n",
    "    estimator=RandomForestClassifier(n_estimators=100, random_state=42),\n",
    "    outlier_norm=True,\n",
    "    random_state=42,\n",
    ")\n",
    "\n",
    "clf.fit(X_train_speed, y_train)\n",
    "y_pred = clf.predict(X_test_speed)\n",
    "\n",
    "print(f\"Accuracy: {accuracy_score(y_test, y_pred):.4f}\")\n",
    "print(\"\\nClassification Report:\")\n",
    "print(classification_report(y_test, y_pred))"
   ]
  },
  {
   "cell_type": "code",
   "execution_count": 29,
   "id": "276cf0bb",
   "metadata": {},
   "outputs": [
    {
     "name": "stdout",
     "output_type": "stream",
     "text": [
      "=== CURRENT TEST SET EVALUATION ===\n"
     ]
    },
    {
     "data": {
      "image/png": "[encoded data removed]",
      "text/plain": [
       "<Figure size 800x600 with 2 Axes>"
      ]
     },
     "metadata": {},
     "output_type": "display_data"
    },
    {
     "name": "stdout",
     "output_type": "stream",
     "text": [
      "\n",
      "Confusion Matrix:\n",
      "[[5980    0    0    0]\n",
      " [1154    2    0    0]\n",
      " [  64    0    0    0]\n",
      " [ 128    0    0    0]]\n",
      "\n",
      "Class distribution in test set:\n",
      "  green: 5980 samples (81.6%)\n",
      "  red: 1156 samples (15.8%)\n",
      "  safety_car: 64 samples (0.9%)\n",
      "  yellow: 128 samples (1.7%)\n",
      "\n",
      "Predictions distribution:\n",
      "  green: 7326 predictions (100.0%)\n",
      "  red: 2 predictions (0.0%)\n",
      "  safety_car: 0 predictions (0.0%)\n",
      "  yellow: 0 predictions (0.0%)\n"
     ]
    }
   ],
   "source": [
    "from sklearn.metrics import confusion_matrix, classification_report\n",
    "import matplotlib.pyplot as plt\n",
    "import seaborn as sns\n",
    "\n",
    "# Confusion Matrix for current test set\n",
    "def plot_confusion_matrix(y_true, y_pred, class_names, title=\"Confusion Matrix\"):\n",
    "    cm = confusion_matrix(y_true, y_pred)\n",
    "    \n",
    "    plt.figure(figsize=(8, 6))\n",
    "    sns.heatmap(cm, annot=True, fmt='d', cmap='Blues', \n",
    "                xticklabels=class_names, yticklabels=class_names)\n",
    "    plt.title(title)\n",
    "    plt.ylabel('True Label')\n",
    "    plt.xlabel('Predicted Label')\n",
    "    plt.show()\n",
    "    \n",
    "    return cm\n",
    "\n",
    "# Get class names from label encoder\n",
    "label_encoder = dataset['label_encoder']\n",
    "class_names = ['green', 'red', 'safety_car', 'yellow']  # Based on your earlier output\n",
    "\n",
    "print(\"=== CURRENT TEST SET EVALUATION ===\")\n",
    "cm = plot_confusion_matrix(y_test, y_pred, class_names, \"Monaco GP - Current Split\")\n",
    "\n",
    "# Print detailed analysis\n",
    "print(f\"\\nConfusion Matrix:\")\n",
    "print(cm)\n",
    "print(f\"\\nClass distribution in test set:\")\n",
    "for i, name in enumerate(class_names):\n",
    "    count = np.sum(y_test == i)\n",
    "    print(f\"  {name}: {count} samples ({count/len(y_test)*100:.1f}%)\")\n",
    "\n",
    "print(f\"\\nPredictions distribution:\")\n",
    "for i, name in enumerate(class_names):\n",
    "    count = np.sum(y_pred == i)\n",
    "    print(f\"  {name}: {count} predictions ({count/len(y_pred)*100:.1f}%)\")"
   ]
  },
  {
   "cell_type": "code",
   "execution_count": 30,
   "id": "b7f5607a",
   "metadata": {},
   "outputs": [
    {
     "name": "stderr",
     "output_type": "stream",
     "text": [
      "2025-06-28 16:14:24,300 - f1_etl - INFO - Preprocessing configuration:\n",
      "2025-06-28 16:14:24,302 - f1_etl - INFO -   Missing values: disabled (forward_fill)\n",
      "2025-06-28 16:14:24,302 - f1_etl - INFO -   Normalization: enabled (per_sequence)\n",
      "req         WARNING \tDEFAULT CACHE ENABLED! (2.5 GB) /Users/seansica/Library/Caches/fastf1\n"
     ]
    },
    {
     "name": "stdout",
     "output_type": "stream",
     "text": [
      "Loading session: 2024 Spanish Grand Prix R\n"
     ]
    },
    {
     "name": "stderr",
     "output_type": "stream",
     "text": [
      "core           INFO \tLoading data for Spanish Grand Prix - Race [v3.5.3]\n",
      "req            INFO \tUsing cached data for session_info\n",
      "req            INFO \tUsing cached data for driver_info\n",
      "req            INFO \tUsing cached data for session_status_data\n",
      "req            INFO \tUsing cached data for lap_count\n",
      "req            INFO \tUsing cached data for track_status_data\n",
      "req            INFO \tUsing cached data for _extended_timing_data\n",
      "req            INFO \tUsing cached data for timing_app_data\n",
      "core           INFO \tProcessing timing data...\n",
      "req            INFO \tUsing cached data for car_data\n",
      "req            INFO \tUsing cached data for position_data\n",
      "req            INFO \tUsing cached data for weather_data\n",
      "req            INFO \tUsing cached data for race_control_messages\n",
      "core        WARNING \tDriver 1 completed the race distance 00:00.015000 before the recorded end of the session.\n",
      "core           INFO \tFinished loading data for 20 drivers: ['1', '4', '44', '63', '16', '55', '81', '11', '10', '31', '27', '14', '24', '18', '3', '77', '20', '23', '22', '2']\n",
      "2025-06-28 16:19:31,176 - f1_etl - INFO - Processing 1389060 total telemetry rows\n",
      "2025-06-28 16:19:31,178 - f1_etl - INFO - Grouping by: ['SessionId', 'Driver']\n",
      "2025-06-28 16:19:37,344 - f1_etl - INFO - Total sequences generated: 27740\n",
      "2025-06-28 16:19:37,584 - f1_etl - INFO - Generated 27740 sequences with shape (27740, 100, 9)\n",
      "2025-06-28 16:19:37,585 - f1_etl - INFO - Missing value handling disabled\n",
      "2025-06-28 16:19:37,609 - f1_etl - INFO - Applying normalization with method: per_sequence\n"
     ]
    },
    {
     "name": "stdout",
     "output_type": "stream",
     "text": [
      "Validation dataset shape: (27740, 9, 100)\n",
      "Validation class distribution: {'green': np.int64(26100), 'yellow': np.int64(1640)}\n",
      "\n",
      "Cross-race validation accuracy: 0.9401\n",
      "\n",
      "Cross-race Classification Report:\n",
      "Error loading validation race: Number of classes, 2, does not match size of target_names, 4. Try specifying the labels parameter\n",
      "Try a different race or check available data\n",
      "\n",
      "=== BASELINE COMPARISON ===\n",
      "Majority class baseline accuracy: 0.8160\n",
      "Your model vs baseline:\n",
      "  Catch22: 0.8163\n",
      "  Baseline: 0.8160\n",
      "  Improvement: 0.0003\n"
     ]
    }
   ],
   "source": [
    "different_race_config = DataConfig(\n",
    "    sessions=[SessionConfig(\n",
    "        year=2024,\n",
    "        race=\"Spanish Grand Prix\",  # Different race\n",
    "        session_type=\"R\"\n",
    "    )],\n",
    "    cache_dir=\"./f1_cache\"\n",
    ")\n",
    "\n",
    "try:\n",
    "    # Generate dataset for different race\n",
    "    dataset_validation = create_catch22_dataset(\n",
    "        config=different_race_config,\n",
    "        window_size=100,\n",
    "        prediction_horizon=10\n",
    "    )\n",
    "    \n",
    "    X_val = dataset_validation['X'].transpose(0, 2, 1)  # Transpose for Aeon format\n",
    "    y_val = dataset_validation['y']\n",
    "    \n",
    "    print(f\"Validation dataset shape: {X_val.shape}\")\n",
    "    print(f\"Validation class distribution: {dataset_validation['class_distribution']}\")\n",
    "    \n",
    "    # Extract speed feature for validation\n",
    "    X_val_speed = X_val[:, 0:1, :]\n",
    "    \n",
    "    # Predict on different race\n",
    "    y_val_pred = clf.predict(X_val_speed)\n",
    "    \n",
    "    print(f\"\\nCross-race validation accuracy: {accuracy_score(y_val, y_val_pred):.4f}\")\n",
    "    print(\"\\nCross-race Classification Report:\")\n",
    "    print(classification_report(y_val, y_val_pred, target_names=class_names))\n",
    "    \n",
    "    # Plot confusion matrix for validation\n",
    "    cm_val = plot_confusion_matrix(y_val, y_val_pred, class_names, \"Spanish GP - Cross-Race Validation\")\n",
    "    \n",
    "except Exception as e:\n",
    "    print(f\"Error loading validation race: {e}\")\n",
    "    print(\"Try a different race or check available data\")\n",
    "\n",
    "# 3. Check if model is just predicting majority class\n",
    "print(\"\\n=== BASELINE COMPARISON ===\")\n",
    "from sklearn.dummy import DummyClassifier\n",
    "\n",
    "# Majority class baseline\n",
    "dummy = DummyClassifier(strategy='most_frequent')\n",
    "dummy.fit(X_train_speed, y_train)\n",
    "y_dummy = dummy.predict(X_test_speed)\n",
    "\n",
    "print(f\"Majority class baseline accuracy: {accuracy_score(y_test, y_dummy):.4f}\")\n",
    "print(\"Your model vs baseline:\")\n",
    "print(f\"  Catch22: {accuracy_score(y_test, y_pred):.4f}\")\n",
    "print(f\"  Baseline: {accuracy_score(y_test, y_dummy):.4f}\")\n",
    "print(f\"  Improvement: {accuracy_score(y_test, y_pred) - accuracy_score(y_test, y_dummy):.4f}\")"
   ]
  },
  {
   "cell_type": "code",
   "execution_count": 31,
   "id": "f2ebfdc0",
   "metadata": {},
   "outputs": [
    {
     "name": "stdout",
     "output_type": "stream",
     "text": [
      "=== MONACO GP EVALUATION ===\n",
      "\n",
      "=== Monaco GP ===\n"
     ]
    },
    {
     "data": {
      "image/png": "[encoded data removed]",
      "text/plain": [
       "<Figure size 800x600 with 2 Axes>"
      ]
     },
     "metadata": {},
     "output_type": "display_data"
    },
    {
     "name": "stdout",
     "output_type": "stream",
     "text": [
      "Accuracy: 0.8163\n",
      "F1-Score (Macro): 0.2256\n",
      "F1-Score (Micro): 0.8163\n",
      "F1-Score (Weighted): 0.7340\n",
      "\n",
      "Per-class F1-scores:\n",
      "  green: 0.8988\n",
      "  red: 0.0035\n",
      "  safety_car: 0.0000\n",
      "  yellow: 0.0000\n",
      "\n",
      "Class distribution:\n",
      "  green: 5980 (81.6%)\n",
      "  red: 1156 (15.8%)\n",
      "  safety_car: 64 (0.9%)\n",
      "  yellow: 128 (1.7%)\n",
      "\n",
      "=== SPANISH GP CROSS-VALIDATION ===\n",
      "\n",
      "=== Spanish GP ===\n"
     ]
    },
    {
     "data": {
      "image/png": "[encoded data removed]",
      "text/plain": [
       "<Figure size 800x600 with 2 Axes>"
      ]
     },
     "metadata": {},
     "output_type": "display_data"
    },
    {
     "name": "stdout",
     "output_type": "stream",
     "text": [
      "Accuracy: 0.9401\n",
      "F1-Score (Macro): 0.4846\n",
      "F1-Score (Micro): 0.9401\n",
      "F1-Score (Weighted): 0.9118\n",
      "\n",
      "Per-class F1-scores:\n",
      "  green: 0.9691\n",
      "  red: 0.0000\n",
      "\n",
      "Class distribution:\n",
      "  green: 26100 (94.1%)\n",
      "  red: 1640 (5.9%)\n",
      "\n",
      "=== BASELINE COMPARISON ===\n",
      "\n",
      "=== Baseline (Most Frequent) ===\n"
     ]
    },
    {
     "data": {
      "image/png": "[encoded data removed]",
      "text/plain": [
       "<Figure size 800x600 with 2 Axes>"
      ]
     },
     "metadata": {},
     "output_type": "display_data"
    },
    {
     "name": "stdout",
     "output_type": "stream",
     "text": [
      "Accuracy: 0.8160\n",
      "F1-Score (Macro): 0.2247\n",
      "F1-Score (Micro): 0.8160\n",
      "F1-Score (Weighted): 0.7334\n",
      "\n",
      "Per-class F1-scores:\n",
      "  green: 0.8987\n",
      "  red: 0.0000\n",
      "  safety_car: 0.0000\n",
      "  yellow: 0.0000\n",
      "\n",
      "Class distribution:\n",
      "  green: 5980 (81.6%)\n",
      "  red: 1156 (15.8%)\n",
      "  safety_car: 64 (0.9%)\n",
      "  yellow: 128 (1.7%)\n",
      "\n",
      "=== SUMMARY COMPARISON ===\n",
      "Metric               Catch22    Baseline   Difference\n",
      "--------------------------------------------------\n",
      "Accuracy             0.8163     0.8160     0.0003    \n",
      "F1-Macro             0.2256     0.2247     0.0009    \n",
      "F1-Weighted          0.7340     0.7334     0.0007    \n",
      "\n",
      "=== ANALYSIS ===\n",
      "⚠️  Model performs similarly to baseline classifier\n",
      "\n",
      "Recommendations:\n",
      "1. Try different features (RPM, Throttle instead of Speed)\n",
      "2. Balance the dataset or use class weights\n",
      "3. Focus on binary classification (safety events vs normal)\n",
      "4. Use different time windows or prediction horizons\n"
     ]
    }
   ],
   "source": [
    "from sklearn.metrics import f1_score, confusion_matrix, classification_report\n",
    "import matplotlib.pyplot as plt\n",
    "import seaborn as sns\n",
    "import numpy as np\n",
    "\n",
    "def comprehensive_evaluation(y_true, y_pred, class_names, title=\"Model Evaluation\"):\n",
    "    \"\"\"Comprehensive evaluation focusing on F1-score and handling class imbalance\"\"\"\n",
    "    \n",
    "    # Get unique classes present in the data\n",
    "    unique_classes = np.unique(np.concatenate([y_true, y_pred]))\n",
    "    present_class_names = [class_names[i] for i in unique_classes if i < len(class_names)]\n",
    "    \n",
    "    print(f\"\\n=== {title} ===\")\n",
    "    \n",
    "    # Confusion Matrix\n",
    "    cm = confusion_matrix(y_true, y_pred, labels=unique_classes)\n",
    "    \n",
    "    plt.figure(figsize=(8, 6))\n",
    "    sns.heatmap(cm, annot=True, fmt='d', cmap='Blues', \n",
    "                xticklabels=present_class_names, \n",
    "                yticklabels=present_class_names)\n",
    "    plt.title(f\"Confusion Matrix - {title}\")\n",
    "    plt.ylabel('True Label')\n",
    "    plt.xlabel('Predicted Label')\n",
    "    plt.show()\n",
    "    \n",
    "    # Detailed metrics\n",
    "    print(f\"Accuracy: {accuracy_score(y_true, y_pred):.4f}\")\n",
    "    \n",
    "    # F1 scores\n",
    "    f1_macro = f1_score(y_true, y_pred, average='macro', zero_division=0)\n",
    "    f1_micro = f1_score(y_true, y_pred, average='micro', zero_division=0)\n",
    "    f1_weighted = f1_score(y_true, y_pred, average='weighted', zero_division=0)\n",
    "    \n",
    "    print(f\"F1-Score (Macro): {f1_macro:.4f}\")\n",
    "    print(f\"F1-Score (Micro): {f1_micro:.4f}\")\n",
    "    print(f\"F1-Score (Weighted): {f1_weighted:.4f}\")\n",
    "    \n",
    "    # Per-class F1 scores\n",
    "    f1_per_class = f1_score(y_true, y_pred, average=None, zero_division=0, labels=unique_classes)\n",
    "    print(f\"\\nPer-class F1-scores:\")\n",
    "    for i, f1 in enumerate(f1_per_class):\n",
    "        class_idx = unique_classes[i]\n",
    "        class_name = present_class_names[i] if i < len(present_class_names) else f\"Class_{class_idx}\"\n",
    "        print(f\"  {class_name}: {f1:.4f}\")\n",
    "    \n",
    "    # Class distribution\n",
    "    print(f\"\\nClass distribution:\")\n",
    "    unique_true, counts_true = np.unique(y_true, return_counts=True)\n",
    "    for class_idx, count in zip(unique_true, counts_true):\n",
    "        class_name = class_names[class_idx] if class_idx < len(class_names) else f\"Class_{class_idx}\"\n",
    "        print(f\"  {class_name}: {count} ({count/len(y_true)*100:.1f}%)\")\n",
    "    \n",
    "    return {\n",
    "        'accuracy': accuracy_score(y_true, y_pred),\n",
    "        'f1_macro': f1_macro,\n",
    "        'f1_weighted': f1_weighted,\n",
    "        'confusion_matrix': cm,\n",
    "        'unique_classes': unique_classes\n",
    "    }\n",
    "\n",
    "# Evaluate Monaco GP (original test)\n",
    "class_names = ['green', 'red', 'safety_car', 'yellow']\n",
    "print(\"=== MONACO GP EVALUATION ===\")\n",
    "monaco_results = comprehensive_evaluation(y_test, y_pred, class_names, \"Monaco GP\")\n",
    "\n",
    "# Evaluate Spanish GP (cross-validation)\n",
    "if 'y_val' in locals() and 'y_val_pred' in locals():\n",
    "    print(\"\\n=== SPANISH GP CROSS-VALIDATION ===\")\n",
    "    spanish_results = comprehensive_evaluation(y_val, y_val_pred, class_names, \"Spanish GP\")\n",
    "\n",
    "# Compare with baseline\n",
    "print(\"\\n=== BASELINE COMPARISON ===\")\n",
    "dummy = DummyClassifier(strategy='most_frequent')\n",
    "dummy.fit(X_train_speed, y_train)\n",
    "y_dummy = dummy.predict(X_test_speed)\n",
    "\n",
    "baseline_results = comprehensive_evaluation(y_test, y_dummy, class_names, \"Baseline (Most Frequent)\")\n",
    "\n",
    "# Summary comparison\n",
    "print(\"\\n=== SUMMARY COMPARISON ===\")\n",
    "print(f\"{'Metric':<20} {'Catch22':<10} {'Baseline':<10} {'Difference':<10}\")\n",
    "print(\"-\" * 50)\n",
    "print(f\"{'Accuracy':<20} {monaco_results['accuracy']:<10.4f} {baseline_results['accuracy']:<10.4f} {monaco_results['accuracy'] - baseline_results['accuracy']:<10.4f}\")\n",
    "print(f\"{'F1-Macro':<20} {monaco_results['f1_macro']:<10.4f} {baseline_results['f1_macro']:<10.4f} {monaco_results['f1_macro'] - baseline_results['f1_macro']:<10.4f}\")\n",
    "print(f\"{'F1-Weighted':<20} {monaco_results['f1_weighted']:<10.4f} {baseline_results['f1_weighted']:<10.4f} {monaco_results['f1_weighted'] - baseline_results['f1_weighted']:<10.4f}\")\n",
    "\n",
    "# Check if model is learning anything meaningful\n",
    "print(f\"\\n=== ANALYSIS ===\")\n",
    "if monaco_results['f1_macro'] < 0.1:\n",
    "    print(\"⚠️  Model is not learning meaningful patterns (F1-macro < 0.1)\")\n",
    "if abs(monaco_results['accuracy'] - baseline_results['accuracy']) < 0.01:\n",
    "    print(\"⚠️  Model performs similarly to baseline classifier\")\n",
    "if len(np.unique(y_pred)) == 1:\n",
    "    print(\"⚠️  Model is only predicting one class\")\n",
    "\n",
    "print(f\"\\nRecommendations:\")\n",
    "print(\"1. Try different features (RPM, Throttle instead of Speed)\")\n",
    "print(\"2. Balance the dataset or use class weights\")\n",
    "print(\"3. Focus on binary classification (safety events vs normal)\")\n",
    "print(\"4. Use different time windows or prediction horizons\")"
   ]
  },
  {
   "cell_type": "markdown",
   "id": "f1f321fc",
   "metadata": {},
   "source": [
    "# Whole Season"
   ]
  },
  {
   "cell_type": "code",
   "execution_count": 5,
   "id": "a6765ac7",
   "metadata": {},
   "outputs": [
    {
     "name": "stderr",
     "output_type": "stream",
     "text": [
      "req         WARNING \tDEFAULT CACHE ENABLED! (2.5 GB) /Users/seansica/Library/Caches/fastf1\n",
      "2025-06-29 11:05:12,196 - f1_etl - INFO - Generated 24 SessionConfig objects for 2024 season\n"
     ]
    }
   ],
   "source": [
    "# Generate configs for all 2024 races\n",
    "race_configs = create_season_configs(2024, session_types=['R'])\n",
    "\n",
    "# Create dataset configuration\n",
    "config_2024_whole_season = DataConfig(\n",
    "    sessions=race_configs,\n",
    "    cache_dir=\"./f1_cache\"\n",
    ")"
   ]
  },
  {
   "cell_type": "code",
   "execution_count": 9,
   "id": "e3cd837d",
   "metadata": {},
   "outputs": [
    {
     "name": "stderr",
     "output_type": "stream",
     "text": [
      "2025-06-29 11:06:41,838 - f1_etl - INFO - Preprocessing configuration:\n",
      "2025-06-29 11:06:41,839 - f1_etl - INFO -   Missing values: disabled (forward_fill)\n",
      "2025-06-29 11:06:41,839 - f1_etl - INFO -   Normalization: enabled (per_sequence)\n",
      "core           INFO \tLoading data for Bahrain Grand Prix - Race [v3.5.3]\n",
      "req            INFO \tUsing cached data for session_info\n",
      "req            INFO \tUsing cached data for driver_info\n"
     ]
    },
    {
     "name": "stdout",
     "output_type": "stream",
     "text": [
      "Loading session: 2024 Bahrain Grand Prix R\n"
     ]
    },
    {
     "name": "stderr",
     "output_type": "stream",
     "text": [
      "req            INFO \tUsing cached data for session_status_data\n",
      "req            INFO \tUsing cached data for lap_count\n",
      "req            INFO \tUsing cached data for track_status_data\n",
      "req            INFO \tUsing cached data for _extended_timing_data\n",
      "req            INFO \tUsing cached data for timing_app_data\n",
      "core           INFO \tProcessing timing data...\n",
      "req            INFO \tUsing cached data for car_data\n",
      "req            INFO \tUsing cached data for position_data\n",
      "req            INFO \tUsing cached data for weather_data\n",
      "req            INFO \tUsing cached data for race_control_messages\n",
      "core           INFO \tFinished loading data for 20 drivers: ['1', '11', '55', '16', '63', '4', '44', '81', '14', '18', '24', '20', '3', '22', '23', '27', '31', '10', '77', '2']\n",
      "core           INFO \tLoading data for Saudi Arabian Grand Prix - Race [v3.5.3]\n",
      "req            INFO \tUsing cached data for session_info\n",
      "req            INFO \tUsing cached data for driver_info\n",
      "req            INFO \tUsing cached data for session_status_data\n",
      "req            INFO \tUsing cached data for lap_count\n",
      "req            INFO \tUsing cached data for track_status_data\n",
      "req            INFO \tUsing cached data for _extended_timing_data\n",
      "req            INFO \tUsing cached data for timing_app_data\n",
      "core           INFO \tProcessing timing data...\n"
     ]
    },
    {
     "name": "stdout",
     "output_type": "stream",
     "text": [
      "Loading session: 2024 Saudi Arabian Grand Prix R\n"
     ]
    },
    {
     "name": "stderr",
     "output_type": "stream",
     "text": [
      "req            INFO \tUsing cached data for car_data\n",
      "req            INFO \tUsing cached data for position_data\n",
      "req            INFO \tUsing cached data for weather_data\n",
      "req            INFO \tUsing cached data for race_control_messages\n",
      "core           INFO \tFinished loading data for 20 drivers: ['1', '11', '16', '81', '14', '63', '38', '4', '44', '27', '23', '20', '31', '2', '22', '3', '77', '24', '18', '10']\n",
      "core           INFO \tLoading data for Australian Grand Prix - Race [v3.5.3]\n",
      "req            INFO \tUsing cached data for session_info\n",
      "req            INFO \tUsing cached data for driver_info\n",
      "req            INFO \tUsing cached data for session_status_data\n",
      "req            INFO \tUsing cached data for lap_count\n",
      "req            INFO \tUsing cached data for track_status_data\n",
      "req            INFO \tUsing cached data for _extended_timing_data\n",
      "req            INFO \tUsing cached data for timing_app_data\n",
      "core           INFO \tProcessing timing data...\n"
     ]
    },
    {
     "name": "stdout",
     "output_type": "stream",
     "text": [
      "Loading session: 2024 Australian Grand Prix R\n"
     ]
    },
    {
     "name": "stderr",
     "output_type": "stream",
     "text": [
      "req            INFO \tUsing cached data for car_data\n",
      "req            INFO \tUsing cached data for position_data\n",
      "req            INFO \tUsing cached data for weather_data\n",
      "req            INFO \tUsing cached data for race_control_messages\n",
      "core           INFO \tFinished loading data for 19 drivers: ['55', '16', '4', '81', '11', '18', '22', '14', '27', '20', '23', '3', '10', '77', '24', '31', '63', '44', '1']\n",
      "core           INFO \tLoading data for Japanese Grand Prix - Race [v3.5.3]\n",
      "req            INFO \tUsing cached data for session_info\n",
      "req            INFO \tUsing cached data for driver_info\n",
      "req            INFO \tUsing cached data for session_status_data\n",
      "req            INFO \tUsing cached data for lap_count\n",
      "req            INFO \tUsing cached data for track_status_data\n",
      "req            INFO \tUsing cached data for _extended_timing_data\n",
      "req            INFO \tUsing cached data for timing_app_data\n",
      "core           INFO \tProcessing timing data...\n"
     ]
    },
    {
     "name": "stdout",
     "output_type": "stream",
     "text": [
      "Loading session: 2024 Japanese Grand Prix R\n"
     ]
    },
    {
     "name": "stderr",
     "output_type": "stream",
     "text": [
      "req            INFO \tUsing cached data for car_data\n",
      "req            INFO \tUsing cached data for position_data\n",
      "req            INFO \tUsing cached data for weather_data\n",
      "req            INFO \tUsing cached data for race_control_messages\n",
      "core           INFO \tFinished loading data for 20 drivers: ['1', '11', '55', '16', '4', '14', '63', '81', '44', '22', '27', '18', '20', '77', '31', '10', '2', '24', '3', '23']\n",
      "core           INFO \tLoading data for Chinese Grand Prix - Race [v3.5.3]\n",
      "req            INFO \tUsing cached data for session_info\n",
      "req            INFO \tUsing cached data for driver_info\n",
      "req            INFO \tUsing cached data for session_status_data\n",
      "req            INFO \tUsing cached data for lap_count\n",
      "req            INFO \tUsing cached data for track_status_data\n",
      "req            INFO \tUsing cached data for _extended_timing_data\n",
      "req            INFO \tUsing cached data for timing_app_data\n",
      "core           INFO \tProcessing timing data...\n"
     ]
    },
    {
     "name": "stdout",
     "output_type": "stream",
     "text": [
      "Loading session: 2024 Chinese Grand Prix R\n"
     ]
    },
    {
     "name": "stderr",
     "output_type": "stream",
     "text": [
      "req            INFO \tUsing cached data for car_data\n",
      "req            INFO \tUsing cached data for position_data\n",
      "req            INFO \tUsing cached data for weather_data\n",
      "req            INFO \tUsing cached data for race_control_messages\n",
      "core        WARNING \tDriver 1 completed the race distance 00:08.313000 before the recorded end of the session.\n",
      "core           INFO \tFinished loading data for 20 drivers: ['1', '4', '11', '16', '55', '63', '14', '81', '44', '27', '31', '23', '10', '24', '18', '20', '2', '3', '22', '77']\n",
      "core           INFO \tLoading data for Miami Grand Prix - Race [v3.5.3]\n",
      "req            INFO \tUsing cached data for session_info\n",
      "req            INFO \tUsing cached data for driver_info\n",
      "req            INFO \tUsing cached data for session_status_data\n",
      "req            INFO \tUsing cached data for lap_count\n",
      "req            INFO \tUsing cached data for track_status_data\n",
      "req            INFO \tUsing cached data for _extended_timing_data\n",
      "req            INFO \tUsing cached data for timing_app_data\n",
      "core           INFO \tProcessing timing data...\n"
     ]
    },
    {
     "name": "stdout",
     "output_type": "stream",
     "text": [
      "Loading session: 2024 Miami Grand Prix R\n"
     ]
    },
    {
     "name": "stderr",
     "output_type": "stream",
     "text": [
      "req            INFO \tUsing cached data for car_data\n",
      "req            INFO \tUsing cached data for position_data\n",
      "req            INFO \tUsing cached data for weather_data\n",
      "req            INFO \tUsing cached data for race_control_messages\n",
      "core           INFO \tFinished loading data for 20 drivers: ['4', '1', '16', '11', '55', '44', '22', '63', '14', '31', '27', '10', '81', '24', '3', '77', '18', '23', '20', '2']\n",
      "core           INFO \tLoading data for Emilia Romagna Grand Prix - Race [v3.5.3]\n",
      "req            INFO \tUsing cached data for session_info\n",
      "req            INFO \tUsing cached data for driver_info\n",
      "req            INFO \tUsing cached data for session_status_data\n",
      "req            INFO \tUsing cached data for lap_count\n",
      "req            INFO \tUsing cached data for track_status_data\n",
      "req            INFO \tUsing cached data for _extended_timing_data\n",
      "req            INFO \tUsing cached data for timing_app_data\n",
      "core           INFO \tProcessing timing data...\n"
     ]
    },
    {
     "name": "stdout",
     "output_type": "stream",
     "text": [
      "Loading session: 2024 Emilia Romagna Grand Prix R\n"
     ]
    },
    {
     "name": "stderr",
     "output_type": "stream",
     "text": [
      "req            INFO \tUsing cached data for car_data\n",
      "req            INFO \tUsing cached data for position_data\n",
      "req            INFO \tUsing cached data for weather_data\n",
      "req            INFO \tUsing cached data for race_control_messages\n",
      "core           INFO \tFinished loading data for 20 drivers: ['1', '4', '16', '81', '55', '44', '63', '11', '18', '22', '27', '20', '3', '31', '24', '10', '2', '77', '14', '23']\n",
      "core           INFO \tLoading data for Canadian Grand Prix - Race [v3.5.3]\n",
      "req            INFO \tUsing cached data for session_info\n",
      "req            INFO \tUsing cached data for driver_info\n"
     ]
    },
    {
     "name": "stdout",
     "output_type": "stream",
     "text": [
      "Loading session: 2024 Monaco Grand Prix R\n",
      "Loading from cache: f1_cache/2024_Monaco_Grand_Prix_R.pkl\n",
      "Loading session: 2024 Canadian Grand Prix R\n"
     ]
    },
    {
     "name": "stderr",
     "output_type": "stream",
     "text": [
      "req            INFO \tUsing cached data for session_status_data\n",
      "req            INFO \tUsing cached data for lap_count\n",
      "req            INFO \tUsing cached data for track_status_data\n",
      "req            INFO \tUsing cached data for _extended_timing_data\n",
      "req            INFO \tUsing cached data for timing_app_data\n",
      "core           INFO \tProcessing timing data...\n",
      "req            INFO \tUsing cached data for car_data\n",
      "req            INFO \tUsing cached data for position_data\n",
      "req            INFO \tUsing cached data for weather_data\n",
      "req            INFO \tUsing cached data for race_control_messages\n",
      "core           INFO \tFinished loading data for 20 drivers: ['1', '4', '63', '44', '81', '14', '18', '3', '10', '31', '27', '20', '77', '22', '24', '55', '23', '11', '16', '2']\n",
      "core           INFO \tLoading data for Austrian Grand Prix - Race [v3.5.3]\n",
      "req            INFO \tUsing cached data for session_info\n",
      "req            INFO \tUsing cached data for driver_info\n"
     ]
    },
    {
     "name": "stdout",
     "output_type": "stream",
     "text": [
      "Loading session: 2024 Spanish Grand Prix R\n",
      "Loading from cache: f1_cache/2024_Spanish_Grand_Prix_R.pkl\n",
      "Loading session: 2024 Austrian Grand Prix R\n"
     ]
    },
    {
     "name": "stderr",
     "output_type": "stream",
     "text": [
      "req            INFO \tUsing cached data for session_status_data\n",
      "req            INFO \tUsing cached data for lap_count\n",
      "req            INFO \tUsing cached data for track_status_data\n",
      "req            INFO \tUsing cached data for _extended_timing_data\n",
      "req            INFO \tUsing cached data for timing_app_data\n",
      "core           INFO \tProcessing timing data...\n",
      "req            INFO \tUsing cached data for car_data\n",
      "req            INFO \tUsing cached data for position_data\n",
      "req            INFO \tUsing cached data for weather_data\n",
      "req            INFO \tUsing cached data for race_control_messages\n",
      "core           INFO \tFinished loading data for 20 drivers: ['63', '81', '55', '44', '1', '27', '11', '20', '3', '10', '16', '31', '18', '22', '23', '77', '24', '14', '2', '4']\n",
      "core           INFO \tLoading data for British Grand Prix - Race [v3.5.3]\n",
      "req            INFO \tUsing cached data for session_info\n",
      "req            INFO \tUsing cached data for driver_info\n",
      "req            INFO \tUsing cached data for session_status_data\n",
      "req            INFO \tUsing cached data for lap_count\n",
      "req            INFO \tUsing cached data for track_status_data\n",
      "req            INFO \tUsing cached data for _extended_timing_data\n",
      "req            INFO \tUsing cached data for timing_app_data\n",
      "core           INFO \tProcessing timing data...\n"
     ]
    },
    {
     "name": "stdout",
     "output_type": "stream",
     "text": [
      "Loading session: 2024 British Grand Prix R\n"
     ]
    },
    {
     "name": "stderr",
     "output_type": "stream",
     "text": [
      "req            INFO \tUsing cached data for car_data\n",
      "req            INFO \tUsing cached data for position_data\n",
      "req            INFO \tUsing cached data for weather_data\n",
      "req            INFO \tUsing cached data for race_control_messages\n",
      "core           INFO \tFinished loading data for 20 drivers: ['44', '1', '4', '81', '55', '27', '18', '14', '23', '22', '2', '20', '3', '16', '77', '31', '11', '24', '63', '10']\n",
      "core           INFO \tLoading data for Hungarian Grand Prix - Race [v3.5.3]\n",
      "req            INFO \tUsing cached data for session_info\n",
      "req            INFO \tUsing cached data for driver_info\n",
      "req            INFO \tUsing cached data for session_status_data\n",
      "req            INFO \tUsing cached data for lap_count\n",
      "req            INFO \tUsing cached data for track_status_data\n",
      "req            INFO \tUsing cached data for _extended_timing_data\n",
      "req            INFO \tUsing cached data for timing_app_data\n",
      "core           INFO \tProcessing timing data...\n"
     ]
    },
    {
     "name": "stdout",
     "output_type": "stream",
     "text": [
      "Loading session: 2024 Hungarian Grand Prix R\n"
     ]
    },
    {
     "name": "stderr",
     "output_type": "stream",
     "text": [
      "req            INFO \tUsing cached data for car_data\n",
      "req            INFO \tUsing cached data for position_data\n",
      "req            INFO \tUsing cached data for weather_data\n",
      "req            INFO \tUsing cached data for race_control_messages\n",
      "core           INFO \tFinished loading data for 20 drivers: ['81', '4', '44', '16', '1', '55', '11', '63', '22', '18', '14', '3', '27', '23', '20', '77', '2', '31', '24', '10']\n",
      "core           INFO \tLoading data for Belgian Grand Prix - Race [v3.5.3]\n",
      "req            INFO \tUsing cached data for session_info\n",
      "req            INFO \tUsing cached data for driver_info\n",
      "req            INFO \tUsing cached data for session_status_data\n",
      "req            INFO \tUsing cached data for lap_count\n",
      "req            INFO \tUsing cached data for track_status_data\n",
      "req            INFO \tUsing cached data for _extended_timing_data\n",
      "req            INFO \tUsing cached data for timing_app_data\n",
      "core           INFO \tProcessing timing data...\n"
     ]
    },
    {
     "name": "stdout",
     "output_type": "stream",
     "text": [
      "Loading session: 2024 Belgian Grand Prix R\n"
     ]
    },
    {
     "name": "stderr",
     "output_type": "stream",
     "text": [
      "req            INFO \tUsing cached data for car_data\n",
      "req            INFO \tUsing cached data for position_data\n",
      "req            INFO \tUsing cached data for weather_data\n",
      "req            INFO \tUsing cached data for race_control_messages\n",
      "core           INFO \tFinished loading data for 20 drivers: ['44', '81', '16', '1', '4', '55', '11', '14', '31', '3', '18', '23', '10', '20', '77', '22', '2', '27', '24', '63']\n",
      "core           INFO \tLoading data for Dutch Grand Prix - Race [v3.5.3]\n",
      "req            INFO \tUsing cached data for session_info\n",
      "req            INFO \tUsing cached data for driver_info\n",
      "req            INFO \tUsing cached data for session_status_data\n",
      "req            INFO \tUsing cached data for lap_count\n",
      "req            INFO \tUsing cached data for track_status_data\n",
      "req            INFO \tUsing cached data for _extended_timing_data\n",
      "req            INFO \tUsing cached data for timing_app_data\n",
      "core           INFO \tProcessing timing data...\n"
     ]
    },
    {
     "name": "stdout",
     "output_type": "stream",
     "text": [
      "Loading session: 2024 Dutch Grand Prix R\n"
     ]
    },
    {
     "name": "stderr",
     "output_type": "stream",
     "text": [
      "req            INFO \tUsing cached data for car_data\n",
      "req            INFO \tUsing cached data for position_data\n",
      "req            INFO \tUsing cached data for weather_data\n",
      "req            INFO \tUsing cached data for race_control_messages\n",
      "core           INFO \tFinished loading data for 20 drivers: ['4', '1', '16', '81', '55', '11', '63', '44', '10', '14', '27', '3', '18', '23', '31', '2', '22', '20', '77', '24']\n",
      "core           INFO \tLoading data for Italian Grand Prix - Race [v3.5.3]\n",
      "req            INFO \tUsing cached data for session_info\n",
      "req            INFO \tUsing cached data for driver_info\n",
      "req            INFO \tUsing cached data for session_status_data\n",
      "req            INFO \tUsing cached data for lap_count\n",
      "req            INFO \tUsing cached data for track_status_data\n",
      "req            INFO \tUsing cached data for _extended_timing_data\n",
      "req            INFO \tUsing cached data for timing_app_data\n",
      "core           INFO \tProcessing timing data...\n"
     ]
    },
    {
     "name": "stdout",
     "output_type": "stream",
     "text": [
      "Loading session: 2024 Italian Grand Prix R\n"
     ]
    },
    {
     "name": "stderr",
     "output_type": "stream",
     "text": [
      "req            INFO \tUsing cached data for car_data\n",
      "req            INFO \tUsing cached data for position_data\n",
      "req            INFO \tUsing cached data for weather_data\n",
      "req            INFO \tUsing cached data for race_control_messages\n",
      "core           INFO \tFinished loading data for 20 drivers: ['16', '81', '4', '55', '44', '1', '63', '11', '23', '20', '14', '43', '3', '31', '10', '77', '27', '24', '18', '22']\n",
      "core           INFO \tLoading data for Azerbaijan Grand Prix - Race [v3.5.3]\n",
      "req            INFO \tUsing cached data for session_info\n",
      "req            INFO \tUsing cached data for driver_info\n",
      "req            INFO \tUsing cached data for session_status_data\n",
      "req            INFO \tUsing cached data for lap_count\n",
      "req            INFO \tUsing cached data for track_status_data\n",
      "req            INFO \tUsing cached data for _extended_timing_data\n",
      "req            INFO \tUsing cached data for timing_app_data\n",
      "core           INFO \tProcessing timing data...\n"
     ]
    },
    {
     "name": "stdout",
     "output_type": "stream",
     "text": [
      "Loading session: 2024 Azerbaijan Grand Prix R\n"
     ]
    },
    {
     "name": "stderr",
     "output_type": "stream",
     "text": [
      "req            INFO \tUsing cached data for car_data\n",
      "req            INFO \tUsing cached data for position_data\n",
      "req            INFO \tUsing cached data for weather_data\n",
      "req            INFO \tUsing cached data for race_control_messages\n",
      "core           INFO \tFinished loading data for 20 drivers: ['81', '16', '63', '4', '1', '14', '23', '43', '44', '50', '27', '10', '3', '24', '31', '77', '11', '55', '18', '22']\n",
      "core           INFO \tLoading data for Singapore Grand Prix - Race [v3.5.3]\n",
      "req            INFO \tUsing cached data for session_info\n",
      "req            INFO \tUsing cached data for driver_info\n",
      "req            INFO \tUsing cached data for session_status_data\n",
      "req            INFO \tUsing cached data for lap_count\n",
      "req            INFO \tUsing cached data for track_status_data\n",
      "req            INFO \tUsing cached data for _extended_timing_data\n",
      "req            INFO \tUsing cached data for timing_app_data\n",
      "core           INFO \tProcessing timing data...\n"
     ]
    },
    {
     "name": "stdout",
     "output_type": "stream",
     "text": [
      "Loading session: 2024 Singapore Grand Prix R\n"
     ]
    },
    {
     "name": "stderr",
     "output_type": "stream",
     "text": [
      "req            INFO \tUsing cached data for car_data\n",
      "req            INFO \tUsing cached data for position_data\n",
      "req            INFO \tUsing cached data for weather_data\n",
      "req            INFO \tUsing cached data for race_control_messages\n",
      "core           INFO \tFinished loading data for 20 drivers: ['4', '1', '81', '63', '16', '44', '55', '14', '27', '11', '43', '22', '31', '18', '24', '77', '10', '3', '20', '23']\n",
      "events      WARNING \tCorrecting user input 'United States Grand Prix' to 'United States Grand Prix'\n",
      "core           INFO \tLoading data for United States Grand Prix - Race [v3.5.3]\n",
      "req            INFO \tUsing cached data for session_info\n",
      "req            INFO \tUsing cached data for driver_info\n",
      "req            INFO \tUsing cached data for session_status_data\n",
      "req            INFO \tUsing cached data for lap_count\n",
      "req            INFO \tUsing cached data for track_status_data\n",
      "req            INFO \tUsing cached data for _extended_timing_data\n",
      "req            INFO \tUsing cached data for timing_app_data\n",
      "core           INFO \tProcessing timing data...\n"
     ]
    },
    {
     "name": "stdout",
     "output_type": "stream",
     "text": [
      "Loading session: 2024 United States Grand Prix R\n"
     ]
    },
    {
     "name": "stderr",
     "output_type": "stream",
     "text": [
      "req            INFO \tUsing cached data for car_data\n",
      "req            INFO \tUsing cached data for position_data\n",
      "req            INFO \tUsing cached data for weather_data\n",
      "req            INFO \tUsing cached data for race_control_messages\n",
      "core           INFO \tFinished loading data for 20 drivers: ['16', '55', '1', '4', '81', '63', '11', '27', '30', '43', '20', '10', '14', '22', '18', '23', '77', '31', '24', '44']\n",
      "core           INFO \tLoading data for Mexico City Grand Prix - Race [v3.5.3]\n",
      "req            INFO \tUsing cached data for session_info\n",
      "req            INFO \tUsing cached data for driver_info\n",
      "req            INFO \tUsing cached data for session_status_data\n",
      "req            INFO \tUsing cached data for lap_count\n",
      "req            INFO \tUsing cached data for track_status_data\n",
      "req            INFO \tUsing cached data for _extended_timing_data\n",
      "req            INFO \tUsing cached data for timing_app_data\n",
      "core           INFO \tProcessing timing data...\n"
     ]
    },
    {
     "name": "stdout",
     "output_type": "stream",
     "text": [
      "Loading session: 2024 Mexico City Grand Prix R\n"
     ]
    },
    {
     "name": "stderr",
     "output_type": "stream",
     "text": [
      "req            INFO \tUsing cached data for car_data\n",
      "req            INFO \tUsing cached data for position_data\n",
      "req            INFO \tUsing cached data for weather_data\n",
      "req            INFO \tUsing cached data for race_control_messages\n",
      "core           INFO \tFinished loading data for 20 drivers: ['55', '4', '16', '44', '63', '1', '20', '81', '27', '10', '18', '43', '31', '77', '24', '30', '11', '14', '23', '22']\n",
      "core           INFO \tLoading data for São Paulo Grand Prix - Race [v3.5.3]\n",
      "req            INFO \tUsing cached data for session_info\n",
      "req            INFO \tUsing cached data for driver_info\n",
      "req            INFO \tUsing cached data for session_status_data\n",
      "req            INFO \tUsing cached data for lap_count\n",
      "req            INFO \tUsing cached data for track_status_data\n",
      "req            INFO \tUsing cached data for _extended_timing_data\n",
      "req            INFO \tUsing cached data for timing_app_data\n",
      "core           INFO \tProcessing timing data...\n"
     ]
    },
    {
     "name": "stdout",
     "output_type": "stream",
     "text": [
      "Loading session: 2024 São Paulo Grand Prix R\n"
     ]
    },
    {
     "name": "stderr",
     "output_type": "stream",
     "text": [
      "core        WARNING \tNo lap data for driver 23\n",
      "core        WARNING \tFailed to perform lap accuracy check - all laps marked as inaccurate (driver 23)\n",
      "req            INFO \tUsing cached data for car_data\n",
      "req            INFO \tUsing cached data for position_data\n",
      "req            INFO \tUsing cached data for weather_data\n",
      "req            INFO \tUsing cached data for race_control_messages\n",
      "core           INFO \tFinished loading data for 20 drivers: ['1', '31', '10', '63', '16', '4', '22', '81', '30', '44', '11', '50', '77', '14', '24', '55', '43', '23', '18', '27']\n",
      "core           INFO \tLoading data for Las Vegas Grand Prix - Race [v3.5.3]\n",
      "req            INFO \tUsing cached data for session_info\n",
      "req            INFO \tUsing cached data for driver_info\n",
      "req            INFO \tUsing cached data for session_status_data\n",
      "req            INFO \tUsing cached data for lap_count\n",
      "req            INFO \tUsing cached data for track_status_data\n",
      "req            INFO \tUsing cached data for _extended_timing_data\n",
      "req            INFO \tUsing cached data for timing_app_data\n",
      "core           INFO \tProcessing timing data...\n"
     ]
    },
    {
     "name": "stdout",
     "output_type": "stream",
     "text": [
      "Loading session: 2024 Las Vegas Grand Prix R\n"
     ]
    },
    {
     "name": "stderr",
     "output_type": "stream",
     "text": [
      "core        WARNING \tDriver 63: Lap timing integrity check failed for 2 lap(s)\n",
      "core        WARNING \tDriver 44: Lap timing integrity check failed for 1 lap(s)\n",
      "core        WARNING \tDriver 55: Lap timing integrity check failed for 1 lap(s)\n",
      "core        WARNING \tDriver 16: Lap timing integrity check failed for 2 lap(s)\n",
      "core        WARNING \tDriver  1: Lap timing integrity check failed for 1 lap(s)\n",
      "core        WARNING \tDriver  4: Lap timing integrity check failed for 1 lap(s)\n",
      "core        WARNING \tDriver 81: Lap timing integrity check failed for 1 lap(s)\n",
      "core        WARNING \tDriver 30: Lap timing integrity check failed for 2 lap(s)\n",
      "core        WARNING \tDriver 77: Lap timing integrity check failed for 2 lap(s)\n",
      "req            INFO \tUsing cached data for car_data\n",
      "req            INFO \tUsing cached data for position_data\n",
      "req            INFO \tUsing cached data for weather_data\n",
      "req            INFO \tUsing cached data for race_control_messages\n",
      "core        WARNING \tDriver 63 completed the race distance 00:00.427000 before the recorded end of the session.\n",
      "core           INFO \tFinished loading data for 20 drivers: ['63', '44', '55', '16', '1', '4', '81', '27', '22', '11', '14', '20', '24', '43', '18', '30', '31', '77', '23', '10']\n",
      "events      WARNING \tCorrecting user input 'Qatar Grand Prix' to 'Qatar Grand Prix'\n",
      "core           INFO \tLoading data for Qatar Grand Prix - Race [v3.5.3]\n",
      "req            INFO \tUsing cached data for session_info\n",
      "req            INFO \tUsing cached data for driver_info\n",
      "req            INFO \tUsing cached data for session_status_data\n",
      "req            INFO \tUsing cached data for lap_count\n",
      "req            INFO \tUsing cached data for track_status_data\n",
      "req            INFO \tUsing cached data for _extended_timing_data\n",
      "req            INFO \tUsing cached data for timing_app_data\n",
      "core           INFO \tProcessing timing data...\n"
     ]
    },
    {
     "name": "stdout",
     "output_type": "stream",
     "text": [
      "Loading session: 2024 Qatar Grand Prix R\n"
     ]
    },
    {
     "name": "stderr",
     "output_type": "stream",
     "text": [
      "req            INFO \tUsing cached data for car_data\n",
      "req            INFO \tUsing cached data for position_data\n",
      "req            INFO \tUsing cached data for weather_data\n",
      "req            INFO \tUsing cached data for race_control_messages\n",
      "core           INFO \tFinished loading data for 20 drivers: ['1', '16', '81', '63', '10', '55', '14', '24', '20', '4', '77', '44', '22', '30', '23', '27', '11', '18', '43', '31']\n",
      "core           INFO \tLoading data for Abu Dhabi Grand Prix - Race [v3.5.3]\n",
      "req            INFO \tUsing cached data for session_info\n",
      "req            INFO \tUsing cached data for driver_info\n",
      "req            INFO \tUsing cached data for session_status_data\n",
      "req            INFO \tUsing cached data for lap_count\n",
      "req            INFO \tUsing cached data for track_status_data\n",
      "req            INFO \tUsing cached data for _extended_timing_data\n",
      "req            INFO \tUsing cached data for timing_app_data\n",
      "core           INFO \tProcessing timing data...\n"
     ]
    },
    {
     "name": "stdout",
     "output_type": "stream",
     "text": [
      "Loading session: 2024 Abu Dhabi Grand Prix R\n"
     ]
    },
    {
     "name": "stderr",
     "output_type": "stream",
     "text": [
      "req            INFO \tUsing cached data for car_data\n",
      "req            INFO \tUsing cached data for position_data\n",
      "req            INFO \tUsing cached data for weather_data\n",
      "req            INFO \tUsing cached data for race_control_messages\n",
      "core           INFO \tFinished loading data for 20 drivers: ['4', '55', '16', '44', '63', '1', '10', '27', '14', '81', '23', '22', '24', '18', '61', '20', '30', '77', '43', '11']\n",
      "2025-06-29 11:09:12,154 - f1_etl - INFO - Processing 33442517 total telemetry rows\n",
      "2025-06-29 11:09:12,165 - f1_etl - INFO - Grouping by: ['SessionId', 'Driver']\n",
      "2025-06-29 11:11:50,069 - f1_etl - INFO - Total sequences generated: 668036\n",
      "2025-06-29 11:11:56,225 - f1_etl - INFO - Generated 668036 sequences with shape (668036, 100, 9)\n",
      "2025-06-29 11:11:56,227 - f1_etl - INFO - Missing value handling disabled\n",
      "2025-06-29 11:11:57,953 - f1_etl - WARNING - Missing values detected but handling is disabled - may cause issues with some models\n",
      "2025-06-29 11:11:57,955 - f1_etl - INFO - Applying normalization with method: per_sequence\n"
     ]
    },
    {
     "name": "stdout",
     "output_type": "stream",
     "text": [
      "Generated 668036 sequences\n",
      "Features: ['Speed', 'RPM', 'nGear', 'Throttle', 'Brake', 'X', 'Y', 'Distance', 'DifferentialDistance']\n",
      "Class distribution: {'green': np.int64(614415), 'red': np.int64(13440), 'safety_car': np.int64(19102), 'vsc': np.int64(3956), 'vsc_ending': np.int64(177), 'yellow': np.int64(16946)}\n"
     ]
    }
   ],
   "source": [
    "dataset = create_catch22_dataset(config=config_2024_whole_season)\n",
    "\n",
    "print(f\"Generated {dataset['config']['n_sequences']} sequences\")\n",
    "print(f\"Features: {dataset['config']['feature_names']}\")\n",
    "print(f\"Class distribution: {dataset['class_distribution']}\")"
   ]
  },
  {
   "cell_type": "code",
   "execution_count": 13,
   "id": "e2e77f72",
   "metadata": {},
   "outputs": [
    {
     "name": "stdout",
     "output_type": "stream",
     "text": [
      "=== COMPREHENSIVE CONTAMINATION CHECK ===\n",
      "\n",
      "Feature names: ['Speed', 'RPM', 'nGear', 'Throttle', 'Brake', 'X', 'Y', 'Distance', 'DifferentialDistance']\n",
      "\n",
      "1. Checking session boundary crossings...\n",
      "=== SESSION BOUNDARY CROSSING ANALYSIS ===\n",
      "\n"
     ]
    },
    {
     "name": "stdout",
     "output_type": "stream",
     "text": [
      "Total sequences: 668036\n",
      "Session transitions in sequence order: 23\n",
      "\n",
      "Session transitions detected:\n",
      "  Position 27140: 2024_Abu Dhabi Grand Prix_R → 2024_Australian Grand Prix_R\n",
      "  Position 51916: 2024_Australian Grand Prix_R → 2024_Austrian Grand Prix_R\n",
      "  Position 78036: 2024_Austrian Grand Prix_R → 2024_Azerbaijan Grand Prix_R\n",
      "  Position 104936: 2024_Azerbaijan Grand Prix_R → 2024_Bahrain Grand Prix_R\n",
      "  Position 133136: 2024_Bahrain Grand Prix_R → 2024_Belgian Grand Prix_R\n",
      "  Position 157676: 2024_Belgian Grand Prix_R → 2024_British Grand Prix_R\n",
      "  Position 184396: 2024_British Grand Prix_R → 2024_Canadian Grand Prix_R\n",
      "  Position 204816: 2024_Canadian Grand Prix_R → 2024_Chinese Grand Prix_R\n",
      "  Position 234396: 2024_Chinese Grand Prix_R → 2024_Dutch Grand Prix_R\n",
      "  Position 261836: 2024_Dutch Grand Prix_R → 2024_Emilia Romagna Grand Prix_R\n",
      "  Position 287856: 2024_Emilia Romagna Grand Prix_R → 2024_Hungarian Grand Prix_R\n",
      "  Position 315936: 2024_Hungarian Grand Prix_R → 2024_Italian Grand Prix_R\n",
      "  Position 339816: 2024_Italian Grand Prix_R → 2024_Japanese Grand Prix_R\n",
      "  Position 372876: 2024_Japanese Grand Prix_R → 2024_Las Vegas Grand Prix_R\n",
      "  Position 399016: 2024_Las Vegas Grand Prix_R → 2024_Mexico City Grand Prix_R\n",
      "  Position 428016: 2024_Mexico City Grand Prix_R → 2024_Miami Grand Prix_R\n",
      "  Position 455296: 2024_Miami Grand Prix_R → 2024_Monaco Grand Prix_R\n",
      "  Position 491936: 2024_Monaco Grand Prix_R → 2024_Qatar Grand Prix_R\n",
      "  Position 519576: 2024_Qatar Grand Prix_R → 2024_Saudi Arabian Grand Prix_R\n",
      "  Position 545996: 2024_Saudi Arabian Grand Prix_R → 2024_Singapore Grand Prix_R\n",
      "  Position 575236: 2024_Singapore Grand Prix_R → 2024_Spanish Grand Prix_R\n",
      "  Position 602976: 2024_Spanish Grand Prix_R → 2024_São Paulo Grand Prix_R\n",
      "  Position 639496: 2024_São Paulo Grand Prix_R → 2024_United States Grand Prix_R\n",
      "\n",
      "Note: 23 transitions found.\n",
      "This shows how sequences from different sessions are distributed.\n",
      "Cross-session contamination would show as sequences with mixed session data.\n",
      "\n",
      "2. Checking for feature discontinuities...\n",
      "=== WINDOW CONTAMINATION ANALYSIS BY FEATURES ===\n",
      "\n",
      "Analyzing 668036 sequences...\n",
      "Feature indices - Speed: 0, Distance: 7\n",
      "\n",
      "✅ No obvious window contamination detected\n",
      "All sequences show realistic feature continuity\n",
      "\n",
      "=== SUMMARY ===\n",
      "✅ NO CONTAMINATION DETECTED\n",
      "Session mixing in sequence order is normal for multi-session datasets\n"
     ]
    },
    {
     "data": {
      "text/plain": [
       "True"
      ]
     },
     "execution_count": 13,
     "metadata": {},
     "output_type": "execute_result"
    }
   ],
   "source": [
    "X = dataset['X']\n",
    "X_aeon = X.transpose(0, 2, 1)\n",
    "y = dataset['y']\n",
    "metadata = dataset['metadata']\n",
    "\n",
    "comprehensive_contamination_check(X_aeon, metadata)"
   ]
  },
  {
   "cell_type": "code",
   "execution_count": 14,
   "id": "b403620e",
   "metadata": {},
   "outputs": [],
   "source": [
    "# Split data for training with stratification\n",
    "X_train, X_test, y_train, y_test = train_test_split(\n",
    "    X_aeon, y, test_size=0.2, random_state=42, stratify=y\n",
    ")\n",
    "\n",
    "# Use Speed (index 0) - likely most predictive for safety car events\n",
    "X_train_speed = X_train[:, 0:1, :]  # Keep as 3D with single channel\n",
    "X_test_speed = X_test[:, 0:1, :]"
   ]
  },
  {
   "cell_type": "code",
   "execution_count": 15,
   "id": "1c4bcc09",
   "metadata": {},
   "outputs": [
    {
     "name": "stdout",
     "output_type": "stream",
     "text": [
      "Accuracy: 0.9197\n",
      "\n",
      "Classification Report:\n",
      "              precision    recall  f1-score   support\n",
      "\n",
      "           0       0.92      1.00      0.96    122884\n",
      "           1       0.00      0.00      0.00      2688\n",
      "           2       0.43      0.01      0.01      3821\n",
      "           3       0.00      0.00      0.00       791\n",
      "           4       0.00      0.00      0.00        35\n",
      "           5       0.00      0.00      0.00      3389\n",
      "\n",
      "    accuracy                           0.92    133608\n",
      "   macro avg       0.22      0.17      0.16    133608\n",
      "weighted avg       0.86      0.92      0.88    133608\n",
      "\n"
     ]
    },
    {
     "name": "stderr",
     "output_type": "stream",
     "text": [
      "/Users/seansica/Documents/Development/mids/capstone/datasci-210-2025-summer-formula1/sean/notebooks/.venv/lib/python3.11/site-packages/sklearn/metrics/_classification.py:1565: UndefinedMetricWarning: Precision is ill-defined and being set to 0.0 in labels with no predicted samples. Use `zero_division` parameter to control this behavior.\n",
      "  _warn_prf(average, modifier, f\"{metric.capitalize()} is\", len(result))\n",
      "/Users/seansica/Documents/Development/mids/capstone/datasci-210-2025-summer-formula1/sean/notebooks/.venv/lib/python3.11/site-packages/sklearn/metrics/_classification.py:1565: UndefinedMetricWarning: Precision is ill-defined and being set to 0.0 in labels with no predicted samples. Use `zero_division` parameter to control this behavior.\n",
      "  _warn_prf(average, modifier, f\"{metric.capitalize()} is\", len(result))\n",
      "/Users/seansica/Documents/Development/mids/capstone/datasci-210-2025-summer-formula1/sean/notebooks/.venv/lib/python3.11/site-packages/sklearn/metrics/_classification.py:1565: UndefinedMetricWarning: Precision is ill-defined and being set to 0.0 in labels with no predicted samples. Use `zero_division` parameter to control this behavior.\n",
      "  _warn_prf(average, modifier, f\"{metric.capitalize()} is\", len(result))\n"
     ]
    }
   ],
   "source": [
    "clf = Catch22Classifier(\n",
    "    estimator=RandomForestClassifier(n_estimators=100, random_state=42),\n",
    "    outlier_norm=True,\n",
    "    random_state=42,\n",
    ")\n",
    "\n",
    "clf.fit(X_train_speed, y_train)\n",
    "y_pred = clf.predict(X_test_speed)\n",
    "\n",
    "print(f\"Accuracy: {accuracy_score(y_test, y_pred):.4f}\")\n",
    "print(\"\\nClassification Report:\")\n",
    "print(classification_report(y_test, y_pred))"
   ]
  },
  {
   "cell_type": "code",
   "execution_count": 21,
   "id": "584e809f",
   "metadata": {},
   "outputs": [
    {
     "name": "stdout",
     "output_type": "stream",
     "text": [
      "\n",
      "=== 2024 Season [R] ===\n"
     ]
    },
    {
     "data": {
      "image/png": "[encoded data removed]",
      "text/plain": [
       "<Figure size 800x600 with 2 Axes>"
      ]
     },
     "metadata": {},
     "output_type": "display_data"
    },
    {
     "name": "stdout",
     "output_type": "stream",
     "text": [
      "Accuracy: 0.9197\n",
      "F1-Score (Macro): 0.1614\n",
      "F1-Score (Micro): 0.9197\n",
      "F1-Score (Weighted): 0.8816\n",
      "\n",
      "Per-class F1-scores:\n",
      "  green: 0.9582\n",
      "  red: 0.0000\n",
      "  safety_car: 0.0103\n",
      "  yellow: 0.0000\n",
      "  Class_4: 0.0000\n",
      "  Class_5: 0.0000\n",
      "\n",
      "Class distribution:\n",
      "  green: 122884 (92.0%)\n",
      "  red: 2688 (2.0%)\n",
      "  safety_car: 3821 (2.9%)\n",
      "  yellow: 791 (0.6%)\n",
      "  Class_4: 35 (0.0%)\n",
      "  Class_5: 3389 (2.5%)\n"
     ]
    }
   ],
   "source": [
    "results = comprehensive_evaluation(y_test, y_pred, class_names, \"2024 Season [R]\")"
   ]
  },
  {
   "cell_type": "code",
   "execution_count": 23,
   "id": "413ca24e",
   "metadata": {},
   "outputs": [
    {
     "name": "stdout",
     "output_type": "stream",
     "text": [
      "\n",
      "=== BASELINE COMPARISON ===\n",
      "\n",
      "=== Baseline (Most Frequent) ===\n"
     ]
    },
    {
     "data": {
      "image/png": "[encoded data removed]",
      "text/plain": [
       "<Figure size 800x600 with 2 Axes>"
      ]
     },
     "metadata": {},
     "output_type": "display_data"
    },
    {
     "name": "stdout",
     "output_type": "stream",
     "text": [
      "Accuracy: 0.9197\n",
      "F1-Score (Macro): 0.1597\n",
      "F1-Score (Micro): 0.9197\n",
      "F1-Score (Weighted): 0.8813\n",
      "\n",
      "Per-class F1-scores:\n",
      "  green: 0.9582\n",
      "  red: 0.0000\n",
      "  safety_car: 0.0000\n",
      "  yellow: 0.0000\n",
      "  Class_4: 0.0000\n",
      "  Class_5: 0.0000\n",
      "\n",
      "Class distribution:\n",
      "  green: 122884 (92.0%)\n",
      "  red: 2688 (2.0%)\n",
      "  safety_car: 3821 (2.9%)\n",
      "  yellow: 791 (0.6%)\n",
      "  Class_4: 35 (0.0%)\n",
      "  Class_5: 3389 (2.5%)\n",
      "\n",
      "=== SUMMARY COMPARISON ===\n",
      "Metric               Catch22    Baseline   Difference\n",
      "--------------------------------------------------\n",
      "Accuracy             0.9197     0.9197     -0.0000   \n",
      "F1-Macro             0.1614     0.1597     0.0017    \n",
      "F1-Weighted          0.8816     0.8813     0.0003    \n",
      "\n",
      "=== ANALYSIS ===\n",
      "⚠️  Model performs similarly to baseline classifier\n"
     ]
    }
   ],
   "source": [
    "# Compare with baseline\n",
    "print(\"\\n=== BASELINE COMPARISON ===\")\n",
    "dummy = DummyClassifier(strategy='most_frequent')\n",
    "dummy.fit(X_train_speed, y_train)\n",
    "y_dummy = dummy.predict(X_test_speed)\n",
    "\n",
    "baseline_results = comprehensive_evaluation(y_test, y_dummy, class_names, \"Baseline (Most Frequent)\")\n",
    "\n",
    "# Summary comparison\n",
    "print(\"\\n=== SUMMARY COMPARISON ===\")\n",
    "print(f\"{'Metric':<20} {'Catch22':<10} {'Baseline':<10} {'Difference':<10}\")\n",
    "print(\"-\" * 50)\n",
    "print(f\"{'Accuracy':<20} {results['accuracy']:<10.4f} {baseline_results['accuracy']:<10.4f} {results['accuracy'] - baseline_results['accuracy']:<10.4f}\")\n",
    "print(f\"{'F1-Macro':<20} {results['f1_macro']:<10.4f} {baseline_results['f1_macro']:<10.4f} {results['f1_macro'] - baseline_results['f1_macro']:<10.4f}\")\n",
    "print(f\"{'F1-Weighted':<20} {results['f1_weighted']:<10.4f} {baseline_results['f1_weighted']:<10.4f} {results['f1_weighted'] - baseline_results['f1_weighted']:<10.4f}\")\n",
    "\n",
    "# Check if model is learning anything meaningful\n",
    "print(f\"\\n=== ANALYSIS ===\")\n",
    "if results['f1_macro'] < 0.1:\n",
    "    print(\"⚠️  Model is not learning meaningful patterns (F1-macro < 0.1)\")\n",
    "if abs(results['accuracy'] - baseline_results['accuracy']) < 0.01:\n",
    "    print(\"⚠️  Model performs similarly to baseline classifier\")\n",
    "if len(np.unique(y_pred)) == 1:\n",
    "    print(\"⚠️  Model is only predicting one class\")"
   ]
  },
  {
   "cell_type": "markdown",
   "id": "5006ebfa",
   "metadata": {},
   "source": [
    "# One Driver"
   ]
  },
  {
   "cell_type": "code",
   "execution_count": null,
   "id": "59e0e1e5",
   "metadata": {},
   "outputs": [],
   "source": [
    "### Basic Usage - Single Race\n",
    "\n",
    "# Define a single race session\n",
    "session = SessionConfig(\n",
    "    year=2024,\n",
    "    race=\"Monaco Grand Prix\",\n",
    "    session_type=\"R\"  # Race\n",
    ")\n",
    "\n",
    "# Configure the dataset\n",
    "config = DataConfig(\n",
    "    sessions=[session],\n",
    "    cache_dir=\"./f1_cache\",\n",
    "    drivers=[\"VER\"] # <---- ONLY INCLUDE VER DATA\n",
    ")\n",
    "\n",
    "# Generate the dataset\n",
    "dataset = create_safety_car_dataset(\n",
    "    config=config,\n",
    "    window_size=100,\n",
    "    prediction_horizon=10\n",
    ")\n",
    "\n",
    "print(f\"Generated {dataset['config']['n_sequences']} sequences\")\n",
    "print(f\"Features: {dataset['config']['feature_names']}\")\n",
    "print(f\"Class distribution: {dataset['class_distribution']}\")"
   ]
  },
  {
   "cell_type": "markdown",
   "id": "fd03ea15",
   "metadata": {},
   "source": [
    "# Debugging"
   ]
  },
  {
   "cell_type": "code",
   "execution_count": 24,
   "id": "ca00efe1",
   "metadata": {},
   "outputs": [
    {
     "data": {
      "text/plain": [
       "dict_keys(['X', 'y', 'y_raw', 'metadata', 'label_encoder', 'feature_engineer', 'raw_telemetry', 'class_distribution', 'config'])"
      ]
     },
     "execution_count": 24,
     "metadata": {},
     "output_type": "execute_result"
    }
   ],
   "source": [
    "dataset.keys()"
   ]
  },
  {
   "cell_type": "code",
   "execution_count": 26,
   "id": "76cd101c",
   "metadata": {},
   "outputs": [
    {
     "data": {
      "text/plain": [
       "{'start_time': Timestamp('2024-12-08 12:06:49.420000'),\n",
       " 'end_time': Timestamp('2024-12-08 12:07:04.979000'),\n",
       " 'prediction_time': Timestamp('2024-12-08 12:07:06.295000'),\n",
       " 'sequence_length': 100,\n",
       " 'prediction_horizon': 10,\n",
       " 'features_used': ['Speed',\n",
       "  'RPM',\n",
       "  'nGear',\n",
       "  'Throttle',\n",
       "  'Brake',\n",
       "  'X',\n",
       "  'Y',\n",
       "  'Distance',\n",
       "  'DifferentialDistance'],\n",
       " 'target_column': 'TrackStatus',\n",
       " 'SessionId': '2024_Abu Dhabi Grand Prix_R',\n",
       " 'Driver': '1'}"
      ]
     },
     "execution_count": 26,
     "metadata": {},
     "output_type": "execute_result"
    }
   ],
   "source": [
    "dataset['metadata'][0]"
   ]
  },
  {
   "cell_type": "code",
   "execution_count": 27,
   "id": "b1d8710d",
   "metadata": {},
   "outputs": [],
   "source": [
    "label_encoder = dataset['label_encoder']"
   ]
  },
  {
   "cell_type": "code",
   "execution_count": 29,
   "id": "1e57855e",
   "metadata": {},
   "outputs": [
    {
     "data": {
      "text/plain": [
       "array(['green', 'red', 'safety_car', 'vsc', 'vsc_ending', 'yellow'],\n",
       "      dtype=object)"
      ]
     },
     "execution_count": 29,
     "metadata": {},
     "output_type": "execute_result"
    }
   ],
   "source": [
    "label_encoder.get_classes()"
   ]
  },
  {
   "cell_type": "code",
   "execution_count": 30,
   "id": "ae52a1ce",
   "metadata": {},
   "outputs": [],
   "source": [
    "from sklearn.preprocessing import LabelEncoder\n",
    "\n",
    "\n",
    "class DriverLabelEncoder:\n",
    "    \"\"\"Encodes driver identifiers for consistency\"\"\"\n",
    "    \n",
    "    def __init__(self):\n",
    "        self.label_encoder = LabelEncoder()\n",
    "        self.is_fitted = False\n",
    "        self.driver_to_number = {}  # Maps abbreviations to driver numbers\n",
    "        self.number_to_driver = {}  # Maps driver numbers to abbreviations\n",
    "    \n",
    "    def fit_session(self, session) -> 'DriverLabelEncoder':\n",
    "        \"\"\"Fit the encoder using session driver data\"\"\"\n",
    "        driver_numbers = session.drivers\n",
    "        \n",
    "        for driver_number in driver_numbers:\n",
    "            driver_info = session.get_driver(driver_number)\n",
    "            abbreviation = driver_info['Abbreviation']\n",
    "            \n",
    "            self.driver_to_number[abbreviation] = driver_number\n",
    "            self.number_to_driver[driver_number] = abbreviation\n",
    "        \n",
    "        # Fit encoder on abbreviations for consistent encoding\n",
    "        abbreviations = list(self.driver_to_number.keys())\n",
    "        self.label_encoder.fit(abbreviations)\n",
    "        self.is_fitted = True\n",
    "        return self\n",
    "    \n",
    "    def transform_driver_to_number(self, drivers):\n",
    "        \"\"\"Transform driver abbreviations to driver numbers\"\"\"\n",
    "        if not self.is_fitted:\n",
    "            raise ValueError(\"Encoder not fitted\")\n",
    "        return [self.driver_to_number[driver] for driver in drivers]\n",
    "    \n",
    "    def transform_number_to_driver(self, numbers):\n",
    "        \"\"\"Transform driver numbers to abbreviations\"\"\"\n",
    "        if not self.is_fitted:\n",
    "            raise ValueError(\"Encoder not fitted\")\n",
    "        return [self.number_to_driver[number] for number in numbers]"
   ]
  },
  {
   "cell_type": "code",
   "execution_count": null,
   "id": "41354417",
   "metadata": {},
   "outputs": [
    {
     "ename": "NameError",
     "evalue": "name 'session' is not defined",
     "output_type": "error",
     "traceback": [
      "\u001b[31m---------------------------------------------------------------------------\u001b[39m",
      "\u001b[31mNameError\u001b[39m                                 Traceback (most recent call last)",
      "\u001b[36mCell\u001b[39m\u001b[36m \u001b[39m\u001b[32mIn[31]\u001b[39m\u001b[32m, line 2\u001b[39m\n\u001b[32m      1\u001b[39m driver_label_encoder = DriverLabelEncoder()\n\u001b[32m----> \u001b[39m\u001b[32m2\u001b[39m driver_label_encoder.fit_session(\u001b[43msession\u001b[49m)\n",
      "\u001b[31mNameError\u001b[39m: name 'session' is not defined"
     ]
    }
   ],
   "source": [
    "driver_label_encoder = DriverLabelEncoder()"
   ]
  },
  {
   "cell_type": "code",
   "execution_count": 35,
   "id": "7edbbcd9",
   "metadata": {},
   "outputs": [
    {
     "name": "stderr",
     "output_type": "stream",
     "text": [
      "core           INFO \tLoading data for Saudi Arabian Grand Prix - Race [v3.5.3]\n",
      "req            INFO \tUsing cached data for session_info\n",
      "req            INFO \tUsing cached data for driver_info\n",
      "req            INFO \tUsing cached data for session_status_data\n",
      "req            INFO \tUsing cached data for lap_count\n",
      "req            INFO \tUsing cached data for track_status_data\n",
      "req            INFO \tUsing cached data for _extended_timing_data\n",
      "req            INFO \tUsing cached data for timing_app_data\n",
      "core           INFO \tProcessing timing data...\n",
      "req            INFO \tUsing cached data for car_data\n",
      "req            INFO \tUsing cached data for position_data\n",
      "req            INFO \tUsing cached data for weather_data\n",
      "req            INFO \tUsing cached data for race_control_messages\n",
      "core           INFO \tFinished loading data for 20 drivers: ['1', '11', '16', '81', '14', '63', '38', '4', '44', '27', '23', '20', '31', '2', '22', '3', '77', '24', '18', '10']\n"
     ]
    }
   ],
   "source": [
    "import fastf1\n",
    "session = fastf1.get_session(2024, 'Saudi Arabian Grand Prix', 'R')\n",
    "session.load()"
   ]
  },
  {
   "cell_type": "code",
   "execution_count": 36,
   "id": "f434b8df",
   "metadata": {},
   "outputs": [
    {
     "data": {
      "text/plain": [
       "<__main__.DriverLabelEncoder at 0x7f95d3d50>"
      ]
     },
     "execution_count": 36,
     "metadata": {},
     "output_type": "execute_result"
    }
   ],
   "source": [
    "driver_label_encoder.fit_session(session)"
   ]
  },
  {
   "cell_type": "code",
   "execution_count": 38,
   "id": "2dca773c",
   "metadata": {},
   "outputs": [
    {
     "data": {
      "text/plain": [
       "{'1': 'VER',\n",
       " '11': 'PER',\n",
       " '16': 'LEC',\n",
       " '81': 'PIA',\n",
       " '14': 'ALO',\n",
       " '63': 'RUS',\n",
       " '38': 'BEA',\n",
       " '4': 'NOR',\n",
       " '44': 'HAM',\n",
       " '27': 'HUL',\n",
       " '23': 'ALB',\n",
       " '20': 'MAG',\n",
       " '31': 'OCO',\n",
       " '2': 'SAR',\n",
       " '22': 'TSU',\n",
       " '3': 'RIC',\n",
       " '77': 'BOT',\n",
       " '24': 'ZHO',\n",
       " '18': 'STR',\n",
       " '10': 'GAS'}"
      ]
     },
     "execution_count": 38,
     "metadata": {},
     "output_type": "execute_result"
    }
   ],
   "source": [
    "driver_label_encoder.number_to_driver"
   ]
  }
 ],
 "metadata": {
  "kernelspec": {
   "display_name": "notebooks",
   "language": "python",
   "name": "python3"
  },
  "language_info": {
   "codemirror_mode": {
    "name": "ipython",
    "version": 3
   },
   "file_extension": ".py",
   "mimetype": "text/x-python",
   "name": "python",
   "nbconvert_exporter": "python",
   "pygments_lexer": "ipython3",
   "version": "3.11.11"
  }
 },
 "nbformat": 4,
 "nbformat_minor": 5
}
