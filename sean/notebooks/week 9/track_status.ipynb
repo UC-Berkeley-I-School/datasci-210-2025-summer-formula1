{
 "cells": [
  {
   "cell_type": "code",
   "execution_count": 1,
   "id": "47b5eea2",
   "metadata": {},
   "outputs": [],
   "source": [
    "import fastf1"
   ]
  },
  {
   "cell_type": "code",
   "execution_count": 2,
   "id": "18c00058",
   "metadata": {},
   "outputs": [
    {
     "name": "stderr",
     "output_type": "stream",
     "text": [
      "req         WARNING \tDEFAULT CACHE ENABLED! (2.59 GB) /Users/seansica/Library/Caches/fastf1\n",
      "events      WARNING \tCorrecting user input 'Saudia Arabian Grand Prix' to 'Saudi Arabian Grand Prix'\n",
      "core           INFO \tLoading data for Saudi Arabian Grand Prix - Race [v3.5.3]\n",
      "req            INFO \tUsing cached data for session_info\n",
      "req            INFO \tUsing cached data for driver_info\n",
      "req            INFO \tUsing cached data for session_status_data\n",
      "req            INFO \tUsing cached data for lap_count\n",
      "req            INFO \tUsing cached data for track_status_data\n",
      "req            INFO \tUsing cached data for _extended_timing_data\n",
      "req            INFO \tUsing cached data for timing_app_data\n",
      "core           INFO \tProcessing timing data...\n",
      "req            INFO \tUsing cached data for car_data\n",
      "req            INFO \tUsing cached data for position_data\n",
      "req            INFO \tUsing cached data for weather_data\n",
      "req            INFO \tUsing cached data for race_control_messages\n",
      "core           INFO \tFinished loading data for 20 drivers: ['1', '11', '16', '81', '14', '63', '38', '4', '44', '27', '23', '20', '31', '2', '22', '3', '77', '24', '18', '10']\n"
     ]
    }
   ],
   "source": [
    "session = fastf1.get_session(2024, \"Saudia Arabian Grand Prix\", \"R\")\n",
    "session.load()"
   ]
  },
  {
   "cell_type": "code",
   "execution_count": 15,
   "id": "398e4d48",
   "metadata": {},
   "outputs": [
    {
     "data": {
      "text/html": [
       "<div>\n",
       "<style scoped>\n",
       "    .dataframe tbody tr th:only-of-type {\n",
       "        vertical-align: middle;\n",
       "    }\n",
       "\n",
       "    .dataframe tbody tr th {\n",
       "        vertical-align: top;\n",
       "    }\n",
       "\n",
       "    .dataframe thead th {\n",
       "        text-align: right;\n",
       "    }\n",
       "</style>\n",
       "<table border=\"1\" class=\"dataframe\">\n",
       "  <thead>\n",
       "    <tr style=\"text-align: right;\">\n",
       "      <th></th>\n",
       "      <th>Time</th>\n",
       "      <th>Category</th>\n",
       "      <th>Message</th>\n",
       "      <th>Status</th>\n",
       "      <th>Flag</th>\n",
       "      <th>Scope</th>\n",
       "      <th>Sector</th>\n",
       "      <th>RacingNumber</th>\n",
       "      <th>Lap</th>\n",
       "    </tr>\n",
       "  </thead>\n",
       "  <tbody>\n",
       "    <tr>\n",
       "      <th>20</th>\n",
       "      <td>2024-03-09 17:14:05</td>\n",
       "      <td>SafetyCar</td>\n",
       "      <td>SAFETY CAR DEPLOYED</td>\n",
       "      <td>DEPLOYED</td>\n",
       "      <td>None</td>\n",
       "      <td>None</td>\n",
       "      <td>NaN</td>\n",
       "      <td>None</td>\n",
       "      <td>7</td>\n",
       "    </tr>\n",
       "    <tr>\n",
       "      <th>25</th>\n",
       "      <td>2024-03-09 17:20:12</td>\n",
       "      <td>SafetyCar</td>\n",
       "      <td>SAFETY CAR IN THIS LAP</td>\n",
       "      <td>IN THIS LAP</td>\n",
       "      <td>None</td>\n",
       "      <td>None</td>\n",
       "      <td>NaN</td>\n",
       "      <td>None</td>\n",
       "      <td>9</td>\n",
       "    </tr>\n",
       "  </tbody>\n",
       "</table>\n",
       "</div>"
      ],
      "text/plain": [
       "                  Time   Category                 Message       Status  Flag  \\\n",
       "20 2024-03-09 17:14:05  SafetyCar     SAFETY CAR DEPLOYED     DEPLOYED  None   \n",
       "25 2024-03-09 17:20:12  SafetyCar  SAFETY CAR IN THIS LAP  IN THIS LAP  None   \n",
       "\n",
       "   Scope  Sector RacingNumber  Lap  \n",
       "20  None     NaN         None    7  \n",
       "25  None     NaN         None    9  "
      ]
     },
     "execution_count": 15,
     "metadata": {},
     "output_type": "execute_result"
    }
   ],
   "source": [
    "session.race_control_messages[session.race_control_messages['Category'] == 'SafetyCar']"
   ]
  },
  {
   "cell_type": "code",
   "execution_count": 12,
   "id": "f181121b",
   "metadata": {},
   "outputs": [
    {
     "data": {
      "text/plain": [
       "'PIT LANE INCIDENT INVOLVING CARS 22 (TSU) AND 4 (NOR) NOTED - UNSAFE RELEASE'"
      ]
     },
     "execution_count": 12,
     "metadata": {},
     "output_type": "execute_result"
    }
   ],
   "source": [
    "session.race_control_messages.iloc[7]['Message']"
   ]
  }
 ],
 "metadata": {
  "kernelspec": {
   "display_name": "notebooks",
   "language": "python",
   "name": "python3"
  },
  "language_info": {
   "codemirror_mode": {
    "name": "ipython",
    "version": 3
   },
   "file_extension": ".py",
   "mimetype": "text/x-python",
   "name": "python",
   "nbconvert_exporter": "python",
   "pygments_lexer": "ipython3",
   "version": "3.11.11"
  }
 },
 "nbformat": 4,
 "nbformat_minor": 5
}
