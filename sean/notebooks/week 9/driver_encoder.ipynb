{
 "cells": [
  {
   "cell_type": "code",
   "execution_count": null,
   "id": "8288d3ab",
   "metadata": {},
   "outputs": [],
   "source": [
    "import fastf1\n",
    "from f1_etl import DriverLabelEncoder\n",
    "\n",
    "session_sa = fastf1.get_session(2024, \"Saudi Arabian Grand Prix\", 'R')\n",
    "session_mon = fastf1.get_session(2024, \"Monaco Grand Prix\", 'R')\n",
    "\n",
    "session_sa.load()\n",
    "session_mon.load()\n",
    "\n",
    "driver_enc_sa = DriverLabelEncoder()\n",
    "driver_enc_sa.fit_session(session_sa)\n",
    "\n",
    "driver_enc_mon = DriverLabelEncoder()\n",
    "driver_enc_mon.fit_session(session_mon)"
   ]
  },
  {
   "cell_type": "code",
   "execution_count": null,
   "id": "c3701305",
   "metadata": {},
   "outputs": [],
   "source": [
    "driver_enc_sa.driver_to_number"
   ]
  },
  {
   "cell_type": "code",
   "execution_count": null,
   "id": "ba3aa31f",
   "metadata": {},
   "outputs": [],
   "source": [
    "driver_enc_mon.driver_to_number"
   ]
  }
 ],
 "metadata": {
  "language_info": {
   "name": "python"
  }
 },
 "nbformat": 4,
 "nbformat_minor": 5
}
