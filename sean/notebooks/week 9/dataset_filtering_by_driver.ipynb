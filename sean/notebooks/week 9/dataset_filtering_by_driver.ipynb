{
 "cells": [
  {
   "cell_type": "markdown",
   "id": "c9b51f5b",
   "metadata": {},
   "source": [
    "# Setup"
   ]
  },
  {
   "cell_type": "code",
   "execution_count": 8,
   "id": "089e5c50",
   "metadata": {},
   "outputs": [],
   "source": [
    "import fastf1\n",
    "\n",
    "from f1_etl import DriverLabelEncoder, DataConfig, SessionConfig, create_safety_car_dataset\n",
    "from f1_etl import DataAggregator, RawDataExtractor\n",
    "from f1_etl.config import create_season_configs"
   ]
  },
  {
   "cell_type": "markdown",
   "id": "762b43d8",
   "metadata": {},
   "source": [
    "# Qatar Grand Prix (2024)\n",
    "\n",
    "- Nico Hülkenberg (HUL, #27) – Involved in a Turn 1 collision on Lap 1 (with Ocon and Colapinto), which brought out a Safety Car. Later in the race, Hülkenberg spun into the gravel on Lap 40, contributing to a VSC that transitioned into a full Safety Car.\n",
    "\n",
    "- Esteban Ocon (OCO, #31) – Caught in the Lap 1 collision (with Hülkenberg and Colapinto) that triggered the opening-lap Safety Car. Ocon was eliminated from the race in this incident.\n",
    "Franco Colapinto (COL, #43) – Also involved in the Lap 1 multi-car collision with Hülkenberg and Ocon, which resulted in an immediate Safety Car. Colapinto was eliminated from the race due to this crash.\n",
    "\n",
    "- Alex Albon (ALB, #23) – Lost a wing mirror on the main straight during Lap 35. The debris was left on track and subsequently hit by another car, leading to a full Safety Car as marshals cleared the shattered mirror. (Albon’s incident led directly to an SC deployment, not just a VSC.)\n",
    "\n",
    "- Valtteri Bottas (BOT, #77) – Ran over Albon’s detached mirror on Lap 35, which scattered carbon-fibre debris across the track. This worsening of the hazard (and resulting punctures on other cars) prompted the Safety Car deployment to allow cleanup of the debris.\n",
    "\n",
    "- Sergio Pérez (PER, #11) – Spun off on Lap 40 under his own accord and became stranded on track just as the previous Safety Car period was ending. This, combined with Hülkenberg’s simultaneous spin, initially brought out a Virtual Safety Car which then escalated to a full Safety Car. (Pérez’s incident was a VSC → SC trigger.)"
   ]
  },
  {
   "cell_type": "code",
   "execution_count": 2,
   "id": "77de7f51",
   "metadata": {},
   "outputs": [
    {
     "name": "stderr",
     "output_type": "stream",
     "text": [
      "req         WARNING \tDEFAULT CACHE ENABLED! (4.94 GB) /Users/seansica/Library/Caches/fastf1\n",
      "events      WARNING \tCorrecting user input 'Qatar Grand Prix' to 'Qatar Grand Prix'\n",
      "core           INFO \tLoading data for Qatar Grand Prix - Race [v3.5.3]\n",
      "req            INFO \tUsing cached data for session_info\n",
      "req            INFO \tUsing cached data for driver_info\n",
      "req            INFO \tUsing cached data for session_status_data\n",
      "req            INFO \tUsing cached data for lap_count\n",
      "req            INFO \tUsing cached data for track_status_data\n",
      "req            INFO \tUsing cached data for _extended_timing_data\n",
      "req            INFO \tUsing cached data for timing_app_data\n",
      "core           INFO \tProcessing timing data...\n",
      "req            INFO \tUsing cached data for car_data\n",
      "req            INFO \tUsing cached data for position_data\n",
      "req            INFO \tUsing cached data for weather_data\n",
      "req            INFO \tUsing cached data for race_control_messages\n",
      "core           INFO \tFinished loading data for 20 drivers: ['1', '16', '81', '63', '10', '55', '14', '24', '20', '4', '77', '44', '22', '30', '23', '27', '11', '18', '43', '31']\n"
     ]
    }
   ],
   "source": [
    "session_qa = fastf1.get_session(2024, \"Qatar Grand Prix\", \"R\")\n",
    "session_qa.load()"
   ]
  },
  {
   "cell_type": "code",
   "execution_count": 4,
   "id": "c1962de5",
   "metadata": {},
   "outputs": [
    {
     "data": {
      "text/plain": [
       "{'VER': '1',\n",
       " 'LEC': '16',\n",
       " 'PIA': '81',\n",
       " 'RUS': '63',\n",
       " 'GAS': '10',\n",
       " 'SAI': '55',\n",
       " 'ALO': '14',\n",
       " 'ZHO': '24',\n",
       " 'MAG': '20',\n",
       " 'NOR': '4',\n",
       " 'BOT': '77',\n",
       " 'HAM': '44',\n",
       " 'TSU': '22',\n",
       " 'LAW': '30',\n",
       " 'ALB': '23',\n",
       " 'HUL': '27',\n",
       " 'PER': '11',\n",
       " 'STR': '18',\n",
       " 'COL': '43',\n",
       " 'OCO': '31'}"
      ]
     },
     "execution_count": 4,
     "metadata": {},
     "output_type": "execute_result"
    }
   ],
   "source": [
    "driver_enc_qa = DriverLabelEncoder()\n",
    "driver_enc_qa.fit_session(session_qa)\n",
    "\n",
    "driver_enc_qa.driver_to_number"
   ]
  },
  {
   "cell_type": "code",
   "execution_count": null,
   "id": "3bf555d4",
   "metadata": {},
   "outputs": [],
   "source": [
    "data_config = DataConfig(\n",
    "    sessions=[\n",
    "        SessionConfig(2024, \"Qatar Grand Prix\", \"R\")\n",
    "    ],\n",
    "    drivers=[\"27\", \"31\", \"23\", \"77\", \"11\"]\n",
    ")"
   ]
  },
  {
   "cell_type": "markdown",
   "id": "282384e3",
   "metadata": {},
   "source": [
    "# TrackStatus Encoder"
   ]
  },
  {
   "cell_type": "code",
   "execution_count": 9,
   "id": "11a4fdf2",
   "metadata": {},
   "outputs": [],
   "source": [
    "from f1_etl import FixedVocabTrackStatusEncoder\n",
    "\n",
    "track_status_enc = FixedVocabTrackStatusEncoder()"
   ]
  },
  {
   "cell_type": "code",
   "execution_count": 10,
   "id": "a850c520",
   "metadata": {},
   "outputs": [
    {
     "name": "stderr",
     "output_type": "stream",
     "text": [
      "events      WARNING \tCorrecting user input 'Qatar Grand Prix' to 'Qatar Grand Prix'\n",
      "core           INFO \tLoading data for Qatar Grand Prix - Race [v3.5.3]\n",
      "req            INFO \tUsing cached data for session_info\n",
      "req            INFO \tUsing cached data for driver_info\n",
      "req            INFO \tUsing cached data for session_status_data\n",
      "req            INFO \tUsing cached data for lap_count\n",
      "req            INFO \tUsing cached data for track_status_data\n",
      "req            INFO \tUsing cached data for _extended_timing_data\n",
      "req            INFO \tUsing cached data for timing_app_data\n",
      "core           INFO \tProcessing timing data...\n"
     ]
    },
    {
     "name": "stdout",
     "output_type": "stream",
     "text": [
      "Loading session: 2024 Qatar Grand Prix R\n"
     ]
    },
    {
     "name": "stderr",
     "output_type": "stream",
     "text": [
      "req            INFO \tUsing cached data for car_data\n",
      "req            INFO \tUsing cached data for position_data\n",
      "req            INFO \tUsing cached data for weather_data\n",
      "req            INFO \tUsing cached data for race_control_messages\n",
      "core           INFO \tFinished loading data for 20 drivers: ['1', '16', '81', '63', '10', '55', '14', '24', '20', '4', '77', '44', '22', '30', '23', '27', '11', '18', '43', '31']\n",
      "core           INFO \tLoading data for Chinese Grand Prix - Race [v3.5.3]\n",
      "req            INFO \tUsing cached data for session_info\n",
      "req            INFO \tUsing cached data for driver_info\n",
      "req            INFO \tUsing cached data for session_status_data\n",
      "req            INFO \tUsing cached data for lap_count\n",
      "req            INFO \tUsing cached data for track_status_data\n",
      "req            INFO \tUsing cached data for _extended_timing_data\n",
      "req            INFO \tUsing cached data for timing_app_data\n",
      "core           INFO \tProcessing timing data...\n"
     ]
    },
    {
     "name": "stdout",
     "output_type": "stream",
     "text": [
      "Loading session: 2024 Chinese Grand Prix R\n"
     ]
    },
    {
     "name": "stderr",
     "output_type": "stream",
     "text": [
      "req            INFO \tUsing cached data for car_data\n",
      "req            INFO \tUsing cached data for position_data\n",
      "req            INFO \tUsing cached data for weather_data\n",
      "req            INFO \tUsing cached data for race_control_messages\n",
      "core        WARNING \tDriver 1 completed the race distance 00:08.313000 before the recorded end of the session.\n",
      "core           INFO \tFinished loading data for 20 drivers: ['1', '4', '11', '16', '55', '63', '14', '81', '44', '27', '31', '23', '10', '24', '18', '20', '2', '3', '22', '77']\n",
      "core           INFO \tLoading data for Mexico City Grand Prix - Race [v3.5.3]\n",
      "req            INFO \tUsing cached data for session_info\n",
      "req            INFO \tUsing cached data for driver_info\n",
      "req            INFO \tUsing cached data for session_status_data\n",
      "req            INFO \tUsing cached data for lap_count\n",
      "req            INFO \tUsing cached data for track_status_data\n",
      "req            INFO \tUsing cached data for _extended_timing_data\n",
      "req            INFO \tUsing cached data for timing_app_data\n",
      "core           INFO \tProcessing timing data...\n"
     ]
    },
    {
     "name": "stdout",
     "output_type": "stream",
     "text": [
      "Loading session: 2024 Mexico City Grand Prix R\n"
     ]
    },
    {
     "name": "stderr",
     "output_type": "stream",
     "text": [
      "req            INFO \tUsing cached data for car_data\n",
      "req            INFO \tUsing cached data for position_data\n",
      "req            INFO \tUsing cached data for weather_data\n",
      "req            INFO \tUsing cached data for race_control_messages\n",
      "core           INFO \tFinished loading data for 20 drivers: ['55', '4', '16', '44', '63', '1', '20', '81', '27', '10', '18', '43', '31', '77', '24', '30', '11', '14', '23', '22']\n"
     ]
    },
    {
     "name": "stdout",
     "output_type": "stream",
     "text": [
      "\n",
      "📊 Track Status Analysis (training_data):\n",
      "   green       : 1425374 samples ( 82.2%)\n",
      "   safety_car  : 146082 samples (  8.4%)\n",
      "   vsc         :  2337 samples (  0.1%)\n",
      "   yellow      : 159368 samples (  9.2%)\n",
      "   Missing classes: [np.str_('red'), np.str_('unknown'), np.str_('vsc_ending')]\n",
      "✅ FixedVocabTrackStatusEncoder fitted\n",
      "   Classes seen: ['green', 'safety_car', 'vsc', 'yellow']\n",
      "   Total classes: 7\n",
      "   Output mode: integer labels\n"
     ]
    }
   ],
   "source": [
    "config = data_config\n",
    "\n",
    "for session in config.sessions:\n",
    "    effective_drivers = config.get_effective_drivers(session)\n",
    "    \n",
    "\n",
    "# Step 1: Extract raw data\n",
    "extractor = RawDataExtractor(config.cache_dir)\n",
    "sessions_data = [\n",
    "    extractor.extract_session(session_config) for session_config in config.sessions\n",
    "]\n",
    "\n",
    "# Step 2: Aggregate data with per-session driver filtering\n",
    "aggregator = DataAggregator()\n",
    "telemetry_data = aggregator.aggregate_telemetry_data(\n",
    "    sessions_data, config, config.sessions\n",
    ")\n",
    "\n",
    "if telemetry_data.empty:\n",
    "    raise ValueError(\"No telemetry data extracted\")\n",
    "\n",
    "# Step 3: Setup fixed vocabulary encoder for track status\n",
    "\n",
    "label_encoder = FixedVocabTrackStatusEncoder(use_onehot=False)\n",
    "\n",
    "\n",
    "# Analyze distributions before encoding (optional but useful)\n",
    "label_encoder.analyze_data(telemetry_data[\"TrackStatus\"], \"training_data\")\n",
    "\n",
    "if \"TrackStatus\" not in telemetry_data.columns:\n",
    "    raise ValueError(\"TrackStatus column not found in telemetry data\")\n",
    "\n",
    "# Fit and transform\n",
    "encoded_labels = label_encoder.fit_transform(telemetry_data[\"TrackStatus\"])"
   ]
  },
  {
   "cell_type": "code",
   "execution_count": 13,
   "id": "30d41802",
   "metadata": {},
   "outputs": [
    {
     "data": {
      "text/plain": [
       "{np.str_('green'): 0,\n",
       " np.str_('red'): 1,\n",
       " np.str_('safety_car'): 2,\n",
       " np.str_('unknown'): 3,\n",
       " np.str_('vsc'): 4,\n",
       " np.str_('vsc_ending'): 5,\n",
       " np.str_('yellow'): 6}"
      ]
     },
     "execution_count": 13,
     "metadata": {},
     "output_type": "execute_result"
    }
   ],
   "source": [
    "label_encoder.class_to_idx"
   ]
  },
  {
   "cell_type": "code",
   "execution_count": 15,
   "id": "7928dc14",
   "metadata": {},
   "outputs": [
    {
     "data": {
      "text/plain": [
       "2"
      ]
     },
     "execution_count": 15,
     "metadata": {},
     "output_type": "execute_result"
    }
   ],
   "source": [
    "label_encoder.class_to_idx['safety_car']"
   ]
  },
  {
   "cell_type": "markdown",
   "id": "08d1c4c4",
   "metadata": {},
   "source": [
    "# All Grand Prix (2024)"
   ]
  },
  {
   "cell_type": "code",
   "execution_count": null,
   "id": "55553701",
   "metadata": {},
   "outputs": [],
   "source": [
    "data_config = DataConfig(\n",
    "    sessions=[\n",
    "        SessionConfig(2024, \"Qatar Grand Prix\", \"R\"),\n",
    "        SessionConfig(2024, \"Chinese Grand Prix\", \"R\"), \n",
    "        SessionConfig(2024, \"Canadian Grand Prix\", \"R\"),\n",
    "        SessionConfig(2024, \"Mexico City Grand Prix\", \"R\"),\n",
    "        SessionConfig(2024, \"São Paulo Grand Prix\", \"R\"),\n",
    "        SessionConfig(2024, \"Miami Grand Prix\", \"R\"),\n",
    "        SessionConfig(2024, \"Saudi Arabian Grand Prix\", \"R\"),\n",
    "        SessionConfig(2024, \"United States Grand Prix\", \"R\"),\n",
    "        SessionConfig(2024, \"Monaco Grand Prix\", \"R\")\n",
    "    ],\n",
    "    drivers=[\n",
    "        # Qatar GP\n",
    "        \"27\", \"31\", \"43\", \"23\", \"77\", \"11\",\n",
    "        # Chinese GP  \n",
    "        \"77\", \"18\", \"3\", \"20\", \"22\",\n",
    "        # Canadian GP\n",
    "        \"2\", \"55\", \"23\",\n",
    "        # Mexico City GP\n",
    "        \"22\", \"23\", \n",
    "        # São Paulo GP\n",
    "        \"27\", \"43\", \"55\",\n",
    "        # Miami GP\n",
    "        \"1\", \"20\", \"2\",\n",
    "        # Saudi Arabian GP\n",
    "        \"18\",\n",
    "        # US GP\n",
    "        \"44\",\n",
    "        # Monaco GP\n",
    "        \"11\", \"20\", \"27\"\n",
    "    ],\n",
    "    include_weather=False,\n",
    ")"
   ]
  },
  {
   "cell_type": "markdown",
   "id": "7bdf734f",
   "metadata": {},
   "source": [
    "# Session Filtering By Driver"
   ]
  },
  {
   "cell_type": "markdown",
   "id": "be9d0971",
   "metadata": {},
   "source": [
    "## Method 1: Using per-session drivers in SessionConfig"
   ]
  },
  {
   "cell_type": "code",
   "execution_count": 17,
   "id": "106ef553",
   "metadata": {},
   "outputs": [
    {
     "name": "stderr",
     "output_type": "stream",
     "text": [
      "2025-07-06 20:39:23,512 - f1_etl - INFO - Preprocessing configuration:\n",
      "2025-07-06 20:39:23,513 - f1_etl - INFO -   Missing values: enabled (forward_fill)\n",
      "2025-07-06 20:39:23,514 - f1_etl - INFO -   Normalization: enabled (standard)\n",
      "2025-07-06 20:39:23,514 - f1_etl - INFO -   Resampling: smote\n",
      "2025-07-06 20:39:23,514 - f1_etl - INFO - Driver configuration:\n",
      "2025-07-06 20:39:23,515 - f1_etl - INFO -   Global drivers: None\n",
      "2025-07-06 20:39:23,515 - f1_etl - INFO -   Qatar Grand Prix: ['27', '31', '43', '23', '77', '11']\n",
      "2025-07-06 20:39:23,515 - f1_etl - INFO -   Chinese Grand Prix: ['77', '18', '3', '20', '22']\n",
      "2025-07-06 20:39:23,516 - f1_etl - INFO -   Canadian Grand Prix: ['2', '55', '23']\n",
      "2025-07-06 20:39:23,516 - f1_etl - INFO -   Mexico City Grand Prix: ['22', '23']\n",
      "2025-07-06 20:39:23,517 - f1_etl - INFO -   São Paulo Grand Prix: ['27', '43', '55']\n",
      "2025-07-06 20:39:23,517 - f1_etl - INFO -   Miami Grand Prix: ['1', '20', '2']\n",
      "2025-07-06 20:39:23,517 - f1_etl - INFO -   Saudi Arabian Grand Prix: ['18']\n",
      "2025-07-06 20:39:23,517 - f1_etl - INFO -   United States Grand Prix: ['44']\n",
      "2025-07-06 20:39:23,518 - f1_etl - INFO -   Monaco Grand Prix: ['11', '20', '27']\n",
      "events      WARNING \tCorrecting user input 'Qatar Grand Prix' to 'Qatar Grand Prix'\n",
      "core           INFO \tLoading data for Qatar Grand Prix - Race [v3.5.3]\n",
      "req            INFO \tUsing cached data for session_info\n",
      "req            INFO \tUsing cached data for driver_info\n",
      "req            INFO \tUsing cached data for session_status_data\n",
      "req            INFO \tUsing cached data for lap_count\n",
      "req            INFO \tUsing cached data for track_status_data\n",
      "req            INFO \tUsing cached data for _extended_timing_data\n",
      "req            INFO \tUsing cached data for timing_app_data\n",
      "core           INFO \tProcessing timing data...\n"
     ]
    },
    {
     "name": "stdout",
     "output_type": "stream",
     "text": [
      "Loading session: 2024 Qatar Grand Prix R\n"
     ]
    },
    {
     "name": "stderr",
     "output_type": "stream",
     "text": [
      "req            INFO \tUsing cached data for car_data\n",
      "req            INFO \tUsing cached data for position_data\n",
      "req            INFO \tUsing cached data for weather_data\n",
      "req            INFO \tUsing cached data for race_control_messages\n",
      "core           INFO \tFinished loading data for 20 drivers: ['1', '16', '81', '63', '10', '55', '14', '24', '20', '4', '77', '44', '22', '30', '23', '27', '11', '18', '43', '31']\n",
      "core           INFO \tLoading data for Chinese Grand Prix - Race [v3.5.3]\n",
      "req            INFO \tUsing cached data for session_info\n",
      "req            INFO \tUsing cached data for driver_info\n",
      "req            INFO \tUsing cached data for session_status_data\n",
      "req            INFO \tUsing cached data for lap_count\n",
      "req            INFO \tUsing cached data for track_status_data\n",
      "req            INFO \tUsing cached data for _extended_timing_data\n",
      "req            INFO \tUsing cached data for timing_app_data\n",
      "core           INFO \tProcessing timing data...\n"
     ]
    },
    {
     "name": "stdout",
     "output_type": "stream",
     "text": [
      "Loading session: 2024 Chinese Grand Prix R\n"
     ]
    },
    {
     "name": "stderr",
     "output_type": "stream",
     "text": [
      "req            INFO \tUsing cached data for car_data\n",
      "req            INFO \tUsing cached data for position_data\n",
      "req            INFO \tUsing cached data for weather_data\n",
      "req            INFO \tUsing cached data for race_control_messages\n",
      "core        WARNING \tDriver 1 completed the race distance 00:08.313000 before the recorded end of the session.\n",
      "core           INFO \tFinished loading data for 20 drivers: ['1', '4', '11', '16', '55', '63', '14', '81', '44', '27', '31', '23', '10', '24', '18', '20', '2', '3', '22', '77']\n",
      "core           INFO \tLoading data for Canadian Grand Prix - Race [v3.5.3]\n",
      "req            INFO \tUsing cached data for session_info\n",
      "req            INFO \tUsing cached data for driver_info\n",
      "req            INFO \tUsing cached data for session_status_data\n",
      "req            INFO \tUsing cached data for lap_count\n",
      "req            INFO \tUsing cached data for track_status_data\n",
      "req            INFO \tUsing cached data for _extended_timing_data\n",
      "req            INFO \tUsing cached data for timing_app_data\n",
      "core           INFO \tProcessing timing data...\n"
     ]
    },
    {
     "name": "stdout",
     "output_type": "stream",
     "text": [
      "Loading session: 2024 Canadian Grand Prix R\n"
     ]
    },
    {
     "name": "stderr",
     "output_type": "stream",
     "text": [
      "req            INFO \tUsing cached data for car_data\n",
      "req            INFO \tUsing cached data for position_data\n",
      "req            INFO \tUsing cached data for weather_data\n",
      "req            INFO \tUsing cached data for race_control_messages\n",
      "core           INFO \tFinished loading data for 20 drivers: ['1', '4', '63', '44', '81', '14', '18', '3', '10', '31', '27', '20', '77', '22', '24', '55', '23', '11', '16', '2']\n",
      "core           INFO \tLoading data for Mexico City Grand Prix - Race [v3.5.3]\n",
      "req            INFO \tUsing cached data for session_info\n",
      "req            INFO \tUsing cached data for driver_info\n",
      "req            INFO \tUsing cached data for session_status_data\n",
      "req            INFO \tUsing cached data for lap_count\n",
      "req            INFO \tUsing cached data for track_status_data\n",
      "req            INFO \tUsing cached data for _extended_timing_data\n",
      "req            INFO \tUsing cached data for timing_app_data\n",
      "core           INFO \tProcessing timing data...\n"
     ]
    },
    {
     "name": "stdout",
     "output_type": "stream",
     "text": [
      "Loading session: 2024 Mexico City Grand Prix R\n"
     ]
    },
    {
     "name": "stderr",
     "output_type": "stream",
     "text": [
      "req            INFO \tUsing cached data for car_data\n",
      "req            INFO \tUsing cached data for position_data\n",
      "req            INFO \tUsing cached data for weather_data\n",
      "req            INFO \tUsing cached data for race_control_messages\n",
      "core           INFO \tFinished loading data for 20 drivers: ['55', '4', '16', '44', '63', '1', '20', '81', '27', '10', '18', '43', '31', '77', '24', '30', '11', '14', '23', '22']\n",
      "core           INFO \tLoading data for São Paulo Grand Prix - Race [v3.5.3]\n",
      "req            INFO \tUsing cached data for session_info\n",
      "req            INFO \tUsing cached data for driver_info\n",
      "req            INFO \tUsing cached data for session_status_data\n",
      "req            INFO \tUsing cached data for lap_count\n",
      "req            INFO \tUsing cached data for track_status_data\n",
      "req            INFO \tUsing cached data for _extended_timing_data\n",
      "req            INFO \tUsing cached data for timing_app_data\n",
      "core           INFO \tProcessing timing data...\n"
     ]
    },
    {
     "name": "stdout",
     "output_type": "stream",
     "text": [
      "Loading session: 2024 São Paulo Grand Prix R\n"
     ]
    },
    {
     "name": "stderr",
     "output_type": "stream",
     "text": [
      "core        WARNING \tNo lap data for driver 23\n",
      "core        WARNING \tFailed to perform lap accuracy check - all laps marked as inaccurate (driver 23)\n",
      "req            INFO \tUsing cached data for car_data\n",
      "req            INFO \tUsing cached data for position_data\n",
      "req            INFO \tUsing cached data for weather_data\n",
      "req            INFO \tUsing cached data for race_control_messages\n",
      "core           INFO \tFinished loading data for 20 drivers: ['1', '31', '10', '63', '16', '4', '22', '81', '30', '44', '11', '50', '77', '14', '24', '55', '43', '23', '18', '27']\n",
      "core           INFO \tLoading data for Miami Grand Prix - Race [v3.5.3]\n",
      "req            INFO \tUsing cached data for session_info\n",
      "req            INFO \tUsing cached data for driver_info\n",
      "req            INFO \tUsing cached data for session_status_data\n",
      "req            INFO \tUsing cached data for lap_count\n",
      "req            INFO \tUsing cached data for track_status_data\n",
      "req            INFO \tUsing cached data for _extended_timing_data\n",
      "req            INFO \tUsing cached data for timing_app_data\n",
      "core           INFO \tProcessing timing data...\n"
     ]
    },
    {
     "name": "stdout",
     "output_type": "stream",
     "text": [
      "Loading session: 2024 Miami Grand Prix R\n"
     ]
    },
    {
     "name": "stderr",
     "output_type": "stream",
     "text": [
      "req            INFO \tUsing cached data for car_data\n",
      "req            INFO \tUsing cached data for position_data\n",
      "req            INFO \tUsing cached data for weather_data\n",
      "req            INFO \tUsing cached data for race_control_messages\n",
      "core           INFO \tFinished loading data for 20 drivers: ['4', '1', '16', '11', '55', '44', '22', '63', '14', '31', '27', '10', '81', '24', '3', '77', '18', '23', '20', '2']\n",
      "core           INFO \tLoading data for Saudi Arabian Grand Prix - Race [v3.5.3]\n",
      "req            INFO \tUsing cached data for session_info\n",
      "req            INFO \tUsing cached data for driver_info\n",
      "req            INFO \tUsing cached data for session_status_data\n",
      "req            INFO \tUsing cached data for lap_count\n",
      "req            INFO \tUsing cached data for track_status_data\n",
      "req            INFO \tUsing cached data for _extended_timing_data\n",
      "req            INFO \tUsing cached data for timing_app_data\n",
      "core           INFO \tProcessing timing data...\n"
     ]
    },
    {
     "name": "stdout",
     "output_type": "stream",
     "text": [
      "Loading session: 2024 Saudi Arabian Grand Prix R\n"
     ]
    },
    {
     "name": "stderr",
     "output_type": "stream",
     "text": [
      "req            INFO \tUsing cached data for car_data\n",
      "req            INFO \tUsing cached data for position_data\n",
      "req            INFO \tUsing cached data for weather_data\n",
      "req            INFO \tUsing cached data for race_control_messages\n",
      "core           INFO \tFinished loading data for 20 drivers: ['1', '11', '16', '81', '14', '63', '38', '4', '44', '27', '23', '20', '31', '2', '22', '3', '77', '24', '18', '10']\n",
      "events      WARNING \tCorrecting user input 'United States Grand Prix' to 'United States Grand Prix'\n",
      "core           INFO \tLoading data for United States Grand Prix - Race [v3.5.3]\n",
      "req            INFO \tUsing cached data for session_info\n",
      "req            INFO \tUsing cached data for driver_info\n",
      "req            INFO \tUsing cached data for session_status_data\n",
      "req            INFO \tUsing cached data for lap_count\n",
      "req            INFO \tUsing cached data for track_status_data\n",
      "req            INFO \tUsing cached data for _extended_timing_data\n",
      "req            INFO \tUsing cached data for timing_app_data\n",
      "core           INFO \tProcessing timing data...\n"
     ]
    },
    {
     "name": "stdout",
     "output_type": "stream",
     "text": [
      "Loading session: 2024 United States Grand Prix R\n"
     ]
    },
    {
     "name": "stderr",
     "output_type": "stream",
     "text": [
      "req            INFO \tUsing cached data for car_data\n",
      "req            INFO \tUsing cached data for position_data\n",
      "req            INFO \tUsing cached data for weather_data\n",
      "req            INFO \tUsing cached data for race_control_messages\n",
      "core           INFO \tFinished loading data for 20 drivers: ['16', '55', '1', '4', '81', '63', '11', '27', '30', '43', '20', '10', '14', '22', '18', '23', '77', '31', '24', '44']\n",
      "core           INFO \tLoading data for Monaco Grand Prix - Race [v3.5.3]\n",
      "req            INFO \tUsing cached data for session_info\n",
      "req            INFO \tUsing cached data for driver_info\n",
      "req            INFO \tUsing cached data for session_status_data\n",
      "req            INFO \tUsing cached data for lap_count\n",
      "req            INFO \tUsing cached data for track_status_data\n",
      "req            INFO \tUsing cached data for _extended_timing_data\n",
      "req            INFO \tUsing cached data for timing_app_data\n",
      "core           INFO \tProcessing timing data...\n"
     ]
    },
    {
     "name": "stdout",
     "output_type": "stream",
     "text": [
      "Loading session: 2024 Monaco Grand Prix R\n"
     ]
    },
    {
     "name": "stderr",
     "output_type": "stream",
     "text": [
      "req            INFO \tUsing cached data for car_data\n",
      "req            INFO \tUsing cached data for position_data\n",
      "req            INFO \tUsing cached data for weather_data\n",
      "req            INFO \tUsing cached data for race_control_messages\n",
      "core           INFO \tFinished loading data for 20 drivers: ['16', '81', '55', '4', '63', '1', '44', '22', '23', '10', '14', '3', '77', '18', '2', '24', '31', '11', '27', '20']\n",
      "2025-07-06 20:39:43,908 - f1_etl - INFO - Creating new fixed vocabulary encoder\n"
     ]
    },
    {
     "name": "stdout",
     "output_type": "stream",
     "text": [
      "\n",
      "📊 Track Status Analysis (training_data):\n",
      "   green       : 1651547 samples ( 83.6%)\n",
      "   red         : 75876 samples (  3.8%)\n",
      "   safety_car  : 173787 samples (  8.8%)\n",
      "   vsc         : 13317 samples (  0.7%)\n",
      "   vsc_ending  :   555 samples (  0.0%)\n",
      "   yellow      : 60370 samples (  3.1%)\n",
      "   Missing classes: [np.str_('unknown')]\n",
      "✅ FixedVocabTrackStatusEncoder fitted\n",
      "   Classes seen: ['green', 'red', 'safety_car', 'vsc', 'vsc_ending', 'yellow']\n",
      "   Total classes: 7\n",
      "   Output mode: integer labels\n"
     ]
    },
    {
     "name": "stderr",
     "output_type": "stream",
     "text": [
      "2025-07-06 20:39:44,438 - f1_etl - INFO - Applying smote resampling at session/driver level\n",
      "2025-07-06 20:39:44,439 - f1_etl - INFO - Sampling strategy: minority\n",
      "2025-07-06 20:39:49,280 - f1_etl - INFO - Resampling complete: 1975452 -> 3593677 samples\n",
      "2025-07-06 20:39:49,287 - f1_etl - INFO - Class distribution before resampling:\n",
      "2025-07-06 20:39:49,287 - f1_etl - INFO -   1: 1651547\n",
      "2025-07-06 20:39:49,288 - f1_etl - INFO -   4: 173787\n",
      "2025-07-06 20:39:49,288 - f1_etl - INFO -   5: 75876\n",
      "2025-07-06 20:39:49,288 - f1_etl - INFO -   2: 60370\n",
      "2025-07-06 20:39:49,288 - f1_etl - INFO -   6: 13317\n",
      "2025-07-06 20:39:49,289 - f1_etl - INFO -   7: 555\n",
      "2025-07-06 20:39:49,289 - f1_etl - INFO - Class distribution after resampling:\n",
      "2025-07-06 20:39:49,289 - f1_etl - INFO -   1: 1651547\n",
      "2025-07-06 20:39:49,289 - f1_etl - INFO -   6: 657548\n",
      "2025-07-06 20:39:49,289 - f1_etl - INFO -   4: 621347\n",
      "2025-07-06 20:39:49,290 - f1_etl - INFO -   7: 404748\n",
      "2025-07-06 20:39:49,290 - f1_etl - INFO -   2: 182611\n",
      "2025-07-06 20:39:49,290 - f1_etl - INFO -   5: 75876\n",
      "2025-07-06 20:39:49,497 - f1_etl - INFO - Processing 3593677 total telemetry rows\n",
      "2025-07-06 20:39:49,498 - f1_etl - INFO - Grouping by: ['SessionId', 'Driver']\n",
      "2025-07-06 20:40:18,475 - f1_etl - INFO - Total sequences generated: 143598\n",
      "2025-07-06 20:40:18,816 - f1_etl - INFO - Generated 143598 sequences with shape (143598, 50, 9)\n",
      "2025-07-06 20:40:18,878 - f1_etl - INFO - Applying missing value imputation with strategy: forward_fill\n",
      "2025-07-06 20:40:18,899 - f1_etl - INFO - Handling missing values with strategy: forward_fill\n",
      "2025-07-06 20:40:20,524 - f1_etl - INFO - Applying normalization with method: standard\n",
      "2025-07-06 20:40:21,166 - f1_etl - INFO - Final dataset summary:\n",
      "2025-07-06 20:40:21,167 - f1_etl - INFO -   Sequences: 143598\n",
      "2025-07-06 20:40:21,167 - f1_etl - INFO -   Features: 9\n",
      "2025-07-06 20:40:21,167 - f1_etl - INFO -   Classes: 7 (integer)\n",
      "2025-07-06 20:40:21,168 - f1_etl - INFO -   Label shape: (143598,)\n",
      "2025-07-06 20:40:21,168 - f1_etl - INFO -     green       : 66345 samples ( 46.2%)\n",
      "2025-07-06 20:40:21,168 - f1_etl - INFO -     red         :  3000 samples (  2.1%)\n",
      "2025-07-06 20:40:21,168 - f1_etl - INFO -     safety_car  : 24645 samples ( 17.2%)\n",
      "2025-07-06 20:40:21,169 - f1_etl - INFO -     vsc         : 26390 samples ( 18.4%)\n",
      "2025-07-06 20:40:21,169 - f1_etl - INFO -     vsc_ending  : 15915 samples ( 11.1%)\n",
      "2025-07-06 20:40:21,169 - f1_etl - INFO -     yellow      :  7303 samples (  5.1%)\n"
     ]
    }
   ],
   "source": [
    "safety_car_sessions = [\n",
    "    SessionConfig(2024, \"Qatar Grand Prix\", \"R\", drivers=[\"27\", \"31\", \"43\", \"23\", \"77\", \"11\"]),\n",
    "    SessionConfig(2024, \"Chinese Grand Prix\", \"R\", drivers=[\"77\", \"18\", \"3\", \"20\", \"22\"]),\n",
    "    SessionConfig(2024, \"Canadian Grand Prix\", \"R\", drivers=[\"2\", \"55\", \"23\"]),\n",
    "    SessionConfig(2024, \"Mexico City Grand Prix\", \"R\", drivers=[\"22\", \"23\"]),\n",
    "    SessionConfig(2024, \"São Paulo Grand Prix\", \"R\", drivers=[\"27\", \"43\", \"55\"]),\n",
    "    SessionConfig(2024, \"Miami Grand Prix\", \"R\", drivers=[\"1\", \"20\", \"2\"]),\n",
    "    SessionConfig(2024, \"Saudi Arabian Grand Prix\", \"R\", drivers=[\"18\"]),\n",
    "    SessionConfig(2024, \"United States Grand Prix\", \"R\", drivers=[\"44\"]),\n",
    "    SessionConfig(2024, \"Monaco Grand Prix\", \"R\", drivers=[\"11\", \"20\", \"27\"]),\n",
    "]\n",
    "\n",
    "config = DataConfig(\n",
    "    sessions=safety_car_sessions,\n",
    "    include_weather=False,\n",
    ")\n",
    "\n",
    "safety_car_class_num = label_encoder.class_to_idx['safety_car']\n",
    "vsc_class_num = label_encoder.class_to_idx['vsc']\n",
    "\n",
    "dataset = create_safety_car_dataset(\n",
    "    config=config,\n",
    "    window_size=50,\n",
    "    prediction_horizon=100,\n",
    "    normalize=True,\n",
    "    target_column=\"TrackStatus\",\n",
    "    resampling_strategy=\"smote\",\n",
    "    \n",
    "    # resampling_config={\n",
    "    #     str(safety_car_class_num): 0.3, \n",
    "    #     str(vsc_class_num): 0.2\n",
    "    # }  # Focus on safety car and VSC events\n",
    ")"
   ]
  },
  {
   "cell_type": "markdown",
   "id": "2664c173",
   "metadata": {},
   "source": [
    "## Method 2: Focus on specific drivers across multiple races"
   ]
  },
  {
   "cell_type": "code",
   "execution_count": null,
   "id": "70eddbb5",
   "metadata": {},
   "outputs": [],
   "source": [
    "# Example: Nico Hülkenberg (#27) - involved in Qatar, São Paulo, and Monaco incidents\n",
    "hulkenberg_config = DataConfig(\n",
    "    sessions=[\n",
    "        SessionConfig(2024, \"Qatar Grand Prix\", \"R\", drivers=[\"27\"]),      # Turn 1 collision + Lap 40 spin\n",
    "        SessionConfig(2024, \"São Paulo Grand Prix\", \"R\", drivers=[\"27\"]),  # Lap 28 VSC incident\n",
    "        SessionConfig(2024, \"Monaco Grand Prix\", \"R\", drivers=[\"27\"]),     # Lap 1 multi-car crash\n",
    "    ],\n",
    "    include_weather=False,\n",
    ")\n",
    "dataset_hulk_incidents = create_safety_car_dataset(\n",
    "    config=hulkenberg_config,\n",
    "    window_size=50,\n",
    "    prediction_horizon=100,\n",
    "    normalize=True,\n",
    "    target_column=\"TrackStatus\",\n",
    "    resampling_strategy=\"smote\",\n",
    "    resampling_config={\n",
    "        \"2\": 0.5\n",
    "    }\n",
    ")"
   ]
  },
  {
   "cell_type": "markdown",
   "id": "dcd2ca3e",
   "metadata": {},
   "source": [
    "## Method 3: Study specific race incidents"
   ]
  },
  {
   "cell_type": "code",
   "execution_count": null,
   "id": "299fd05d",
   "metadata": {},
   "outputs": [],
   "source": [
    "# Qatar GP - most complex with multiple safety car periods\n",
    "qatar_config = DataConfig(\n",
    "    sessions=[\n",
    "        SessionConfig(2024, \"Qatar Grand Prix\", \"R\", \n",
    "                     drivers=[\"27\", \"31\", \"43\", \"23\", \"77\", \"11\"])  # All drivers involved in SC/VSC\n",
    "    ],\n",
    "    include_weather=False,\n",
    ")"
   ]
  },
  {
   "cell_type": "markdown",
   "id": "3b0640aa",
   "metadata": {},
   "source": [
    "## Method 4: Using enhanced create_season_configs for targeted analysis\n"
   ]
  },
  {
   "cell_type": "code",
   "execution_count": null,
   "id": "1fb0ff3d",
   "metadata": {},
   "outputs": [],
   "source": [
    "safety_car_drivers_per_race = {\n",
    "    \"Qatar Grand Prix\": [\"27\", \"31\", \"43\", \"23\", \"77\", \"11\"],      # Multiple incidents\n",
    "    \"Chinese Grand Prix\": [\"77\", \"18\", \"3\", \"20\", \"22\"],           # Engine failure + restart chaos\n",
    "    \"Canadian Grand Prix\": [\"2\", \"55\", \"23\"],                      # Wet weather crashes\n",
    "    \"Mexico City Grand Prix\": [\"22\", \"23\"],                        # Turn 1 contact\n",
    "    \"São Paulo Grand Prix\": [\"27\", \"43\", \"55\"],                    # Rain-related incidents\n",
    "    \"Miami Grand Prix\": [\"1\", \"20\", \"2\"],                          # Bollard + collision\n",
    "    \"Saudi Arabian Grand Prix\": [\"18\"],                            # Solo crash\n",
    "    \"United States Grand Prix\": [\"44\"],                            # Hamilton spin\n",
    "    \"Monaco Grand Prix\": [\"11\", \"20\", \"27\"],                       # Multi-car crash\n",
    "}\n",
    "\n",
    "# Create sessions only for races with safety car incidents\n",
    "safety_car_sessions = create_season_configs(\n",
    "    year=2024,\n",
    "    session_types=['R'],\n",
    "    drivers_per_session=safety_car_drivers_per_race,\n",
    "    exclude_events=[  # Exclude races without safety car incidents\n",
    "        \"Bahrain Grand Prix\",\n",
    "        \"Japanese Grand Prix\", \n",
    "        \"Australian Grand Prix\",\n",
    "        \"Emilia Romagna Grand Prix\",\n",
    "        \"Spanish Grand Prix\",\n",
    "        \"Austrian Grand Prix\",\n",
    "        \"British Grand Prix\",\n",
    "        \"Hungarian Grand Prix\",\n",
    "        \"Belgian Grand Prix\",\n",
    "        \"Dutch Grand Prix\",\n",
    "        \"Italian Grand Prix\",\n",
    "        \"Singapore Grand Prix\",\n",
    "        \"Las Vegas Grand Prix\",\n",
    "        \"Abu Dhabi Grand Prix\"\n",
    "    ]\n",
    ")\n",
    "\n",
    "config = DataConfig(sessions=safety_car_sessions, include_weather=False)"
   ]
  },
  {
   "cell_type": "markdown",
   "id": "00bd0a68",
   "metadata": {},
   "source": [
    "## Method 5: Comparative analysis - high incident drivers vs. clean drivers"
   ]
  },
  {
   "cell_type": "code",
   "execution_count": null,
   "id": "4e7e445b",
   "metadata": {},
   "outputs": [],
   "source": [
    "# Drivers with multiple safety car involvements vs. those with none\n",
    "frequent_incident_drivers = [\"27\", \"23\", \"18\"]  # Hülkenberg, Albon, Stroll\n",
    "clean_drivers = [\"1\", \"44\", \"55\"]               # Verstappen, Hamilton, Sainz (for comparison)\n",
    "\n",
    "comparison_config = DataConfig(\n",
    "    sessions=[\n",
    "        # Include both incident-prone and clean drivers across all safety car races\n",
    "        SessionConfig(2024, \"Qatar Grand Prix\", \"R\", \n",
    "                     drivers=frequent_incident_drivers + clean_drivers),\n",
    "        SessionConfig(2024, \"Chinese Grand Prix\", \"R\", \n",
    "                     drivers=frequent_incident_drivers + clean_drivers),\n",
    "        SessionConfig(2024, \"Canadian Grand Prix\", \"R\", \n",
    "                     drivers=frequent_incident_drivers + clean_drivers),\n",
    "    ],\n",
    "    include_weather=True,  # Include weather for incident analysis\n",
    ")"
   ]
  },
  {
   "cell_type": "markdown",
   "id": "cbdd977a",
   "metadata": {},
   "source": [
    "## Method 6: Rain-related incidents focus"
   ]
  },
  {
   "cell_type": "code",
   "execution_count": null,
   "id": "8270f377",
   "metadata": {},
   "outputs": [],
   "source": [
    "# São Paulo and Canadian GP had wet weather incidents\n",
    "wet_weather_config = DataConfig(\n",
    "    sessions=[\n",
    "        SessionConfig(2024, \"São Paulo Grand Prix\", \"R\", drivers=[\"27\", \"43\", \"55\"]),\n",
    "        SessionConfig(2024, \"Canadian Grand Prix\", \"R\", drivers=[\"2\", \"55\", \"23\"]),\n",
    "    ],\n",
    "    include_weather=True,  # Weather data crucial for rain analysis\n",
    ")\n",
    "\n",
    "# Example dataset creation with resampling for safety car prediction\n",
    "dataset = create_safety_car_dataset(\n",
    "    config=config,\n",
    "    window_size=100,         # 100 data points before incident\n",
    "    prediction_horizon=50,   # Predict 50 steps ahead\n",
    "    normalize=True,\n",
    "    target_column=\"TrackStatus\",\n",
    "    resampling_strategy=\"borderline_smote\",  # Good for imbalanced time series\n",
    "    resampling_config={\n",
    "        \"safety_car\": 0.4,   # Increase safety car samples to 40% of majority\n",
    "        \"vsc\": 0.3,          # Increase VSC samples to 30% of majority  \n",
    "        \"yellow\": 0.2,       # Increase yellow flag samples to 20% of majority\n",
    "    },\n",
    "    enable_debug=True\n",
    ")"
   ]
  }
 ],
 "metadata": {
  "kernelspec": {
   "display_name": "notebooks",
   "language": "python",
   "name": "python3"
  },
  "language_info": {
   "codemirror_mode": {
    "name": "ipython",
    "version": 3
   },
   "file_extension": ".py",
   "mimetype": "text/x-python",
   "name": "python",
   "nbconvert_exporter": "python",
   "pygments_lexer": "ipython3",
   "version": "3.12.7"
  }
 },
 "nbformat": 4,
 "nbformat_minor": 5
}
