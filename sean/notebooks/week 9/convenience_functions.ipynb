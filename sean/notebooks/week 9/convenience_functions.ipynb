{
 "cells": [
  {
   "cell_type": "code",
   "execution_count": 1,
   "id": "804b6f9c",
   "metadata": {},
   "outputs": [],
   "source": [
    "from typing import Dict, Any\n",
    "from f1_etl import create_safety_car_dataset, DataConfig"
   ]
  },
  {
   "cell_type": "code",
   "execution_count": 2,
   "id": "57abf015",
   "metadata": {},
   "outputs": [],
   "source": [
    "# Convenience functions for model-specific preprocessing\n",
    "def create_catch22_dataset(config: DataConfig) -> Dict[str, Any]:\n",
    "   \"\"\"\n",
    "   Create dataset optimized for Catch22 classifier\n",
    "   - Disables missing value handling (Catch22 can handle internally)\n",
    "   - Uses per-sequence normalization to preserve variation\n",
    "   \"\"\"\n",
    "   return create_safety_car_dataset(\n",
    "       config=config,\n",
    "       window_size=100,\n",
    "       prediction_horizon=10,\n",
    "       handle_non_numeric=\"encode\",\n",
    "       handle_missing=False,  # Catch22 handles missing values internally\n",
    "       missing_strategy=\"forward_fill\",\n",
    "       normalize=True,\n",
    "       normalization_method=\"per_sequence\",\n",
    "       target_column=\"TrackStatus\",\n",
    "       enable_debug=False,\n",
    "   )\n",
    "\n",
    "\n",
    "def create_rocket_dataset(config: DataConfig) -> Dict[str, Any]:\n",
    "   \"\"\"\n",
    "   Create dataset optimized for ROCKET classifier\n",
    "   - Enables missing value handling (ROCKET cannot handle missing values)\n",
    "   - Uses standard normalization\n",
    "   \"\"\"\n",
    "   return create_safety_car_dataset(\n",
    "       config=config,\n",
    "       window_size=100,\n",
    "       prediction_horizon=10,\n",
    "       handle_non_numeric=\"encode\",\n",
    "       handle_missing=True,  # ROCKET needs missing values handled\n",
    "       missing_strategy=\"forward_fill\",\n",
    "       normalize=True,\n",
    "       normalization_method=\"standard\",\n",
    "       target_column=\"TrackStatus\",\n",
    "       enable_debug=False,\n",
    "   )\n",
    "\n",
    "\n",
    "def create_raw_dataset(config: DataConfig) -> Dict[str, Any]:\n",
    "   \"\"\"\n",
    "   Create dataset with minimal preprocessing for analysis or custom preprocessing\n",
    "   - Disables both missing value handling and normalization\n",
    "   \"\"\"\n",
    "   return create_safety_car_dataset(\n",
    "       config=config,\n",
    "       window_size=100,\n",
    "       prediction_horizon=10,\n",
    "       handle_non_numeric=\"encode\",\n",
    "       handle_missing=False,  # No missing value handling\n",
    "       missing_strategy=\"forward_fill\",\n",
    "       normalize=False,  # No normalization\n",
    "       normalization_method=\"standard\",\n",
    "       target_column=\"TrackStatus\",\n",
    "       enable_debug=False,\n",
    "   )"
   ]
  }
 ],
 "metadata": {
  "kernelspec": {
   "display_name": "notebooks",
   "language": "python",
   "name": "python3"
  },
  "language_info": {
   "codemirror_mode": {
    "name": "ipython",
    "version": 3
   },
   "file_extension": ".py",
   "mimetype": "text/x-python",
   "name": "python",
   "nbconvert_exporter": "python",
   "pygments_lexer": "ipython3",
   "version": "3.11.11"
  }
 },
 "nbformat": 4,
 "nbformat_minor": 5
}
