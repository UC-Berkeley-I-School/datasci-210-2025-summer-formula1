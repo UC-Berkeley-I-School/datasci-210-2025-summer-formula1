{
 "cells": [
  {
   "cell_type": "code",
   "execution_count": null,
   "id": "089e5c50",
   "metadata": {},
   "outputs": [],
   "source": [
    "import fastf1\n",
    "\n",
    "from f1_etl import DriverLabelEncoder, DataConfig, SessionConfig\n",
    "from f1_etl import DataAggregator, RawDataExtractor"
   ]
  },
  {
   "cell_type": "code",
   "execution_count": null,
   "id": "8288d3ab",
   "metadata": {},
   "outputs": [],
   "source": [
    "session_sa = fastf1.get_session(2024, \"Saudi Arabian Grand Prix\", 'R')\n",
    "session_mon = fastf1.get_session(2024, \"Monaco Grand Prix\", 'R')\n",
    "\n",
    "session_sa.load()\n",
    "session_mon.load()\n",
    "\n",
    "driver_enc_sa = DriverLabelEncoder()\n",
    "driver_enc_sa.fit_session(session_sa)\n",
    "\n",
    "driver_enc_mon = DriverLabelEncoder()\n",
    "driver_enc_mon.fit_session(session_mon)"
   ]
  },
  {
   "cell_type": "code",
   "execution_count": null,
   "id": "c3701305",
   "metadata": {},
   "outputs": [],
   "source": [
    "driver_enc_sa.driver_to_number"
   ]
  },
  {
   "cell_type": "code",
   "execution_count": null,
   "id": "ba3aa31f",
   "metadata": {},
   "outputs": [],
   "source": [
    "driver_enc_mon.driver_to_number"
   ]
  },
  {
   "cell_type": "code",
   "execution_count": 2,
   "id": "77de7f51",
   "metadata": {},
   "outputs": [
    {
     "name": "stderr",
     "output_type": "stream",
     "text": [
      "req         WARNING \tDEFAULT CACHE ENABLED! (4.94 GB) /Users/seansica/Library/Caches/fastf1\n",
      "events      WARNING \tCorrecting user input 'Qatar Grand Prix' to 'Qatar Grand Prix'\n",
      "core           INFO \tLoading data for Qatar Grand Prix - Race [v3.5.3]\n",
      "req            INFO \tUsing cached data for session_info\n",
      "req            INFO \tUsing cached data for driver_info\n",
      "req            INFO \tUsing cached data for session_status_data\n",
      "req            INFO \tUsing cached data for lap_count\n",
      "req            INFO \tUsing cached data for track_status_data\n",
      "req            INFO \tUsing cached data for _extended_timing_data\n",
      "req            INFO \tUsing cached data for timing_app_data\n",
      "core           INFO \tProcessing timing data...\n",
      "req            INFO \tUsing cached data for car_data\n",
      "req            INFO \tUsing cached data for position_data\n",
      "req            INFO \tUsing cached data for weather_data\n",
      "req            INFO \tUsing cached data for race_control_messages\n",
      "core           INFO \tFinished loading data for 20 drivers: ['1', '16', '81', '63', '10', '55', '14', '24', '20', '4', '77', '44', '22', '30', '23', '27', '11', '18', '43', '31']\n"
     ]
    }
   ],
   "source": [
    "session_qa = fastf1.get_session(2024, \"Qatar Grand Prix\", \"R\")\n",
    "session_qa.load()"
   ]
  },
  {
   "cell_type": "code",
   "execution_count": 4,
   "id": "c1962de5",
   "metadata": {},
   "outputs": [
    {
     "data": {
      "text/plain": [
       "{'VER': '1',\n",
       " 'LEC': '16',\n",
       " 'PIA': '81',\n",
       " 'RUS': '63',\n",
       " 'GAS': '10',\n",
       " 'SAI': '55',\n",
       " 'ALO': '14',\n",
       " 'ZHO': '24',\n",
       " 'MAG': '20',\n",
       " 'NOR': '4',\n",
       " 'BOT': '77',\n",
       " 'HAM': '44',\n",
       " 'TSU': '22',\n",
       " 'LAW': '30',\n",
       " 'ALB': '23',\n",
       " 'HUL': '27',\n",
       " 'PER': '11',\n",
       " 'STR': '18',\n",
       " 'COL': '43',\n",
       " 'OCO': '31'}"
      ]
     },
     "execution_count": 4,
     "metadata": {},
     "output_type": "execute_result"
    }
   ],
   "source": [
    "driver_enc_qa = DriverLabelEncoder()\n",
    "driver_enc_qa.fit_session(session_qa)\n",
    "\n",
    "driver_enc_qa.driver_to_number"
   ]
  },
  {
   "cell_type": "code",
   "execution_count": null,
   "id": "3bf555d4",
   "metadata": {},
   "outputs": [],
   "source": [
    "data_config = DataConfig(\n",
    "    sessions=[\n",
    "        SessionConfig(2024, \"Qatar Grand Prix\", \"R\")\n",
    "    ],\n",
    "    drivers=[\"27\", \"31\", \"23\", \"77\", \"11\"]\n",
    ")"
   ]
  },
  {
   "cell_type": "markdown",
   "id": "282384e3",
   "metadata": {},
   "source": [
    "# TrackStatus Encoder"
   ]
  },
  {
   "cell_type": "code",
   "execution_count": 9,
   "id": "11a4fdf2",
   "metadata": {},
   "outputs": [],
   "source": [
    "from f1_etl import FixedVocabTrackStatusEncoder\n",
    "\n",
    "track_status_enc = FixedVocabTrackStatusEncoder()"
   ]
  },
  {
   "cell_type": "code",
   "execution_count": 10,
   "id": "a850c520",
   "metadata": {},
   "outputs": [
    {
     "name": "stderr",
     "output_type": "stream",
     "text": [
      "events      WARNING \tCorrecting user input 'Qatar Grand Prix' to 'Qatar Grand Prix'\n",
      "core           INFO \tLoading data for Qatar Grand Prix - Race [v3.5.3]\n",
      "req            INFO \tUsing cached data for session_info\n",
      "req            INFO \tUsing cached data for driver_info\n",
      "req            INFO \tUsing cached data for session_status_data\n",
      "req            INFO \tUsing cached data for lap_count\n",
      "req            INFO \tUsing cached data for track_status_data\n",
      "req            INFO \tUsing cached data for _extended_timing_data\n",
      "req            INFO \tUsing cached data for timing_app_data\n",
      "core           INFO \tProcessing timing data...\n"
     ]
    },
    {
     "name": "stdout",
     "output_type": "stream",
     "text": [
      "Loading session: 2024 Qatar Grand Prix R\n"
     ]
    },
    {
     "name": "stderr",
     "output_type": "stream",
     "text": [
      "req            INFO \tUsing cached data for car_data\n",
      "req            INFO \tUsing cached data for position_data\n",
      "req            INFO \tUsing cached data for weather_data\n",
      "req            INFO \tUsing cached data for race_control_messages\n",
      "core           INFO \tFinished loading data for 20 drivers: ['1', '16', '81', '63', '10', '55', '14', '24', '20', '4', '77', '44', '22', '30', '23', '27', '11', '18', '43', '31']\n",
      "core           INFO \tLoading data for Chinese Grand Prix - Race [v3.5.3]\n",
      "req            INFO \tUsing cached data for session_info\n",
      "req            INFO \tUsing cached data for driver_info\n",
      "req            INFO \tUsing cached data for session_status_data\n",
      "req            INFO \tUsing cached data for lap_count\n",
      "req            INFO \tUsing cached data for track_status_data\n",
      "req            INFO \tUsing cached data for _extended_timing_data\n",
      "req            INFO \tUsing cached data for timing_app_data\n",
      "core           INFO \tProcessing timing data...\n"
     ]
    },
    {
     "name": "stdout",
     "output_type": "stream",
     "text": [
      "Loading session: 2024 Chinese Grand Prix R\n"
     ]
    },
    {
     "name": "stderr",
     "output_type": "stream",
     "text": [
      "req            INFO \tUsing cached data for car_data\n",
      "req            INFO \tUsing cached data for position_data\n",
      "req            INFO \tUsing cached data for weather_data\n",
      "req            INFO \tUsing cached data for race_control_messages\n",
      "core        WARNING \tDriver 1 completed the race distance 00:08.313000 before the recorded end of the session.\n",
      "core           INFO \tFinished loading data for 20 drivers: ['1', '4', '11', '16', '55', '63', '14', '81', '44', '27', '31', '23', '10', '24', '18', '20', '2', '3', '22', '77']\n",
      "core           INFO \tLoading data for Mexico City Grand Prix - Race [v3.5.3]\n",
      "req            INFO \tUsing cached data for session_info\n",
      "req            INFO \tUsing cached data for driver_info\n",
      "req            INFO \tUsing cached data for session_status_data\n",
      "req            INFO \tUsing cached data for lap_count\n",
      "req            INFO \tUsing cached data for track_status_data\n",
      "req            INFO \tUsing cached data for _extended_timing_data\n",
      "req            INFO \tUsing cached data for timing_app_data\n",
      "core           INFO \tProcessing timing data...\n"
     ]
    },
    {
     "name": "stdout",
     "output_type": "stream",
     "text": [
      "Loading session: 2024 Mexico City Grand Prix R\n"
     ]
    },
    {
     "name": "stderr",
     "output_type": "stream",
     "text": [
      "req            INFO \tUsing cached data for car_data\n",
      "req            INFO \tUsing cached data for position_data\n",
      "req            INFO \tUsing cached data for weather_data\n",
      "req            INFO \tUsing cached data for race_control_messages\n",
      "core           INFO \tFinished loading data for 20 drivers: ['55', '4', '16', '44', '63', '1', '20', '81', '27', '10', '18', '43', '31', '77', '24', '30', '11', '14', '23', '22']\n"
     ]
    },
    {
     "name": "stdout",
     "output_type": "stream",
     "text": [
      "\n",
      "📊 Track Status Analysis (training_data):\n",
      "   green       : 1425374 samples ( 82.2%)\n",
      "   safety_car  : 146082 samples (  8.4%)\n",
      "   vsc         :  2337 samples (  0.1%)\n",
      "   yellow      : 159368 samples (  9.2%)\n",
      "   Missing classes: [np.str_('red'), np.str_('unknown'), np.str_('vsc_ending')]\n",
      "✅ FixedVocabTrackStatusEncoder fitted\n",
      "   Classes seen: ['green', 'safety_car', 'vsc', 'yellow']\n",
      "   Total classes: 7\n",
      "   Output mode: integer labels\n"
     ]
    }
   ],
   "source": [
    "config = data_config\n",
    "\n",
    "for session in config.sessions:\n",
    "    effective_drivers = config.get_effective_drivers(session)\n",
    "    \n",
    "\n",
    "# Step 1: Extract raw data\n",
    "extractor = RawDataExtractor(config.cache_dir)\n",
    "sessions_data = [\n",
    "    extractor.extract_session(session_config) for session_config in config.sessions\n",
    "]\n",
    "\n",
    "# Step 2: Aggregate data with per-session driver filtering\n",
    "aggregator = DataAggregator()\n",
    "telemetry_data = aggregator.aggregate_telemetry_data(\n",
    "    sessions_data, config, config.sessions\n",
    ")\n",
    "\n",
    "if telemetry_data.empty:\n",
    "    raise ValueError(\"No telemetry data extracted\")\n",
    "\n",
    "# Step 3: Setup fixed vocabulary encoder for track status\n",
    "\n",
    "label_encoder = FixedVocabTrackStatusEncoder(use_onehot=False)\n",
    "\n",
    "\n",
    "# Analyze distributions before encoding (optional but useful)\n",
    "label_encoder.analyze_data(telemetry_data[\"TrackStatus\"], \"training_data\")\n",
    "\n",
    "if \"TrackStatus\" not in telemetry_data.columns:\n",
    "    raise ValueError(\"TrackStatus column not found in telemetry data\")\n",
    "\n",
    "# Fit and transform\n",
    "encoded_labels = label_encoder.fit_transform(telemetry_data[\"TrackStatus\"])"
   ]
  },
  {
   "cell_type": "code",
   "execution_count": 13,
   "id": "30d41802",
   "metadata": {},
   "outputs": [
    {
     "data": {
      "text/plain": [
       "{np.str_('green'): 0,\n",
       " np.str_('red'): 1,\n",
       " np.str_('safety_car'): 2,\n",
       " np.str_('unknown'): 3,\n",
       " np.str_('vsc'): 4,\n",
       " np.str_('vsc_ending'): 5,\n",
       " np.str_('yellow'): 6}"
      ]
     },
     "execution_count": 13,
     "metadata": {},
     "output_type": "execute_result"
    }
   ],
   "source": [
    "label_encoder.class_to_idx"
   ]
  },
  {
   "cell_type": "code",
   "execution_count": 15,
   "id": "7928dc14",
   "metadata": {},
   "outputs": [
    {
     "data": {
      "text/plain": [
       "2"
      ]
     },
     "execution_count": 15,
     "metadata": {},
     "output_type": "execute_result"
    }
   ],
   "source": [
    "label_encoder.class_to_idx['safety_car']"
   ]
  }
 ],
 "metadata": {
  "kernelspec": {
   "display_name": "notebooks",
   "language": "python",
   "name": "python3"
  },
  "language_info": {
   "codemirror_mode": {
    "name": "ipython",
    "version": 3
   },
   "file_extension": ".py",
   "mimetype": "text/x-python",
   "name": "python",
   "nbconvert_exporter": "python",
   "pygments_lexer": "ipython3",
   "version": "3.12.7"
  }
 },
 "nbformat": 4,
 "nbformat_minor": 5
}
