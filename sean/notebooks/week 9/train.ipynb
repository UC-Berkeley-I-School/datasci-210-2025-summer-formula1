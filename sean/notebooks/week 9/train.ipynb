{
 "cells": [
  {
   "cell_type": "markdown",
   "id": "db310f4c",
   "metadata": {},
   "source": [
    "# USAGE EXAMPLES\n",
    "\n",
    "### QUICK START - Run this in notebook cells:\n",
    "\n",
    "# 1. Test driver encoder for a session\n",
    "```\n",
    "session_config = SessionConfig(year=2024, race=\"Monaco Grand Prix\", session_type=\"R\")\n",
    "driver_encoder = setup_driver_encoder(session_config)\n",
    "print(\"Driver mappings:\", driver_encoder.driver_to_number)\n",
    "```\n",
    "\n",
    "# 2. Single experiment\n",
    "```\n",
    "result = run_quick_test()\n",
    "```\n",
    "\n",
    "# 3. Custom experiment with different drivers\n",
    "```\n",
    "# First check available drivers for the session\n",
    "DATA_SCOPES[\"custom\"] = {\n",
    "    \"sessions\": [SessionConfig(year=2024, race=\"Monaco Grand Prix\", session_type=\"R\")],\n",
    "    \"drivers\": [\"HAM\", \"LEC\"]  # Will be auto-converted to numbers\n",
    "}\n",
    "custom_result = run_single_experiment(\n",
    "    scope_name=\"custom\", \n",
    "    window_config={\"window_size\": 150, \"prediction_horizon\": 5}\n",
    ")\n",
    "```\n",
    "\n",
    "# 4. Run all experiments (warning: takes time!)\n",
    "```\n",
    "all_results = run_all_experiments()\n",
    "summary_df = create_summary_report(all_results)\n",
    "print(summary_df)\n",
    "```\n",
    "\n",
    "# 5. Manual step-by-step for debugging\n",
    "```\n",
    "dataset = create_dataset(\"one_session_all_drivers\", WINDOW_CONFIGS[0])\n",
    "X_train, X_test, y_train, y_test = prepare_data(dataset)\n",
    "class_names, class_dist = analyze_class_distribution(dataset, y_train)\n",
    "\n",
    "models = create_models()\n",
    "rf_result = train_single_model(\n",
    "    models[\"random_forest\"], \"random_forest\", \n",
    "    X_train, X_test, y_train, y_test\n",
    ")\n",
    "```"
   ]
  },
  {
   "cell_type": "code",
   "execution_count": 8,
   "id": "84c7092c",
   "metadata": {},
   "outputs": [],
   "source": [
    "# F1 Safety Car Prediction - Step-by-Step Jupyter Notebook Implementation\n",
    "\n",
    "import numpy as np\n",
    "import pandas as pd\n",
    "from sklearn.model_selection import train_test_split\n",
    "from sklearn.ensemble import RandomForestClassifier\n",
    "from sklearn.linear_model import LogisticRegression\n",
    "from sklearn.metrics import classification_report, accuracy_score, f1_score, confusion_matrix\n",
    "from aeon.classification.feature_based import Catch22Classifier\n",
    "from aeon.classification.dummy import DummyClassifier\n",
    "from f1_etl import SessionConfig, DataConfig, create_safety_car_dataset, DriverLabelEncoder, FixedVocabTrackStatusEncoder\n",
    "from f1_etl.config import create_multi_session_configs\n",
    "import fastf1"
   ]
  },
  {
   "cell_type": "code",
   "execution_count": 11,
   "id": "57c83913",
   "metadata": {},
   "outputs": [],
   "source": [
    "# ============================================================================\n",
    "# STEP 1: CONFIGURATION\n",
    "# ============================================================================\n",
    "\n",
    "def setup_driver_encoder(session_config):\n",
    "    \"\"\"Create driver encoder for a given session\"\"\"\n",
    "    \n",
    "    # Load FastF1 session to get driver mappings\n",
    "    session = fastf1.get_session(\n",
    "        session_config.year, \n",
    "        session_config.race, \n",
    "        session_config.session_type\n",
    "    )\n",
    "    session.load()\n",
    "    \n",
    "    # Create and fit driver encoder\n",
    "    driver_encoder = DriverLabelEncoder()\n",
    "    driver_encoder.fit_session(session)\n",
    "    \n",
    "    print(f\"✅ Driver encoder fitted for {session_config.race}\")\n",
    "    print(f\"Available drivers: {list(driver_encoder.driver_to_number.keys())}\")\n",
    "    \n",
    "    return driver_encoder\n",
    "\n",
    "def setup_experiment_config():\n",
    "    \"\"\"Define experimental parameters\"\"\"\n",
    "    \n",
    "    # Window configurations to test\n",
    "    WINDOW_CONFIGS = [\n",
    "        {\"window_size\": 200, \"prediction_horizon\": 10},\n",
    "        {\"window_size\": 300, \"prediction_horizon\": 15},\n",
    "        {\"window_size\": 250, \"prediction_horizon\": 20}\n",
    "    ]\n",
    "    \n",
    "    # Data scope configurations (without driver mapping - will be handled dynamically)\n",
    "    DATA_SCOPES = {\n",
    "        \"one_session_one_driver\": {\n",
    "            \"sessions\": [SessionConfig(year=2024, race=\"Monaco Grand Prix\", session_type=\"R\")],\n",
    "            \"drivers\": [\"VER\"]  # Will be converted to numbers dynamically\n",
    "        },\n",
    "        \"one_session_all_drivers\": {\n",
    "            \"sessions\": [SessionConfig(year=2024, race=\"Monaco Grand Prix\", session_type=\"R\")],\n",
    "            \"drivers\": None\n",
    "        },\n",
    "        \"whole_season_one_driver\": {\n",
    "            \"sessions\": create_multi_session_configs(2024, ['R'], False)\n",
    "        }\n",
    "    }\n",
    "    \n",
    "    return WINDOW_CONFIGS, DATA_SCOPES\n",
    "\n",
    "# Run this first\n",
    "# WINDOW_CONFIGS, DATA_SCOPES = setup_experiment_config()\n",
    "# print(\"✅ Configuration loaded\")\n",
    "# print(f\"Window configs: {len(WINDOW_CONFIGS)}\")\n",
    "# print(f\"Data scopes: {list(DATA_SCOPES.keys())}\")"
   ]
  },
  {
   "cell_type": "code",
   "execution_count": 5,
   "id": "dc53cbd3",
   "metadata": {},
   "outputs": [
    {
     "name": "stderr",
     "output_type": "stream",
     "text": [
      "core           INFO \tLoading data for Saudi Arabian Grand Prix - Race [v3.5.3]\n",
      "req            INFO \tUsing cached data for session_info\n",
      "req            INFO \tUsing cached data for driver_info\n",
      "req            INFO \tUsing cached data for session_status_data\n",
      "req            INFO \tUsing cached data for lap_count\n",
      "req            INFO \tUsing cached data for track_status_data\n",
      "req            INFO \tUsing cached data for _extended_timing_data\n",
      "req            INFO \tUsing cached data for timing_app_data\n",
      "core           INFO \tProcessing timing data...\n",
      "req            INFO \tUsing cached data for car_data\n",
      "req            INFO \tUsing cached data for position_data\n",
      "req            INFO \tUsing cached data for weather_data\n",
      "req            INFO \tUsing cached data for race_control_messages\n",
      "core           INFO \tFinished loading data for 20 drivers: ['1', '11', '16', '81', '14', '63', '38', '4', '44', '27', '23', '20', '31', '2', '22', '3', '77', '24', '18', '10']\n",
      "core           INFO \tLoading data for Monaco Grand Prix - Race [v3.5.3]\n",
      "req            INFO \tUsing cached data for session_info\n",
      "req            INFO \tUsing cached data for driver_info\n",
      "req            INFO \tUsing cached data for session_status_data\n",
      "req            INFO \tUsing cached data for lap_count\n",
      "req            INFO \tUsing cached data for track_status_data\n",
      "req            INFO \tUsing cached data for _extended_timing_data\n",
      "req            INFO \tUsing cached data for timing_app_data\n",
      "core           INFO \tProcessing timing data...\n",
      "req            INFO \tUsing cached data for car_data\n",
      "req            INFO \tUsing cached data for position_data\n",
      "req            INFO \tUsing cached data for weather_data\n",
      "req            INFO \tUsing cached data for race_control_messages\n",
      "core           INFO \tFinished loading data for 20 drivers: ['16', '81', '55', '4', '63', '1', '44', '22', '23', '10', '14', '3', '77', '18', '2', '24', '31', '11', '27', '20']\n"
     ]
    },
    {
     "data": {
      "text/plain": [
       "<f1_etl.encoders.DriverLabelEncoder at 0x12ab4f890>"
      ]
     },
     "execution_count": 5,
     "metadata": {},
     "output_type": "execute_result"
    }
   ],
   "source": [
    "import fastf1\n",
    "from f1_etl import DriverLabelEncoder\n",
    "\n",
    "session_sa = fastf1.get_session(2024, \"Saudi Arabian Grand Prix\", 'R')\n",
    "session_mon = fastf1.get_session(2024, \"Monaco Grand Prix\", 'R')\n",
    "\n",
    "session_sa.load()\n",
    "session_mon.load()\n",
    "\n",
    "driver_enc_sa = DriverLabelEncoder()\n",
    "driver_enc_sa.fit_session(session_sa)\n",
    "\n",
    "driver_enc_mon = DriverLabelEncoder()\n",
    "driver_enc_mon.fit_session(session_mon)"
   ]
  },
  {
   "cell_type": "code",
   "execution_count": 6,
   "id": "5c20ed9b",
   "metadata": {},
   "outputs": [
    {
     "data": {
      "text/plain": [
       "{'VER': '1',\n",
       " 'PER': '11',\n",
       " 'LEC': '16',\n",
       " 'PIA': '81',\n",
       " 'ALO': '14',\n",
       " 'RUS': '63',\n",
       " 'BEA': '38',\n",
       " 'NOR': '4',\n",
       " 'HAM': '44',\n",
       " 'HUL': '27',\n",
       " 'ALB': '23',\n",
       " 'MAG': '20',\n",
       " 'OCO': '31',\n",
       " 'SAR': '2',\n",
       " 'TSU': '22',\n",
       " 'RIC': '3',\n",
       " 'BOT': '77',\n",
       " 'ZHO': '24',\n",
       " 'STR': '18',\n",
       " 'GAS': '10'}"
      ]
     },
     "execution_count": 6,
     "metadata": {},
     "output_type": "execute_result"
    }
   ],
   "source": [
    "driver_enc_sa.driver_to_number"
   ]
  },
  {
   "cell_type": "code",
   "execution_count": 7,
   "id": "4afb01af",
   "metadata": {},
   "outputs": [
    {
     "data": {
      "text/plain": [
       "{'LEC': '16',\n",
       " 'PIA': '81',\n",
       " 'SAI': '55',\n",
       " 'NOR': '4',\n",
       " 'RUS': '63',\n",
       " 'VER': '1',\n",
       " 'HAM': '44',\n",
       " 'TSU': '22',\n",
       " 'ALB': '23',\n",
       " 'GAS': '10',\n",
       " 'ALO': '14',\n",
       " 'RIC': '3',\n",
       " 'BOT': '77',\n",
       " 'STR': '18',\n",
       " 'SAR': '2',\n",
       " 'ZHO': '24',\n",
       " 'OCO': '31',\n",
       " 'PER': '11',\n",
       " 'HUL': '27',\n",
       " 'MAG': '20'}"
      ]
     },
     "execution_count": 7,
     "metadata": {},
     "output_type": "execute_result"
    }
   ],
   "source": [
    "driver_enc_mon.driver_to_number"
   ]
  },
  {
   "cell_type": "code",
   "execution_count": 9,
   "id": "5e851996",
   "metadata": {},
   "outputs": [
    {
     "name": "stderr",
     "output_type": "stream",
     "text": [
      "2025-07-01 21:48:19,548 - f1_etl - INFO - Generated 24 SessionConfig objects for 2024 season\n"
     ]
    }
   ],
   "source": [
    "sessions_2024_season = create_multi_session_configs(\n",
    "    year=2024, \n",
    "    session_types=['R'], \n",
    "    include_testing=False\n",
    ")\n",
    "data_config_2024_season_ver = DataConfig(\n",
    "    sessions=sessions_2024_season, \n",
    "    drivers=['1'], \n",
    "    include_weather=False\n",
    ")"
   ]
  },
  {
   "cell_type": "code",
   "execution_count": 10,
   "id": "bd8c03c6",
   "metadata": {},
   "outputs": [],
   "source": [
    "data_config = data_config_2024_season_ver"
   ]
  },
  {
   "cell_type": "code",
   "execution_count": 47,
   "id": "1878eb53",
   "metadata": {},
   "outputs": [
    {
     "name": "stderr",
     "output_type": "stream",
     "text": [
      "2025-07-01 22:31:11,777 - f1_etl - INFO - Preprocessing configuration:\n",
      "2025-07-01 22:31:11,779 - f1_etl - INFO -   Missing values: enabled (forward_fill)\n",
      "2025-07-01 22:31:11,780 - f1_etl - INFO -   Normalization: enabled (per_sequence)\n"
     ]
    },
    {
     "name": "stdout",
     "output_type": "stream",
     "text": [
      "Loading session: 2024 Bahrain Grand Prix R\n"
     ]
    },
    {
     "name": "stderr",
     "output_type": "stream",
     "text": [
      "core           INFO \tLoading data for Bahrain Grand Prix - Race [v3.5.3]\n",
      "req            INFO \tUsing cached data for session_info\n",
      "req            INFO \tUsing cached data for driver_info\n",
      "req            INFO \tUsing cached data for session_status_data\n",
      "req            INFO \tUsing cached data for lap_count\n",
      "req            INFO \tUsing cached data for track_status_data\n",
      "req            INFO \tUsing cached data for _extended_timing_data\n",
      "req            INFO \tUsing cached data for timing_app_data\n",
      "core           INFO \tProcessing timing data...\n",
      "req            INFO \tUsing cached data for car_data\n",
      "req            INFO \tUsing cached data for position_data\n",
      "req            INFO \tUsing cached data for weather_data\n",
      "req            INFO \tUsing cached data for race_control_messages\n",
      "core           INFO \tFinished loading data for 20 drivers: ['1', '11', '55', '16', '63', '4', '44', '81', '14', '18', '24', '20', '3', '22', '23', '27', '31', '10', '77', '2']\n",
      "core           INFO \tLoading data for Saudi Arabian Grand Prix - Race [v3.5.3]\n",
      "req            INFO \tUsing cached data for session_info\n",
      "req            INFO \tUsing cached data for driver_info\n",
      "req            INFO \tUsing cached data for session_status_data\n",
      "req            INFO \tUsing cached data for lap_count\n",
      "req            INFO \tUsing cached data for track_status_data\n",
      "req            INFO \tUsing cached data for _extended_timing_data\n",
      "req            INFO \tUsing cached data for timing_app_data\n",
      "core           INFO \tProcessing timing data...\n"
     ]
    },
    {
     "name": "stdout",
     "output_type": "stream",
     "text": [
      "Loading session: 2024 Saudi Arabian Grand Prix R\n"
     ]
    },
    {
     "name": "stderr",
     "output_type": "stream",
     "text": [
      "req            INFO \tUsing cached data for car_data\n",
      "req            INFO \tUsing cached data for position_data\n",
      "req            INFO \tUsing cached data for weather_data\n",
      "req            INFO \tUsing cached data for race_control_messages\n",
      "core           INFO \tFinished loading data for 20 drivers: ['1', '11', '16', '81', '14', '63', '38', '4', '44', '27', '23', '20', '31', '2', '22', '3', '77', '24', '18', '10']\n",
      "core           INFO \tLoading data for Australian Grand Prix - Race [v3.5.3]\n",
      "req            INFO \tUsing cached data for session_info\n",
      "req            INFO \tUsing cached data for driver_info\n",
      "req            INFO \tUsing cached data for session_status_data\n",
      "req            INFO \tUsing cached data for lap_count\n",
      "req            INFO \tUsing cached data for track_status_data\n",
      "req            INFO \tUsing cached data for _extended_timing_data\n",
      "req            INFO \tUsing cached data for timing_app_data\n",
      "core           INFO \tProcessing timing data...\n"
     ]
    },
    {
     "name": "stdout",
     "output_type": "stream",
     "text": [
      "Loading session: 2024 Australian Grand Prix R\n"
     ]
    },
    {
     "name": "stderr",
     "output_type": "stream",
     "text": [
      "req            INFO \tUsing cached data for car_data\n",
      "req            INFO \tUsing cached data for position_data\n",
      "req            INFO \tUsing cached data for weather_data\n",
      "req            INFO \tUsing cached data for race_control_messages\n",
      "core           INFO \tFinished loading data for 19 drivers: ['55', '16', '4', '81', '11', '18', '22', '14', '27', '20', '23', '3', '10', '77', '24', '31', '63', '44', '1']\n",
      "core           INFO \tLoading data for Japanese Grand Prix - Race [v3.5.3]\n",
      "req            INFO \tUsing cached data for session_info\n",
      "req            INFO \tUsing cached data for driver_info\n",
      "req            INFO \tUsing cached data for session_status_data\n",
      "req            INFO \tUsing cached data for lap_count\n",
      "req            INFO \tUsing cached data for track_status_data\n",
      "req            INFO \tUsing cached data for _extended_timing_data\n",
      "req            INFO \tUsing cached data for timing_app_data\n",
      "core           INFO \tProcessing timing data...\n"
     ]
    },
    {
     "name": "stdout",
     "output_type": "stream",
     "text": [
      "Loading session: 2024 Japanese Grand Prix R\n"
     ]
    },
    {
     "name": "stderr",
     "output_type": "stream",
     "text": [
      "req            INFO \tUsing cached data for car_data\n",
      "req            INFO \tUsing cached data for position_data\n",
      "req            INFO \tUsing cached data for weather_data\n",
      "req            INFO \tUsing cached data for race_control_messages\n",
      "core           INFO \tFinished loading data for 20 drivers: ['1', '11', '55', '16', '4', '14', '63', '81', '44', '22', '27', '18', '20', '77', '31', '10', '2', '24', '3', '23']\n",
      "core           INFO \tLoading data for Chinese Grand Prix - Race [v3.5.3]\n",
      "req            INFO \tUsing cached data for session_info\n",
      "req            INFO \tUsing cached data for driver_info\n",
      "req            INFO \tUsing cached data for session_status_data\n",
      "req            INFO \tUsing cached data for lap_count\n",
      "req            INFO \tUsing cached data for track_status_data\n",
      "req            INFO \tUsing cached data for _extended_timing_data\n",
      "req            INFO \tUsing cached data for timing_app_data\n",
      "core           INFO \tProcessing timing data...\n"
     ]
    },
    {
     "name": "stdout",
     "output_type": "stream",
     "text": [
      "Loading session: 2024 Chinese Grand Prix R\n"
     ]
    },
    {
     "name": "stderr",
     "output_type": "stream",
     "text": [
      "req            INFO \tUsing cached data for car_data\n",
      "req            INFO \tUsing cached data for position_data\n",
      "req            INFO \tUsing cached data for weather_data\n",
      "req            INFO \tUsing cached data for race_control_messages\n",
      "core        WARNING \tDriver 1 completed the race distance 00:08.313000 before the recorded end of the session.\n",
      "core           INFO \tFinished loading data for 20 drivers: ['1', '4', '11', '16', '55', '63', '14', '81', '44', '27', '31', '23', '10', '24', '18', '20', '2', '3', '22', '77']\n",
      "core           INFO \tLoading data for Miami Grand Prix - Race [v3.5.3]\n",
      "req            INFO \tUsing cached data for session_info\n",
      "req            INFO \tUsing cached data for driver_info\n",
      "req            INFO \tUsing cached data for session_status_data\n",
      "req            INFO \tUsing cached data for lap_count\n",
      "req            INFO \tUsing cached data for track_status_data\n",
      "req            INFO \tUsing cached data for _extended_timing_data\n",
      "req            INFO \tUsing cached data for timing_app_data\n",
      "core           INFO \tProcessing timing data...\n"
     ]
    },
    {
     "name": "stdout",
     "output_type": "stream",
     "text": [
      "Loading session: 2024 Miami Grand Prix R\n"
     ]
    },
    {
     "name": "stderr",
     "output_type": "stream",
     "text": [
      "req            INFO \tUsing cached data for car_data\n",
      "req            INFO \tUsing cached data for position_data\n",
      "req            INFO \tUsing cached data for weather_data\n",
      "req            INFO \tUsing cached data for race_control_messages\n",
      "core           INFO \tFinished loading data for 20 drivers: ['4', '1', '16', '11', '55', '44', '22', '63', '14', '31', '27', '10', '81', '24', '3', '77', '18', '23', '20', '2']\n",
      "core           INFO \tLoading data for Emilia Romagna Grand Prix - Race [v3.5.3]\n",
      "req            INFO \tUsing cached data for session_info\n",
      "req            INFO \tUsing cached data for driver_info\n"
     ]
    },
    {
     "name": "stdout",
     "output_type": "stream",
     "text": [
      "Loading session: 2024 Emilia Romagna Grand Prix R\n"
     ]
    },
    {
     "name": "stderr",
     "output_type": "stream",
     "text": [
      "req            INFO \tUsing cached data for session_status_data\n",
      "req            INFO \tUsing cached data for lap_count\n",
      "req            INFO \tUsing cached data for track_status_data\n",
      "req            INFO \tUsing cached data for _extended_timing_data\n",
      "req            INFO \tUsing cached data for timing_app_data\n",
      "core           INFO \tProcessing timing data...\n",
      "req            INFO \tUsing cached data for car_data\n",
      "req            INFO \tUsing cached data for position_data\n",
      "req            INFO \tUsing cached data for weather_data\n",
      "req            INFO \tUsing cached data for race_control_messages\n",
      "core           INFO \tFinished loading data for 20 drivers: ['1', '4', '16', '81', '55', '44', '63', '11', '18', '22', '27', '20', '3', '31', '24', '10', '2', '77', '14', '23']\n",
      "core           INFO \tLoading data for Monaco Grand Prix - Race [v3.5.3]\n",
      "req            INFO \tUsing cached data for session_info\n",
      "req            INFO \tUsing cached data for driver_info\n",
      "req            INFO \tUsing cached data for session_status_data\n",
      "req            INFO \tUsing cached data for lap_count\n",
      "req            INFO \tUsing cached data for track_status_data\n",
      "req            INFO \tUsing cached data for _extended_timing_data\n",
      "req            INFO \tUsing cached data for timing_app_data\n",
      "core           INFO \tProcessing timing data...\n"
     ]
    },
    {
     "name": "stdout",
     "output_type": "stream",
     "text": [
      "Loading session: 2024 Monaco Grand Prix R\n"
     ]
    },
    {
     "name": "stderr",
     "output_type": "stream",
     "text": [
      "req            INFO \tUsing cached data for car_data\n",
      "req            INFO \tUsing cached data for position_data\n",
      "req            INFO \tUsing cached data for weather_data\n",
      "req            INFO \tUsing cached data for race_control_messages\n",
      "core           INFO \tFinished loading data for 20 drivers: ['16', '81', '55', '4', '63', '1', '44', '22', '23', '10', '14', '3', '77', '18', '2', '24', '31', '11', '27', '20']\n",
      "core           INFO \tLoading data for Canadian Grand Prix - Race [v3.5.3]\n",
      "req            INFO \tUsing cached data for session_info\n",
      "req            INFO \tUsing cached data for driver_info\n"
     ]
    },
    {
     "name": "stdout",
     "output_type": "stream",
     "text": [
      "Loading session: 2024 Canadian Grand Prix R\n"
     ]
    },
    {
     "name": "stderr",
     "output_type": "stream",
     "text": [
      "req            INFO \tUsing cached data for session_status_data\n",
      "req            INFO \tUsing cached data for lap_count\n",
      "req            INFO \tUsing cached data for track_status_data\n",
      "req            INFO \tUsing cached data for _extended_timing_data\n",
      "req            INFO \tUsing cached data for timing_app_data\n",
      "core           INFO \tProcessing timing data...\n",
      "req            INFO \tUsing cached data for car_data\n",
      "req            INFO \tUsing cached data for position_data\n",
      "req            INFO \tUsing cached data for weather_data\n",
      "req            INFO \tUsing cached data for race_control_messages\n",
      "core           INFO \tFinished loading data for 20 drivers: ['1', '4', '63', '44', '81', '14', '18', '3', '10', '31', '27', '20', '77', '22', '24', '55', '23', '11', '16', '2']\n",
      "core           INFO \tLoading data for Spanish Grand Prix - Race [v3.5.3]\n",
      "req            INFO \tUsing cached data for session_info\n",
      "req            INFO \tUsing cached data for driver_info\n",
      "req            INFO \tUsing cached data for session_status_data\n",
      "req            INFO \tUsing cached data for lap_count\n",
      "req            INFO \tUsing cached data for track_status_data\n",
      "req            INFO \tUsing cached data for _extended_timing_data\n",
      "req            INFO \tUsing cached data for timing_app_data\n",
      "core           INFO \tProcessing timing data...\n"
     ]
    },
    {
     "name": "stdout",
     "output_type": "stream",
     "text": [
      "Loading session: 2024 Spanish Grand Prix R\n"
     ]
    },
    {
     "name": "stderr",
     "output_type": "stream",
     "text": [
      "req            INFO \tUsing cached data for car_data\n",
      "req            INFO \tUsing cached data for position_data\n",
      "req            INFO \tUsing cached data for weather_data\n",
      "req            INFO \tUsing cached data for race_control_messages\n",
      "core        WARNING \tDriver 1 completed the race distance 00:00.015000 before the recorded end of the session.\n",
      "core           INFO \tFinished loading data for 20 drivers: ['1', '4', '44', '63', '16', '55', '81', '11', '10', '31', '27', '14', '24', '18', '3', '77', '20', '23', '22', '2']\n",
      "core           INFO \tLoading data for Austrian Grand Prix - Race [v3.5.3]\n",
      "req            INFO \tUsing cached data for session_info\n",
      "req            INFO \tUsing cached data for driver_info\n",
      "req            INFO \tUsing cached data for session_status_data\n",
      "req            INFO \tUsing cached data for lap_count\n",
      "req            INFO \tUsing cached data for track_status_data\n",
      "req            INFO \tUsing cached data for _extended_timing_data\n",
      "req            INFO \tUsing cached data for timing_app_data\n",
      "core           INFO \tProcessing timing data...\n"
     ]
    },
    {
     "name": "stdout",
     "output_type": "stream",
     "text": [
      "Loading session: 2024 Austrian Grand Prix R\n"
     ]
    },
    {
     "name": "stderr",
     "output_type": "stream",
     "text": [
      "req            INFO \tUsing cached data for car_data\n",
      "req            INFO \tUsing cached data for position_data\n",
      "req            INFO \tUsing cached data for weather_data\n",
      "req            INFO \tUsing cached data for race_control_messages\n",
      "core           INFO \tFinished loading data for 20 drivers: ['63', '81', '55', '44', '1', '27', '11', '20', '3', '10', '16', '31', '18', '22', '23', '77', '24', '14', '2', '4']\n",
      "core           INFO \tLoading data for British Grand Prix - Race [v3.5.3]\n",
      "req            INFO \tUsing cached data for session_info\n",
      "req            INFO \tUsing cached data for driver_info\n",
      "req            INFO \tUsing cached data for session_status_data\n",
      "req            INFO \tUsing cached data for lap_count\n",
      "req            INFO \tUsing cached data for track_status_data\n",
      "req            INFO \tUsing cached data for _extended_timing_data\n",
      "req            INFO \tUsing cached data for timing_app_data\n",
      "core           INFO \tProcessing timing data...\n"
     ]
    },
    {
     "name": "stdout",
     "output_type": "stream",
     "text": [
      "Loading session: 2024 British Grand Prix R\n"
     ]
    },
    {
     "name": "stderr",
     "output_type": "stream",
     "text": [
      "req            INFO \tUsing cached data for car_data\n",
      "req            INFO \tUsing cached data for position_data\n",
      "req            INFO \tUsing cached data for weather_data\n",
      "req            INFO \tUsing cached data for race_control_messages\n",
      "core           INFO \tFinished loading data for 20 drivers: ['44', '1', '4', '81', '55', '27', '18', '14', '23', '22', '2', '20', '3', '16', '77', '31', '11', '24', '63', '10']\n",
      "core           INFO \tLoading data for Hungarian Grand Prix - Race [v3.5.3]\n",
      "req            INFO \tUsing cached data for session_info\n",
      "req            INFO \tUsing cached data for driver_info\n"
     ]
    },
    {
     "name": "stdout",
     "output_type": "stream",
     "text": [
      "Loading session: 2024 Hungarian Grand Prix R\n"
     ]
    },
    {
     "name": "stderr",
     "output_type": "stream",
     "text": [
      "req            INFO \tUsing cached data for session_status_data\n",
      "req            INFO \tUsing cached data for lap_count\n",
      "req            INFO \tUsing cached data for track_status_data\n",
      "req            INFO \tUsing cached data for _extended_timing_data\n",
      "req            INFO \tUsing cached data for timing_app_data\n",
      "core           INFO \tProcessing timing data...\n",
      "req            INFO \tUsing cached data for car_data\n",
      "req            INFO \tUsing cached data for position_data\n",
      "req            INFO \tUsing cached data for weather_data\n",
      "req            INFO \tUsing cached data for race_control_messages\n",
      "core           INFO \tFinished loading data for 20 drivers: ['81', '4', '44', '16', '1', '55', '11', '63', '22', '18', '14', '3', '27', '23', '20', '77', '2', '31', '24', '10']\n",
      "core           INFO \tLoading data for Belgian Grand Prix - Race [v3.5.3]\n",
      "req            INFO \tUsing cached data for session_info\n",
      "req            INFO \tUsing cached data for driver_info\n"
     ]
    },
    {
     "name": "stdout",
     "output_type": "stream",
     "text": [
      "Loading session: 2024 Belgian Grand Prix R\n"
     ]
    },
    {
     "name": "stderr",
     "output_type": "stream",
     "text": [
      "req            INFO \tUsing cached data for session_status_data\n",
      "req            INFO \tUsing cached data for lap_count\n",
      "req            INFO \tUsing cached data for track_status_data\n",
      "req            INFO \tUsing cached data for _extended_timing_data\n",
      "req            INFO \tUsing cached data for timing_app_data\n",
      "core           INFO \tProcessing timing data...\n",
      "req            INFO \tUsing cached data for car_data\n",
      "req            INFO \tUsing cached data for position_data\n",
      "req            INFO \tUsing cached data for weather_data\n",
      "req            INFO \tUsing cached data for race_control_messages\n",
      "core           INFO \tFinished loading data for 20 drivers: ['44', '81', '16', '1', '4', '55', '11', '14', '31', '3', '18', '23', '10', '20', '77', '22', '2', '27', '24', '63']\n",
      "core           INFO \tLoading data for Dutch Grand Prix - Race [v3.5.3]\n",
      "req            INFO \tUsing cached data for session_info\n",
      "req            INFO \tUsing cached data for driver_info\n"
     ]
    },
    {
     "name": "stdout",
     "output_type": "stream",
     "text": [
      "Loading session: 2024 Dutch Grand Prix R\n"
     ]
    },
    {
     "name": "stderr",
     "output_type": "stream",
     "text": [
      "req            INFO \tUsing cached data for session_status_data\n",
      "req            INFO \tUsing cached data for lap_count\n",
      "req            INFO \tUsing cached data for track_status_data\n",
      "req            INFO \tUsing cached data for _extended_timing_data\n",
      "req            INFO \tUsing cached data for timing_app_data\n",
      "core           INFO \tProcessing timing data...\n",
      "req            INFO \tUsing cached data for car_data\n",
      "req            INFO \tUsing cached data for position_data\n",
      "req            INFO \tUsing cached data for weather_data\n",
      "req            INFO \tUsing cached data for race_control_messages\n",
      "core           INFO \tFinished loading data for 20 drivers: ['4', '1', '16', '81', '55', '11', '63', '44', '10', '14', '27', '3', '18', '23', '31', '2', '22', '20', '77', '24']\n",
      "core           INFO \tLoading data for Italian Grand Prix - Race [v3.5.3]\n",
      "req            INFO \tUsing cached data for session_info\n",
      "req            INFO \tUsing cached data for driver_info\n",
      "req            INFO \tUsing cached data for session_status_data\n",
      "req            INFO \tUsing cached data for lap_count\n",
      "req            INFO \tUsing cached data for track_status_data\n",
      "req            INFO \tUsing cached data for _extended_timing_data\n",
      "req            INFO \tUsing cached data for timing_app_data\n",
      "core           INFO \tProcessing timing data...\n"
     ]
    },
    {
     "name": "stdout",
     "output_type": "stream",
     "text": [
      "Loading session: 2024 Italian Grand Prix R\n"
     ]
    },
    {
     "name": "stderr",
     "output_type": "stream",
     "text": [
      "req            INFO \tUsing cached data for car_data\n",
      "req            INFO \tUsing cached data for position_data\n",
      "req            INFO \tUsing cached data for weather_data\n",
      "req            INFO \tUsing cached data for race_control_messages\n",
      "core           INFO \tFinished loading data for 20 drivers: ['16', '81', '4', '55', '44', '1', '63', '11', '23', '20', '14', '43', '3', '31', '10', '77', '27', '24', '18', '22']\n",
      "core           INFO \tLoading data for Azerbaijan Grand Prix - Race [v3.5.3]\n",
      "req            INFO \tUsing cached data for session_info\n",
      "req            INFO \tUsing cached data for driver_info\n",
      "req            INFO \tUsing cached data for session_status_data\n",
      "req            INFO \tUsing cached data for lap_count\n",
      "req            INFO \tUsing cached data for track_status_data\n",
      "req            INFO \tUsing cached data for _extended_timing_data\n",
      "req            INFO \tUsing cached data for timing_app_data\n",
      "core           INFO \tProcessing timing data...\n"
     ]
    },
    {
     "name": "stdout",
     "output_type": "stream",
     "text": [
      "Loading session: 2024 Azerbaijan Grand Prix R\n"
     ]
    },
    {
     "name": "stderr",
     "output_type": "stream",
     "text": [
      "req            INFO \tUsing cached data for car_data\n",
      "req            INFO \tUsing cached data for position_data\n",
      "req            INFO \tUsing cached data for weather_data\n",
      "req            INFO \tUsing cached data for race_control_messages\n",
      "core           INFO \tFinished loading data for 20 drivers: ['81', '16', '63', '4', '1', '14', '23', '43', '44', '50', '27', '10', '3', '24', '31', '77', '11', '55', '18', '22']\n",
      "core           INFO \tLoading data for Singapore Grand Prix - Race [v3.5.3]\n",
      "req            INFO \tUsing cached data for session_info\n",
      "req            INFO \tUsing cached data for driver_info\n",
      "req            INFO \tUsing cached data for session_status_data\n",
      "req            INFO \tUsing cached data for lap_count\n",
      "req            INFO \tUsing cached data for track_status_data\n",
      "req            INFO \tUsing cached data for _extended_timing_data\n",
      "req            INFO \tUsing cached data for timing_app_data\n",
      "core           INFO \tProcessing timing data...\n"
     ]
    },
    {
     "name": "stdout",
     "output_type": "stream",
     "text": [
      "Loading session: 2024 Singapore Grand Prix R\n"
     ]
    },
    {
     "name": "stderr",
     "output_type": "stream",
     "text": [
      "req            INFO \tUsing cached data for car_data\n",
      "req            INFO \tUsing cached data for position_data\n",
      "req            INFO \tUsing cached data for weather_data\n",
      "req            INFO \tUsing cached data for race_control_messages\n",
      "core           INFO \tFinished loading data for 20 drivers: ['4', '1', '81', '63', '16', '44', '55', '14', '27', '11', '43', '22', '31', '18', '24', '77', '10', '3', '20', '23']\n",
      "events      WARNING \tCorrecting user input 'United States Grand Prix' to 'United States Grand Prix'\n",
      "core           INFO \tLoading data for United States Grand Prix - Race [v3.5.3]\n",
      "req            INFO \tUsing cached data for session_info\n",
      "req            INFO \tUsing cached data for driver_info\n"
     ]
    },
    {
     "name": "stdout",
     "output_type": "stream",
     "text": [
      "Loading session: 2024 United States Grand Prix R\n"
     ]
    },
    {
     "name": "stderr",
     "output_type": "stream",
     "text": [
      "req            INFO \tUsing cached data for session_status_data\n",
      "req            INFO \tUsing cached data for lap_count\n",
      "req            INFO \tUsing cached data for track_status_data\n",
      "req            INFO \tUsing cached data for _extended_timing_data\n",
      "req            INFO \tUsing cached data for timing_app_data\n",
      "core           INFO \tProcessing timing data...\n",
      "req            INFO \tUsing cached data for car_data\n",
      "req            INFO \tUsing cached data for position_data\n",
      "req            INFO \tUsing cached data for weather_data\n",
      "req            INFO \tUsing cached data for race_control_messages\n",
      "core           INFO \tFinished loading data for 20 drivers: ['16', '55', '1', '4', '81', '63', '11', '27', '30', '43', '20', '10', '14', '22', '18', '23', '77', '31', '24', '44']\n",
      "core           INFO \tLoading data for Mexico City Grand Prix - Race [v3.5.3]\n",
      "req            INFO \tUsing cached data for session_info\n",
      "req            INFO \tUsing cached data for driver_info\n"
     ]
    },
    {
     "name": "stdout",
     "output_type": "stream",
     "text": [
      "Loading session: 2024 Mexico City Grand Prix R\n"
     ]
    },
    {
     "name": "stderr",
     "output_type": "stream",
     "text": [
      "req            INFO \tUsing cached data for session_status_data\n",
      "req            INFO \tUsing cached data for lap_count\n",
      "req            INFO \tUsing cached data for track_status_data\n",
      "req            INFO \tUsing cached data for _extended_timing_data\n",
      "req            INFO \tUsing cached data for timing_app_data\n",
      "core           INFO \tProcessing timing data...\n",
      "req            INFO \tUsing cached data for car_data\n",
      "req            INFO \tUsing cached data for position_data\n",
      "req            INFO \tUsing cached data for weather_data\n",
      "req            INFO \tUsing cached data for race_control_messages\n",
      "core           INFO \tFinished loading data for 20 drivers: ['55', '4', '16', '44', '63', '1', '20', '81', '27', '10', '18', '43', '31', '77', '24', '30', '11', '14', '23', '22']\n",
      "core           INFO \tLoading data for São Paulo Grand Prix - Race [v3.5.3]\n",
      "req            INFO \tUsing cached data for session_info\n",
      "req            INFO \tUsing cached data for driver_info\n",
      "req            INFO \tUsing cached data for session_status_data\n",
      "req            INFO \tUsing cached data for lap_count\n",
      "req            INFO \tUsing cached data for track_status_data\n"
     ]
    },
    {
     "name": "stdout",
     "output_type": "stream",
     "text": [
      "Loading session: 2024 São Paulo Grand Prix R\n"
     ]
    },
    {
     "name": "stderr",
     "output_type": "stream",
     "text": [
      "req            INFO \tUsing cached data for _extended_timing_data\n",
      "req            INFO \tUsing cached data for timing_app_data\n",
      "core           INFO \tProcessing timing data...\n",
      "core        WARNING \tNo lap data for driver 23\n",
      "core        WARNING \tFailed to perform lap accuracy check - all laps marked as inaccurate (driver 23)\n",
      "req            INFO \tUsing cached data for car_data\n",
      "req            INFO \tUsing cached data for position_data\n",
      "req            INFO \tUsing cached data for weather_data\n",
      "req            INFO \tUsing cached data for race_control_messages\n",
      "core           INFO \tFinished loading data for 20 drivers: ['1', '31', '10', '63', '16', '4', '22', '81', '30', '44', '11', '50', '77', '14', '24', '55', '43', '23', '18', '27']\n",
      "core           INFO \tLoading data for Las Vegas Grand Prix - Race [v3.5.3]\n",
      "req            INFO \tUsing cached data for session_info\n",
      "req            INFO \tUsing cached data for driver_info\n"
     ]
    },
    {
     "name": "stdout",
     "output_type": "stream",
     "text": [
      "Loading session: 2024 Las Vegas Grand Prix R\n"
     ]
    },
    {
     "name": "stderr",
     "output_type": "stream",
     "text": [
      "req            INFO \tUsing cached data for session_status_data\n",
      "req            INFO \tUsing cached data for lap_count\n",
      "req            INFO \tUsing cached data for track_status_data\n",
      "req            INFO \tUsing cached data for _extended_timing_data\n",
      "req            INFO \tUsing cached data for timing_app_data\n",
      "core           INFO \tProcessing timing data...\n",
      "core        WARNING \tDriver 63: Lap timing integrity check failed for 2 lap(s)\n",
      "core        WARNING \tDriver 44: Lap timing integrity check failed for 1 lap(s)\n",
      "core        WARNING \tDriver 55: Lap timing integrity check failed for 1 lap(s)\n",
      "core        WARNING \tDriver 16: Lap timing integrity check failed for 2 lap(s)\n",
      "core        WARNING \tDriver  1: Lap timing integrity check failed for 1 lap(s)\n",
      "core        WARNING \tDriver  4: Lap timing integrity check failed for 1 lap(s)\n",
      "core        WARNING \tDriver 81: Lap timing integrity check failed for 1 lap(s)\n",
      "core        WARNING \tDriver 30: Lap timing integrity check failed for 2 lap(s)\n",
      "core        WARNING \tDriver 77: Lap timing integrity check failed for 2 lap(s)\n",
      "req            INFO \tUsing cached data for car_data\n",
      "req            INFO \tUsing cached data for position_data\n",
      "req            INFO \tUsing cached data for weather_data\n",
      "req            INFO \tUsing cached data for race_control_messages\n",
      "core        WARNING \tDriver 63 completed the race distance 00:00.427000 before the recorded end of the session.\n",
      "core           INFO \tFinished loading data for 20 drivers: ['63', '44', '55', '16', '1', '4', '81', '27', '22', '11', '14', '20', '24', '43', '18', '30', '31', '77', '23', '10']\n",
      "events      WARNING \tCorrecting user input 'Qatar Grand Prix' to 'Qatar Grand Prix'\n",
      "core           INFO \tLoading data for Qatar Grand Prix - Race [v3.5.3]\n",
      "req            INFO \tUsing cached data for session_info\n",
      "req            INFO \tUsing cached data for driver_info\n"
     ]
    },
    {
     "name": "stdout",
     "output_type": "stream",
     "text": [
      "Loading session: 2024 Qatar Grand Prix R\n"
     ]
    },
    {
     "name": "stderr",
     "output_type": "stream",
     "text": [
      "req            INFO \tUsing cached data for session_status_data\n",
      "req            INFO \tUsing cached data for lap_count\n",
      "req            INFO \tUsing cached data for track_status_data\n",
      "req            INFO \tUsing cached data for _extended_timing_data\n",
      "req            INFO \tUsing cached data for timing_app_data\n",
      "core           INFO \tProcessing timing data...\n",
      "req            INFO \tUsing cached data for car_data\n",
      "req            INFO \tUsing cached data for position_data\n",
      "req            INFO \tUsing cached data for weather_data\n",
      "req            INFO \tUsing cached data for race_control_messages\n",
      "core           INFO \tFinished loading data for 20 drivers: ['1', '16', '81', '63', '10', '55', '14', '24', '20', '4', '77', '44', '22', '30', '23', '27', '11', '18', '43', '31']\n",
      "core           INFO \tLoading data for Abu Dhabi Grand Prix - Race [v3.5.3]\n",
      "req            INFO \tUsing cached data for session_info\n",
      "req            INFO \tUsing cached data for driver_info\n"
     ]
    },
    {
     "name": "stdout",
     "output_type": "stream",
     "text": [
      "Loading session: 2024 Abu Dhabi Grand Prix R\n"
     ]
    },
    {
     "name": "stderr",
     "output_type": "stream",
     "text": [
      "req            INFO \tUsing cached data for session_status_data\n",
      "req            INFO \tUsing cached data for lap_count\n",
      "req            INFO \tUsing cached data for track_status_data\n",
      "req            INFO \tUsing cached data for _extended_timing_data\n",
      "req            INFO \tUsing cached data for timing_app_data\n",
      "core           INFO \tProcessing timing data...\n",
      "req            INFO \tUsing cached data for car_data\n",
      "req            INFO \tUsing cached data for position_data\n",
      "req            INFO \tUsing cached data for weather_data\n",
      "req            INFO \tUsing cached data for race_control_messages\n",
      "core           INFO \tFinished loading data for 20 drivers: ['4', '55', '16', '44', '63', '1', '10', '27', '14', '81', '23', '22', '24', '18', '61', '20', '30', '77', '43', '11']\n",
      "2025-07-01 22:37:24,007 - f1_etl - INFO - Creating new fixed vocabulary encoder\n"
     ]
    },
    {
     "name": "stdout",
     "output_type": "stream",
     "text": [
      "\n",
      "📊 Track Status Analysis (training_data):\n",
      "   green       : 1540436 samples ( 91.9%)\n",
      "   red         : 33594 samples (  2.0%)\n",
      "   safety_car  : 47826 samples (  2.9%)\n",
      "   vsc         : 10001 samples (  0.6%)\n",
      "   vsc_ending  :   461 samples (  0.0%)\n",
      "   yellow      : 43072 samples (  2.6%)\n",
      "   Missing classes: [np.str_('unknown')]\n",
      "✅ FixedVocabTrackStatusEncoder fitted\n",
      "   Classes seen: ['green', 'red', 'safety_car', 'vsc', 'vsc_ending', 'yellow']\n",
      "   Total classes: 7\n",
      "   Output mode: integer labels\n"
     ]
    },
    {
     "name": "stderr",
     "output_type": "stream",
     "text": [
      "2025-07-01 22:37:24,520 - f1_etl - INFO - Processing 1675390 total telemetry rows\n",
      "2025-07-01 22:37:24,520 - f1_etl - INFO - Grouping by: ['SessionId', 'Driver']\n",
      "2025-07-01 22:37:31,949 - f1_etl - INFO - Total sequences generated: 33467\n",
      "2025-07-01 22:37:32,136 - f1_etl - INFO - Generated 33467 sequences with shape (33467, 100, 9)\n",
      "2025-07-01 22:37:32,168 - f1_etl - INFO - Applying missing value imputation with strategy: forward_fill\n",
      "2025-07-01 22:37:32,178 - f1_etl - INFO - Handling missing values with strategy: forward_fill\n",
      "2025-07-01 22:37:32,575 - f1_etl - INFO - Applying normalization with method: per_sequence\n",
      "2025-07-01 22:37:33,289 - f1_etl - INFO - Final dataset summary:\n",
      "2025-07-01 22:37:33,289 - f1_etl - INFO -   Sequences: 33467\n",
      "2025-07-01 22:37:33,290 - f1_etl - INFO -   Features: 9\n",
      "2025-07-01 22:37:33,290 - f1_etl - INFO -   Classes: 7 (integer)\n",
      "2025-07-01 22:37:33,290 - f1_etl - INFO -   Label shape: (33467,)\n",
      "2025-07-01 22:37:33,290 - f1_etl - INFO -     green       : 30780 samples ( 92.0%)\n",
      "2025-07-01 22:37:33,291 - f1_etl - INFO -     red         :   672 samples (  2.0%)\n",
      "2025-07-01 22:37:33,291 - f1_etl - INFO -     safety_car  :   955 samples (  2.9%)\n",
      "2025-07-01 22:37:33,291 - f1_etl - INFO -     vsc         :   201 samples (  0.6%)\n",
      "2025-07-01 22:37:33,292 - f1_etl - INFO -     vsc_ending  :     9 samples (  0.0%)\n",
      "2025-07-01 22:37:33,292 - f1_etl - INFO -     yellow      :   850 samples (  2.5%)\n"
     ]
    }
   ],
   "source": [
    "dataset = create_safety_car_dataset(\n",
    "    config=data_config,\n",
    "    window_size=100,\n",
    "    prediction_horizon=10,\n",
    "    handle_non_numeric=\"encode\",\n",
    "    handle_missing=True,\n",
    "    missing_strategy=\"forward_fill\",\n",
    "    normalize=True,\n",
    "    normalization_method=\"per_sequence\",\n",
    "    target_column=\"TrackStatus\",\n",
    "    enable_debug=False\n",
    ")"
   ]
  },
  {
   "cell_type": "code",
   "execution_count": null,
   "id": "2a1d3765",
   "metadata": {},
   "outputs": [
    {
     "name": "stderr",
     "output_type": "stream",
     "text": [
      "2025-07-01 13:37:56,918 - f1_etl - INFO - Preprocessing configuration:\n",
      "2025-07-01 13:37:56,919 - f1_etl - INFO -   Missing values: disabled (forward_fill)\n",
      "2025-07-01 13:37:56,919 - f1_etl - INFO -   Normalization: enabled (per_sequence)\n"
     ]
    },
    {
     "name": "stdout",
     "output_type": "stream",
     "text": [
      "Generating dataset: one_session_all_drivers, window=200, horizon=10\n",
      "Loading session: 2024 Monaco Grand Prix R\n",
      "Loading from cache: f1_cache/2024_Monaco_Grand_Prix_R.pkl\n"
     ]
    },
    {
     "name": "stderr",
     "output_type": "stream",
     "text": [
      "2025-07-01 13:38:02,293 - f1_etl - INFO - Processing 1833280 total telemetry rows\n",
      "2025-07-01 13:38:02,295 - f1_etl - INFO - Grouping by: ['SessionId', 'Driver']\n",
      "2025-07-01 13:38:07,128 - f1_etl - INFO - Total sequences generated: 18300\n",
      "2025-07-01 13:38:07,350 - f1_etl - INFO - Generated 18300 sequences with shape (18300, 200, 9)\n",
      "2025-07-01 13:38:07,350 - f1_etl - INFO - Missing value handling disabled\n",
      "2025-07-01 13:38:07,388 - f1_etl - INFO - Applying normalization with method: per_sequence\n"
     ]
    }
   ],
   "source": [
    "# ============================================================================\n",
    "# STEP 2: DATA GENERATION\n",
    "# ============================================================================\n",
    "\n",
    "# def create_dataset(scope_name, window_config, cache_dir=\"./f1_cache\"):\n",
    "#     \"\"\"Create a single dataset for given scope and window configuration\"\"\"\n",
    "    \n",
    "#     scope = DATA_SCOPES[scope_name]\n",
    "    \n",
    "#     # Convert driver abbreviations to numbers using DriverLabelEncoder\n",
    "#     drivers = None\n",
    "#     if scope[\"drivers\"]:\n",
    "#         # Get the session to create driver encoder\n",
    "#         session_config = scope[\"sessions\"][0]  # Use first session for driver mapping\n",
    "#         driver_encoder = setup_driver_encoder(session_config)\n",
    "        \n",
    "#         # Convert abbreviations to numbers\n",
    "#         try:\n",
    "#             drivers = driver_encoder.transform_driver_to_number(scope[\"drivers\"])\n",
    "#             print(f\"Mapped drivers: {scope['drivers']} -> {drivers}\")\n",
    "#         except KeyError as e:\n",
    "#             print(f\"❌ Driver not found: {e}\")\n",
    "#             available_drivers = list(driver_encoder.driver_to_number.keys())\n",
    "#             print(f\"Available drivers: {available_drivers}\")\n",
    "#             raise ValueError(f\"Driver mapping failed. Available: {available_drivers}\")\n",
    "    \n",
    "#     # Create data configuration\n",
    "#     config = DataConfig(\n",
    "#         sessions=scope[\"sessions\"],\n",
    "#         cache_dir=cache_dir,\n",
    "#         drivers=drivers\n",
    "#     )\n",
    "    \n",
    "#     # Generate dataset\n",
    "#     print(f\"Generating dataset: {scope_name}, window={window_config['window_size']}, horizon={window_config['prediction_horizon']}\")\n",
    "#     dataset = create_safety_car_dataset(\n",
    "#         config=config,\n",
    "#         window_size=window_config[\"window_size\"],\n",
    "#         prediction_horizon=window_config[\"prediction_horizon\"],\n",
    "#         handle_non_numeric=\"encode\",\n",
    "#         handle_missing=False,\n",
    "#         missing_strategy=\"forward_fill\",\n",
    "#         normalize=True,\n",
    "#         normalization_method=\"per_sequence\",\n",
    "#         target_column=\"TrackStatus\",\n",
    "#         enable_debug=False\n",
    "#     )\n",
    "    \n",
    "#     return dataset\n",
    "\n",
    "# # Example: Create a single dataset\n",
    "# dataset = create_dataset(\"one_session_all_drivers\", WINDOW_CONFIGS[0])"
   ]
  },
  {
   "cell_type": "code",
   "execution_count": 48,
   "id": "a07773d1",
   "metadata": {},
   "outputs": [
    {
     "name": "stdout",
     "output_type": "stream",
     "text": [
      "\n",
      "=== CLASS DISTRIBUTION ===\n",
      "green       : 24623 samples ( 92.0%)\n",
      "red         :   538 samples (  2.0%)\n",
      "safety_car  :   764 samples (  2.9%)\n",
      "vsc         :   161 samples (  0.6%)\n",
      "vsc_ending  :     7 samples (  0.0%)\n",
      "yellow      :   680 samples (  2.5%)\n",
      "\n",
      "Imbalance ratio: 3517.6:1\n"
     ]
    }
   ],
   "source": [
    "# ============================================================================\n",
    "# STEP 3: DATA PREPARATION\n",
    "# ============================================================================\n",
    "\n",
    "def prepare_data(dataset, test_size=0.2):\n",
    "    \"\"\"Prepare train/test splits and convert to Aeon format\"\"\"\n",
    "    \n",
    "    X = dataset['X']  # Shape: (n_samples, n_timesteps, n_features)\n",
    "    y = dataset['y']  # Encoded labels\n",
    "    \n",
    "    # Convert to Aeon format: (n_samples, n_features, n_timesteps)\n",
    "    X_aeon = X.transpose(0, 2, 1)\n",
    "    \n",
    "    # Use only Speed feature (index 0) for simplicity\n",
    "    # X_speed = X_aeon[:, 0:1, :]  # Keep 3D: (n_samples, 1, n_timesteps)\n",
    "    \n",
    "    # Train/test split with stratification\n",
    "    X_train, X_test, y_train, y_test = train_test_split(\n",
    "        # X_speed, y, test_size=test_size, random_state=42, stratify=y\n",
    "        X_aeon, y, test_size=test_size, random_state=42, stratify=y\n",
    "    )\n",
    "    \n",
    "    return X_train, X_test, y_train, y_test\n",
    "\n",
    "def analyze_class_distribution(dataset, y_train):\n",
    "    \"\"\"Analyze and display class distribution\"\"\"\n",
    "    \n",
    "    # Get class names\n",
    "    label_encoder = dataset['label_encoder']\n",
    "    class_names = label_encoder.get_classes()\n",
    "    \n",
    "    # Count classes\n",
    "    unique, counts = np.unique(y_train, return_counts=True)\n",
    "    \n",
    "    print(\"\\n=== CLASS DISTRIBUTION ===\")\n",
    "    for class_id, count in zip(unique, counts):\n",
    "        class_name = class_names[class_id] if class_id < len(class_names) else f\"Class_{class_id}\"\n",
    "        percentage = count / len(y_train) * 100\n",
    "        print(f\"{class_name:12s}: {count:5d} samples ({percentage:5.1f}%)\")\n",
    "    \n",
    "    imbalance_ratio = max(counts) / min(counts)\n",
    "    print(f\"\\nImbalance ratio: {imbalance_ratio:.1f}:1\")\n",
    "    \n",
    "    return class_names, dict(zip(unique, counts))\n",
    "\n",
    "# Example usage:\n",
    "X_train, X_test, y_train, y_test = prepare_data(dataset)\n",
    "class_names, class_dist = analyze_class_distribution(dataset, y_train)"
   ]
  },
  {
   "cell_type": "code",
   "execution_count": 62,
   "id": "d5d81b6d",
   "metadata": {},
   "outputs": [
    {
     "data": {
      "text/plain": [
       "(26773, 9, 100)"
      ]
     },
     "execution_count": 62,
     "metadata": {},
     "output_type": "execute_result"
    }
   ],
   "source": [
    "X_train.shape"
   ]
  },
  {
   "cell_type": "code",
   "execution_count": 49,
   "id": "7f453258",
   "metadata": {},
   "outputs": [
    {
     "data": {
      "text/plain": [
       "{np.str_('green'): 0,\n",
       " np.str_('red'): 1,\n",
       " np.str_('safety_car'): 2,\n",
       " np.str_('unknown'): 3,\n",
       " np.str_('vsc'): 4,\n",
       " np.str_('vsc_ending'): 5,\n",
       " np.str_('yellow'): 6}"
      ]
     },
     "execution_count": 49,
     "metadata": {},
     "output_type": "execute_result"
    }
   ],
   "source": [
    "y_enc = dataset['label_encoder']\n",
    "y_enc.class_to_idx"
   ]
  },
  {
   "cell_type": "code",
   "execution_count": 57,
   "id": "938bbfe5",
   "metadata": {},
   "outputs": [],
   "source": [
    "# class_weight = {\n",
    "#     y_enc.class_to_idx['green']: 1.0,        # 0\n",
    "#     y_enc.class_to_idx['red']: 10.0,         # 1  \n",
    "#     y_enc.class_to_idx['safety_car']: 20.0,  # 2 (your target class)\n",
    "#     y_enc.class_to_idx['unknown']: 5.0,      # 3\n",
    "#     y_enc.class_to_idx['vsc']: 30.0,         # 4\n",
    "#     y_enc.class_to_idx['vsc_ending']: 100.0, # 5\n",
    "#     y_enc.class_to_idx['yellow']: 8.0        # 6\n",
    "# }\n",
    "\n",
    "class_weight = {\n",
    "    y_enc.class_to_idx['green']: 1.0,\n",
    "    y_enc.class_to_idx['red']: 25.0,         \n",
    "    y_enc.class_to_idx['safety_car']: 100.0,  # Much higher\n",
    "    y_enc.class_to_idx['unknown']: 25.0,      \n",
    "    y_enc.class_to_idx['vsc']: 50.0,\n",
    "    y_enc.class_to_idx['vsc_ending']: 50.0,\n",
    "    y_enc.class_to_idx['yellow']: 25.0\n",
    "}"
   ]
  },
  {
   "cell_type": "code",
   "execution_count": 51,
   "id": "8f362306",
   "metadata": {},
   "outputs": [],
   "source": [
    "# ============================================================================\n",
    "# STEP 4: MODEL TRAINING\n",
    "# ============================================================================\n",
    "\n",
    "def create_models():\n",
    "    \"\"\"Create dictionary of models to test\"\"\"\n",
    "    \n",
    "    models = {\n",
    "        \"dummy_frequent\": DummyClassifier(strategy='most_frequent'),\n",
    "        \"dummy_stratified\": DummyClassifier(strategy='stratified'),\n",
    "        \n",
    "        \"logistic_regression\": Catch22Classifier(\n",
    "            estimator=LogisticRegression(\n",
    "                random_state=42, \n",
    "                max_iter=3000, \n",
    "                # solver='liblinear',\n",
    "                solver='saga',\n",
    "                penalty='l1',\n",
    "                C=0.1,\n",
    "                # class_weight='balanced'\n",
    "                class_weight=class_weight,\n",
    "            ),\n",
    "            outlier_norm=True,\n",
    "            random_state=42,\n",
    "        ),\n",
    "        \n",
    "        \"random_forest\": Catch22Classifier(\n",
    "            estimator=RandomForestClassifier(\n",
    "                n_estimators=100, \n",
    "                random_state=42,\n",
    "                # class_weight='balanced',\n",
    "                class_weight=class_weight,\n",
    "                max_depth=10\n",
    "            ),\n",
    "            outlier_norm=True,\n",
    "            random_state=42,\n",
    "        )\n",
    "    }\n",
    "    \n",
    "    return models\n",
    "\n",
    "def train_single_model(model, model_name, X_train, X_test, y_train, y_test):\n",
    "    \"\"\"Train and evaluate a single model\"\"\"\n",
    "    \n",
    "    print(f\"\\nTraining {model_name}...\")\n",
    "    \n",
    "    try:\n",
    "        # Train\n",
    "        model.fit(X_train, y_train)\n",
    "        \n",
    "        # Predict\n",
    "        y_pred = model.predict(X_test)\n",
    "        \n",
    "        # Evaluate\n",
    "        results = {\n",
    "            \"model_name\": model_name,\n",
    "            \"accuracy\": accuracy_score(y_test, y_pred),\n",
    "            \"f1_macro\": f1_score(y_test, y_pred, average='macro', zero_division=0),\n",
    "            \"f1_weighted\": f1_score(y_test, y_pred, average='weighted', zero_division=0),\n",
    "            \"predictions\": y_pred,\n",
    "            \"true_labels\": y_test\n",
    "        }\n",
    "        \n",
    "        print(f\"  Accuracy: {results['accuracy']:.4f}\")\n",
    "        print(f\"  F1-Macro: {results['f1_macro']:.4f}\")\n",
    "        print(f\"  F1-Weighted: {results['f1_weighted']:.4f}\")\n",
    "        \n",
    "        return results\n",
    "        \n",
    "    except Exception as e:\n",
    "        print(f\"  ERROR: {str(e)}\")\n",
    "        return {\"model_name\": model_name, \"error\": str(e)}\n",
    "\n",
    "# Example usage:\n",
    "# models = create_models()\n",
    "# results = {}\n",
    "# for model_name, model in models.items():\n",
    "#     results[model_name] = train_single_model(model, model_name, X_train, X_test, y_train, y_test)"
   ]
  },
  {
   "cell_type": "code",
   "execution_count": 52,
   "id": "da2336e9",
   "metadata": {},
   "outputs": [],
   "source": [
    "models = create_models()\n",
    "results = {}"
   ]
  },
  {
   "cell_type": "code",
   "execution_count": 58,
   "id": "1b491b4f",
   "metadata": {},
   "outputs": [
    {
     "name": "stdout",
     "output_type": "stream",
     "text": [
      "\n",
      "Training logistic_regression...\n"
     ]
    },
    {
     "name": "stderr",
     "output_type": "stream",
     "text": [
      "/Users/seansica/Documents/Development/mids/capstone/datasci-210-2025-summer-formula1/sean/notebooks/.venv/lib/python3.11/site-packages/sklearn/linear_model/_sag.py:348: ConvergenceWarning: The max_iter was reached which means the coef_ did not converge\n",
      "  warnings.warn(\n"
     ]
    },
    {
     "name": "stdout",
     "output_type": "stream",
     "text": [
      "  Accuracy: 0.3564\n",
      "  F1-Macro: 0.1628\n",
      "  F1-Weighted: 0.4671\n"
     ]
    }
   ],
   "source": [
    "model_name = 'logistic_regression'\n",
    "model = models[model_name]\n",
    "results[model_name] = train_single_model(model, model_name, X_train, X_test, y_train, y_test)"
   ]
  },
  {
   "cell_type": "code",
   "execution_count": 24,
   "id": "ce8a362d",
   "metadata": {},
   "outputs": [],
   "source": [
    "# ============================================================================\n",
    "# STEP 5: EVALUATION AND COMPARISON\n",
    "# ============================================================================\n",
    "\n",
    "def compare_models(results, class_names=None):\n",
    "    \"\"\"Compare model performance\"\"\"\n",
    "    \n",
    "    print(\"\\n\" + \"=\"*80)\n",
    "    print(\"MODEL COMPARISON\")\n",
    "    print(\"=\"*80)\n",
    "    \n",
    "    # Create results DataFrame\n",
    "    model_data = []\n",
    "    for model_name, result in results.items():\n",
    "        if \"error\" not in result:\n",
    "            model_data.append({\n",
    "                \"Model\": model_name,\n",
    "                \"Accuracy\": result[\"accuracy\"],\n",
    "                \"F1-Macro\": result[\"f1_macro\"],\n",
    "                \"F1-Weighted\": result[\"f1_weighted\"]\n",
    "            })\n",
    "    \n",
    "    if not model_data:\n",
    "        print(\"No successful model results to compare!\")\n",
    "        return\n",
    "    \n",
    "    df = pd.DataFrame(model_data)\n",
    "    df = df.sort_values(\"F1-Macro\", ascending=False)\n",
    "    \n",
    "    print(df.to_string(index=False, float_format=\"%.4f\"))\n",
    "    \n",
    "    # Find best model\n",
    "    best_model = df.iloc[0]\n",
    "    print(f\"\\n🏆 Best model: {best_model['Model']} (F1-Macro: {best_model['F1-Macro']:.4f})\")\n",
    "    \n",
    "    return df\n",
    "\n",
    "def detailed_class_analysis(results, class_names, target_class=\"safety_car\"):\n",
    "    \"\"\"Analyze performance on specific classes\"\"\"\n",
    "    \n",
    "    print(f\"\\n=== DETAILED ANALYSIS: {target_class.upper()} CLASS ===\")\n",
    "    \n",
    "    # Find target class index\n",
    "    target_idx = None\n",
    "    if class_names is not None:\n",
    "        try:\n",
    "            target_idx = list(class_names).index(target_class)\n",
    "        except ValueError:\n",
    "            print(f\"Class '{target_class}' not found in {list(class_names)}\")\n",
    "            return\n",
    "    \n",
    "    for model_name, result in results.items():\n",
    "        if \"error\" in result:\n",
    "            continue\n",
    "            \n",
    "        y_true = result[\"true_labels\"]\n",
    "        y_pred = result[\"predictions\"]\n",
    "        \n",
    "        # Classification report for target class\n",
    "        print(f\"\\n--- {model_name} ---\")\n",
    "        if target_idx is not None:\n",
    "            target_f1 = f1_score(y_true, y_pred, labels=[target_idx], average='macro', zero_division=0)\n",
    "            print(f\"Safety Car F1: {target_f1:.4f}\")\n",
    "        \n",
    "        # Confusion matrix\n",
    "        cm = confusion_matrix(y_true, y_pred)\n",
    "        print(\"Confusion Matrix:\")\n",
    "        print(cm)\n"
   ]
  },
  {
   "cell_type": "code",
   "execution_count": 61,
   "id": "59d768dc",
   "metadata": {},
   "outputs": [
    {
     "name": "stdout",
     "output_type": "stream",
     "text": [
      "\n",
      "================================================================================\n",
      "MODEL COMPARISON\n",
      "================================================================================\n",
      "              Model  Accuracy  F1-Macro  F1-Weighted\n",
      "logistic_regression    0.3564    0.1628       0.4671\n",
      "\n",
      "🏆 Best model: logistic_regression (F1-Macro: 0.1628)\n"
     ]
    },
    {
     "data": {
      "text/html": [
       "<div>\n",
       "<style scoped>\n",
       "    .dataframe tbody tr th:only-of-type {\n",
       "        vertical-align: middle;\n",
       "    }\n",
       "\n",
       "    .dataframe tbody tr th {\n",
       "        vertical-align: top;\n",
       "    }\n",
       "\n",
       "    .dataframe thead th {\n",
       "        text-align: right;\n",
       "    }\n",
       "</style>\n",
       "<table border=\"1\" class=\"dataframe\">\n",
       "  <thead>\n",
       "    <tr style=\"text-align: right;\">\n",
       "      <th></th>\n",
       "      <th>Model</th>\n",
       "      <th>Accuracy</th>\n",
       "      <th>F1-Macro</th>\n",
       "      <th>F1-Weighted</th>\n",
       "    </tr>\n",
       "  </thead>\n",
       "  <tbody>\n",
       "    <tr>\n",
       "      <th>0</th>\n",
       "      <td>logistic_regression</td>\n",
       "      <td>0.356439</td>\n",
       "      <td>0.162772</td>\n",
       "      <td>0.467131</td>\n",
       "    </tr>\n",
       "  </tbody>\n",
       "</table>\n",
       "</div>"
      ],
      "text/plain": [
       "                 Model  Accuracy  F1-Macro  F1-Weighted\n",
       "0  logistic_regression  0.356439  0.162772     0.467131"
      ]
     },
     "execution_count": 61,
     "metadata": {},
     "output_type": "execute_result"
    }
   ],
   "source": [
    "compare_models(results)"
   ]
  },
  {
   "cell_type": "code",
   "execution_count": 55,
   "id": "04e8cde8",
   "metadata": {},
   "outputs": [
    {
     "name": "stdout",
     "output_type": "stream",
     "text": [
      "\n",
      "=== DETAILED ANALYSIS: SAFETY_CAR CLASS ===\n",
      "\n",
      "--- logistic_regression ---\n",
      "Safety Car F1: 0.2034\n",
      "Confusion Matrix:\n",
      "[[2036  996 1130  129   98 1768]\n",
      " [   1   84    7   10    0   32]\n",
      " [   6   11  156    3    4   11]\n",
      " [   2    3   23    4    2    6]\n",
      " [   0    0    1    1    0    0]\n",
      " [  15   15   26    7    1  106]]\n"
     ]
    }
   ],
   "source": [
    "detailed_class_analysis(results, class_names, target_class=\"safety_car\")"
   ]
  },
  {
   "cell_type": "code",
   "execution_count": 27,
   "id": "1ba3b3bb",
   "metadata": {},
   "outputs": [],
   "source": [
    "def detailed_class_analysis_enhanced(results, class_names, target_class=\"safety_car\"):\n",
    "    \"\"\"Analyze performance on specific classes with enhanced visualizations\"\"\"\n",
    "    \n",
    "    print(f\"\\n=== DETAILED ANALYSIS: {target_class.upper()} CLASS ===\")\n",
    "    \n",
    "    # Find target class index\n",
    "    target_idx = None\n",
    "    if class_names is not None:\n",
    "        try:\n",
    "            target_idx = list(class_names).index(target_class)\n",
    "            print(f\"Target class '{target_class}' found at index {target_idx}\")\n",
    "        except ValueError:\n",
    "            print(f\"Class '{target_class}' not found in {list(class_names)}\")\n",
    "            print(\"Will analyze all classes instead...\")\n",
    "    \n",
    "    for model_name, result in results.items():\n",
    "        if \"error\" in result:\n",
    "            continue\n",
    "            \n",
    "        y_true = result[\"true_labels\"]\n",
    "        y_pred = result[\"predictions\"]\n",
    "        \n",
    "        print(f\"\\n{'-' * 60}\")\n",
    "        print(f\"MODEL: {model_name.upper()}\")\n",
    "        print(f\"{'-' * 60}\")\n",
    "        \n",
    "        # Per-class metrics\n",
    "        if target_idx is not None:\n",
    "            target_f1 = f1_score(y_true, y_pred, labels=[target_idx], average='macro', zero_division=0)\n",
    "            print(f\"🎯 {target_class.title()} F1 Score: {target_f1:.4f}\")\n",
    "        \n",
    "        # Classification report with class names\n",
    "        if class_names is not None:\n",
    "            print(\"\\n📊 Classification Report:\")\n",
    "            try:\n",
    "                report = classification_report(\n",
    "                    y_true, y_pred, \n",
    "                    target_names=[class_names[i] for i in sorted(np.unique(y_true))],\n",
    "                    zero_division=0,\n",
    "                    digits=4\n",
    "                )\n",
    "                print(report)\n",
    "            except Exception as e:\n",
    "                print(f\"Could not generate named classification report: {e}\")\n",
    "                print(classification_report(y_true, y_pred, zero_division=0, digits=4))\n",
    "        \n",
    "        # Enhanced confusion matrix with class labels\n",
    "        print(\"\\n🔍 Confusion Matrix:\")\n",
    "        cm = confusion_matrix(y_true, y_pred)\n",
    "        \n",
    "        if class_names is not None:\n",
    "            # Get unique classes that actually appear in predictions/truth\n",
    "            unique_classes = sorted(np.unique(np.concatenate([y_true, y_pred])))\n",
    "            present_class_names = [class_names[i] for i in unique_classes if i < len(class_names)]\n",
    "            \n",
    "            # Create DataFrame for prettier display\n",
    "            cm_df = pd.DataFrame(\n",
    "                cm, \n",
    "                index=[f\"True_{name}\" for name in present_class_names],\n",
    "                columns=[f\"Pred_{name}\" for name in present_class_names]\n",
    "            )\n",
    "            print(cm_df.to_string())\n",
    "            \n",
    "            # Calculate per-class accuracy for present classes\n",
    "            print(f\"\\n📈 Per-Class Performance:\")\n",
    "            for i, class_idx in enumerate(unique_classes):\n",
    "                if class_idx < len(class_names):\n",
    "                    class_name = class_names[class_idx]\n",
    "                    if i < len(cm) and i < len(cm[0]):  # Ensure indices are valid\n",
    "                        true_positives = cm[i, i] if cm.shape[0] > i and cm.shape[1] > i else 0\n",
    "                        total_true = cm[i, :].sum() if cm.shape[0] > i else 0\n",
    "                        total_pred = cm[:, i].sum() if cm.shape[1] > i else 0\n",
    "                        \n",
    "                        precision = true_positives / total_pred if total_pred > 0 else 0\n",
    "                        recall = true_positives / total_true if total_true > 0 else 0\n",
    "                        \n",
    "                        print(f\"  {class_name:12s}: Precision={precision:.3f}, Recall={recall:.3f}, Count={total_true}\")\n",
    "        else:\n",
    "            # Fallback to basic confusion matrix\n",
    "            print(cm)\n",
    "        \n",
    "        # Highlight target class performance if available\n",
    "        if target_idx is not None and class_names is not None:\n",
    "            print(f\"\\n🚨 {target_class.title()} Class Analysis:\")\n",
    "            \n",
    "            # Find where target class appears in the confusion matrix\n",
    "            target_in_unique = None\n",
    "            unique_classes = sorted(np.unique(np.concatenate([y_true, y_pred])))\n",
    "            if target_idx in unique_classes:\n",
    "                target_in_unique = unique_classes.index(target_idx)\n",
    "                \n",
    "                if target_in_unique < cm.shape[0] and target_in_unique < cm.shape[1]:\n",
    "                    tp = cm[target_in_unique, target_in_unique]  # True positives\n",
    "                    fn = cm[target_in_unique, :].sum() - tp      # False negatives  \n",
    "                    fp = cm[:, target_in_unique].sum() - tp      # False positives\n",
    "                    tn = cm.sum() - tp - fn - fp                 # True negatives\n",
    "                    \n",
    "                    print(f\"  True Positives:  {tp:4d}\")\n",
    "                    print(f\"  False Negatives: {fn:4d} (missed {target_class} events)\")\n",
    "                    print(f\"  False Positives: {fp:4d} (false {target_class} alarms)\")\n",
    "                    print(f\"  True Negatives:  {tn:4d}\")\n",
    "                    \n",
    "                    if tp + fn > 0:\n",
    "                        recall = tp / (tp + fn)\n",
    "                        print(f\"  📉 Recall (Detection Rate): {recall:.3f}\")\n",
    "                    \n",
    "                    if tp + fp > 0:\n",
    "                        precision = tp / (tp + fp)\n",
    "                        print(f\"  📊 Precision (Alarm Accuracy): {precision:.3f}\")\n",
    "            else:\n",
    "                print(f\"  ❌ No {target_class} events predicted or found in test set\")\n",
    "\n",
    "def create_pretty_confusion_matrix(y_true, y_pred, class_names, model_name=\"Model\"):\n",
    "    \"\"\"Create a standalone pretty confusion matrix with visualization\"\"\"\n",
    "    \n",
    "    try:\n",
    "        import matplotlib.pyplot as plt\n",
    "        import seaborn as sns\n",
    "        \n",
    "        # Generate confusion matrix\n",
    "        cm = confusion_matrix(y_true, y_pred)\n",
    "        unique_classes = sorted(np.unique(np.concatenate([y_true, y_pred])))\n",
    "        present_class_names = [class_names[i] for i in unique_classes if i < len(class_names)]\n",
    "        \n",
    "        # Create figure\n",
    "        plt.figure(figsize=(8, 6))\n",
    "        \n",
    "        # Create heatmap\n",
    "        sns.heatmap(\n",
    "            cm, \n",
    "            annot=True, \n",
    "            fmt='d', \n",
    "            cmap='Blues',\n",
    "            xticklabels=present_class_names,\n",
    "            yticklabels=present_class_names,\n",
    "            cbar_kws={'label': 'Count'}\n",
    "        )\n",
    "        \n",
    "        plt.title(f'Confusion Matrix - {model_name}')\n",
    "        plt.xlabel('Predicted Class')\n",
    "        plt.ylabel('True Class')\n",
    "        plt.xticks(rotation=45)\n",
    "        plt.yticks(rotation=0)\n",
    "        plt.tight_layout()\n",
    "        plt.show()\n",
    "        \n",
    "        return plt.gcf()\n",
    "        \n",
    "    except ImportError:\n",
    "        print(\"📊 Matplotlib/Seaborn not available for visualization\")\n",
    "        return None\n",
    "    except Exception as e:\n",
    "        print(f\"❌ Error creating visualization: {e}\")\n",
    "        return None"
   ]
  },
  {
   "cell_type": "code",
   "execution_count": 60,
   "id": "9f9accd3",
   "metadata": {},
   "outputs": [
    {
     "name": "stdout",
     "output_type": "stream",
     "text": [
      "\n",
      "=== DETAILED ANALYSIS: SAFETY_CAR CLASS ===\n",
      "Target class 'safety_car' found at index 2\n",
      "\n",
      "------------------------------------------------------------\n",
      "MODEL: LOGISTIC_REGRESSION\n",
      "------------------------------------------------------------\n",
      "🎯 Safety_Car F1 Score: 0.2034\n",
      "\n",
      "📊 Classification Report:\n",
      "              precision    recall  f1-score   support\n",
      "\n",
      "       green     0.9883    0.3307    0.4956      6157\n",
      "         red     0.0757    0.6269    0.1352       134\n",
      "  safety_car     0.1162    0.8168    0.2034       191\n",
      "         vsc     0.0260    0.1000    0.0412        40\n",
      "  vsc_ending     0.0000    0.0000    0.0000         2\n",
      "      yellow     0.0551    0.6235    0.1013       170\n",
      "\n",
      "    accuracy                         0.3564      6694\n",
      "   macro avg     0.2102    0.4163    0.1628      6694\n",
      "weighted avg     0.9154    0.3564    0.4671      6694\n",
      "\n",
      "\n",
      "🔍 Confusion Matrix:\n",
      "                 Pred_green  Pred_red  Pred_safety_car  Pred_vsc  Pred_vsc_ending  Pred_yellow\n",
      "True_green             2036       996             1130       129               98         1768\n",
      "True_red                  1        84                7        10                0           32\n",
      "True_safety_car           6        11              156         3                4           11\n",
      "True_vsc                  2         3               23         4                2            6\n",
      "True_vsc_ending           0         0                1         1                0            0\n",
      "True_yellow              15        15               26         7                1          106\n",
      "\n",
      "📈 Per-Class Performance:\n",
      "  green       : Precision=0.988, Recall=0.331, Count=6157\n",
      "  red         : Precision=0.076, Recall=0.627, Count=134\n",
      "  safety_car  : Precision=0.116, Recall=0.817, Count=191\n",
      "  vsc         : Precision=0.026, Recall=0.100, Count=40\n",
      "  vsc_ending  : Precision=0.000, Recall=0.000, Count=2\n",
      "  yellow      : Precision=0.055, Recall=0.624, Count=170\n",
      "\n",
      "🚨 Safety_Car Class Analysis:\n",
      "  True Positives:   156\n",
      "  False Negatives:   35 (missed safety_car events)\n",
      "  False Positives: 1187 (false safety_car alarms)\n",
      "  True Negatives:  5316\n",
      "  📉 Recall (Detection Rate): 0.817\n",
      "  📊 Precision (Alarm Accuracy): 0.116\n"
     ]
    }
   ],
   "source": [
    "detailed_class_analysis_enhanced(results, class_names, target_class=\"safety_car\")"
   ]
  },
  {
   "cell_type": "code",
   "execution_count": null,
   "id": "ab60cdb7",
   "metadata": {},
   "outputs": [],
   "source": [
    "\n",
    "# ============================================================================\n",
    "# STEP 6: EXPERIMENT RUNNER\n",
    "# ============================================================================\n",
    "\n",
    "def run_single_experiment(scope_name, window_config, cache_dir=\"./f1_cache\"):\n",
    "    \"\"\"Run a complete experiment for one configuration\"\"\"\n",
    "    \n",
    "    print(f\"\\n{'='*60}\")\n",
    "    print(f\"EXPERIMENT: {scope_name}\")\n",
    "    print(f\"Window: {window_config['window_size']}, Horizon: {window_config['prediction_horizon']}\")\n",
    "    print(f\"{'='*60}\")\n",
    "    \n",
    "    try:\n",
    "        # Step 1: Create dataset\n",
    "        dataset = create_dataset(scope_name, window_config, cache_dir)\n",
    "        \n",
    "        # Step 2: Prepare data\n",
    "        X_train, X_test, y_train, y_test = prepare_data(dataset)\n",
    "        \n",
    "        # Step 3: Analyze data\n",
    "        class_names, class_dist = analyze_class_distribution(dataset, y_train)\n",
    "        \n",
    "        # Step 4: Train models\n",
    "        models = create_models()\n",
    "        results = {}\n",
    "        \n",
    "        for model_name, model in models.items():\n",
    "            results[model_name] = train_single_model(model, model_name, X_train, X_test, y_train, y_test)\n",
    "        \n",
    "        # Step 5: Compare results\n",
    "        comparison_df = compare_models(results, class_names)\n",
    "        detailed_class_analysis(results, class_names)\n",
    "        \n",
    "        return {\n",
    "            \"scope\": scope_name,\n",
    "            \"window_config\": window_config,\n",
    "            \"results\": results,\n",
    "            \"comparison\": comparison_df,\n",
    "            \"class_names\": class_names,\n",
    "            \"class_distribution\": class_dist\n",
    "        }\n",
    "        \n",
    "    except Exception as e:\n",
    "        print(f\"EXPERIMENT FAILED: {str(e)}\")\n",
    "        return None\n",
    "\n",
    "# ============================================================================\n",
    "# STEP 7: BATCH EXECUTION\n",
    "# ============================================================================\n",
    "\n",
    "def run_quick_test():\n",
    "    \"\"\"Run a single quick test to verify everything works\"\"\"\n",
    "    \n",
    "    print(\"🚀 Running quick test...\")\n",
    "    result = run_single_experiment(\"one_session_all_drivers\", WINDOW_CONFIGS[0])\n",
    "    return result\n",
    "\n",
    "def run_all_experiments():\n",
    "    \"\"\"Run all experiment combinations\"\"\"\n",
    "    \n",
    "    all_results = []\n",
    "    \n",
    "    for scope_name in DATA_SCOPES.keys():\n",
    "        for window_config in WINDOW_CONFIGS:\n",
    "            result = run_single_experiment(scope_name, window_config)\n",
    "            if result:\n",
    "                all_results.append(result)\n",
    "    \n",
    "    return all_results\n",
    "\n",
    "def create_summary_report(all_results):\n",
    "    \"\"\"Create summary report of all experiments\"\"\"\n",
    "    \n",
    "    summary_data = []\n",
    "    \n",
    "    for experiment in all_results:\n",
    "        scope = experiment[\"scope\"]\n",
    "        window_size = experiment[\"window_config\"][\"window_size\"]\n",
    "        horizon = experiment[\"window_config\"][\"prediction_horizon\"]\n",
    "        \n",
    "        for model_name, result in experiment[\"results\"].items():\n",
    "            if \"error\" not in result:\n",
    "                summary_data.append({\n",
    "                    \"Scope\": scope,\n",
    "                    \"Window\": window_size,\n",
    "                    \"Horizon\": horizon,\n",
    "                    \"Model\": model_name,\n",
    "                    \"Accuracy\": result[\"accuracy\"],\n",
    "                    \"F1-Macro\": result[\"f1_macro\"],\n",
    "                    \"F1-Weighted\": result[\"f1_weighted\"]\n",
    "                })\n",
    "    \n",
    "    df = pd.DataFrame(summary_data)\n",
    "    return df.sort_values([\"F1-Macro\"], ascending=False)\n",
    "\n"
   ]
  }
 ],
 "metadata": {
  "kernelspec": {
   "display_name": "notebooks",
   "language": "python",
   "name": "python3"
  },
  "language_info": {
   "codemirror_mode": {
    "name": "ipython",
    "version": 3
   },
   "file_extension": ".py",
   "mimetype": "text/x-python",
   "name": "python",
   "nbconvert_exporter": "python",
   "pygments_lexer": "ipython3",
   "version": "3.12.7"
  }
 },
 "nbformat": 4,
 "nbformat_minor": 5
}
