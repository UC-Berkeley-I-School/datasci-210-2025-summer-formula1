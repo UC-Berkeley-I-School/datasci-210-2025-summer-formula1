{
 "cells": [
  {
   "cell_type": "code",
   "execution_count": 1,
   "id": "d355fec3",
   "metadata": {},
   "outputs": [],
   "source": [
    "from datetime import datetime\n",
    "from aeon.classification.convolution_based import RocketClassifier\n",
    "from aeon.classification.feature_based import Catch22Classifier\n",
    "from sklearn.ensemble import RandomForestClassifier\n",
    "from sklearn.linear_model import LinearRegression, LogisticRegression\n",
    "from aeon.classification.deep_learning import InceptionTimeClassifier\n",
    "from aeon.classification.deep_learning import ResNetClassifier\n",
    "\n",
    "from f1_etl import (\n",
    "    DataConfig,\n",
    "    SessionConfig,\n",
    "    create_safety_car_dataset,\n",
    ")\n",
    "from f1_etl.train import (\n",
    "    ModelEvaluationSuite,\n",
    "    create_metadata_from_f1_dataset,\n",
    "    prepare_data_with_validation,\n",
    "    create_model_metadata,\n",
    "    train_and_validate_model,\n",
    "    evaluate_on_external_dataset,\n",
    "    compare_performance_across_datasets,\n",
    ")"
   ]
  },
  {
   "cell_type": "code",
   "execution_count": 2,
   "id": "6f6771d7",
   "metadata": {},
   "outputs": [
    {
     "name": "stderr",
     "output_type": "stream",
     "text": [
      "2025-07-11 20:46:57,992 - f1_etl - INFO - Preprocessing configuration:\n",
      "2025-07-11 20:46:58,011 - f1_etl - INFO -   Missing values: enabled (forward_fill)\n",
      "2025-07-11 20:46:58,023 - f1_etl - INFO -   Normalization: enabled (standard)\n",
      "2025-07-11 20:46:58,026 - f1_etl - INFO -   Resampling: disabled\n",
      "2025-07-11 20:46:58,037 - f1_etl - INFO - Driver configuration:\n",
      "2025-07-11 20:46:58,044 - f1_etl - INFO -   Global drivers: ['1', '2']\n",
      "2025-07-11 20:46:58,049 - f1_etl - INFO -   Qatar Grand Prix: ['1', '2']\n",
      "req         WARNING \tDEFAULT CACHE ENABLED! (4.94 GB) /Users/seansica/Library/Caches/fastf1\n"
     ]
    },
    {
     "name": "stdout",
     "output_type": "stream",
     "text": [
      "Loading session: 2024 Qatar Grand Prix R\n"
     ]
    },
    {
     "name": "stderr",
     "output_type": "stream",
     "text": [
      "events      WARNING \tCorrecting user input 'Qatar Grand Prix' to 'Qatar Grand Prix'\n",
      "core           INFO \tLoading data for Qatar Grand Prix - Race [v3.5.3]\n",
      "req            INFO \tUsing cached data for session_info\n",
      "req            INFO \tUsing cached data for driver_info\n",
      "req            INFO \tUsing cached data for session_status_data\n",
      "req            INFO \tUsing cached data for lap_count\n",
      "req            INFO \tUsing cached data for track_status_data\n",
      "req            INFO \tUsing cached data for _extended_timing_data\n",
      "req            INFO \tUsing cached data for timing_app_data\n",
      "core           INFO \tProcessing timing data...\n",
      "req            INFO \tUsing cached data for car_data\n",
      "req            INFO \tUsing cached data for position_data\n",
      "req            INFO \tUsing cached data for weather_data\n",
      "req            INFO \tUsing cached data for race_control_messages\n",
      "core           INFO \tFinished loading data for 20 drivers: ['1', '16', '81', '63', '10', '55', '14', '24', '20', '4', '77', '44', '22', '30', '23', '27', '11', '18', '43', '31']\n",
      "2025-07-11 20:52:00,243 - f1_etl - INFO - Creating new fixed vocabulary encoder\n",
      "2025-07-11 20:52:00,261 - f1_etl - INFO - Processing 69202 total telemetry rows\n",
      "2025-07-11 20:52:00,262 - f1_etl - INFO - Grouping by: ['SessionId', 'Driver']\n"
     ]
    },
    {
     "name": "stdout",
     "output_type": "stream",
     "text": [
      "\n",
      "📊 Track Status Analysis (training_data):\n",
      "   green       : 57940 samples ( 83.7%)\n",
      "   safety_car  : 10503 samples ( 15.2%)\n",
      "   vsc         :   146 samples (  0.2%)\n",
      "   yellow      :   613 samples (  0.9%)\n",
      "   Missing classes: [np.str_('red'), np.str_('unknown'), np.str_('vsc_ending')]\n",
      "✅ FixedVocabTrackStatusEncoder fitted\n",
      "   Classes seen: ['green', 'safety_car', 'vsc', 'yellow']\n",
      "   Total classes: 7\n",
      "   Output mode: integer labels\n"
     ]
    },
    {
     "name": "stderr",
     "output_type": "stream",
     "text": [
      "2025-07-11 20:52:00,787 - f1_etl - INFO - Total sequences generated: 2763\n",
      "2025-07-11 20:52:00,792 - f1_etl - INFO - Generated 2763 sequences with shape (2763, 50, 9)\n",
      "2025-07-11 20:52:00,793 - f1_etl - INFO - No missing values detected, skipping imputation\n",
      "2025-07-11 20:52:00,793 - f1_etl - INFO - Applying normalization with method: standard\n",
      "2025-07-11 20:52:00,807 - f1_etl - INFO - Final dataset summary:\n",
      "2025-07-11 20:52:00,808 - f1_etl - INFO -   Sequences: 2763\n",
      "2025-07-11 20:52:00,809 - f1_etl - INFO -   Features: 9\n",
      "2025-07-11 20:52:00,809 - f1_etl - INFO -   Classes: 7 (integer)\n",
      "2025-07-11 20:52:00,810 - f1_etl - INFO -   Label shape: (2763,)\n",
      "2025-07-11 20:52:00,810 - f1_etl - INFO -     green       :  2312 samples ( 83.7%)\n",
      "2025-07-11 20:52:00,810 - f1_etl - INFO -     safety_car  :   420 samples ( 15.2%)\n",
      "2025-07-11 20:52:00,811 - f1_etl - INFO -     vsc         :     6 samples (  0.2%)\n",
      "2025-07-11 20:52:00,811 - f1_etl - INFO -     yellow      :    25 samples (  0.9%)\n"
     ]
    }
   ],
   "source": [
    "drivers=[\"1\", \"2\"]\n",
    "\n",
    "# 1. Load dataset\n",
    "data_config = DataConfig(\n",
    "    sessions=[\n",
    "        SessionConfig(2024, \"Qatar Grand Prix\", \"R\"),\n",
    "    ],\n",
    "    drivers=drivers,\n",
    "    include_weather=False,\n",
    ")\n",
    "\n",
    "dataset = create_safety_car_dataset(\n",
    "    config=data_config,\n",
    "    window_size=50,\n",
    "    prediction_horizon=100,\n",
    "    normalize=True,\n",
    "    target_column=\"TrackStatus\",\n",
    "    # resampling_strategy=\"adasyn\",\n",
    ")\n"
   ]
  }
 ],
 "metadata": {
  "kernelspec": {
   "display_name": "notebooks",
   "language": "python",
   "name": "python3"
  },
  "language_info": {
   "codemirror_mode": {
    "name": "ipython",
    "version": 3
   },
   "file_extension": ".py",
   "mimetype": "text/x-python",
   "name": "python",
   "nbconvert_exporter": "python",
   "pygments_lexer": "ipython3",
   "version": "3.12.7"
  }
 },
 "nbformat": 4,
 "nbformat_minor": 5
}
