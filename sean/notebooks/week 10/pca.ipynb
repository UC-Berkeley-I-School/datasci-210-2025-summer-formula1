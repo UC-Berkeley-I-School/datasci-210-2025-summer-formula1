{
 "cells": [
  {
   "cell_type": "code",
   "execution_count": 1,
   "id": "9d9d5ee1",
   "metadata": {},
   "outputs": [],
   "source": [
    "from datetime import datetime\n",
    "from aeon.classification.convolution_based import RocketClassifier\n",
    "from aeon.classification.feature_based import Catch22Classifier\n",
    "from sklearn.ensemble import RandomForestClassifier\n",
    "from sklearn.linear_model import LinearRegression, LogisticRegression\n",
    "from aeon.classification.deep_learning import InceptionTimeClassifier\n",
    "from aeon.classification.deep_learning import ResNetClassifier\n",
    "\n",
    "from f1_etl import (\n",
    "    DataConfig,\n",
    "    SessionConfig,\n",
    "    create_safety_car_dataset,\n",
    ")\n",
    "from f1_etl.train import (\n",
    "    ModelEvaluationSuite,\n",
    "    create_metadata_from_f1_dataset,\n",
    "    prepare_data_with_validation,\n",
    "    create_model_metadata,\n",
    "    train_and_validate_model,\n",
    "    evaluate_on_external_dataset,\n",
    "    compare_performance_across_datasets,\n",
    ")"
   ]
  },
  {
   "cell_type": "code",
   "execution_count": 12,
   "id": "88c5fe0a",
   "metadata": {},
   "outputs": [
    {
     "name": "stderr",
     "output_type": "stream",
     "text": [
      "2025-07-13 12:17:31,066 - f1_etl - INFO - Preprocessing configuration:\n",
      "2025-07-13 12:17:31,069 - f1_etl - INFO -   Missing values: enabled (forward_fill)\n",
      "2025-07-13 12:17:31,069 - f1_etl - INFO -   Normalization: enabled (standard)\n",
      "2025-07-13 12:17:31,070 - f1_etl - INFO -   Feature transform: pca\n",
      "2025-07-13 12:17:31,071 - f1_etl - INFO -   Resampling: disabled\n",
      "2025-07-13 12:17:31,071 - f1_etl - INFO - Driver configuration:\n",
      "2025-07-13 12:17:31,072 - f1_etl - INFO -   Global drivers: ['1']\n",
      "2025-07-13 12:17:31,072 - f1_etl - INFO -   Qatar Grand Prix: ['1']\n",
      "2025-07-13 12:17:31,073 - f1_etl - INFO -   Chinese Grand Prix: ['1']\n",
      "2025-07-13 12:17:31,074 - f1_etl - INFO -   Mexico City Grand Prix: ['1']\n",
      "2025-07-13 12:17:31,074 - f1_etl - INFO -   São Paulo Grand Prix: ['1']\n",
      "2025-07-13 12:17:31,075 - f1_etl - INFO -   Miami Grand Prix: ['1']\n",
      "2025-07-13 12:17:31,077 - f1_etl - INFO -   United States Grand Prix: ['1']\n",
      "2025-07-13 12:17:31,077 - f1_etl - INFO -   Monaco Grand Prix: ['1']\n",
      "events      WARNING \tCorrecting user input 'Qatar Grand Prix' to 'Qatar Grand Prix'\n",
      "core           INFO \tLoading data for Qatar Grand Prix - Race [v3.5.3]\n",
      "req            INFO \tUsing cached data for session_info\n",
      "req            INFO \tUsing cached data for driver_info\n",
      "req            INFO \tUsing cached data for session_status_data\n",
      "req            INFO \tUsing cached data for lap_count\n",
      "req            INFO \tUsing cached data for track_status_data\n",
      "req            INFO \tUsing cached data for _extended_timing_data\n",
      "req            INFO \tUsing cached data for timing_app_data\n",
      "core           INFO \tProcessing timing data...\n"
     ]
    },
    {
     "name": "stdout",
     "output_type": "stream",
     "text": [
      "Loading session: 2024 Qatar Grand Prix R\n"
     ]
    },
    {
     "name": "stderr",
     "output_type": "stream",
     "text": [
      "req            INFO \tUsing cached data for car_data\n",
      "req            INFO \tUsing cached data for position_data\n",
      "req            INFO \tUsing cached data for weather_data\n",
      "req            INFO \tUsing cached data for race_control_messages\n",
      "core           INFO \tFinished loading data for 20 drivers: ['1', '16', '81', '63', '10', '55', '14', '24', '20', '4', '77', '44', '22', '30', '23', '27', '11', '18', '43', '31']\n",
      "core           INFO \tLoading data for Chinese Grand Prix - Race [v3.5.3]\n",
      "req            INFO \tUsing cached data for session_info\n",
      "req            INFO \tUsing cached data for driver_info\n",
      "req            INFO \tUsing cached data for session_status_data\n",
      "req            INFO \tUsing cached data for lap_count\n",
      "req            INFO \tUsing cached data for track_status_data\n",
      "req            INFO \tUsing cached data for _extended_timing_data\n",
      "req            INFO \tUsing cached data for timing_app_data\n",
      "core           INFO \tProcessing timing data...\n"
     ]
    },
    {
     "name": "stdout",
     "output_type": "stream",
     "text": [
      "Loading session: 2024 Chinese Grand Prix R\n"
     ]
    },
    {
     "name": "stderr",
     "output_type": "stream",
     "text": [
      "req            INFO \tUsing cached data for car_data\n",
      "req            INFO \tUsing cached data for position_data\n",
      "req            INFO \tUsing cached data for weather_data\n",
      "req            INFO \tUsing cached data for race_control_messages\n",
      "core        WARNING \tDriver 1 completed the race distance 00:08.313000 before the recorded end of the session.\n",
      "core           INFO \tFinished loading data for 20 drivers: ['1', '4', '11', '16', '55', '63', '14', '81', '44', '27', '31', '23', '10', '24', '18', '20', '2', '3', '22', '77']\n",
      "core           INFO \tLoading data for Mexico City Grand Prix - Race [v3.5.3]\n",
      "req            INFO \tUsing cached data for session_info\n",
      "req            INFO \tUsing cached data for driver_info\n",
      "req            INFO \tUsing cached data for session_status_data\n",
      "req            INFO \tUsing cached data for lap_count\n",
      "req            INFO \tUsing cached data for track_status_data\n",
      "req            INFO \tUsing cached data for _extended_timing_data\n",
      "req            INFO \tUsing cached data for timing_app_data\n",
      "core           INFO \tProcessing timing data...\n"
     ]
    },
    {
     "name": "stdout",
     "output_type": "stream",
     "text": [
      "Loading session: 2024 Mexico City Grand Prix R\n"
     ]
    },
    {
     "name": "stderr",
     "output_type": "stream",
     "text": [
      "req            INFO \tUsing cached data for car_data\n",
      "req            INFO \tUsing cached data for position_data\n",
      "req            INFO \tUsing cached data for weather_data\n",
      "req            INFO \tUsing cached data for race_control_messages\n",
      "core           INFO \tFinished loading data for 20 drivers: ['55', '4', '16', '44', '63', '1', '20', '81', '27', '10', '18', '43', '31', '77', '24', '30', '11', '14', '23', '22']\n",
      "core           INFO \tLoading data for São Paulo Grand Prix - Race [v3.5.3]\n",
      "req            INFO \tUsing cached data for session_info\n",
      "req            INFO \tUsing cached data for driver_info\n",
      "req            INFO \tUsing cached data for session_status_data\n",
      "req            INFO \tUsing cached data for lap_count\n",
      "req            INFO \tUsing cached data for track_status_data\n",
      "req            INFO \tUsing cached data for _extended_timing_data\n",
      "req            INFO \tUsing cached data for timing_app_data\n",
      "core           INFO \tProcessing timing data...\n"
     ]
    },
    {
     "name": "stdout",
     "output_type": "stream",
     "text": [
      "Loading session: 2024 São Paulo Grand Prix R\n"
     ]
    },
    {
     "name": "stderr",
     "output_type": "stream",
     "text": [
      "core        WARNING \tNo lap data for driver 23\n",
      "core        WARNING \tFailed to perform lap accuracy check - all laps marked as inaccurate (driver 23)\n",
      "req            INFO \tUsing cached data for car_data\n",
      "req            INFO \tUsing cached data for position_data\n",
      "req            INFO \tUsing cached data for weather_data\n",
      "req            INFO \tUsing cached data for race_control_messages\n",
      "core           INFO \tFinished loading data for 20 drivers: ['1', '31', '10', '63', '16', '4', '22', '81', '30', '44', '11', '50', '77', '14', '24', '55', '43', '23', '18', '27']\n",
      "core           INFO \tLoading data for Miami Grand Prix - Race [v3.5.3]\n",
      "req            INFO \tUsing cached data for session_info\n",
      "req            INFO \tUsing cached data for driver_info\n",
      "req            INFO \tUsing cached data for session_status_data\n",
      "req            INFO \tUsing cached data for lap_count\n",
      "req            INFO \tUsing cached data for track_status_data\n",
      "req            INFO \tUsing cached data for _extended_timing_data\n",
      "req            INFO \tUsing cached data for timing_app_data\n",
      "core           INFO \tProcessing timing data...\n"
     ]
    },
    {
     "name": "stdout",
     "output_type": "stream",
     "text": [
      "Loading session: 2024 Miami Grand Prix R\n"
     ]
    },
    {
     "name": "stderr",
     "output_type": "stream",
     "text": [
      "req            INFO \tUsing cached data for car_data\n",
      "req            INFO \tUsing cached data for position_data\n",
      "req            INFO \tUsing cached data for weather_data\n",
      "req            INFO \tUsing cached data for race_control_messages\n",
      "core           INFO \tFinished loading data for 20 drivers: ['4', '1', '16', '11', '55', '44', '22', '63', '14', '31', '27', '10', '81', '24', '3', '77', '18', '23', '20', '2']\n",
      "events      WARNING \tCorrecting user input 'United States Grand Prix' to 'United States Grand Prix'\n",
      "core           INFO \tLoading data for United States Grand Prix - Race [v3.5.3]\n",
      "req            INFO \tUsing cached data for session_info\n",
      "req            INFO \tUsing cached data for driver_info\n",
      "req            INFO \tUsing cached data for session_status_data\n",
      "req            INFO \tUsing cached data for lap_count\n",
      "req            INFO \tUsing cached data for track_status_data\n",
      "req            INFO \tUsing cached data for _extended_timing_data\n",
      "req            INFO \tUsing cached data for timing_app_data\n",
      "core           INFO \tProcessing timing data...\n"
     ]
    },
    {
     "name": "stdout",
     "output_type": "stream",
     "text": [
      "Loading session: 2024 United States Grand Prix R\n"
     ]
    },
    {
     "name": "stderr",
     "output_type": "stream",
     "text": [
      "req            INFO \tUsing cached data for car_data\n",
      "req            INFO \tUsing cached data for position_data\n",
      "req            INFO \tUsing cached data for weather_data\n",
      "req            INFO \tUsing cached data for race_control_messages\n",
      "core           INFO \tFinished loading data for 20 drivers: ['16', '55', '1', '4', '81', '63', '11', '27', '30', '43', '20', '10', '14', '22', '18', '23', '77', '31', '24', '44']\n",
      "core           INFO \tLoading data for Monaco Grand Prix - Race [v3.5.3]\n",
      "req            INFO \tUsing cached data for session_info\n",
      "req            INFO \tUsing cached data for driver_info\n",
      "req            INFO \tUsing cached data for session_status_data\n",
      "req            INFO \tUsing cached data for lap_count\n",
      "req            INFO \tUsing cached data for track_status_data\n",
      "req            INFO \tUsing cached data for _extended_timing_data\n",
      "req            INFO \tUsing cached data for timing_app_data\n",
      "core           INFO \tProcessing timing data...\n"
     ]
    },
    {
     "name": "stdout",
     "output_type": "stream",
     "text": [
      "Loading session: 2024 Monaco Grand Prix R\n"
     ]
    },
    {
     "name": "stderr",
     "output_type": "stream",
     "text": [
      "req            INFO \tUsing cached data for car_data\n",
      "req            INFO \tUsing cached data for position_data\n",
      "req            INFO \tUsing cached data for weather_data\n",
      "req            INFO \tUsing cached data for race_control_messages\n",
      "core           INFO \tFinished loading data for 20 drivers: ['16', '81', '55', '4', '63', '1', '44', '22', '23', '10', '14', '3', '77', '18', '2', '24', '31', '11', '27', '20']\n",
      "2025-07-13 12:17:47,815 - f1_etl - INFO - Creating new fixed vocabulary encoder\n",
      "2025-07-13 12:17:47,959 - f1_etl - INFO - Applying PCA transformation to telemetry features\n",
      "2025-07-13 12:17:47,960 - f1_etl - INFO - Applying PCA to 9 numeric features: ['Speed', 'RPM', 'nGear', 'Throttle', 'Brake', 'X', 'Y', 'Distance', 'DifferentialDistance']\n"
     ]
    },
    {
     "name": "stdout",
     "output_type": "stream",
     "text": [
      "\n",
      "📊 Track Status Analysis (training_data):\n",
      "   green       : 452387 samples ( 84.0%)\n",
      "   red         : 25292 samples (  4.7%)\n",
      "   safety_car  : 36534 samples (  6.8%)\n",
      "   vsc         :  3027 samples (  0.6%)\n",
      "   vsc_ending  :   185 samples (  0.0%)\n",
      "   yellow      : 21131 samples (  3.9%)\n",
      "   Missing classes: [np.str_('unknown')]\n",
      "✅ FixedVocabTrackStatusEncoder fitted\n",
      "   Classes seen: ['green', 'red', 'safety_car', 'vsc', 'vsc_ending', 'yellow']\n",
      "   Total classes: 7\n",
      "   Output mode: integer labels\n"
     ]
    },
    {
     "name": "stderr",
     "output_type": "stream",
     "text": [
      "2025-07-13 12:17:48,142 - f1_etl - INFO - Imputing missing values before PCA\n",
      "2025-07-13 12:17:48,203 - f1_etl - INFO - Using 6 components to capture 95.0% variance\n",
      "2025-07-13 12:17:48,219 - f1_etl - INFO - PCA reduced features from 9 to 6\n",
      "2025-07-13 12:17:48,219 - f1_etl - INFO - Explained variance ratio: [0.50715906 0.13257284 0.12536976 0.07228638 0.06798376 0.04801935]\n",
      "2025-07-13 12:17:48,220 - f1_etl - INFO - Cumulative variance: [0.50715906 0.6397319  0.76510166 0.83738804 0.90537181 0.95339116]\n",
      "2025-07-13 12:17:48,247 - f1_etl - INFO - Updated features for windowing: ['PC1', 'PC2', 'PC3', 'PC4', 'PC5', 'PC6']\n",
      "2025-07-13 12:17:48,247 - f1_etl - INFO - Processing 538556 total telemetry rows\n",
      "2025-07-13 12:17:48,248 - f1_etl - INFO - Grouping by: ['SessionId', 'Driver']\n",
      "2025-07-13 12:17:50,633 - f1_etl - INFO - Total sequences generated: 10760\n",
      "2025-07-13 12:17:50,664 - f1_etl - INFO - Generated 10760 sequences with shape (10760, 100, 6)\n",
      "2025-07-13 12:17:50,671 - f1_etl - INFO - No missing values detected, skipping imputation\n",
      "2025-07-13 12:17:50,671 - f1_etl - INFO - Skipping normalization for PCA features (already standardized)\n",
      "2025-07-13 12:17:50,680 - f1_etl - INFO - Final dataset summary:\n",
      "2025-07-13 12:17:50,680 - f1_etl - INFO -   Sequences: 10760\n",
      "2025-07-13 12:17:50,681 - f1_etl - INFO -   Features: 6\n",
      "2025-07-13 12:17:50,681 - f1_etl - INFO -   Classes: 7 (integer)\n",
      "2025-07-13 12:17:50,681 - f1_etl - INFO -   Label shape: (10760,)\n",
      "2025-07-13 12:17:50,681 - f1_etl - INFO -     green       :  9042 samples ( 84.0%)\n",
      "2025-07-13 12:17:50,682 - f1_etl - INFO -     red         :   506 samples (  4.7%)\n",
      "2025-07-13 12:17:50,682 - f1_etl - INFO -     safety_car  :   730 samples (  6.8%)\n",
      "2025-07-13 12:17:50,682 - f1_etl - INFO -     vsc         :    62 samples (  0.6%)\n",
      "2025-07-13 12:17:50,682 - f1_etl - INFO -     vsc_ending  :     3 samples (  0.0%)\n",
      "2025-07-13 12:17:50,682 - f1_etl - INFO -     yellow      :   417 samples (  3.9%)\n"
     ]
    }
   ],
   "source": [
    "drivers=[\"1\"]\n",
    "window_size=100\n",
    "prediction_horizon=10\n",
    "\n",
    "# 1. Load dataset\n",
    "data_config = DataConfig(\n",
    "    sessions=[\n",
    "        SessionConfig(2024, \"Qatar Grand Prix\", \"R\"),\n",
    "        SessionConfig(2024, \"Chinese Grand Prix\", \"R\"),\n",
    "        SessionConfig(2024, \"Mexico City Grand Prix\", \"R\"),\n",
    "        SessionConfig(2024, \"São Paulo Grand Prix\", \"R\"),\n",
    "        SessionConfig(2024, \"Miami Grand Prix\", \"R\"),\n",
    "        SessionConfig(2024, \"United States Grand Prix\", \"R\"),\n",
    "        SessionConfig(2024, \"Monaco Grand Prix\", \"R\"),\n",
    "    ],\n",
    "    drivers=drivers,\n",
    "    include_weather=False,\n",
    ")\n",
    "\n",
    "# Using PCA with automatic component selection (95% variance)\n",
    "dataset = create_safety_car_dataset(\n",
    "    config=data_config,\n",
    "    window_size=window_size,\n",
    "    prediction_horizon=prediction_horizon,\n",
    "    normalize=True,\n",
    "    target_column=\"TrackStatus\",\n",
    "    feature_transform=\"pca\",  # Enable PCA\n",
    "    pca_variance_threshold=0.95,  # Keep 95% variance\n",
    ")"
   ]
  },
  {
   "cell_type": "code",
   "execution_count": 13,
   "id": "a1e04426",
   "metadata": {},
   "outputs": [
    {
     "data": {
      "text/plain": [
       "(10760, 100, 6)"
      ]
     },
     "execution_count": 13,
     "metadata": {},
     "output_type": "execute_result"
    }
   ],
   "source": [
    "dataset['X'].shape"
   ]
  },
  {
   "cell_type": "code",
   "execution_count": 14,
   "id": "bf3d266e",
   "metadata": {},
   "outputs": [
    {
     "name": "stdout",
     "output_type": "stream",
     "text": [
      "\n",
      "=== DATA SPLIT SUMMARY ===\n",
      "Total samples: 10,760\n",
      "Train: 7,531 (70.0%)\n",
      "Val:   None (skipped)\n",
      "Test:  3,129 (29.1%) - removed 100 samples\n",
      "\n",
      "Train class distribution:\n",
      "  Class 0: 6,364 (84.5%)\n",
      "  Class 1: 289 (3.8%)\n",
      "  Class 2: 575 (7.6%)\n",
      "  Class 4: 48 (0.6%)\n",
      "  Class 5: 1 (0.0%)\n",
      "  Class 6: 254 (3.4%)\n",
      "\n",
      "Test class distribution:\n",
      "  Class 0: 2,578 (82.4%)\n",
      "  Class 1: 217 (6.9%)\n",
      "  Class 2: 155 (5.0%)\n",
      "  Class 4: 14 (0.4%)\n",
      "  Class 5: 2 (0.1%)\n",
      "  Class 6: 163 (5.2%)\n"
     ]
    }
   ],
   "source": [
    "splits = prepare_data_with_validation(dataset, val_size=0.00, test_size=0.30)\n",
    "class_names = list(dataset[\"label_encoder\"].class_to_idx.keys())\n",
    "\n",
    "# 5. Train model\n",
    "\n",
    "# model_name = f\"rocket_driver{\"_\".join(drivers)}\"\n",
    "model_name = f\"rocket_pca_drivers_all\"\n",
    "model = RocketClassifier(n_kernels=1000)"
   ]
  },
  {
   "cell_type": "code",
   "execution_count": 15,
   "id": "9036d677",
   "metadata": {},
   "outputs": [
    {
     "name": "stdout",
     "output_type": "stream",
     "text": [
      "\n",
      "================================================================================\n",
      "TRAINING WITH TEST: rocket_pca_drivers_all\n",
      "================================================================================\n",
      "Training on train set...\n",
      "\n",
      "Validation set not available (val_size=0.0)\n",
      "\n",
      "Running full evaluation on test set...\n",
      "\n",
      "================================================================================\n",
      "EVALUATING: ROCKET_PCA_DRIVERS_ALL\n",
      "Evaluation ID: rocket_pca_drivers_all_20250713_121858_rocket_pca_drivers_all\n",
      "================================================================================\n",
      "Training model...\n",
      "Generating predictions...\n",
      "\n",
      "📊 OVERALL PERFORMANCE\n",
      "==================================================\n",
      "Accuracy:    0.7725\n",
      "F1-Macro:    0.2037\n",
      "F1-Weighted: 0.7363\n",
      "\n",
      "🎯 TARGET CLASS ANALYSIS: SAFETY_CAR\n",
      "==================================================\n",
      "Precision:       0.3592\n",
      "Recall:          0.3290\n",
      "F1-Score:        0.3434\n",
      "True Positives:    51\n",
      "False Negatives:  104 (missed safety_car events)\n",
      "False Positives:   91 (false safety_car alarms)\n",
      "True Negatives:  2883\n",
      "\n",
      "📈 PER-CLASS PERFORMANCE\n",
      "==================================================\n",
      "green       : P=0.832, R=0.917, F1=0.873, N=2578\n",
      "red         : P=0.009, R=0.005, F1=0.006, N=217\n",
      "safety_car  : P=0.359, R=0.329, F1=0.343, N=155\n",
      "vsc         : P=0.000, R=0.000, F1=0.000, N=14\n",
      "vsc_ending  : P=0.000, R=0.000, F1=0.000, N=2\n",
      "yellow      : P=0.000, R=0.000, F1=0.000, N=163\n",
      "\n",
      "🔍 CONFUSION MATRIX\n",
      "==================================================\n",
      "                 Pred_green  Pred_red  Pred_safety_car  Pred_vsc  Pred_vsc_ending  Pred_yellow\n",
      "True_green             2365       111               72         0                0           30\n",
      "True_red                206         1                8         0                0            2\n",
      "True_safety_car         104         0               51         0                0            0\n",
      "True_vsc                 11         0                3         0                0            0\n",
      "True_vsc_ending           2         0                0         0                0            0\n",
      "True_yellow             155         0                8         0                0            0\n",
      "\n",
      "💾 Results saved:\n",
      "  Complete: evaluation_results/20250713_121858_rocket_pca_drivers_all/rocket_pca_drivers_all_20250713_121858_rocket_pca_drivers_all_complete.json\n",
      "  Summary:  evaluation_results/20250713_121858_rocket_pca_drivers_all/rocket_pca_drivers_all_20250713_121858_rocket_pca_drivers_all_summary.txt\n"
     ]
    }
   ],
   "source": [
    "run_id = f\"{datetime.now().strftime('%Y%m%d_%H%M%S')}_{model_name}\"\n",
    "\n",
    "evaluator = ModelEvaluationSuite(\n",
    "    output_dir=\"evaluation_results\",\n",
    "    run_id=run_id,\n",
    ")\n",
    "\n",
    "dataset_metadata = create_metadata_from_f1_dataset(\n",
    "    data_config=data_config,\n",
    "    dataset=dataset,\n",
    "    features_used=\"pca\",\n",
    ")\n",
    "\n",
    "model_metadata = create_model_metadata(\n",
    "    model_name=model_name,\n",
    "    model=model,\n",
    ")\n",
    "\n",
    "training_results = train_and_validate_model(\n",
    "    model=model,\n",
    "    splits=splits,\n",
    "    class_names=class_names,\n",
    "    evaluator=evaluator,\n",
    "    dataset_metadata=dataset_metadata,\n",
    "    model_metadata=model_metadata,\n",
    ")"
   ]
  },
  {
   "cell_type": "code",
   "execution_count": 17,
   "id": "c4f0ad31",
   "metadata": {},
   "outputs": [
    {
     "name": "stderr",
     "output_type": "stream",
     "text": [
      "2025-07-13 12:20:51,880 - f1_etl - INFO - Preprocessing configuration:\n",
      "2025-07-13 12:20:51,882 - f1_etl - INFO -   Missing values: enabled (forward_fill)\n",
      "2025-07-13 12:20:51,882 - f1_etl - INFO -   Normalization: enabled (standard)\n",
      "2025-07-13 12:20:51,882 - f1_etl - INFO -   Feature transform: pca\n",
      "2025-07-13 12:20:51,883 - f1_etl - INFO -   Resampling: disabled\n",
      "2025-07-13 12:20:51,883 - f1_etl - INFO - Driver configuration:\n",
      "2025-07-13 12:20:51,883 - f1_etl - INFO -   Global drivers: ['1']\n",
      "2025-07-13 12:20:51,884 - f1_etl - INFO -   Canadian Grand Prix: ['1']\n",
      "2025-07-13 12:20:51,884 - f1_etl - INFO -   Saudi Arabian Grand Prix: ['1']\n",
      "core           INFO \tLoading data for Canadian Grand Prix - Race [v3.5.3]\n",
      "req            INFO \tUsing cached data for session_info\n",
      "req            INFO \tUsing cached data for driver_info\n"
     ]
    },
    {
     "name": "stdout",
     "output_type": "stream",
     "text": [
      "Loading session: 2024 Canadian Grand Prix R\n"
     ]
    },
    {
     "name": "stderr",
     "output_type": "stream",
     "text": [
      "req            INFO \tUsing cached data for session_status_data\n",
      "req            INFO \tUsing cached data for lap_count\n",
      "req            INFO \tUsing cached data for track_status_data\n",
      "req            INFO \tUsing cached data for _extended_timing_data\n",
      "req            INFO \tUsing cached data for timing_app_data\n",
      "core           INFO \tProcessing timing data...\n",
      "req            INFO \tUsing cached data for car_data\n",
      "req            INFO \tUsing cached data for position_data\n",
      "req            INFO \tUsing cached data for weather_data\n",
      "req            INFO \tUsing cached data for race_control_messages\n",
      "core           INFO \tFinished loading data for 20 drivers: ['1', '4', '63', '44', '81', '14', '18', '3', '10', '31', '27', '20', '77', '22', '24', '55', '23', '11', '16', '2']\n",
      "core           INFO \tLoading data for Saudi Arabian Grand Prix - Race [v3.5.3]\n",
      "req            INFO \tUsing cached data for session_info\n",
      "req            INFO \tUsing cached data for driver_info\n"
     ]
    },
    {
     "name": "stdout",
     "output_type": "stream",
     "text": [
      "Loading session: 2024 Saudi Arabian Grand Prix R\n"
     ]
    },
    {
     "name": "stderr",
     "output_type": "stream",
     "text": [
      "req            INFO \tUsing cached data for session_status_data\n",
      "req            INFO \tUsing cached data for lap_count\n",
      "req            INFO \tUsing cached data for track_status_data\n",
      "req            INFO \tUsing cached data for _extended_timing_data\n",
      "req            INFO \tUsing cached data for timing_app_data\n",
      "core           INFO \tProcessing timing data...\n",
      "req            INFO \tUsing cached data for car_data\n",
      "req            INFO \tUsing cached data for position_data\n",
      "req            INFO \tUsing cached data for weather_data\n",
      "req            INFO \tUsing cached data for race_control_messages\n",
      "core           INFO \tFinished loading data for 20 drivers: ['1', '11', '16', '81', '14', '63', '38', '4', '44', '27', '23', '20', '31', '2', '22', '3', '77', '24', '18', '10']\n",
      "2025-07-13 12:20:57,904 - f1_etl - INFO - Creating new fixed vocabulary encoder\n",
      "2025-07-13 12:20:57,936 - f1_etl - INFO - Applying PCA transformation to telemetry features\n",
      "2025-07-13 12:20:57,937 - f1_etl - INFO - Applying PCA to 9 numeric features: ['Speed', 'RPM', 'nGear', 'Throttle', 'Brake', 'X', 'Y', 'Distance', 'DifferentialDistance']\n",
      "2025-07-13 12:20:58,004 - f1_etl - INFO - Using 6 components (user specified)\n",
      "2025-07-13 12:20:58,011 - f1_etl - INFO - PCA reduced features from 9 to 6\n",
      "2025-07-13 12:20:58,012 - f1_etl - INFO - Explained variance ratio: [0.49247878 0.14273236 0.1313005  0.07964583 0.06058231 0.05296659]\n",
      "2025-07-13 12:20:58,012 - f1_etl - INFO - Cumulative variance: [0.49247878 0.63521114 0.76651164 0.84615747 0.90673978 0.95970637]\n",
      "2025-07-13 12:20:58,020 - f1_etl - INFO - Updated features for windowing: ['PC1', 'PC2', 'PC3', 'PC4', 'PC5', 'PC6']\n",
      "2025-07-13 12:20:58,020 - f1_etl - INFO - Processing 117259 total telemetry rows\n",
      "2025-07-13 12:20:58,020 - f1_etl - INFO - Grouping by: ['SessionId', 'Driver']\n"
     ]
    },
    {
     "name": "stdout",
     "output_type": "stream",
     "text": [
      "\n",
      "📊 Track Status Analysis (training_data):\n",
      "   green       : 101246 samples ( 86.3%)\n",
      "   safety_car  : 11292 samples (  9.6%)\n",
      "   yellow      :  4721 samples (  4.0%)\n",
      "   Missing classes: [np.str_('red'), np.str_('unknown'), np.str_('vsc'), np.str_('vsc_ending')]\n",
      "✅ FixedVocabTrackStatusEncoder fitted\n",
      "   Classes seen: ['green', 'safety_car', 'yellow']\n",
      "   Total classes: 7\n",
      "   Output mode: integer labels\n"
     ]
    },
    {
     "name": "stderr",
     "output_type": "stream",
     "text": [
      "2025-07-13 12:20:58,554 - f1_etl - INFO - Total sequences generated: 2342\n",
      "2025-07-13 12:20:58,559 - f1_etl - INFO - Generated 2342 sequences with shape (2342, 100, 6)\n",
      "2025-07-13 12:20:58,561 - f1_etl - INFO - No missing values detected, skipping imputation\n",
      "2025-07-13 12:20:58,561 - f1_etl - INFO - Skipping normalization for PCA features (already standardized)\n",
      "2025-07-13 12:20:58,564 - f1_etl - INFO - Final dataset summary:\n",
      "2025-07-13 12:20:58,564 - f1_etl - INFO -   Sequences: 2342\n",
      "2025-07-13 12:20:58,564 - f1_etl - INFO -   Features: 6\n",
      "2025-07-13 12:20:58,565 - f1_etl - INFO -   Classes: 7 (integer)\n",
      "2025-07-13 12:20:58,565 - f1_etl - INFO -   Label shape: (2342,)\n",
      "2025-07-13 12:20:58,565 - f1_etl - INFO -     green       :  2021 samples ( 86.3%)\n",
      "2025-07-13 12:20:58,565 - f1_etl - INFO -     safety_car  :   225 samples (  9.6%)\n",
      "2025-07-13 12:20:58,566 - f1_etl - INFO -     yellow      :    96 samples (  4.1%)\n"
     ]
    }
   ],
   "source": [
    "# 6. Evaluate on external dataset\n",
    "external_config = DataConfig(\n",
    "    sessions=[\n",
    "        SessionConfig(2024, \"Canadian Grand Prix\", \"R\"),\n",
    "        SessionConfig(2024, \"Saudi Arabian Grand Prix\", \"R\"),\n",
    "    ],\n",
    "    drivers=drivers,  # Use same drivers as training\n",
    "    include_weather=False,\n",
    ")\n",
    "\n",
    "# Using PCA with automatic component selection (95% variance)\n",
    "external_dataset = create_safety_car_dataset(\n",
    "    config=external_config,\n",
    "    window_size=window_size,\n",
    "    prediction_horizon=prediction_horizon,\n",
    "    normalize=True,\n",
    "    target_column=\"TrackStatus\",\n",
    "    feature_transform=\"pca\",  # Enable PCA\n",
    "    pca_components=6,\n",
    ")"
   ]
  },
  {
   "cell_type": "code",
   "execution_count": 18,
   "id": "dbef5215",
   "metadata": {},
   "outputs": [
    {
     "name": "stderr",
     "output_type": "stream",
     "text": [
      "2025-07-13 12:21:03,830 - f1_etl - INFO - Preprocessing configuration:\n",
      "2025-07-13 12:21:03,834 - f1_etl - INFO -   Missing values: enabled (forward_fill)\n",
      "2025-07-13 12:21:03,835 - f1_etl - INFO -   Normalization: enabled (standard)\n",
      "2025-07-13 12:21:03,835 - f1_etl - INFO -   Feature transform: pca\n",
      "2025-07-13 12:21:03,836 - f1_etl - INFO -   Resampling: disabled\n",
      "2025-07-13 12:21:03,836 - f1_etl - INFO - Driver configuration:\n",
      "2025-07-13 12:21:03,836 - f1_etl - INFO -   Global drivers: ['1']\n",
      "2025-07-13 12:21:03,837 - f1_etl - INFO -   Canadian Grand Prix: ['1']\n",
      "2025-07-13 12:21:03,837 - f1_etl - INFO -   Saudi Arabian Grand Prix: ['1']\n",
      "core           INFO \tLoading data for Canadian Grand Prix - Race [v3.5.3]\n",
      "req            INFO \tUsing cached data for session_info\n",
      "req            INFO \tUsing cached data for driver_info\n",
      "req            INFO \tUsing cached data for session_status_data\n",
      "req            INFO \tUsing cached data for lap_count\n",
      "req            INFO \tUsing cached data for track_status_data\n",
      "req            INFO \tUsing cached data for _extended_timing_data\n",
      "req            INFO \tUsing cached data for timing_app_data\n",
      "core           INFO \tProcessing timing data...\n"
     ]
    },
    {
     "name": "stdout",
     "output_type": "stream",
     "text": [
      "\n",
      "================================================================================\n",
      "EXTERNAL DATASET EVALUATION\n",
      "================================================================================\n",
      "Using preprocessing from training dataset:\n",
      "  Feature transform: pca\n",
      "  PCA components: 6\n",
      "Loading external dataset...\n",
      "Loading session: 2024 Canadian Grand Prix R\n"
     ]
    },
    {
     "name": "stderr",
     "output_type": "stream",
     "text": [
      "req            INFO \tUsing cached data for car_data\n",
      "req            INFO \tUsing cached data for position_data\n",
      "req            INFO \tUsing cached data for weather_data\n",
      "req            INFO \tUsing cached data for race_control_messages\n",
      "core           INFO \tFinished loading data for 20 drivers: ['1', '4', '63', '44', '81', '14', '18', '3', '10', '31', '27', '20', '77', '22', '24', '55', '23', '11', '16', '2']\n",
      "core           INFO \tLoading data for Saudi Arabian Grand Prix - Race [v3.5.3]\n",
      "req            INFO \tUsing cached data for session_info\n",
      "req            INFO \tUsing cached data for driver_info\n",
      "req            INFO \tUsing cached data for session_status_data\n",
      "req            INFO \tUsing cached data for lap_count\n",
      "req            INFO \tUsing cached data for track_status_data\n",
      "req            INFO \tUsing cached data for _extended_timing_data\n",
      "req            INFO \tUsing cached data for timing_app_data\n",
      "core           INFO \tProcessing timing data...\n"
     ]
    },
    {
     "name": "stdout",
     "output_type": "stream",
     "text": [
      "Loading session: 2024 Saudi Arabian Grand Prix R\n"
     ]
    },
    {
     "name": "stderr",
     "output_type": "stream",
     "text": [
      "req            INFO \tUsing cached data for car_data\n",
      "req            INFO \tUsing cached data for position_data\n",
      "req            INFO \tUsing cached data for weather_data\n",
      "req            INFO \tUsing cached data for race_control_messages\n",
      "core           INFO \tFinished loading data for 20 drivers: ['1', '11', '16', '81', '14', '63', '38', '4', '44', '27', '23', '20', '31', '2', '22', '3', '77', '24', '18', '10']\n",
      "2025-07-13 12:21:07,268 - f1_etl - INFO - Creating new fixed vocabulary encoder\n",
      "2025-07-13 12:21:07,302 - f1_etl - INFO - Applying PCA transformation to telemetry features\n",
      "2025-07-13 12:21:07,303 - f1_etl - INFO - Applying PCA to 9 numeric features: ['Speed', 'RPM', 'nGear', 'Throttle', 'Brake', 'X', 'Y', 'Distance', 'DifferentialDistance']\n",
      "2025-07-13 12:21:07,344 - f1_etl - INFO - Using 6 components (user specified)\n",
      "2025-07-13 12:21:07,350 - f1_etl - INFO - PCA reduced features from 9 to 6\n",
      "2025-07-13 12:21:07,350 - f1_etl - INFO - Explained variance ratio: [0.49247878 0.14273236 0.1313005  0.07964583 0.06058231 0.05296659]\n",
      "2025-07-13 12:21:07,351 - f1_etl - INFO - Cumulative variance: [0.49247878 0.63521114 0.76651164 0.84615747 0.90673978 0.95970637]\n",
      "2025-07-13 12:21:07,358 - f1_etl - INFO - Updated features for windowing: ['PC1', 'PC2', 'PC3', 'PC4', 'PC5', 'PC6']\n",
      "2025-07-13 12:21:07,359 - f1_etl - INFO - Processing 117259 total telemetry rows\n",
      "2025-07-13 12:21:07,359 - f1_etl - INFO - Grouping by: ['SessionId', 'Driver']\n"
     ]
    },
    {
     "name": "stdout",
     "output_type": "stream",
     "text": [
      "\n",
      "📊 Track Status Analysis (training_data):\n",
      "   green       : 101246 samples ( 86.3%)\n",
      "   safety_car  : 11292 samples (  9.6%)\n",
      "   yellow      :  4721 samples (  4.0%)\n",
      "   Missing classes: [np.str_('red'), np.str_('unknown'), np.str_('vsc'), np.str_('vsc_ending')]\n",
      "✅ FixedVocabTrackStatusEncoder fitted\n",
      "   Classes seen: ['green', 'safety_car', 'yellow']\n",
      "   Total classes: 7\n",
      "   Output mode: integer labels\n"
     ]
    },
    {
     "name": "stderr",
     "output_type": "stream",
     "text": [
      "2025-07-13 12:21:07,998 - f1_etl - INFO - Total sequences generated: 2342\n",
      "2025-07-13 12:21:08,003 - f1_etl - INFO - Generated 2342 sequences with shape (2342, 100, 6)\n",
      "2025-07-13 12:21:08,004 - f1_etl - INFO - No missing values detected, skipping imputation\n",
      "2025-07-13 12:21:08,005 - f1_etl - INFO - Skipping normalization for PCA features (already standardized)\n",
      "2025-07-13 12:21:08,008 - f1_etl - INFO - Final dataset summary:\n",
      "2025-07-13 12:21:08,008 - f1_etl - INFO -   Sequences: 2342\n",
      "2025-07-13 12:21:08,008 - f1_etl - INFO -   Features: 6\n",
      "2025-07-13 12:21:08,009 - f1_etl - INFO -   Classes: 7 (integer)\n",
      "2025-07-13 12:21:08,009 - f1_etl - INFO -   Label shape: (2342,)\n",
      "2025-07-13 12:21:08,009 - f1_etl - INFO -     green       :  2021 samples ( 86.3%)\n",
      "2025-07-13 12:21:08,010 - f1_etl - INFO -     safety_car  :   225 samples (  9.6%)\n",
      "2025-07-13 12:21:08,010 - f1_etl - INFO -     yellow      :    96 samples (  4.1%)\n"
     ]
    },
    {
     "name": "stdout",
     "output_type": "stream",
     "text": [
      "External dataset size: 2,342 samples\n",
      "Generating predictions...\n",
      "\n",
      "📊 OVERALL PERFORMANCE\n",
      "==================================================\n",
      "Accuracy:    0.7071\n",
      "F1-Macro:    0.3249\n",
      "F1-Weighted: 0.7530\n",
      "\n",
      "🎯 TARGET CLASS ANALYSIS: SAFETY_CAR\n",
      "==================================================\n",
      "Precision:       0.3785\n",
      "Recall:          0.6578\n",
      "F1-Score:        0.4805\n",
      "True Positives:   148\n",
      "False Negatives:   77 (missed safety_car events)\n",
      "False Positives:  243 (false safety_car alarms)\n",
      "True Negatives:  1874\n",
      "\n",
      "📈 PER-CLASS PERFORMANCE\n",
      "==================================================\n",
      "green       : P=0.908, R=0.746, F1=0.819, N=2021\n",
      "red         : P=0.000, R=0.000, F1=0.000, N=0\n",
      "safety_car  : P=0.379, R=0.658, F1=0.481, N=225\n",
      "yellow      : P=0.000, R=0.000, F1=0.000, N=96\n",
      "\n",
      "🔍 CONFUSION MATRIX\n",
      "==================================================\n",
      "                 Pred_green  Pred_red  Pred_safety_car  Pred_yellow\n",
      "True_green             1508        92              234          187\n",
      "True_red                  0         0                0            0\n",
      "True_safety_car          68         9              148            0\n",
      "True_yellow              85         2                9            0\n",
      "\n",
      "💾 Results saved:\n",
      "  Complete: evaluation_results/20250713_121858_rocket_pca_drivers_all/rocket_pca_drivers_all_20250713_121858_rocket_pca_drivers_all_external_complete.json\n",
      "  Summary:  evaluation_results/20250713_121858_rocket_pca_drivers_all/rocket_pca_drivers_all_20250713_121858_rocket_pca_drivers_all_external_summary.txt\n"
     ]
    }
   ],
   "source": [
    "external_results = evaluate_on_external_dataset(\n",
    "    trained_model=training_results[\"model\"],\n",
    "    external_config=external_config,\n",
    "    original_dataset_metadata=dataset_metadata,\n",
    "    model_metadata=model_metadata,\n",
    "    class_names=class_names,\n",
    "    evaluator=evaluator,\n",
    "    resampling_strategy=dataset_metadata.resampling_strategy,\n",
    "    resampling_config=dataset_metadata.resampling_config,\n",
    "    original_dataset_config=dataset['config']\n",
    ")"
   ]
  }
 ],
 "metadata": {
  "kernelspec": {
   "display_name": "notebooks",
   "language": "python",
   "name": "python3"
  },
  "language_info": {
   "codemirror_mode": {
    "name": "ipython",
    "version": 3
   },
   "file_extension": ".py",
   "mimetype": "text/x-python",
   "name": "python",
   "nbconvert_exporter": "python",
   "pygments_lexer": "ipython3",
   "version": "3.12.7"
  }
 },
 "nbformat": 4,
 "nbformat_minor": 5
}
