{
 "cells": [
  {
   "cell_type": "code",
   "execution_count": 4,
   "id": "1caedec3",
   "metadata": {},
   "outputs": [],
   "source": [
    "from datetime import datetime\n",
    "from aeon.classification.convolution_based import RocketClassifier\n",
    "from aeon.classification.feature_based import Catch22Classifier\n",
    "from sklearn.ensemble import RandomForestClassifier\n",
    "from sklearn.linear_model import LinearRegression, LogisticRegression\n",
    "from aeon.classification.deep_learning import InceptionTimeClassifier\n",
    "from aeon.classification.deep_learning import ResNetClassifier\n",
    "\n",
    "from f1_etl import (\n",
    "    DataConfig,\n",
    "    SessionConfig,\n",
    "    create_safety_car_dataset,\n",
    ")\n",
    "from f1_etl.train import (\n",
    "    ModelEvaluationSuite,\n",
    "    create_metadata_from_f1_dataset,\n",
    "    prepare_data_with_validation,\n",
    "    create_model_metadata,\n",
    "    train_and_validate_model,\n",
    "    evaluate_on_external_dataset,\n",
    "    compare_performance_across_datasets,\n",
    ")"
   ]
  },
  {
   "cell_type": "code",
   "execution_count": 5,
   "id": "225d1a94",
   "metadata": {},
   "outputs": [
    {
     "name": "stderr",
     "output_type": "stream",
     "text": [
      "2025-07-11 20:44:36,691 - f1_etl - INFO - Preprocessing configuration:\n",
      "2025-07-11 20:44:36,692 - f1_etl - INFO -   Missing values: enabled (forward_fill)\n",
      "2025-07-11 20:44:36,692 - f1_etl - INFO -   Normalization: enabled (standard)\n",
      "2025-07-11 20:44:36,693 - f1_etl - INFO -   Resampling: disabled\n",
      "2025-07-11 20:44:36,693 - f1_etl - INFO - Driver configuration:\n",
      "2025-07-11 20:44:36,694 - f1_etl - INFO -   Global drivers: ['1']\n",
      "2025-07-11 20:44:36,695 - f1_etl - INFO -   Qatar Grand Prix: ['1']\n",
      "req         WARNING \tDEFAULT CACHE ENABLED! (4.94 GB) /Users/seansica/Library/Caches/fastf1\n"
     ]
    },
    {
     "name": "stdout",
     "output_type": "stream",
     "text": [
      "Loading session: 2024 Qatar Grand Prix R\n"
     ]
    },
    {
     "name": "stderr",
     "output_type": "stream",
     "text": [
      "events      WARNING \tCorrecting user input 'Qatar Grand Prix' to 'Qatar Grand Prix'\n",
      "core           INFO \tLoading data for Qatar Grand Prix - Race [v3.5.3]\n",
      "req            INFO \tUsing cached data for session_info\n",
      "req            INFO \tUsing cached data for driver_info\n",
      "req            INFO \tUsing cached data for session_status_data\n",
      "req            INFO \tUsing cached data for lap_count\n",
      "req            INFO \tUsing cached data for track_status_data\n",
      "req            INFO \tUsing cached data for _extended_timing_data\n",
      "req            INFO \tUsing cached data for timing_app_data\n",
      "core           INFO \tProcessing timing data...\n",
      "req            INFO \tUsing cached data for car_data\n",
      "req            INFO \tUsing cached data for position_data\n",
      "req            INFO \tUsing cached data for weather_data\n",
      "req            INFO \tUsing cached data for race_control_messages\n",
      "core           INFO \tFinished loading data for 20 drivers: ['1', '16', '81', '63', '10', '55', '14', '24', '20', '4', '77', '44', '22', '30', '23', '27', '11', '18', '43', '31']\n",
      "2025-07-11 20:49:38,866 - f1_etl - INFO - Creating new fixed vocabulary encoder\n",
      "2025-07-11 20:49:38,885 - f1_etl - INFO - Processing 69202 total telemetry rows\n",
      "2025-07-11 20:49:38,886 - f1_etl - INFO - Grouping by: ['SessionId', 'Driver']\n"
     ]
    },
    {
     "name": "stdout",
     "output_type": "stream",
     "text": [
      "\n",
      "📊 Track Status Analysis (training_data):\n",
      "   green       : 57940 samples ( 83.7%)\n",
      "   safety_car  : 10503 samples ( 15.2%)\n",
      "   vsc         :   146 samples (  0.2%)\n",
      "   yellow      :   613 samples (  0.9%)\n",
      "   Missing classes: [np.str_('red'), np.str_('unknown'), np.str_('vsc_ending')]\n",
      "✅ FixedVocabTrackStatusEncoder fitted\n",
      "   Classes seen: ['green', 'safety_car', 'vsc', 'yellow']\n",
      "   Total classes: 7\n",
      "   Output mode: integer labels\n"
     ]
    },
    {
     "name": "stderr",
     "output_type": "stream",
     "text": [
      "2025-07-11 20:49:39,399 - f1_etl - INFO - Total sequences generated: 2763\n",
      "2025-07-11 20:49:39,403 - f1_etl - INFO - Generated 2763 sequences with shape (2763, 50, 9)\n",
      "2025-07-11 20:49:39,404 - f1_etl - INFO - No missing values detected, skipping imputation\n",
      "2025-07-11 20:49:39,404 - f1_etl - INFO - Applying normalization with method: standard\n",
      "2025-07-11 20:49:39,415 - f1_etl - INFO - Final dataset summary:\n",
      "2025-07-11 20:49:39,416 - f1_etl - INFO -   Sequences: 2763\n",
      "2025-07-11 20:49:39,416 - f1_etl - INFO -   Features: 9\n",
      "2025-07-11 20:49:39,417 - f1_etl - INFO -   Classes: 7 (integer)\n",
      "2025-07-11 20:49:39,417 - f1_etl - INFO -   Label shape: (2763,)\n",
      "2025-07-11 20:49:39,418 - f1_etl - INFO -     green       :  2312 samples ( 83.7%)\n",
      "2025-07-11 20:49:39,418 - f1_etl - INFO -     safety_car  :   420 samples ( 15.2%)\n",
      "2025-07-11 20:49:39,419 - f1_etl - INFO -     vsc         :     6 samples (  0.2%)\n",
      "2025-07-11 20:49:39,419 - f1_etl - INFO -     yellow      :    25 samples (  0.9%)\n"
     ]
    },
    {
     "name": "stdout",
     "output_type": "stream",
     "text": [
      "\n",
      "=== DATA SPLIT SUMMARY ===\n",
      "Total samples: 2,763\n",
      "Train: 1,934 (70.0%)\n",
      "Val:   None (skipped)\n",
      "Test:  729 (26.4%) - removed 100 samples\n",
      "\n",
      "Train class distribution:\n",
      "  Class 0: 1,775 (91.8%)\n",
      "  Class 2: 140 (7.2%)\n",
      "  Class 6: 19 (1.0%)\n",
      "\n",
      "Test class distribution:\n",
      "  Class 0: 500 (68.6%)\n",
      "  Class 2: 217 (29.8%)\n",
      "  Class 4: 6 (0.8%)\n",
      "  Class 6: 6 (0.8%)\n",
      "\n",
      "================================================================================\n",
      "TRAINING WITH TEST: rocket_rf_driver1\n",
      "================================================================================\n",
      "Training on train set...\n",
      "\n",
      "Validation set not available (val_size=0.0)\n",
      "\n",
      "Running full evaluation on test set...\n",
      "\n",
      "================================================================================\n",
      "EVALUATING: ROCKET_RF_DRIVER1\n",
      "Evaluation ID: rocket_rf_driver1_20250711_204939_rocket_rf_driver1\n",
      "================================================================================\n",
      "Training model...\n",
      "Generating predictions...\n",
      "\n",
      "📊 OVERALL PERFORMANCE\n",
      "==================================================\n",
      "Accuracy:    0.7599\n",
      "F1-Macro:    0.3153\n",
      "F1-Weighted: 0.7058\n",
      "\n",
      "🎯 TARGET CLASS ANALYSIS: SAFETY_CAR\n",
      "==================================================\n",
      "Precision:       0.9344\n",
      "Recall:          0.2627\n",
      "F1-Score:        0.4101\n",
      "True Positives:    57\n",
      "False Negatives:  160 (missed safety_car events)\n",
      "False Positives:    4 (false safety_car alarms)\n",
      "True Negatives:   508\n",
      "\n",
      "📈 PER-CLASS PERFORMANCE\n",
      "==================================================\n",
      "green       : P=0.744, R=0.994, F1=0.851, N=500\n",
      "safety_car  : P=0.934, R=0.263, F1=0.410, N=217\n",
      "vsc         : P=0.000, R=0.000, F1=0.000, N=6\n",
      "yellow      : P=0.000, R=0.000, F1=0.000, N=6\n",
      "\n",
      "🔍 CONFUSION MATRIX\n",
      "==================================================\n",
      "                 Pred_green  Pred_safety_car  Pred_vsc  Pred_yellow\n",
      "True_green              497                3         0            0\n",
      "True_safety_car         160               57         0            0\n",
      "True_vsc                  5                1         0            0\n",
      "True_yellow               6                0         0            0\n",
      "\n",
      "💾 Results saved:\n",
      "  Complete: evaluation_results/20250711_204939_rocket_rf_driver1/rocket_rf_driver1_20250711_204939_rocket_rf_driver1_complete.json\n",
      "  Summary:  evaluation_results/20250711_204939_rocket_rf_driver1/rocket_rf_driver1_20250711_204939_rocket_rf_driver1_summary.txt\n"
     ]
    }
   ],
   "source": [
    "drivers=[\"1\"]\n",
    "\n",
    "# 1. Load dataset\n",
    "data_config = DataConfig(\n",
    "    sessions=[\n",
    "        SessionConfig(2024, \"Qatar Grand Prix\", \"R\"),\n",
    "    ],\n",
    "    drivers=drivers,\n",
    "    include_weather=False,\n",
    ")\n",
    "\n",
    "dataset = create_safety_car_dataset(\n",
    "    config=data_config,\n",
    "    window_size=50,\n",
    "    prediction_horizon=100,\n",
    "    normalize=True,\n",
    "    target_column=\"TrackStatus\",\n",
    "    # resampling_strategy=\"adasyn\",\n",
    ")\n",
    "\n",
    "# 2. Create metadata\n",
    "dataset_metadata = create_metadata_from_f1_dataset(\n",
    "    data_config=data_config,\n",
    "    dataset=dataset,\n",
    "    features_used=\"multivariate_all_9_features\",\n",
    ")\n",
    "\n",
    "# 3. Prepare data\n",
    "splits = prepare_data_with_validation(dataset, val_size=0.00, test_size=0.30)\n",
    "class_names = list(dataset[\"label_encoder\"].class_to_idx.keys())\n",
    "\n",
    "# 5. Train model\n",
    "\n",
    "# model_name = f\"rocket_driver{\"_\".join(drivers)}\"\n",
    "# model = RocketClassifier(n_kernels=1000)\n",
    "\n",
    "model_name = f\"rocket_rf_driver{\"_\".join(drivers)}\"\n",
    "model = RocketClassifier(\n",
    "    n_kernels=1000,\n",
    "    estimator=RandomForestClassifier(\n",
    "        n_estimators=100,\n",
    "        random_state=42,\n",
    "        # class_weight=cls_weight,\n",
    "        max_depth=10,\n",
    "    ),\n",
    ")\n",
    "\n",
    "# model_name = f\"catch22_rf_driver{\"_\".join(drivers)}\"\n",
    "# model = Catch22Classifier(\n",
    "#     estimator=RandomForestClassifier(\n",
    "#         n_estimators=100,\n",
    "#         random_state=42,\n",
    "#         # class_weight=cls_weight,\n",
    "#         max_depth=10,\n",
    "#     ),\n",
    "#     outlier_norm=True,\n",
    "#     random_state=42,\n",
    "# )\n",
    "\n",
    "# model_name = f\"catch22_logistic_driver{\"_\".join(drivers)}\"\n",
    "# model = Catch22Classifier(\n",
    "#     estimator=LogisticRegression(\n",
    "#         random_state=42,\n",
    "#         max_iter=3000,\n",
    "#         # solver='liblinear',\n",
    "#         solver=\"saga\",\n",
    "#         penalty=\"l1\",\n",
    "#         C=0.1,\n",
    "#         # class_weight=cls_weight,\n",
    "#     ),\n",
    "#     outlier_norm=True,\n",
    "#     random_state=42,\n",
    "# )\n",
    "\n",
    "# TODO fix for binary classification\n",
    "# model_name = f\"catch22_linear_driver{\"_\".join(drivers)}\"\n",
    "# model = Catch22Classifier(\n",
    "#     estimator=LinearRegression(),\n",
    "#     outlier_norm=True,\n",
    "#     random_state=42,\n",
    "# )\n",
    "\n",
    "# model_name = f\"inceptiontime_driver{'_'.join(drivers)}\"\n",
    "# model = InceptionTimeClassifier(\n",
    "#     n_classifiers=5,  # ensemble of 5 models\n",
    "#     depth=6,  # network depth\n",
    "#     n_filters=32,  # number of filters\n",
    "#     n_epochs=100,\n",
    "#     batch_size=16,\n",
    "#     random_state=42,\n",
    "#     verbose=False,\n",
    "# )\n",
    "\n",
    "# model_name = f\"resnet_driver{'_'.join(drivers)}\"\n",
    "# model = ResNetClassifier(\n",
    "#     n_residual_blocks=3,\n",
    "#     n_filters=[128, 256, 128],\n",
    "#     n_epochs=100,\n",
    "#     batch_size=16,\n",
    "#     random_state=42,\n",
    "#     verbose=False\n",
    "# )\n",
    "\n",
    "run_id = f\"{datetime.now().strftime('%Y%m%d_%H%M%S')}_{model_name}\"\n",
    "\n",
    "evaluator = ModelEvaluationSuite(\n",
    "    output_dir=\"evaluation_results\",\n",
    "    run_id=run_id,\n",
    ")\n",
    "\n",
    "model_metadata = create_model_metadata(\n",
    "    model_name=model_name,\n",
    "    model=model,\n",
    ")\n",
    "\n",
    "training_results = train_and_validate_model(\n",
    "    model=model,\n",
    "    splits=splits,\n",
    "    class_names=class_names,\n",
    "    evaluator=evaluator,\n",
    "    dataset_metadata=dataset_metadata,\n",
    "    model_metadata=model_metadata,\n",
    ")"
   ]
  },
  {
   "cell_type": "markdown",
   "id": "dc46d7ae",
   "metadata": {},
   "source": [
    "If you need to write the model to disk:"
   ]
  },
  {
   "cell_type": "code",
   "execution_count": 7,
   "id": "83d51715",
   "metadata": {},
   "outputs": [
    {
     "name": "stdout",
     "output_type": "stream",
     "text": [
      "Model saved to models/my_model.pkl\n"
     ]
    }
   ],
   "source": [
    "import pickle\n",
    "import joblib\n",
    "from pathlib import Path\n",
    "\n",
    "# Save model\n",
    "model_path = Path(\"models/my_model.pkl\")\n",
    "model_path.parent.mkdir(exist_ok=True)\n",
    "\n",
    "# with open(model_path, 'wb') as f:\n",
    "#     pickle.dump(training_results['model'], f)\n",
    "\n",
    "# Or using joblib (often better for sklearn-based models)\n",
    "joblib.dump(training_results['model'], \"models/my_model.joblib\")\n",
    "\n",
    "print(f\"Model saved to {model_path}\")"
   ]
  },
  {
   "cell_type": "markdown",
   "id": "3d570026",
   "metadata": {},
   "source": [
    "Load the model back into memory:"
   ]
  },
  {
   "cell_type": "code",
   "execution_count": 1,
   "id": "c2eebed5",
   "metadata": {},
   "outputs": [
    {
     "name": "stdout",
     "output_type": "stream",
     "text": [
      "Model loaded successfully\n",
      "Model type: <class 'aeon.classification.convolution_based._rocket.RocketClassifier'>\n"
     ]
    }
   ],
   "source": [
    "import pickle\n",
    "import joblib\n",
    "from pathlib import Path\n",
    "\n",
    "# Load with error handling\n",
    "def load_model_safely(model_path):\n",
    "    try:\n",
    "        if model_path.suffix == '.joblib':\n",
    "            return joblib.load(model_path)\n",
    "        else:\n",
    "            with open(model_path, 'rb') as f:\n",
    "                return pickle.load(f)\n",
    "    except Exception as e:\n",
    "        print(f\"Error loading model: {e}\")\n",
    "        return None\n",
    "\n",
    "# Load your model\n",
    "model_path = Path(\"models/my_model.joblib\")  # or .pkl\n",
    "your_model = load_model_safely(model_path)\n",
    "\n",
    "if your_model is not None:\n",
    "    print(\"Model loaded successfully\")\n",
    "    # Verify it works\n",
    "    print(f\"Model type: {type(your_model)}\")\n",
    "else:\n",
    "    print(\"Failed to load model\")"
   ]
  },
  {
   "cell_type": "markdown",
   "id": "edc74b6f",
   "metadata": {},
   "source": [
    "Check the model resource usage:"
   ]
  },
  {
   "cell_type": "code",
   "execution_count": 3,
   "id": "e77085ca",
   "metadata": {},
   "outputs": [
    {
     "name": "stdout",
     "output_type": "stream",
     "text": [
      "Model memory: 0.26 MB\n",
      "Serialized size: 1.01 MB\n"
     ]
    }
   ],
   "source": [
    "import sys\n",
    "import pickle\n",
    "from pympler import asizeof\n",
    "\n",
    "# Memory footprint of loaded model\n",
    "model_memory = asizeof.asizeof(your_model)\n",
    "print(f\"Model memory: {model_memory / 1024**2:.2f} MB\")\n",
    "\n",
    "# Serialized size (storage footprint)\n",
    "serialized_size = len(pickle.dumps(your_model))\n",
    "print(f\"Serialized size: {serialized_size / 1024**2:.2f} MB\")"
   ]
  },
  {
   "cell_type": "code",
   "execution_count": 6,
   "id": "40c504a2",
   "metadata": {},
   "outputs": [
    {
     "name": "stderr",
     "output_type": "stream",
     "text": [
      "2025-07-11 20:56:57,305 - f1_etl - INFO - Preprocessing configuration:\n",
      "2025-07-11 20:56:57,306 - f1_etl - INFO -   Missing values: enabled (forward_fill)\n",
      "2025-07-11 20:56:57,307 - f1_etl - INFO -   Normalization: enabled (standard)\n",
      "2025-07-11 20:56:57,308 - f1_etl - INFO -   Resampling: disabled\n",
      "2025-07-11 20:56:57,308 - f1_etl - INFO - Driver configuration:\n",
      "2025-07-11 20:56:57,309 - f1_etl - INFO -   Global drivers: ['1']\n",
      "2025-07-11 20:56:57,309 - f1_etl - INFO -   Canadian Grand Prix: ['1']\n",
      "2025-07-11 20:56:57,309 - f1_etl - INFO -   Saudi Arabian Grand Prix: ['1']\n",
      "core           INFO \tLoading data for Canadian Grand Prix - Race [v3.5.3]\n",
      "req            INFO \tUsing cached data for session_info\n",
      "req            INFO \tUsing cached data for driver_info\n"
     ]
    },
    {
     "name": "stdout",
     "output_type": "stream",
     "text": [
      "Loading session: 2024 Canadian Grand Prix R\n"
     ]
    },
    {
     "name": "stderr",
     "output_type": "stream",
     "text": [
      "req            INFO \tUsing cached data for session_status_data\n",
      "req            INFO \tUsing cached data for lap_count\n",
      "req            INFO \tUsing cached data for track_status_data\n",
      "req            INFO \tUsing cached data for _extended_timing_data\n",
      "req            INFO \tUsing cached data for timing_app_data\n",
      "core           INFO \tProcessing timing data...\n",
      "req            INFO \tUsing cached data for car_data\n",
      "req            INFO \tUsing cached data for position_data\n",
      "req            INFO \tUsing cached data for weather_data\n",
      "req            INFO \tUsing cached data for race_control_messages\n",
      "core           INFO \tFinished loading data for 20 drivers: ['1', '4', '63', '44', '81', '14', '18', '3', '10', '31', '27', '20', '77', '22', '24', '55', '23', '11', '16', '2']\n",
      "core           INFO \tLoading data for Saudi Arabian Grand Prix - Race [v3.5.3]\n",
      "req            INFO \tUsing cached data for session_info\n",
      "req            INFO \tUsing cached data for driver_info\n"
     ]
    },
    {
     "name": "stdout",
     "output_type": "stream",
     "text": [
      "Loading session: 2024 Saudi Arabian Grand Prix R\n"
     ]
    },
    {
     "name": "stderr",
     "output_type": "stream",
     "text": [
      "req            INFO \tUsing cached data for session_status_data\n",
      "req            INFO \tUsing cached data for lap_count\n",
      "req            INFO \tUsing cached data for track_status_data\n",
      "req            INFO \tUsing cached data for _extended_timing_data\n",
      "req            INFO \tUsing cached data for timing_app_data\n",
      "core           INFO \tProcessing timing data...\n",
      "req            INFO \tUsing cached data for car_data\n",
      "req            INFO \tUsing cached data for position_data\n",
      "req            INFO \tUsing cached data for weather_data\n",
      "req            INFO \tUsing cached data for race_control_messages\n",
      "core           INFO \tFinished loading data for 20 drivers: ['1', '11', '16', '81', '14', '63', '38', '4', '44', '27', '23', '20', '31', '2', '22', '3', '77', '24', '18', '10']\n",
      "2025-07-11 20:57:01,478 - f1_etl - INFO - Creating new fixed vocabulary encoder\n",
      "2025-07-11 20:57:01,509 - f1_etl - INFO - Processing 117259 total telemetry rows\n",
      "2025-07-11 20:57:01,509 - f1_etl - INFO - Grouping by: ['SessionId', 'Driver']\n"
     ]
    },
    {
     "name": "stdout",
     "output_type": "stream",
     "text": [
      "\n",
      "📊 Track Status Analysis (training_data):\n",
      "   green       : 101246 samples ( 86.3%)\n",
      "   safety_car  : 11292 samples (  9.6%)\n",
      "   yellow      :  4721 samples (  4.0%)\n",
      "   Missing classes: [np.str_('red'), np.str_('unknown'), np.str_('vsc'), np.str_('vsc_ending')]\n",
      "✅ FixedVocabTrackStatusEncoder fitted\n",
      "   Classes seen: ['green', 'safety_car', 'yellow']\n",
      "   Total classes: 7\n",
      "   Output mode: integer labels\n"
     ]
    },
    {
     "name": "stderr",
     "output_type": "stream",
     "text": [
      "2025-07-11 20:57:02,406 - f1_etl - INFO - Total sequences generated: 4679\n",
      "2025-07-11 20:57:02,415 - f1_etl - INFO - Generated 4679 sequences with shape (4679, 50, 9)\n",
      "2025-07-11 20:57:02,417 - f1_etl - INFO - No missing values detected, skipping imputation\n",
      "2025-07-11 20:57:02,417 - f1_etl - INFO - Applying normalization with method: standard\n",
      "2025-07-11 20:57:02,438 - f1_etl - INFO - Final dataset summary:\n",
      "2025-07-11 20:57:02,439 - f1_etl - INFO -   Sequences: 4679\n",
      "2025-07-11 20:57:02,439 - f1_etl - INFO -   Features: 9\n",
      "2025-07-11 20:57:02,439 - f1_etl - INFO -   Classes: 7 (integer)\n",
      "2025-07-11 20:57:02,440 - f1_etl - INFO -   Label shape: (4679,)\n",
      "2025-07-11 20:57:02,440 - f1_etl - INFO -     green       :  4046 samples ( 86.5%)\n",
      "2025-07-11 20:57:02,440 - f1_etl - INFO -     safety_car  :   450 samples (  9.6%)\n",
      "2025-07-11 20:57:02,440 - f1_etl - INFO -     yellow      :   183 samples (  3.9%)\n"
     ]
    }
   ],
   "source": [
    "# 6. Evaluate on external dataset\n",
    "external_config = DataConfig(\n",
    "    sessions=[\n",
    "        SessionConfig(2024, \"Canadian Grand Prix\", \"R\"),\n",
    "        SessionConfig(2024, \"Saudi Arabian Grand Prix\", \"R\"),\n",
    "    ],\n",
    "    drivers=drivers,  # Use same drivers as training\n",
    "    include_weather=False,\n",
    ")\n",
    "\n",
    "external_dataset = create_safety_car_dataset(\n",
    "    config=external_config,\n",
    "    window_size=50,\n",
    "    prediction_horizon=100,\n",
    "    normalize=True,\n",
    "    target_column=\"TrackStatus\",\n",
    ")"
   ]
  },
  {
   "cell_type": "code",
   "execution_count": 7,
   "id": "8a7bcc6e",
   "metadata": {},
   "outputs": [],
   "source": [
    "model = training_results['model']"
   ]
  },
  {
   "cell_type": "code",
   "execution_count": 8,
   "id": "c18edb74",
   "metadata": {},
   "outputs": [
    {
     "data": {
      "text/plain": [
       "dict_keys(['X', 'y', 'y_raw', 'metadata', 'label_encoder', 'feature_engineer', 'raw_telemetry', 'class_distribution', 'all_classes', 'n_classes', 'config'])"
      ]
     },
     "execution_count": 8,
     "metadata": {},
     "output_type": "execute_result"
    }
   ],
   "source": [
    "external_dataset.keys()"
   ]
  },
  {
   "cell_type": "code",
   "execution_count": 30,
   "id": "2b0ef4c1",
   "metadata": {},
   "outputs": [
    {
     "data": {
      "text/plain": [
       "{'start_time': Timestamp('2024-06-09 17:59:04.557000'),\n",
       " 'end_time': Timestamp('2024-06-09 17:59:10.652000'),\n",
       " 'prediction_time': Timestamp('2024-06-09 17:59:23.417000'),\n",
       " 'sequence_length': 50,\n",
       " 'prediction_horizon': 100,\n",
       " 'features_used': ['Speed',\n",
       "  'RPM',\n",
       "  'nGear',\n",
       "  'Throttle',\n",
       "  'Brake',\n",
       "  'X',\n",
       "  'Y',\n",
       "  'Distance',\n",
       "  'DifferentialDistance'],\n",
       " 'target_column': 'TrackStatus',\n",
       " 'SessionId': '2024_Canadian Grand Prix_R',\n",
       " 'Driver': '1'}"
      ]
     },
     "execution_count": 30,
     "metadata": {},
     "output_type": "execute_result"
    }
   ],
   "source": [
    "meta_0"
   ]
  },
  {
   "cell_type": "code",
   "execution_count": 28,
   "id": "cb0eea78",
   "metadata": {},
   "outputs": [
    {
     "data": {
      "text/plain": [
       "(117259, 24)"
      ]
     },
     "execution_count": 28,
     "metadata": {},
     "output_type": "execute_result"
    }
   ],
   "source": [
    "raw = external_dataset['raw_telemetry']\n",
    "raw.shape"
   ]
  },
  {
   "cell_type": "code",
   "execution_count": 29,
   "id": "92309308",
   "metadata": {},
   "outputs": [
    {
     "data": {
      "text/plain": [
       "(4679, 9, 50)"
      ]
     },
     "execution_count": 29,
     "metadata": {},
     "output_type": "execute_result"
    }
   ],
   "source": [
    "X_t = external_dataset['X'].transpose(0, 2, 1)\n",
    "\n",
    "X_t.shape"
   ]
  },
  {
   "cell_type": "code",
   "execution_count": 16,
   "id": "2daeee23",
   "metadata": {},
   "outputs": [
    {
     "data": {
      "text/plain": [
       "(9, 50)"
      ]
     },
     "execution_count": 16,
     "metadata": {},
     "output_type": "execute_result"
    }
   ],
   "source": [
    "X_0.shape"
   ]
  },
  {
   "cell_type": "code",
   "execution_count": 19,
   "id": "d4348df2",
   "metadata": {},
   "outputs": [],
   "source": [
    "y_pred = model.predict(X_t)"
   ]
  },
  {
   "cell_type": "code",
   "execution_count": 23,
   "id": "bc3ecf94",
   "metadata": {},
   "outputs": [
    {
     "name": "stdout",
     "output_type": "stream",
     "text": [
      "(4679,)\n",
      "<class 'numpy.ndarray'>\n"
     ]
    }
   ],
   "source": [
    "print(y_pred.shape)\n",
    "print(type(y_pred))"
   ]
  },
  {
   "cell_type": "code",
   "execution_count": 27,
   "id": "94e2b987",
   "metadata": {},
   "outputs": [
    {
     "data": {
      "text/plain": [
       "(4679, 9, 50)"
      ]
     },
     "execution_count": 27,
     "metadata": {},
     "output_type": "execute_result"
    }
   ],
   "source": [
    "X_t.shape"
   ]
  },
  {
   "cell_type": "code",
   "execution_count": 25,
   "id": "53caa4af",
   "metadata": {},
   "outputs": [
    {
     "data": {
      "text/plain": [
       "0\n",
       "0    4361\n",
       "2     318\n",
       "Name: count, dtype: int64"
      ]
     },
     "execution_count": 25,
     "metadata": {},
     "output_type": "execute_result"
    }
   ],
   "source": [
    "import pandas as pd\n",
    "\n",
    "y_pred_df = pd.DataFrame(y_pred)\n",
    "y_pred_df.value_counts()\n"
   ]
  },
  {
   "cell_type": "code",
   "execution_count": 26,
   "id": "e27855c9",
   "metadata": {},
   "outputs": [
    {
     "data": {
      "text/plain": [
       "0\n",
       "0    2312\n",
       "2     420\n",
       "6      25\n",
       "4       6\n",
       "Name: count, dtype: int64"
      ]
     },
     "execution_count": 26,
     "metadata": {},
     "output_type": "execute_result"
    }
   ],
   "source": [
    "y = dataset['y']\n",
    "\n",
    "y_df = pd.DataFrame(y)\n",
    "y_df.value_counts()"
   ]
  }
 ],
 "metadata": {
  "kernelspec": {
   "display_name": "notebooks",
   "language": "python",
   "name": "python3"
  },
  "language_info": {
   "codemirror_mode": {
    "name": "ipython",
    "version": 3
   },
   "file_extension": ".py",
   "mimetype": "text/x-python",
   "name": "python",
   "nbconvert_exporter": "python",
   "pygments_lexer": "ipython3",
   "version": "3.12.7"
  }
 },
 "nbformat": 4,
 "nbformat_minor": 5
}
