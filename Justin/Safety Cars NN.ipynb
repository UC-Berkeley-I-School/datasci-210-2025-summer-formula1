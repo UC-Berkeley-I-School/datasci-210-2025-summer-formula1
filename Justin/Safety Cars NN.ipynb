{
 "cells": [
  {
   "cell_type": "code",
   "execution_count": 1,
   "id": "5b2d862a",
   "metadata": {},
   "outputs": [],
   "source": [
    "import fastf1 \n",
    "import pandas as pd\n",
    "import numpy as np\n",
    "\n",
    "from fastf1 import get_session\n",
    "\n",
    "import matplotlib.pyplot as plt\n",
    "import seaborn as sns\n",
    "\n",
    "fastf1.Cache.enable_cache('E:\\School Stuff\\F1cache')"
   ]
  },
  {
   "cell_type": "code",
   "execution_count": 3,
   "id": "0b2b8dff",
   "metadata": {},
   "outputs": [
    {
     "name": "stderr",
     "output_type": "stream",
     "text": [
      "C:\\Users\\jcf03\\AppData\\Local\\Temp\\ipykernel_36700\\3134807600.py:1: DtypeWarning: Columns (24) have mixed types. Specify dtype option on import or set low_memory=False.\n",
      "  new_features = pd.read_csv('new_features_output.csv')\n"
     ]
    }
   ],
   "source": [
    "new_features = pd.read_csv('new_features_output.csv')"
   ]
  },
  {
   "cell_type": "code",
   "execution_count": 4,
   "id": "03a05b6a",
   "metadata": {},
   "outputs": [
    {
     "data": {
      "text/html": [
       "<div>\n",
       "<style scoped>\n",
       "    .dataframe tbody tr th:only-of-type {\n",
       "        vertical-align: middle;\n",
       "    }\n",
       "\n",
       "    .dataframe tbody tr th {\n",
       "        vertical-align: top;\n",
       "    }\n",
       "\n",
       "    .dataframe thead th {\n",
       "        text-align: right;\n",
       "    }\n",
       "</style>\n",
       "<table border=\"1\" class=\"dataframe\">\n",
       "  <thead>\n",
       "    <tr style=\"text-align: right;\">\n",
       "      <th></th>\n",
       "      <th>Date</th>\n",
       "      <th>SessionTime</th>\n",
       "      <th>DriverAhead</th>\n",
       "      <th>DistanceToDriverAhead</th>\n",
       "      <th>Time</th>\n",
       "      <th>RPM</th>\n",
       "      <th>Speed</th>\n",
       "      <th>nGear</th>\n",
       "      <th>Throttle</th>\n",
       "      <th>Brake</th>\n",
       "      <th>...</th>\n",
       "      <th>delta_dist_to_ahead</th>\n",
       "      <th>relative_speed_to_ahead</th>\n",
       "      <th>brake_mean_3</th>\n",
       "      <th>throttle_std_3</th>\n",
       "      <th>rpm_std_3</th>\n",
       "      <th>delta_x</th>\n",
       "      <th>delta_y</th>\n",
       "      <th>track_movement</th>\n",
       "      <th>TrackStatus_prev</th>\n",
       "      <th>SCin30</th>\n",
       "    </tr>\n",
       "  </thead>\n",
       "  <tbody>\n",
       "    <tr>\n",
       "      <th>0</th>\n",
       "      <td>2023-11-05 17:03:22.842</td>\n",
       "      <td>0 days 01:02:22.839000</td>\n",
       "      <td>NaN</td>\n",
       "      <td>0.53</td>\n",
       "      <td>0 days 00:00:00</td>\n",
       "      <td>10317.650029</td>\n",
       "      <td>0.0</td>\n",
       "      <td>1</td>\n",
       "      <td>18.0</td>\n",
       "      <td>True</td>\n",
       "      <td>...</td>\n",
       "      <td>NaN</td>\n",
       "      <td>NaN</td>\n",
       "      <td>1.000000</td>\n",
       "      <td>NaN</td>\n",
       "      <td>NaN</td>\n",
       "      <td>NaN</td>\n",
       "      <td>NaN</td>\n",
       "      <td>NaN</td>\n",
       "      <td>NaN</td>\n",
       "      <td>1.0</td>\n",
       "    </tr>\n",
       "    <tr>\n",
       "      <th>1</th>\n",
       "      <td>2023-11-05 17:03:22.880</td>\n",
       "      <td>0 days 01:02:22.877000</td>\n",
       "      <td>NaN</td>\n",
       "      <td>0.53</td>\n",
       "      <td>0 days 00:00:00.038000</td>\n",
       "      <td>10309.100000</td>\n",
       "      <td>0.0</td>\n",
       "      <td>1</td>\n",
       "      <td>18.0</td>\n",
       "      <td>True</td>\n",
       "      <td>...</td>\n",
       "      <td>0.0</td>\n",
       "      <td>0.0</td>\n",
       "      <td>1.000000</td>\n",
       "      <td>0.0</td>\n",
       "      <td>6.045783</td>\n",
       "      <td>0.120360</td>\n",
       "      <td>-0.013449</td>\n",
       "      <td>0.121109</td>\n",
       "      <td>1.0</td>\n",
       "      <td>1.0</td>\n",
       "    </tr>\n",
       "    <tr>\n",
       "      <th>2</th>\n",
       "      <td>2023-11-05 17:03:22.956</td>\n",
       "      <td>0 days 01:02:22.953000</td>\n",
       "      <td>NaN</td>\n",
       "      <td>0.53</td>\n",
       "      <td>0 days 00:00:00.114000</td>\n",
       "      <td>10292.000000</td>\n",
       "      <td>0.0</td>\n",
       "      <td>1</td>\n",
       "      <td>18.0</td>\n",
       "      <td>True</td>\n",
       "      <td>...</td>\n",
       "      <td>0.0</td>\n",
       "      <td>0.0</td>\n",
       "      <td>1.000000</td>\n",
       "      <td>0.0</td>\n",
       "      <td>13.060353</td>\n",
       "      <td>0.366146</td>\n",
       "      <td>-0.038887</td>\n",
       "      <td>0.368205</td>\n",
       "      <td>1.0</td>\n",
       "      <td>1.0</td>\n",
       "    </tr>\n",
       "    <tr>\n",
       "      <th>3</th>\n",
       "      <td>2023-11-05 17:03:23.080</td>\n",
       "      <td>0 days 01:02:23.077000</td>\n",
       "      <td>NaN</td>\n",
       "      <td>0.53</td>\n",
       "      <td>0 days 00:00:00.238000</td>\n",
       "      <td>10265.650000</td>\n",
       "      <td>0.0</td>\n",
       "      <td>1</td>\n",
       "      <td>18.0</td>\n",
       "      <td>True</td>\n",
       "      <td>...</td>\n",
       "      <td>0.0</td>\n",
       "      <td>0.0</td>\n",
       "      <td>1.000000</td>\n",
       "      <td>0.0</td>\n",
       "      <td>21.888486</td>\n",
       "      <td>0.633854</td>\n",
       "      <td>0.038887</td>\n",
       "      <td>0.635046</td>\n",
       "      <td>1.0</td>\n",
       "      <td>1.0</td>\n",
       "    </tr>\n",
       "    <tr>\n",
       "      <th>4</th>\n",
       "      <td>2023-11-05 17:03:23.196</td>\n",
       "      <td>0 days 01:02:23.193000</td>\n",
       "      <td>3.0</td>\n",
       "      <td>0.53</td>\n",
       "      <td>0 days 00:00:00.354000</td>\n",
       "      <td>10241.000000</td>\n",
       "      <td>0.0</td>\n",
       "      <td>1</td>\n",
       "      <td>18.0</td>\n",
       "      <td>False</td>\n",
       "      <td>...</td>\n",
       "      <td>0.0</td>\n",
       "      <td>0.0</td>\n",
       "      <td>0.666667</td>\n",
       "      <td>0.0</td>\n",
       "      <td>25.504722</td>\n",
       "      <td>0.084688</td>\n",
       "      <td>0.380318</td>\n",
       "      <td>0.389632</td>\n",
       "      <td>1.0</td>\n",
       "      <td>1.0</td>\n",
       "    </tr>\n",
       "  </tbody>\n",
       "</table>\n",
       "<p>5 rows × 38 columns</p>\n",
       "</div>"
      ],
      "text/plain": [
       "                      Date             SessionTime  DriverAhead  \\\n",
       "0  2023-11-05 17:03:22.842  0 days 01:02:22.839000          NaN   \n",
       "1  2023-11-05 17:03:22.880  0 days 01:02:22.877000          NaN   \n",
       "2  2023-11-05 17:03:22.956  0 days 01:02:22.953000          NaN   \n",
       "3  2023-11-05 17:03:23.080  0 days 01:02:23.077000          NaN   \n",
       "4  2023-11-05 17:03:23.196  0 days 01:02:23.193000          3.0   \n",
       "\n",
       "   DistanceToDriverAhead                    Time           RPM  Speed  nGear  \\\n",
       "0                   0.53         0 days 00:00:00  10317.650029    0.0      1   \n",
       "1                   0.53  0 days 00:00:00.038000  10309.100000    0.0      1   \n",
       "2                   0.53  0 days 00:00:00.114000  10292.000000    0.0      1   \n",
       "3                   0.53  0 days 00:00:00.238000  10265.650000    0.0      1   \n",
       "4                   0.53  0 days 00:00:00.354000  10241.000000    0.0      1   \n",
       "\n",
       "   Throttle  Brake  ...  delta_dist_to_ahead relative_speed_to_ahead  \\\n",
       "0      18.0   True  ...                  NaN                     NaN   \n",
       "1      18.0   True  ...                  0.0                     0.0   \n",
       "2      18.0   True  ...                  0.0                     0.0   \n",
       "3      18.0   True  ...                  0.0                     0.0   \n",
       "4      18.0  False  ...                  0.0                     0.0   \n",
       "\n",
       "   brake_mean_3  throttle_std_3  rpm_std_3   delta_x   delta_y  \\\n",
       "0      1.000000             NaN        NaN       NaN       NaN   \n",
       "1      1.000000             0.0   6.045783  0.120360 -0.013449   \n",
       "2      1.000000             0.0  13.060353  0.366146 -0.038887   \n",
       "3      1.000000             0.0  21.888486  0.633854  0.038887   \n",
       "4      0.666667             0.0  25.504722  0.084688  0.380318   \n",
       "\n",
       "   track_movement TrackStatus_prev  SCin30  \n",
       "0             NaN              NaN     1.0  \n",
       "1        0.121109              1.0     1.0  \n",
       "2        0.368205              1.0     1.0  \n",
       "3        0.635046              1.0     1.0  \n",
       "4        0.389632              1.0     1.0  \n",
       "\n",
       "[5 rows x 38 columns]"
      ]
     },
     "execution_count": 4,
     "metadata": {},
     "output_type": "execute_result"
    }
   ],
   "source": [
    "new_features.head()"
   ]
  },
  {
   "cell_type": "code",
   "execution_count": 5,
   "id": "0cb0c532",
   "metadata": {},
   "outputs": [],
   "source": [
    "ver_tel = new_features[new_features['Driver'] == 'VER']"
   ]
  },
  {
   "cell_type": "code",
   "execution_count": 6,
   "id": "d5119744",
   "metadata": {},
   "outputs": [],
   "source": [
    "ver_tel = ver_tel.sort_values(by=['SessionTime']).copy()"
   ]
  },
  {
   "cell_type": "code",
   "execution_count": 7,
   "id": "aad5c92b",
   "metadata": {},
   "outputs": [],
   "source": [
    "ver_tel = ver_tel.reset_index(drop=True)"
   ]
  },
  {
   "cell_type": "code",
   "execution_count": 8,
   "id": "19318fae",
   "metadata": {},
   "outputs": [
    {
     "data": {
      "text/html": [
       "<div>\n",
       "<style scoped>\n",
       "    .dataframe tbody tr th:only-of-type {\n",
       "        vertical-align: middle;\n",
       "    }\n",
       "\n",
       "    .dataframe tbody tr th {\n",
       "        vertical-align: top;\n",
       "    }\n",
       "\n",
       "    .dataframe thead th {\n",
       "        text-align: right;\n",
       "    }\n",
       "</style>\n",
       "<table border=\"1\" class=\"dataframe\">\n",
       "  <thead>\n",
       "    <tr style=\"text-align: right;\">\n",
       "      <th></th>\n",
       "      <th>Date</th>\n",
       "      <th>SessionTime</th>\n",
       "      <th>DriverAhead</th>\n",
       "      <th>DistanceToDriverAhead</th>\n",
       "      <th>Time</th>\n",
       "      <th>RPM</th>\n",
       "      <th>Speed</th>\n",
       "      <th>nGear</th>\n",
       "      <th>Throttle</th>\n",
       "      <th>Brake</th>\n",
       "      <th>...</th>\n",
       "      <th>delta_dist_to_ahead</th>\n",
       "      <th>relative_speed_to_ahead</th>\n",
       "      <th>brake_mean_3</th>\n",
       "      <th>throttle_std_3</th>\n",
       "      <th>rpm_std_3</th>\n",
       "      <th>delta_x</th>\n",
       "      <th>delta_y</th>\n",
       "      <th>track_movement</th>\n",
       "      <th>TrackStatus_prev</th>\n",
       "      <th>SCin30</th>\n",
       "    </tr>\n",
       "  </thead>\n",
       "  <tbody>\n",
       "    <tr>\n",
       "      <th>0</th>\n",
       "      <td>2023-11-05 17:03:22.842</td>\n",
       "      <td>0 days 01:02:22.839000</td>\n",
       "      <td>NaN</td>\n",
       "      <td>0.53</td>\n",
       "      <td>0 days 00:00:00</td>\n",
       "      <td>9950.099977</td>\n",
       "      <td>0.0</td>\n",
       "      <td>1</td>\n",
       "      <td>16.0</td>\n",
       "      <td>True</td>\n",
       "      <td>...</td>\n",
       "      <td>NaN</td>\n",
       "      <td>NaN</td>\n",
       "      <td>1.000000</td>\n",
       "      <td>NaN</td>\n",
       "      <td>NaN</td>\n",
       "      <td>NaN</td>\n",
       "      <td>NaN</td>\n",
       "      <td>NaN</td>\n",
       "      <td>NaN</td>\n",
       "      <td>1.0</td>\n",
       "    </tr>\n",
       "    <tr>\n",
       "      <th>1</th>\n",
       "      <td>2023-11-05 17:03:22.880</td>\n",
       "      <td>0 days 01:02:22.877000</td>\n",
       "      <td>NaN</td>\n",
       "      <td>0.53</td>\n",
       "      <td>0 days 00:00:00.038000</td>\n",
       "      <td>9957.066667</td>\n",
       "      <td>0.0</td>\n",
       "      <td>1</td>\n",
       "      <td>16.0</td>\n",
       "      <td>True</td>\n",
       "      <td>...</td>\n",
       "      <td>NaN</td>\n",
       "      <td>NaN</td>\n",
       "      <td>0.333333</td>\n",
       "      <td>48.497423</td>\n",
       "      <td>407.855041</td>\n",
       "      <td>78.246462</td>\n",
       "      <td>-313.493547</td>\n",
       "      <td>323.110992</td>\n",
       "      <td>1.0</td>\n",
       "      <td>1.0</td>\n",
       "    </tr>\n",
       "    <tr>\n",
       "      <th>2</th>\n",
       "      <td>2023-11-05 17:03:22.956</td>\n",
       "      <td>0 days 01:02:22.953000</td>\n",
       "      <td>NaN</td>\n",
       "      <td>0.53</td>\n",
       "      <td>0 days 00:00:00.114000</td>\n",
       "      <td>9971.000000</td>\n",
       "      <td>0.0</td>\n",
       "      <td>1</td>\n",
       "      <td>16.0</td>\n",
       "      <td>True</td>\n",
       "      <td>...</td>\n",
       "      <td>NaN</td>\n",
       "      <td>NaN</td>\n",
       "      <td>0.333333</td>\n",
       "      <td>48.497423</td>\n",
       "      <td>740.126557</td>\n",
       "      <td>77.003080</td>\n",
       "      <td>-304.021806</td>\n",
       "      <td>313.621959</td>\n",
       "      <td>1.0</td>\n",
       "      <td>1.0</td>\n",
       "    </tr>\n",
       "    <tr>\n",
       "      <th>3</th>\n",
       "      <td>2023-11-05 17:03:23.080</td>\n",
       "      <td>0 days 01:02:23.077000</td>\n",
       "      <td>NaN</td>\n",
       "      <td>0.53</td>\n",
       "      <td>0 days 00:00:00.238000</td>\n",
       "      <td>9984.433333</td>\n",
       "      <td>0.0</td>\n",
       "      <td>1</td>\n",
       "      <td>16.0</td>\n",
       "      <td>True</td>\n",
       "      <td>...</td>\n",
       "      <td>NaN</td>\n",
       "      <td>NaN</td>\n",
       "      <td>0.333333</td>\n",
       "      <td>48.497423</td>\n",
       "      <td>358.339100</td>\n",
       "      <td>59.000000</td>\n",
       "      <td>-237.000000</td>\n",
       "      <td>244.233495</td>\n",
       "      <td>1.0</td>\n",
       "      <td>1.0</td>\n",
       "    </tr>\n",
       "    <tr>\n",
       "      <th>4</th>\n",
       "      <td>2023-11-05 17:03:23.196</td>\n",
       "      <td>0 days 01:02:23.193000</td>\n",
       "      <td>3.0</td>\n",
       "      <td>0.53</td>\n",
       "      <td>0 days 00:00:00.354000</td>\n",
       "      <td>9997.000000</td>\n",
       "      <td>0.0</td>\n",
       "      <td>1</td>\n",
       "      <td>16.0</td>\n",
       "      <td>True</td>\n",
       "      <td>...</td>\n",
       "      <td>NaN</td>\n",
       "      <td>NaN</td>\n",
       "      <td>0.333333</td>\n",
       "      <td>48.497423</td>\n",
       "      <td>406.357396</td>\n",
       "      <td>31.987010</td>\n",
       "      <td>-130.579836</td>\n",
       "      <td>134.440553</td>\n",
       "      <td>1.0</td>\n",
       "      <td>1.0</td>\n",
       "    </tr>\n",
       "  </tbody>\n",
       "</table>\n",
       "<p>5 rows × 38 columns</p>\n",
       "</div>"
      ],
      "text/plain": [
       "                      Date             SessionTime  DriverAhead  \\\n",
       "0  2023-11-05 17:03:22.842  0 days 01:02:22.839000          NaN   \n",
       "1  2023-11-05 17:03:22.880  0 days 01:02:22.877000          NaN   \n",
       "2  2023-11-05 17:03:22.956  0 days 01:02:22.953000          NaN   \n",
       "3  2023-11-05 17:03:23.080  0 days 01:02:23.077000          NaN   \n",
       "4  2023-11-05 17:03:23.196  0 days 01:02:23.193000          3.0   \n",
       "\n",
       "   DistanceToDriverAhead                    Time          RPM  Speed  nGear  \\\n",
       "0                   0.53         0 days 00:00:00  9950.099977    0.0      1   \n",
       "1                   0.53  0 days 00:00:00.038000  9957.066667    0.0      1   \n",
       "2                   0.53  0 days 00:00:00.114000  9971.000000    0.0      1   \n",
       "3                   0.53  0 days 00:00:00.238000  9984.433333    0.0      1   \n",
       "4                   0.53  0 days 00:00:00.354000  9997.000000    0.0      1   \n",
       "\n",
       "   Throttle  Brake  ...  delta_dist_to_ahead relative_speed_to_ahead  \\\n",
       "0      16.0   True  ...                  NaN                     NaN   \n",
       "1      16.0   True  ...                  NaN                     NaN   \n",
       "2      16.0   True  ...                  NaN                     NaN   \n",
       "3      16.0   True  ...                  NaN                     NaN   \n",
       "4      16.0   True  ...                  NaN                     NaN   \n",
       "\n",
       "   brake_mean_3  throttle_std_3   rpm_std_3    delta_x     delta_y  \\\n",
       "0      1.000000             NaN         NaN        NaN         NaN   \n",
       "1      0.333333       48.497423  407.855041  78.246462 -313.493547   \n",
       "2      0.333333       48.497423  740.126557  77.003080 -304.021806   \n",
       "3      0.333333       48.497423  358.339100  59.000000 -237.000000   \n",
       "4      0.333333       48.497423  406.357396  31.987010 -130.579836   \n",
       "\n",
       "   track_movement TrackStatus_prev  SCin30  \n",
       "0             NaN              NaN     1.0  \n",
       "1      323.110992              1.0     1.0  \n",
       "2      313.621959              1.0     1.0  \n",
       "3      244.233495              1.0     1.0  \n",
       "4      134.440553              1.0     1.0  \n",
       "\n",
       "[5 rows x 38 columns]"
      ]
     },
     "execution_count": 8,
     "metadata": {},
     "output_type": "execute_result"
    }
   ],
   "source": [
    "ver_tel.head()"
   ]
  },
  {
   "cell_type": "code",
   "execution_count": 9,
   "id": "0b27abaf",
   "metadata": {},
   "outputs": [
    {
     "name": "stdout",
     "output_type": "stream",
     "text": [
      "Original SCin30 distribution: 0.0    42514\n",
      "1.0      208\n",
      "Name: SCin30, dtype: int64\n"
     ]
    }
   ],
   "source": [
    "print(f\"Original SCin30 distribution: {ver_tel['SCin30'].value_counts()}\")"
   ]
  },
  {
   "cell_type": "code",
   "execution_count": 10,
   "id": "2d8f318c",
   "metadata": {},
   "outputs": [
    {
     "name": "stdout",
     "output_type": "stream",
     "text": [
      "Safety car events at indices: [0, 1, 2, 3, 4, 5, 6, 7, 8, 9, 10, 11, 12, 13, 14, 15, 16, 17, 18, 19, 20, 21, 22, 23, 24, 25, 26, 27, 28, 29, 30, 31, 32, 33, 34, 35, 36, 37, 38, 39, 40, 41, 42, 43, 44, 45, 46, 47, 48, 49, 50, 51, 52, 53, 54, 55, 56, 57, 58, 59, 60, 61, 62, 63, 64, 65, 66, 67, 68, 69, 70, 71, 72, 73, 74, 75, 76, 77, 78, 79, 80, 81, 82, 83, 84, 85, 86, 87, 88, 89, 90, 91, 92, 93, 94, 95, 96, 97, 98, 99, 100, 101, 102, 103, 104, 105, 106, 107, 108, 109, 110, 111, 112, 113, 114, 115, 116, 117, 118, 119, 120, 121, 122, 123, 124, 125, 126, 127, 128, 129, 130, 131, 132, 133, 134, 135, 136, 137, 138, 139, 140, 141, 142, 143, 144, 145, 146, 147, 148, 149, 150, 151, 152, 153, 154, 155, 156, 157, 158, 159, 160, 161, 162, 163, 164, 165, 166, 167, 168, 169, 170, 171, 172, 173, 174, 175, 176, 177, 178, 179, 180, 181, 182, 183, 184, 185, 186, 187, 188, 189, 190, 191, 192, 193, 194, 195, 196, 197, 198, 199, 200, 201, 202, 203, 204, 205, 206, 207]\n"
     ]
    }
   ],
   "source": [
    "safety_car_indices = ver_tel[ver_tel['SCin30'] == 1].index\n",
    "print(f\"Safety car events at indices: {safety_car_indices.tolist()}\")"
   ]
  },
  {
   "cell_type": "code",
   "execution_count": 11,
   "id": "dc93aa1e",
   "metadata": {},
   "outputs": [
    {
     "name": "stdout",
     "output_type": "stream",
     "text": [
      "Sequence 0: looks at indices 600-750, has safety car: False\n",
      "Sequence 25: looks at indices 625-775, has safety car: False\n",
      "Sequence 50: looks at indices 650-800, has safety car: False\n",
      "Sequence 75: looks at indices 675-825, has safety car: False\n",
      "Sequence 100: looks at indices 700-850, has safety car: False\n"
     ]
    }
   ],
   "source": [
    "# Test the first few sequences manually\n",
    "for seq_start in [0, 25, 50, 75, 100]:\n",
    "    future_start = seq_start + 600\n",
    "    future_end = future_start + 150\n",
    "    if future_end <= len(ver_tel):\n",
    "        future_window = ver_tel.iloc[future_start:future_end]['SCin30']\n",
    "        has_safety_car = future_window.any()\n",
    "        print(f\"Sequence {seq_start}: looks at indices {future_start}-{future_end}, has safety car: {has_safety_car}\")"
   ]
  },
  {
   "cell_type": "code",
   "execution_count": 12,
   "id": "4df78af6",
   "metadata": {},
   "outputs": [
    {
     "ename": "NameError",
     "evalue": "name 'create_sequences' is not defined",
     "output_type": "error",
     "traceback": [
      "\u001b[1;31m---------------------------------------------------------------------------\u001b[0m",
      "\u001b[1;31mNameError\u001b[0m                                 Traceback (most recent call last)",
      "\u001b[1;32m~\\AppData\\Local\\Temp\\ipykernel_36700\\3866925494.py\u001b[0m in \u001b[0;36m<module>\u001b[1;34m\u001b[0m\n\u001b[0;32m      1\u001b[0m \u001b[1;32mfor\u001b[0m \u001b[0mseq_len\u001b[0m \u001b[1;32min\u001b[0m \u001b[1;33m[\u001b[0m\u001b[1;36m100\u001b[0m\u001b[1;33m,\u001b[0m \u001b[1;36m200\u001b[0m\u001b[1;33m,\u001b[0m \u001b[1;36m300\u001b[0m\u001b[1;33m,\u001b[0m \u001b[1;36m600\u001b[0m\u001b[1;33m]\u001b[0m\u001b[1;33m:\u001b[0m\u001b[1;33m\u001b[0m\u001b[1;33m\u001b[0m\u001b[0m\n\u001b[1;32m----> 2\u001b[1;33m     \u001b[0mX\u001b[0m\u001b[1;33m,\u001b[0m \u001b[0my\u001b[0m \u001b[1;33m=\u001b[0m \u001b[0mcreate_sequences\u001b[0m\u001b[1;33m(\u001b[0m\u001b[0mver_tel\u001b[0m\u001b[1;33m,\u001b[0m \u001b[0mfeature_cols\u001b[0m\u001b[1;33m,\u001b[0m \u001b[1;34m'SCin30'\u001b[0m\u001b[1;33m,\u001b[0m \u001b[0mseq_len\u001b[0m\u001b[1;33m)\u001b[0m\u001b[1;33m\u001b[0m\u001b[1;33m\u001b[0m\u001b[0m\n\u001b[0m\u001b[0;32m      3\u001b[0m     \u001b[0mprint\u001b[0m\u001b[1;33m(\u001b[0m\u001b[1;34mf\"Sequence length {seq_len}: {np.sum(y)} positive samples out of {len(y)} total\"\u001b[0m\u001b[1;33m)\u001b[0m\u001b[1;33m\u001b[0m\u001b[1;33m\u001b[0m\u001b[0m\n",
      "\u001b[1;31mNameError\u001b[0m: name 'create_sequences' is not defined"
     ]
    }
   ],
   "source": [
    "for seq_len in [100, 200, 300, 600]:\n",
    "    X, y = create_sequences(ver_tel, feature_cols, 'SCin30', seq_len)\n",
    "    print(f\"Sequence length {seq_len}: {np.sum(y)} positive samples out of {len(y)} total\")"
   ]
  },
  {
   "cell_type": "code",
   "execution_count": 27,
   "id": "ef031d22",
   "metadata": {},
   "outputs": [
    {
     "name": "stdout",
     "output_type": "stream",
     "text": [
      "First few rows of time-related columns:\n",
      "                     Time  SCin30\n",
      "0         0 days 00:00:00     1.0\n",
      "1  0 days 00:00:00.038000     1.0\n",
      "2  0 days 00:00:00.114000     1.0\n",
      "3  0 days 00:00:00.238000     1.0\n",
      "4  0 days 00:00:00.354000     1.0\n",
      "5  0 days 00:00:00.478000     1.0\n",
      "6  0 days 00:00:00.754000     1.0\n",
      "7  0 days 00:00:00.778000     1.0\n",
      "8  0 days 00:00:00.994000     1.0\n",
      "9  0 days 00:00:01.118000     1.0\n",
      "\n",
      "Last few rows:\n",
      "                         Time  SCin30\n",
      "42712  0 days 00:01:12.745000     0.0\n",
      "42713  0 days 00:01:12.945000     0.0\n",
      "42714  0 days 00:01:13.034000     0.0\n",
      "42715  0 days 00:01:13.186000     0.0\n",
      "42716  0 days 00:01:13.346000     0.0\n",
      "42717  0 days 00:01:13.435000     0.0\n",
      "42718  0 days 00:01:13.586000     0.0\n",
      "42719  0 days 00:01:13.746000     0.0\n",
      "42720  0 days 00:01:13.774000     0.0\n",
      "42721  0 days 00:01:13.935000     0.0\n",
      "\n",
      "Time range of safety car events:\n",
      "Safety car time range: 0 days 00:00:00 to 0 days 00:00:27.154000\n",
      "Full dataset time range: 0 days 00:00:00 to 0 days 00:02:23.356000\n"
     ]
    }
   ],
   "source": [
    "# Check if your data is time-ordered (assuming you have a time column)\n",
    "print(\"First few rows of time-related columns:\")\n",
    "print(ver_tel[['Time', 'SCin30']].head(10))  # adjust column names as needed\n",
    "\n",
    "print(\"\\nLast few rows:\")\n",
    "print(ver_tel[['Time', 'SCin30']].tail(10))\n",
    "\n",
    "# Check if safety car events are actually at the beginning chronologically\n",
    "print(f\"\\nTime range of safety car events:\")\n",
    "safety_car_rows = ver_tel[ver_tel['SCin30'] == 1]\n",
    "print(f\"Safety car time range: {safety_car_rows['Time'].min()} to {safety_car_rows['Time'].max()}\")\n",
    "print(f\"Full dataset time range: {ver_tel['Time'].min()} to {ver_tel['Time'].max()}\")"
   ]
  },
  {
   "cell_type": "code",
   "execution_count": 13,
   "id": "a9911e2f",
   "metadata": {},
   "outputs": [],
   "source": [
    "#feature_cols = ['DistanceToDriverAhead', 'RPM', 'Speed', 'nGear', 'Throttle', 'Brake', 'X', 'Y', 'Z', 'delta_time',\n",
    "#                'delta_speed', 'delta_throttle', 'delta_brake', 'delta_rpm', 'delta_gear',\n",
    "#       'acceleration', 'delta_dist_to_ahead', 'relative_speed_to_ahead',\n",
    "#       'brake_mean_3', 'throttle_std_3', 'rpm_std_3', 'delta_x', 'delta_y', 'track_movement']\n",
    "\n",
    "feature_cols = ['DistanceToDriverAhead', 'RPM', 'Speed', 'nGear', 'Throttle', 'Brake', 'X', 'Y', 'Z']\n",
    "\n",
    "target_col = ['SCin30']"
   ]
  },
  {
   "cell_type": "code",
   "execution_count": 14,
   "id": "e8676579",
   "metadata": {},
   "outputs": [],
   "source": [
    "def create_sequences(df, feature_cols, target_col, sequence_length):\n",
    "    \"\"\"Predict if safety car will happen within this sequence\"\"\"\n",
    "    X, y = [], []\n",
    "    for i in range(len(df) - sequence_length + 1):\n",
    "        seq_x = df.iloc[i:i+sequence_length][feature_cols].values\n",
    "        # Check if THIS sequence contains any safety car events\n",
    "        seq_y = int(df.iloc[i:i+sequence_length][target_col].any())\n",
    "        X.append(seq_x)\n",
    "        y.append(seq_y)\n",
    "    return np.array(X), np.array(y)"
   ]
  },
  {
   "cell_type": "code",
   "execution_count": 15,
   "id": "7a30c573",
   "metadata": {},
   "outputs": [],
   "source": [
    "forecast_horizon = 60  # 30 seconds * 10 Hz\n",
    "X_seq, y_seq = create_sequences(ver_tel, feature_cols, target_col, sequence_length=600)"
   ]
  },
  {
   "cell_type": "code",
   "execution_count": 16,
   "id": "9d17a6b0",
   "metadata": {},
   "outputs": [
    {
     "data": {
      "text/plain": [
       "(42123, 600, 9)"
      ]
     },
     "execution_count": 16,
     "metadata": {},
     "output_type": "execute_result"
    }
   ],
   "source": [
    "X_seq.shape"
   ]
  },
  {
   "cell_type": "code",
   "execution_count": 17,
   "id": "cfc10075",
   "metadata": {},
   "outputs": [
    {
     "name": "stdout",
     "output_type": "stream",
     "text": [
      "{0: 41915, 1: 208}\n"
     ]
    }
   ],
   "source": [
    "unique, counts = np.unique(y_seq, return_counts=True)\n",
    "print(dict(zip(unique, counts)))"
   ]
  },
  {
   "cell_type": "code",
   "execution_count": 18,
   "id": "b61a3de1",
   "metadata": {},
   "outputs": [],
   "source": [
    "X_seq = X_seq.astype(np.float32)\n",
    "y_seq = y_seq.astype(np.float32)"
   ]
  },
  {
   "cell_type": "code",
   "execution_count": 19,
   "id": "b9fd821c",
   "metadata": {},
   "outputs": [],
   "source": [
    "X_seq = np.nan_to_num(X_seq, nan=0.0, posinf=1e6, neginf=-1e6)"
   ]
  },
  {
   "cell_type": "code",
   "execution_count": 20,
   "id": "69afb84a",
   "metadata": {},
   "outputs": [],
   "source": [
    "from sklearn.preprocessing import StandardScaler\n",
    "\n",
    "# Flatten X to 2D (combine sequences and time steps)\n",
    "num_sequences, seq_len, num_features = X_seq.shape\n",
    "X_flat = X_seq.reshape(-1, num_features)  # shape: (42692 * 30, 24)\n",
    "\n",
    "# Fit and transform\n",
    "scaler = StandardScaler()\n",
    "X_scaled_flat = scaler.fit_transform(X_flat)\n",
    "\n",
    "# Reshape back to (42692, 30, 24)\n",
    "X_scaled = X_scaled_flat.reshape(num_sequences, seq_len, num_features)"
   ]
  },
  {
   "cell_type": "code",
   "execution_count": 43,
   "id": "675ff935",
   "metadata": {},
   "outputs": [],
   "source": [
    "train_ratio = 0.7\n",
    "val_ratio = 0.15\n",
    "test_ratio = 0.15\n",
    "\n",
    "n = len(X_seq)\n",
    "train_end = int(n * train_ratio)\n",
    "val_end = int(n * (train_ratio + val_ratio))\n",
    "\n",
    "X_train, y_train = X_seq[:train_end], y_seq[:train_end]\n",
    "X_val, y_val = X_seq[train_end:val_end], y_seq[train_end:val_end]\n",
    "X_test, y_test = X_seq[val_end:], y_seq[val_end:]"
   ]
  },
  {
   "cell_type": "code",
   "execution_count": 21,
   "id": "64a74855",
   "metadata": {},
   "outputs": [],
   "source": [
    "import torch\n",
    "from torch.utils.data import Dataset, DataLoader\n",
    "\n",
    "class TelemetrySequenceDataset(Dataset):\n",
    "    def __init__(self, X, y):\n",
    "        self.X = torch.tensor(X, dtype=torch.float32)\n",
    "        self.y = torch.tensor(y, dtype=torch.float32)  # Use long for classification if output is class ID\n",
    "\n",
    "    def __len__(self):\n",
    "        return len(self.X)\n",
    "\n",
    "    def __getitem__(self, idx):\n",
    "        return self.X[idx], self.y[idx]\n",
    "\n",
    "# Example usage\n",
    "train_dataset = TelemetrySequenceDataset(X_scaled, y_seq)\n",
    "train_loader = DataLoader(train_dataset, batch_size=64, shuffle=True)"
   ]
  },
  {
   "cell_type": "code",
   "execution_count": 22,
   "id": "61440acc",
   "metadata": {},
   "outputs": [],
   "source": [
    "import torch.nn as nn\n",
    "\n",
    "class GRUClassifier(nn.Module):\n",
    "    def __init__(self, input_dim, hidden_dim, num_layers, output_dim, dropout=0.2):\n",
    "        super(GRUClassifier, self).__init__()\n",
    "        self.gru = nn.GRU(input_dim, hidden_dim, num_layers, batch_first=True, dropout=dropout)\n",
    "        self.fc = nn.Linear(hidden_dim, output_dim)\n",
    "        #self.sigmoid = nn.Sigmoid()  # For binary classification ##NEED TO REMOVE\n",
    "\n",
    "    def forward(self, x):\n",
    "        out, _ = self.gru(x)\n",
    "        out = out[:, -1, :]  # take last time step\n",
    "        out = self.fc(out)\n",
    "        return out"
   ]
  },
  {
   "cell_type": "code",
   "execution_count": 23,
   "id": "f97f9260",
   "metadata": {},
   "outputs": [
    {
     "name": "stdout",
     "output_type": "stream",
     "text": [
      "Epoch 1, Loss: 26.8619\n",
      "Epoch 2, Loss: 6.7482\n",
      "Epoch 3, Loss: 0.7495\n",
      "Epoch 4, Loss: 0.6693\n",
      "Epoch 5, Loss: 0.8944\n",
      "Epoch 6, Loss: 0.2294\n",
      "Epoch 7, Loss: 0.2406\n",
      "Epoch 8, Loss: 0.2783\n",
      "Epoch 9, Loss: 0.2355\n",
      "Epoch 10, Loss: 1.1642\n"
     ]
    }
   ],
   "source": [
    "model = GRUClassifier(input_dim=9, hidden_dim=64, num_layers=2, output_dim=1)\n",
    "criterion = nn.BCEWithLogitsLoss()\n",
    "optimizer = torch.optim.Adam(model.parameters(), lr=1e-3)\n",
    "\n",
    "# Training loop\n",
    "num_epochs = 10\n",
    "model.train()\n",
    "for epoch in range(num_epochs):\n",
    "    total_loss = 0\n",
    "    for X_batch, y_batch in train_loader:\n",
    "        optimizer.zero_grad()\n",
    "        outputs = model(X_batch)              # shape: [batch_size, 1]\n",
    "        loss = criterion(outputs, y_batch.unsqueeze(1))    # y_batch should be float and same shape\n",
    "        loss.backward()\n",
    "        optimizer.step()\n",
    "        total_loss += loss.item()\n",
    "    print(f\"Epoch {epoch+1}, Loss: {total_loss:.4f}\")"
   ]
  },
  {
   "cell_type": "code",
   "execution_count": 57,
   "id": "dde6e7a2",
   "metadata": {},
   "outputs": [
    {
     "name": "stderr",
     "output_type": "stream",
     "text": [
      "C:\\Users\\jcf03\\AppData\\Local\\Temp\\ipykernel_36700\\1608787867.py:1: DtypeWarning: Columns (24) have mixed types. Specify dtype option on import or set low_memory=False.\n",
      "  spgp2022 = pd.read_csv('spgp2022_output.csv')\n"
     ]
    }
   ],
   "source": [
    "spgp2022 = pd.read_csv('spgp2022_output.csv')"
   ]
  },
  {
   "cell_type": "code",
   "execution_count": 58,
   "id": "e6256dd7",
   "metadata": {},
   "outputs": [],
   "source": [
    "ver_tel_2022 = spgp2022[spgp2022['Driver'] == 'VER']\n",
    "ver_tel_2022 = ver_tel_2022.sort_values(by=['SessionTime']).copy()"
   ]
  },
  {
   "cell_type": "code",
   "execution_count": 59,
   "id": "1f2b9b99",
   "metadata": {},
   "outputs": [],
   "source": [
    "ver_tel_2022 = ver_tel_2022.reset_index(drop=True)"
   ]
  },
  {
   "cell_type": "code",
   "execution_count": 60,
   "id": "221dcc63",
   "metadata": {},
   "outputs": [],
   "source": [
    "X_seq_2022, y_seq_2022 = create_sequences(ver_tel_2022, feature_cols, target_col, sequence_length=600)"
   ]
  },
  {
   "cell_type": "code",
   "execution_count": 61,
   "id": "cc85da8d",
   "metadata": {},
   "outputs": [],
   "source": [
    "X_seq_2022 = X_seq_2022.astype(np.float32)\n",
    "y_seq_2022 = y_seq_2022.astype(np.float32)"
   ]
  },
  {
   "cell_type": "code",
   "execution_count": 62,
   "id": "5ddaeddb",
   "metadata": {},
   "outputs": [],
   "source": [
    "X_seq_2022 = np.nan_to_num(X_seq_2022, nan=0.0, posinf=1e6, neginf=-1e6)"
   ]
  },
  {
   "cell_type": "code",
   "execution_count": 63,
   "id": "9cb9b12e",
   "metadata": {},
   "outputs": [],
   "source": [
    "# Flatten X to 2D (combine sequences and time steps)\n",
    "num_sequences_2022, seq_len_2022, num_features_2022 = X_seq_2022.shape\n",
    "X_flat_2022 = X_seq_2022.reshape(-1, num_features_2022)  # shape: (42692 * 30, 24)\n",
    "\n",
    "# Fit and transform\n",
    "scaler = StandardScaler()\n",
    "X_scaled_flat_2022 = scaler.fit_transform(X_flat_2022)\n",
    "\n",
    "# Reshape back to (42692, 30, 24)\n",
    "X_scaled_2022 = X_scaled_flat_2022.reshape(num_sequences_2022, seq_len_2022, num_features_2022)"
   ]
  },
  {
   "cell_type": "code",
   "execution_count": 64,
   "id": "ef815021",
   "metadata": {},
   "outputs": [
    {
     "name": "stdout",
     "output_type": "stream",
     "text": [
      "Accuracy: 0.9687034613475337\n",
      "ROC AUC: 0.6339111220116808\n"
     ]
    }
   ],
   "source": [
    "model.eval()\n",
    "with torch.no_grad():\n",
    "    logits_preds_2022 = model(torch.tensor(X_scaled_2022, dtype=torch.float32))\n",
    "    probs_2022 = torch.sigmoid(logits_preds_2022).squeeze().numpy()\n",
    "\n",
    "from sklearn.metrics import roc_auc_score, accuracy_score\n",
    "\n",
    "pred_labels_2022 = (probs_2022 > 0.5).astype(int)\n",
    "print(\"Accuracy:\", accuracy_score(y_seq_2022, pred_labels_2022))\n",
    "print(\"ROC AUC:\", roc_auc_score(y_seq_2022, probs_2022))"
   ]
  },
  {
   "cell_type": "code",
   "execution_count": 20,
   "id": "9710149c",
   "metadata": {},
   "outputs": [
    {
     "name": "stdout",
     "output_type": "stream",
     "text": [
      "{0.0: 41972}\n"
     ]
    }
   ],
   "source": [
    "unique, counts = np.unique(y_seq, return_counts=True)\n",
    "print(dict(zip(unique, counts)))"
   ]
  },
  {
   "cell_type": "code",
   "execution_count": 65,
   "id": "fe9a07dc",
   "metadata": {},
   "outputs": [
    {
     "name": "stdout",
     "output_type": "stream",
     "text": [
      "              precision    recall  f1-score   support\n",
      "\n",
      "         0.0     0.9712    0.9973    0.9841     43047\n",
      "         1.0     0.0000    0.0000    0.0000      1271\n",
      "\n",
      "    accuracy                         0.9687     44318\n",
      "   macro avg     0.4856    0.4987    0.4921     44318\n",
      "weighted avg     0.9434    0.9687    0.9559     44318\n",
      "\n"
     ]
    }
   ],
   "source": [
    "from sklearn.metrics import classification_report\n",
    "\n",
    "print(classification_report(y_seq_2022, pred_labels_2022, digits=4))"
   ]
  },
  {
   "cell_type": "code",
   "execution_count": 66,
   "id": "72df6241",
   "metadata": {},
   "outputs": [
    {
     "data": {
      "image/png": "[encoded data removed]",
      "text/plain": [
       "<Figure size 640x480 with 1 Axes>"
      ]
     },
     "metadata": {},
     "output_type": "display_data"
    }
   ],
   "source": [
    "plt.plot(probs_2022, label=\"Predicted Probability\")\n",
    "plt.title(\"Predicted Safety Car Probabilities\")\n",
    "plt.ylabel(\"P(safety car)\")\n",
    "plt.xlabel(\"Time step\")\n",
    "plt.show()"
   ]
  },
  {
   "cell_type": "code",
   "execution_count": 67,
   "id": "d9402972",
   "metadata": {},
   "outputs": [
    {
     "data": {
      "image/png": "[encoded data removed]",
      "text/plain": [
       "<Figure size 1200x400 with 1 Axes>"
      ]
     },
     "metadata": {},
     "output_type": "display_data"
    }
   ],
   "source": [
    "#model.eval()\n",
    "#with torch.no_grad():\n",
    "#    logits_preds_2022 = model(torch.tensor(X_scaled_2022, dtype=torch.float32))\n",
    "#    probs_2022 = torch.sigmoid(logits_preds_2022).squeeze().numpy()\n",
    "\n",
    "import matplotlib.pyplot as plt\n",
    "\n",
    "plt.figure(figsize=(12, 4))\n",
    "plt.plot(probs_2022, label=\"Predicted Probability\", color='blue')\n",
    "plt.title(\"Predicted Safety Car Probabilities Over Time\")\n",
    "plt.ylabel(\"Probability of Safety Car\")\n",
    "plt.xlabel(\"Time Step\")\n",
    "plt.ylim(0, 1)  # Limit y-axis to valid probability range\n",
    "plt.legend()\n",
    "plt.grid(True)\n",
    "plt.show()"
   ]
  },
  {
   "cell_type": "code",
   "execution_count": 68,
   "id": "a42c4859",
   "metadata": {},
   "outputs": [
    {
     "name": "stdout",
     "output_type": "stream",
     "text": [
      "Threshold Analysis:\n",
      "Thresh\tPrec\tRecall\tF1\tTP\tFP\tFN\n",
      "--------------------------------------------------\n",
      "0.1\t0.000\t0.000\t0.000\t0\t163\t1271\n",
      "0.2\t0.000\t0.000\t0.000\t0\t144\t1271\n",
      "0.3\t0.000\t0.000\t0.000\t0\t133\t1271\n",
      "0.4\t0.000\t0.000\t0.000\t0\t126\t1271\n",
      "0.5\t0.000\t0.000\t0.000\t0\t116\t1271\n",
      "0.6\t0.000\t0.000\t0.000\t0\t103\t1271\n",
      "0.7\t0.000\t0.000\t0.000\t0\t100\t1271\n",
      "\n",
      "Probability distribution:\n",
      "Mean: 0.0028\n",
      "Max: 0.9557\n",
      "Min: 0.0000\n",
      "Std: 0.0432\n",
      "\n",
      "Predictions above threshold:\n",
      ">0.1: 163 predictions\n",
      ">0.3: 133 predictions\n",
      ">0.5: 116 predictions\n",
      ">0.7: 100 predictions\n",
      ">0.9: 13 predictions\n"
     ]
    }
   ],
   "source": [
    "from sklearn.metrics import precision_score, recall_score, f1_score\n",
    "\n",
    "# Test different thresholds\n",
    "print(\"Threshold Analysis:\")\n",
    "print(\"Thresh\\tPrec\\tRecall\\tF1\\tTP\\tFP\\tFN\")\n",
    "print(\"-\" * 50)\n",
    "\n",
    "for threshold in [0.1, 0.2, 0.3, 0.4, 0.5, 0.6, 0.7]:\n",
    "    pred_labels_thresh = (probs_2022 > threshold).astype(int)\n",
    "    \n",
    "    precision = precision_score(y_seq_2022, pred_labels_thresh, zero_division=0)\n",
    "    recall = recall_score(y_seq_2022, pred_labels_thresh, zero_division=0)\n",
    "    f1 = f1_score(y_seq_2022, pred_labels_thresh, zero_division=0)\n",
    "    \n",
    "    # Calculate TP, FP, FN for insight\n",
    "    tp = np.sum((pred_labels_thresh == 1) & (y_seq_2022 == 1))\n",
    "    fp = np.sum((pred_labels_thresh == 1) & (y_seq_2022 == 0))\n",
    "    fn = np.sum((pred_labels_thresh == 0) & (y_seq_2022 == 1))\n",
    "    \n",
    "    print(f\"{threshold:.1f}\\t{precision:.3f}\\t{recall:.3f}\\t{f1:.3f}\\t{tp}\\t{fp}\\t{fn}\")\n",
    "\n",
    "# Also check the distribution of your probabilities\n",
    "print(f\"\\nProbability distribution:\")\n",
    "print(f\"Mean: {probs_2022.mean():.4f}\")\n",
    "print(f\"Max: {probs_2022.max():.4f}\")\n",
    "print(f\"Min: {probs_2022.min():.4f}\")\n",
    "print(f\"Std: {probs_2022.std():.4f}\")\n",
    "\n",
    "# Count how many predictions are above various thresholds\n",
    "print(f\"\\nPredictions above threshold:\")\n",
    "for thresh in [0.1, 0.3, 0.5, 0.7, 0.9]:\n",
    "    count = np.sum(probs_2022 > thresh)\n",
    "    print(f\">{thresh}: {count} predictions\")"
   ]
  },
  {
   "cell_type": "code",
   "execution_count": 69,
   "id": "4fbed765",
   "metadata": {},
   "outputs": [
    {
     "name": "stdout",
     "output_type": "stream",
     "text": [
      "Actual safety car sequences at indices: [ 0  1  2  3  4  5  6  7  8  9 10 11 12 13 14 15 16 17 18 19]...\n",
      "High probability predictions at indices: [1301 1302 1303 1304 3471 3472 3473 3474 3475 3476 3477 3478 3479 3480\n",
      " 3481 3482 3483 3484 3485 3486]...\n",
      "Overlapping predictions: 0 out of 1271 actual events\n"
     ]
    }
   ],
   "source": [
    "# Where are your actual safety car events in the 2022 test data?\n",
    "safety_car_indices = np.where(y_seq_2022 == 1)[0]\n",
    "print(f\"Actual safety car sequences at indices: {safety_car_indices[:20]}...\")\n",
    "\n",
    "# Where is your model predicting high probabilities?\n",
    "high_prob_indices = np.where(probs_2022 > 0.5)[0]\n",
    "print(f\"High probability predictions at indices: {high_prob_indices[:20]}...\")\n",
    "\n",
    "# Check for overlap\n",
    "overlap = np.intersect1d(safety_car_indices, high_prob_indices)\n",
    "print(f\"Overlapping predictions: {len(overlap)} out of {len(safety_car_indices)} actual events\")"
   ]
  },
  {
   "cell_type": "code",
   "execution_count": 70,
   "id": "c438661c",
   "metadata": {},
   "outputs": [
    {
     "name": "stdout",
     "output_type": "stream",
     "text": [
      "Safety car events at indices: [221, 222, 223, 224, 225, 226, 227, 228, 229, 230, 231, 232, 233, 234, 235, 236, 237, 238, 239, 240, 241, 242, 243, 244, 245, 246, 247, 248, 249, 250, 251, 252, 253, 254, 255, 256, 257, 258, 259, 260, 261, 262, 263, 264, 265, 266, 267, 268, 269, 270, 271, 272, 273, 274, 275, 276, 277, 278, 279, 280, 281, 282, 283, 284, 285, 286, 287, 288, 289, 290, 291, 292, 293, 294, 295, 296, 297, 298, 299, 300, 301, 302, 303, 304, 305, 306, 307, 308, 309, 310, 311, 312, 313, 314, 315, 316, 317, 318, 319, 320, 321, 322, 323, 324, 325, 326, 327, 328, 329, 330, 331, 332, 333, 334, 335, 336, 337, 338, 339, 340, 341, 342, 343, 344, 345, 346, 347, 348, 349, 350, 351, 352, 353, 354, 355, 356, 357, 358, 359, 360, 361, 362, 363, 364, 365, 366, 367, 368, 369, 370, 371, 372, 373, 374, 375, 376, 377, 378, 379, 380, 381, 382, 383, 384, 385, 386, 387, 388, 389, 390, 391, 392, 393, 394, 395, 396, 397, 398, 399, 400, 401, 402, 403, 404, 405, 406, 407, 408, 409, 410, 411, 412, 413, 414, 415, 416, 417, 418, 419, 420, 421, 422, 423, 424, 425, 426, 427, 428, 429, 430, 431, 432, 433, 434, 435, 436, 437, 438, 439, 440, 441, 442, 443, 444, 445, 446, 447, 33317, 33318, 33319, 33320, 33321, 33322, 33323, 33324, 33325, 33326, 33327, 33328, 33329, 33330, 33331, 33332, 33333, 33334, 33335, 33336, 33337, 33338, 33339, 33340, 33341, 33342, 33343, 33344, 33345, 33346, 33347, 33348, 33349, 33350, 33351, 33352, 33353, 33354, 33355, 33356, 33357, 33358, 33359, 33360, 33361, 33362, 33363, 33364, 33365, 33366, 33367, 33368, 33369, 33370, 33371, 33372, 33373, 33374, 33375, 33376, 33377, 33378, 33379, 33380, 33381, 33382, 33383, 33384, 33385, 33386, 33387, 33388, 33389, 33390, 33391, 33392, 33393, 33394, 33395, 33396, 33397, 33398, 33399, 33400, 33401, 33402, 33403, 33404, 33405, 33406, 33407, 33408, 33409, 33410, 33411, 33412, 33413, 33414, 33415, 33416, 33417, 33418, 33419, 33420, 33421, 33422, 33423, 33424, 33425, 33426, 33427, 33428, 33429, 33430, 33431, 33432, 33433, 33434, 33435, 33436, 33437, 33438, 33439, 33440, 33441, 33442, 33443, 33444, 33445, 33446, 33447, 33448, 33449, 33450, 33451, 33452, 33453, 33454, 33455, 33456, 33457, 33458, 33459, 33460, 33461, 33462, 33463, 33464, 33465, 33466, 33467, 33468, 33469, 33470, 33471, 33472, 33473, 33474, 33475, 33476, 33477, 33478, 33479, 33480, 33481, 33482, 33483, 33484, 33485, 33486, 33487, 33488, 33489, 33490, 33491, 33492, 33493, 33494, 33495, 33496, 33497, 33498, 33499, 33500, 33501, 33502, 33503, 33504, 33505, 33506, 33507, 33508, 33509, 33510, 33511, 33512, 33513, 33514, 33515, 33516, 33517, 33518, 33519, 33520, 33521, 33522, 33523, 33524, 33525, 33526, 33527, 33528, 33529, 33530, 33531, 33532, 33533, 33534, 33535, 33536, 33537, 33538, 33539, 33540]\n"
     ]
    }
   ],
   "source": [
    "safety_car_indices_2022 = ver_tel_2022[ver_tel_2022['SCin30'] == 1].index\n",
    "print(f\"Safety car events at indices: {safety_car_indices_2022.tolist()}\")"
   ]
  },
  {
   "cell_type": "code",
   "execution_count": 71,
   "id": "9860c0f3",
   "metadata": {},
   "outputs": [
    {
     "data": {
      "image/png": "[encoded data removed]",
      "text/plain": [
       "<Figure size 1500x800 with 3 Axes>"
      ]
     },
     "metadata": {},
     "output_type": "display_data"
    }
   ],
   "source": [
    "import matplotlib.pyplot as plt\n",
    "\n",
    "plt.figure(figsize=(15, 8))\n",
    "plt.subplot(3, 1, 1)\n",
    "plt.plot(probs_2022)\n",
    "plt.title('Model Predictions')\n",
    "plt.ylabel('Probability')\n",
    "\n",
    "plt.subplot(3, 1, 2)\n",
    "plt.plot(y_seq_2022)\n",
    "plt.title('Actual Safety Cars')\n",
    "plt.ylabel('Label')\n",
    "\n",
    "plt.subplot(3, 1, 3)\n",
    "plt.plot(probs_2022, alpha=0.7, label='Predictions')\n",
    "plt.plot(y_seq_2022, alpha=0.7, label='Actual')\n",
    "plt.title('Overlay')\n",
    "plt.legend()\n",
    "plt.show()"
   ]
  },
  {
   "cell_type": "code",
   "execution_count": 72,
   "id": "f6736081",
   "metadata": {},
   "outputs": [
    {
     "name": "stdout",
     "output_type": "stream",
     "text": [
      "Total safety car events in 2022 test: 1271.0\n",
      "Safety car events (FN): 1271\n"
     ]
    }
   ],
   "source": [
    "print(f\"Total safety car events in 2022 test: {np.sum(y_seq_2022)}\")\n",
    "print(f\"Safety car events (FN): {1271}\")  # From your metrics"
   ]
  },
  {
   "cell_type": "code",
   "execution_count": 74,
   "id": "77b99a68",
   "metadata": {},
   "outputs": [
    {
     "name": "stdout",
     "output_type": "stream",
     "text": [
      "Original 2022 data shape: (44917, 37)\n",
      "Reindexed 2022 data shape: (44917, 37)\n",
      "Generated sequences shape: (44318, 600, 9)\n",
      "Generated labels shape: (44318,)\n",
      "Safety car distribution: [43047  1271]\n"
     ]
    }
   ],
   "source": [
    "# Check your sequence creation process\n",
    "print(f\"Original 2022 data shape: {ver_tel_2022.shape}\")\n",
    "print(f\"Reindexed 2022 data shape: {ver_tel_2022.shape}\")\n",
    "print(f\"Generated sequences shape: {X_scaled_2022.shape}\")\n",
    "print(f\"Generated labels shape: {y_seq_2022.shape}\")\n",
    "print(f\"Safety car distribution: {np.bincount(y_seq_2022.astype(int))}\")"
   ]
  },
  {
   "cell_type": "code",
   "execution_count": 76,
   "id": "f5d2d850",
   "metadata": {},
   "outputs": [
    {
     "name": "stdout",
     "output_type": "stream",
     "text": [
      "Safety events in original DF: [221, 222, 223, 224, 225, 226, 227, 228, 229, 230]\n",
      "Safety events in reset DF: [221, 222, 223, 224, 225, 226, 227, 228, 229, 230]\n"
     ]
    }
   ],
   "source": [
    "safety_events_original = ver_tel_2022[ver_tel_2022['SCin30'] == 1].index\n",
    "safety_events_reset = ver_tel_2022[ver_tel_2022['SCin30'] == 1].index\n",
    "\n",
    "print(f\"Safety events in original DF: {safety_events_original[:10].tolist()}\")\n",
    "print(f\"Safety events in reset DF: {safety_events_reset[:10].tolist()}\")"
   ]
  },
  {
   "cell_type": "code",
   "execution_count": 77,
   "id": "a2420e27",
   "metadata": {},
   "outputs": [
    {
     "name": "stdout",
     "output_type": "stream",
     "text": [
      "Model's highest confidence predictions at indices: [1302 1303 3479 3480 3481 3482 3483 3484 3485 3486 3487 3488 3489 3490\n",
      " 3491 3492 3493 3494 3495 3496 3497 3498 3499 3500 3501 3502 3503 3504\n",
      " 3505 3506 3507 3508 3509 3510 3511 3512 3513 3514 3515 3516 3517 3518\n",
      " 3519 3520 3521 3522 3523 3524 3525 3526 3527 3528 3529 3530 3531 3532\n",
      " 3533 3534 3535 3536 3537 3538 3539 3540 3541 3542 3543 3544 3545 3546\n",
      " 3547 3548 3549 3550 3551 3552 3553 3554 3555 3556 3557 3558 3559 3560\n",
      " 3561 3562 3563 3564 3565 3566 3567 3568 3569 3570]\n",
      "First 20 actual safety car indices: [ 0  1  2  3  4  5  6  7  8  9 10 11 12 13 14 15 16 17 18 19]\n",
      "Last 20 actual safety car indices: [33521 33522 33523 33524 33525 33526 33527 33528 33529 33530 33531 33532\n",
      " 33533 33534 33535 33536 33537 33538 33539 33540]\n",
      "Model predicts around timestep: 1302\n",
      "First actual safety car at: 0\n",
      "Gap: -1302 timesteps\n",
      "Model probabilities at first 10 actual safety car locations: [0.00465483 0.00495891 0.00531581 0.00568144 0.00599074 0.0060212\n",
      " 0.00496833 0.00418274 0.00354286 0.00301783]\n"
     ]
    }
   ],
   "source": [
    "# Find where your model is most confident\n",
    "high_confidence_indices = np.where(probs_2022 > 0.8)[0]\n",
    "print(f\"Model's highest confidence predictions at indices: {high_confidence_indices}\")\n",
    "\n",
    "# Find where actual safety cars are\n",
    "actual_safety_indices = np.where(y_seq_2022 == 1)[0]\n",
    "print(f\"First 20 actual safety car indices: {actual_safety_indices[:20]}\")\n",
    "print(f\"Last 20 actual safety car indices: {actual_safety_indices[-20:]}\")\n",
    "\n",
    "# Check the time gap between them\n",
    "if len(high_confidence_indices) > 0 and len(actual_safety_indices) > 0:\n",
    "    print(f\"Model predicts around timestep: {high_confidence_indices[0]}\")\n",
    "    print(f\"First actual safety car at: {actual_safety_indices[0]}\")\n",
    "    print(f\"Gap: {actual_safety_indices[0] - high_confidence_indices[0]} timesteps\")\n",
    "\n",
    "# Also check the specific probabilities at actual safety car locations\n",
    "safety_car_probs = probs_2022[actual_safety_indices[:10]]\n",
    "print(f\"Model probabilities at first 10 actual safety car locations: {safety_car_probs}\")"
   ]
  },
  {
   "cell_type": "code",
   "execution_count": 78,
   "id": "8abb88f4",
   "metadata": {},
   "outputs": [
    {
     "name": "stdout",
     "output_type": "stream",
     "text": [
      "Model's high confidence predictions: [1302 1303 3479 3480 3481 3482 3483 3484 3485 3486 3487 3488 3489 3490\n",
      " 3491 3492 3493 3494 3495 3496 3497 3498 3499 3500 3501 3502 3503 3504\n",
      " 3505 3506 3507 3508 3509 3510 3511 3512 3513 3514 3515 3516 3517 3518\n",
      " 3519 3520 3521 3522 3523 3524 3525 3526 3527 3528 3529 3530 3531 3532\n",
      " 3533 3534 3535 3536 3537 3538 3539 3540 3541 3542 3543 3544 3545 3546\n",
      " 3547 3548 3549 3550 3551 3552 3553 3554 3555 3556 3557 3558 3559 3560\n",
      " 3561 3562 3563 3564 3565 3566 3567 3568 3569 3570]\n",
      "Actual SCin30 labels: [0 1 2 3 4 5 6 7 8 9]\n",
      "Prediction at 1302, closest actual at 447, offset: 855\n",
      "Prediction at 1303, closest actual at 447, offset: 856\n",
      "Prediction at 3479, closest actual at 447, offset: 3032\n",
      "Prediction at 3480, closest actual at 447, offset: 3033\n",
      "Prediction at 3481, closest actual at 447, offset: 3034\n"
     ]
    }
   ],
   "source": [
    "high_confidence_indices = np.where(probs_2022 > 0.8)[0]\n",
    "actual_safety_indices = np.where(y_seq_2022 == 1)[0]\n",
    "\n",
    "print(f\"Model's high confidence predictions: {high_confidence_indices}\")\n",
    "print(f\"Actual SCin30 labels: {actual_safety_indices[:10]}\")\n",
    "\n",
    "# Check if model is detecting DURING safety car instead of BEFORE\n",
    "# If there's a systematic offset, we can measure it\n",
    "if len(high_confidence_indices) > 0:\n",
    "    # Find the closest actual safety car event to each prediction\n",
    "    for pred_idx in high_confidence_indices[:5]:\n",
    "        distances = np.abs(actual_safety_indices - pred_idx)\n",
    "        closest_actual = actual_safety_indices[np.argmin(distances)]\n",
    "        offset = pred_idx - closest_actual\n",
    "        print(f\"Prediction at {pred_idx}, closest actual at {closest_actual}, offset: {offset}\")"
   ]
  },
  {
   "cell_type": "code",
   "execution_count": 79,
   "id": "5620966a",
   "metadata": {},
   "outputs": [
    {
     "name": "stdout",
     "output_type": "stream",
     "text": [
      "Offset-corrected Threshold 0.3: P=0.023, R=0.002, F1=0.004, TP=3\n",
      "Offset-corrected Threshold 0.5: P=0.017, R=0.002, F1=0.003, TP=2\n",
      "Offset-corrected Threshold 0.7: P=0.010, R=0.001, F1=0.001, TP=1\n",
      "\n",
      "Adjusted ROC AUC: 0.5922\n"
     ]
    }
   ],
   "source": [
    "offset = 855  # Use the consistent offset we found\n",
    "adjusted_probs = np.zeros_like(probs_2022)\n",
    "\n",
    "# Shift predictions backward by the offset\n",
    "if offset < len(probs_2022):\n",
    "    adjusted_probs[:-offset] = probs_2022[offset:]\n",
    "\n",
    "# Test the adjusted predictions\n",
    "for threshold in [0.3, 0.5, 0.7]:\n",
    "    pred_labels_adjusted = (adjusted_probs > threshold).astype(int)\n",
    "    precision = precision_score(y_seq_2022, pred_labels_adjusted, zero_division=0)\n",
    "    recall = recall_score(y_seq_2022, pred_labels_adjusted, zero_division=0)\n",
    "    f1 = f1_score(y_seq_2022, pred_labels_adjusted, zero_division=0)\n",
    "    \n",
    "    tp = np.sum((pred_labels_adjusted == 1) & (y_seq_2022 == 1))\n",
    "    fp = np.sum((pred_labels_adjusted == 1) & (y_seq_2022 == 0))\n",
    "    fn = np.sum((pred_labels_adjusted == 0) & (y_seq_2022 == 1))\n",
    "    \n",
    "    print(f\"Offset-corrected Threshold {threshold}: P={precision:.3f}, R={recall:.3f}, F1={f1:.3f}, TP={tp}\")\n",
    "\n",
    "print(f\"\\nAdjusted ROC AUC: {roc_auc_score(y_seq_2022, adjusted_probs):.4f}\")"
   ]
  },
  {
   "cell_type": "code",
   "execution_count": null,
   "id": "68f52909",
   "metadata": {},
   "outputs": [],
   "source": []
  }
 ],
 "metadata": {
  "kernelspec": {
   "display_name": "Python 3 (ipykernel)",
   "language": "python",
   "name": "python3"
  },
  "language_info": {
   "codemirror_mode": {
    "name": "ipython",
    "version": 3
   },
   "file_extension": ".py",
   "mimetype": "text/x-python",
   "name": "python",
   "nbconvert_exporter": "python",
   "pygments_lexer": "ipython3",
   "version": "3.9.13"
  }
 },
 "nbformat": 4,
 "nbformat_minor": 5
}
